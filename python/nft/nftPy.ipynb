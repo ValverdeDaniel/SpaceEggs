{
 "cells": [
  {
   "cell_type": "code",
   "execution_count": 1,
   "metadata": {},
   "outputs": [],
   "source": [
    "import requests\n",
    "import pandas as pd\n",
    "import json\n",
    "import plotly as py\n",
    "import plotly.graph_objects as go\n",
    "import plotly.express as px\n"
   ]
  },
  {
   "cell_type": "code",
   "execution_count": 2,
   "metadata": {},
   "outputs": [
    {
     "data": {
      "text/html": [
       "<div>\n",
       "<style scoped>\n",
       "    .dataframe tbody tr th:only-of-type {\n",
       "        vertical-align: middle;\n",
       "    }\n",
       "\n",
       "    .dataframe tbody tr th {\n",
       "        vertical-align: top;\n",
       "    }\n",
       "\n",
       "    .dataframe thead th {\n",
       "        text-align: right;\n",
       "    }\n",
       "</style>\n",
       "<table border=\"1\" class=\"dataframe\">\n",
       "  <thead>\n",
       "    <tr style=\"text-align: right;\">\n",
       "      <th></th>\n",
       "      <th>collection</th>\n",
       "      <th>one_day_volume</th>\n",
       "      <th>one_day_change</th>\n",
       "      <th>one_day_sales</th>\n",
       "      <th>one_day_average_price</th>\n",
       "      <th>seven_day_volume</th>\n",
       "      <th>seven_day_change</th>\n",
       "      <th>seven_day_sales</th>\n",
       "      <th>seven_day_average_price</th>\n",
       "      <th>thirty_day_volume</th>\n",
       "      <th>...</th>\n",
       "      <th>thirty_day_average_price</th>\n",
       "      <th>total_volume</th>\n",
       "      <th>total_sales</th>\n",
       "      <th>total_supply</th>\n",
       "      <th>count</th>\n",
       "      <th>num_owners</th>\n",
       "      <th>average_price</th>\n",
       "      <th>num_reports</th>\n",
       "      <th>market_cap</th>\n",
       "      <th>floor_price</th>\n",
       "    </tr>\n",
       "  </thead>\n",
       "  <tbody>\n",
       "    <tr>\n",
       "      <th>0</th>\n",
       "      <td>clonex-mintvial</td>\n",
       "      <td>341.808</td>\n",
       "      <td>-0.701237</td>\n",
       "      <td>34.0</td>\n",
       "      <td>10.053176</td>\n",
       "      <td>13364.978625</td>\n",
       "      <td>2.478348</td>\n",
       "      <td>2055.0</td>\n",
       "      <td>6.503639</td>\n",
       "      <td>22931.96497</td>\n",
       "      <td>...</td>\n",
       "      <td>4.370491</td>\n",
       "      <td>22931.96497</td>\n",
       "      <td>5247.0</td>\n",
       "      <td>1125.0</td>\n",
       "      <td>1125.0</td>\n",
       "      <td>1017</td>\n",
       "      <td>4.370491</td>\n",
       "      <td>3</td>\n",
       "      <td>7316.594138</td>\n",
       "      <td>9.2</td>\n",
       "    </tr>\n",
       "    <tr>\n",
       "      <th>1</th>\n",
       "      <td>cryptopunks</td>\n",
       "      <td>977.89</td>\n",
       "      <td>-0.202263</td>\n",
       "      <td>14.0</td>\n",
       "      <td>69.849286</td>\n",
       "      <td>7427.96</td>\n",
       "      <td>-0.461091</td>\n",
       "      <td>97.0</td>\n",
       "      <td>76.576907</td>\n",
       "      <td>33934.561</td>\n",
       "      <td>...</td>\n",
       "      <td>94.262669</td>\n",
       "      <td>751313.221249</td>\n",
       "      <td>18131.0</td>\n",
       "      <td>9999.0</td>\n",
       "      <td>9999.0</td>\n",
       "      <td>3282</td>\n",
       "      <td>41.438047</td>\n",
       "      <td>4</td>\n",
       "      <td>765692.495258</td>\n",
       "      <td>None</td>\n",
       "    </tr>\n",
       "    <tr>\n",
       "      <th>2</th>\n",
       "      <td>akc</td>\n",
       "      <td>134.559123</td>\n",
       "      <td>-0.017956</td>\n",
       "      <td>179.0</td>\n",
       "      <td>0.751727</td>\n",
       "      <td>1672.392129</td>\n",
       "      <td>-0.731537</td>\n",
       "      <td>1661.0</td>\n",
       "      <td>1.006859</td>\n",
       "      <td>8905.499898</td>\n",
       "      <td>...</td>\n",
       "      <td>0.598931</td>\n",
       "      <td>8905.499898</td>\n",
       "      <td>14869.0</td>\n",
       "      <td>9999.0</td>\n",
       "      <td>9999.0</td>\n",
       "      <td>5273</td>\n",
       "      <td>0.598931</td>\n",
       "      <td>5</td>\n",
       "      <td>10067.57911</td>\n",
       "      <td>0.515</td>\n",
       "    </tr>\n",
       "    <tr>\n",
       "      <th>3</th>\n",
       "      <td>sandbox</td>\n",
       "      <td>744.340626</td>\n",
       "      <td>0.215151</td>\n",
       "      <td>212.0</td>\n",
       "      <td>3.511041</td>\n",
       "      <td>4596.53688</td>\n",
       "      <td>-0.164017</td>\n",
       "      <td>1330.0</td>\n",
       "      <td>3.456043</td>\n",
       "      <td>43506.732313</td>\n",
       "      <td>...</td>\n",
       "      <td>3.304225</td>\n",
       "      <td>110863.559699</td>\n",
       "      <td>69281.0</td>\n",
       "      <td>103116.0</td>\n",
       "      <td>103116.0</td>\n",
       "      <td>17246</td>\n",
       "      <td>1.600201</td>\n",
       "      <td>7</td>\n",
       "      <td>356373.305928</td>\n",
       "      <td>3.05</td>\n",
       "    </tr>\n",
       "    <tr>\n",
       "      <th>4</th>\n",
       "      <td>wizards-dragons-game-v2</td>\n",
       "      <td>15.645999</td>\n",
       "      <td>-0.618305</td>\n",
       "      <td>197.0</td>\n",
       "      <td>0.079421</td>\n",
       "      <td>749.188916</td>\n",
       "      <td>-0.858121</td>\n",
       "      <td>4392.0</td>\n",
       "      <td>0.17058</td>\n",
       "      <td>10501.567733</td>\n",
       "      <td>...</td>\n",
       "      <td>0.421936</td>\n",
       "      <td>10501.567733</td>\n",
       "      <td>24889.0</td>\n",
       "      <td>46152.0</td>\n",
       "      <td>46152.0</td>\n",
       "      <td>2859</td>\n",
       "      <td>0.421936</td>\n",
       "      <td>1</td>\n",
       "      <td>7872.624515</td>\n",
       "      <td>0.01</td>\n",
       "    </tr>\n",
       "    <tr>\n",
       "      <th>5</th>\n",
       "      <td>decentraland</td>\n",
       "      <td>121.438663</td>\n",
       "      <td>-0.412493</td>\n",
       "      <td>32.0</td>\n",
       "      <td>3.794958</td>\n",
       "      <td>2310.547839</td>\n",
       "      <td>0.104319</td>\n",
       "      <td>361.0</td>\n",
       "      <td>6.40041</td>\n",
       "      <td>9812.62312</td>\n",
       "      <td>...</td>\n",
       "      <td>5.861782</td>\n",
       "      <td>216269.562384</td>\n",
       "      <td>15627.0</td>\n",
       "      <td>97161.0</td>\n",
       "      <td>97161.0</td>\n",
       "      <td>6025</td>\n",
       "      <td>13.839481</td>\n",
       "      <td>6</td>\n",
       "      <td>621870.189949</td>\n",
       "      <td>3.248464</td>\n",
       "    </tr>\n",
       "    <tr>\n",
       "      <th>6</th>\n",
       "      <td>superrare</td>\n",
       "      <td>18.3856</td>\n",
       "      <td>0.762846</td>\n",
       "      <td>14.0</td>\n",
       "      <td>1.313257</td>\n",
       "      <td>165.26698</td>\n",
       "      <td>-0.962437</td>\n",
       "      <td>204.0</td>\n",
       "      <td>0.810132</td>\n",
       "      <td>4918.060995</td>\n",
       "      <td>...</td>\n",
       "      <td>11.995271</td>\n",
       "      <td>60024.167322</td>\n",
       "      <td>19754.0</td>\n",
       "      <td>28858.0</td>\n",
       "      <td>28858.0</td>\n",
       "      <td>5712</td>\n",
       "      <td>3.038583</td>\n",
       "      <td>1</td>\n",
       "      <td>23378.796612</td>\n",
       "      <td>0.09</td>\n",
       "    </tr>\n",
       "    <tr>\n",
       "      <th>7</th>\n",
       "      <td>mekaverse</td>\n",
       "      <td>42.9301</td>\n",
       "      <td>0.102578</td>\n",
       "      <td>28.0</td>\n",
       "      <td>1.533218</td>\n",
       "      <td>157.977985</td>\n",
       "      <td>-0.179818</td>\n",
       "      <td>123.0</td>\n",
       "      <td>1.284374</td>\n",
       "      <td>963.835223</td>\n",
       "      <td>...</td>\n",
       "      <td>1.402962</td>\n",
       "      <td>43749.338916</td>\n",
       "      <td>9939.0</td>\n",
       "      <td>8887.0</td>\n",
       "      <td>8887.0</td>\n",
       "      <td>5105</td>\n",
       "      <td>4.401785</td>\n",
       "      <td>1</td>\n",
       "      <td>11414.230492</td>\n",
       "      <td>0.835</td>\n",
       "    </tr>\n",
       "    <tr>\n",
       "      <th>8</th>\n",
       "      <td>crypto-bull-society</td>\n",
       "      <td>141.23525</td>\n",
       "      <td>-0.105342</td>\n",
       "      <td>56.0</td>\n",
       "      <td>2.522058</td>\n",
       "      <td>1200.849233</td>\n",
       "      <td>-0.668287</td>\n",
       "      <td>424.0</td>\n",
       "      <td>2.832192</td>\n",
       "      <td>7423.719023</td>\n",
       "      <td>...</td>\n",
       "      <td>1.256766</td>\n",
       "      <td>7423.719023</td>\n",
       "      <td>5907.0</td>\n",
       "      <td>7777.0</td>\n",
       "      <td>7777.0</td>\n",
       "      <td>4699</td>\n",
       "      <td>1.256766</td>\n",
       "      <td>2</td>\n",
       "      <td>22025.953979</td>\n",
       "      <td>2.0</td>\n",
       "    </tr>\n",
       "    <tr>\n",
       "      <th>9</th>\n",
       "      <td>the-sandbox-assets</td>\n",
       "      <td>173.993494</td>\n",
       "      <td>0.416673</td>\n",
       "      <td>270.0</td>\n",
       "      <td>0.64442</td>\n",
       "      <td>964.903544</td>\n",
       "      <td>0.325451</td>\n",
       "      <td>1821.0</td>\n",
       "      <td>0.529876</td>\n",
       "      <td>3562.576723</td>\n",
       "      <td>...</td>\n",
       "      <td>0.463938</td>\n",
       "      <td>5618.330468</td>\n",
       "      <td>18652.0</td>\n",
       "      <td>1499.0</td>\n",
       "      <td>1499.0</td>\n",
       "      <td>21913</td>\n",
       "      <td>0.301219</td>\n",
       "      <td>11</td>\n",
       "      <td>794.283587</td>\n",
       "      <td>0.010527</td>\n",
       "    </tr>\n",
       "  </tbody>\n",
       "</table>\n",
       "<p>10 rows × 22 columns</p>\n",
       "</div>"
      ],
      "text/plain": [
       "                collection one_day_volume one_day_change one_day_sales  \\\n",
       "0          clonex-mintvial        341.808      -0.701237          34.0   \n",
       "1              cryptopunks         977.89      -0.202263          14.0   \n",
       "2                      akc     134.559123      -0.017956         179.0   \n",
       "3                  sandbox     744.340626       0.215151         212.0   \n",
       "4  wizards-dragons-game-v2      15.645999      -0.618305         197.0   \n",
       "5             decentraland     121.438663      -0.412493          32.0   \n",
       "6                superrare        18.3856       0.762846          14.0   \n",
       "7                mekaverse        42.9301       0.102578          28.0   \n",
       "8      crypto-bull-society      141.23525      -0.105342          56.0   \n",
       "9       the-sandbox-assets     173.993494       0.416673         270.0   \n",
       "\n",
       "  one_day_average_price seven_day_volume seven_day_change seven_day_sales  \\\n",
       "0             10.053176     13364.978625         2.478348          2055.0   \n",
       "1             69.849286          7427.96        -0.461091            97.0   \n",
       "2              0.751727      1672.392129        -0.731537          1661.0   \n",
       "3              3.511041       4596.53688        -0.164017          1330.0   \n",
       "4              0.079421       749.188916        -0.858121          4392.0   \n",
       "5              3.794958      2310.547839         0.104319           361.0   \n",
       "6              1.313257        165.26698        -0.962437           204.0   \n",
       "7              1.533218       157.977985        -0.179818           123.0   \n",
       "8              2.522058      1200.849233        -0.668287           424.0   \n",
       "9               0.64442       964.903544         0.325451          1821.0   \n",
       "\n",
       "  seven_day_average_price thirty_day_volume  ... thirty_day_average_price  \\\n",
       "0                6.503639       22931.96497  ...                 4.370491   \n",
       "1               76.576907         33934.561  ...                94.262669   \n",
       "2                1.006859       8905.499898  ...                 0.598931   \n",
       "3                3.456043      43506.732313  ...                 3.304225   \n",
       "4                 0.17058      10501.567733  ...                 0.421936   \n",
       "5                 6.40041        9812.62312  ...                 5.861782   \n",
       "6                0.810132       4918.060995  ...                11.995271   \n",
       "7                1.284374        963.835223  ...                 1.402962   \n",
       "8                2.832192       7423.719023  ...                 1.256766   \n",
       "9                0.529876       3562.576723  ...                 0.463938   \n",
       "\n",
       "    total_volume total_sales total_supply     count num_owners average_price  \\\n",
       "0    22931.96497      5247.0       1125.0    1125.0       1017      4.370491   \n",
       "1  751313.221249     18131.0       9999.0    9999.0       3282     41.438047   \n",
       "2    8905.499898     14869.0       9999.0    9999.0       5273      0.598931   \n",
       "3  110863.559699     69281.0     103116.0  103116.0      17246      1.600201   \n",
       "4   10501.567733     24889.0      46152.0   46152.0       2859      0.421936   \n",
       "5  216269.562384     15627.0      97161.0   97161.0       6025     13.839481   \n",
       "6   60024.167322     19754.0      28858.0   28858.0       5712      3.038583   \n",
       "7   43749.338916      9939.0       8887.0    8887.0       5105      4.401785   \n",
       "8    7423.719023      5907.0       7777.0    7777.0       4699      1.256766   \n",
       "9    5618.330468     18652.0       1499.0    1499.0      21913      0.301219   \n",
       "\n",
       "  num_reports     market_cap floor_price  \n",
       "0           3    7316.594138         9.2  \n",
       "1           4  765692.495258        None  \n",
       "2           5    10067.57911       0.515  \n",
       "3           7  356373.305928        3.05  \n",
       "4           1    7872.624515        0.01  \n",
       "5           6  621870.189949    3.248464  \n",
       "6           1   23378.796612        0.09  \n",
       "7           1   11414.230492       0.835  \n",
       "8           2   22025.953979         2.0  \n",
       "9          11     794.283587    0.010527  \n",
       "\n",
       "[10 rows x 22 columns]"
      ]
     },
     "metadata": {},
     "output_type": "display_data"
    }
   ],
   "source": [
    "\n",
    "def getStats(collection):\n",
    "    url = \"https://api.opensea.io/api/v1/collection/\"+ collection\n",
    "    response = requests.request(\"GET\", url)\n",
    "\n",
    "    response = response.text\n",
    "    response = json.loads(response)\n",
    "    stats = response['collection']['stats']\n",
    "    data = stats\n",
    "    # display(data)\n",
    "\n",
    "    data['collection'] = collection\n",
    "    df2 = pd.DataFrame.from_dict(data, orient = 'index')\n",
    "    return df2\n",
    "    \n",
    "# display(df)\n",
    "# display(df2)\n",
    "collection = 'clonex-mintvial'\n",
    "url = \"https://api.opensea.io/api/v1/collection/\"+ collection\n",
    "\n",
    "response = requests.request(\"GET\", url)\n",
    "\n",
    "response = response.text\n",
    "response = json.loads(response)\n",
    "stats = response['collection']['stats']\n",
    "data = stats\n",
    "# display(data)\n",
    "\n",
    "data['collection'] = collection\n",
    "    \n",
    "# display(data)\n",
    "\n",
    "df = pd.DataFrame.from_dict(data, orient = 'index')\n",
    "# display(df)\n",
    "### adding to the dataframe\n",
    "myCollections = ['cryptopunks', 'akc', 'sandbox', 'wizards-dragons-game-v2', 'decentraland', 'superrare', 'mekaverse', 'crypto-bull-society', 'the-sandbox-assets']\n",
    "for i in myCollections:\n",
    "    df[myCollections.index(i)+1] = getStats(i)[0]\n",
    "\n",
    "df = df.transpose()\n",
    "df = df.set_index('collection')\n",
    "df = df.reset_index()\n",
    "display(df)"
   ]
  },
  {
   "cell_type": "code",
   "execution_count": 3,
   "metadata": {},
   "outputs": [
    {
     "data": {
      "application/vnd.plotly.v1+json": {
       "config": {
        "plotlyServerURL": "https://plot.ly"
       },
       "data": [
        {
         "alignmentgroup": "True",
         "hovertemplate": "collection=%{x}<br>floor_price=%{text}<extra></extra>",
         "legendgroup": "",
         "marker": {
          "color": "#636efa",
          "pattern": {
           "shape": ""
          }
         },
         "name": "",
         "offsetgroup": "",
         "orientation": "v",
         "showlegend": false,
         "text": [
          9.2,
          null,
          0.515,
          3.05,
          0.01,
          3.2484645,
          0.09,
          0.835,
          2,
          0.010527242
         ],
         "textposition": "outside",
         "type": "bar",
         "x": [
          "clonex-mintvial",
          "cryptopunks",
          "akc",
          "sandbox",
          "wizards-dragons-game-v2",
          "decentraland",
          "superrare",
          "mekaverse",
          "crypto-bull-society",
          "the-sandbox-assets"
         ],
         "xaxis": "x",
         "y": [
          9.2,
          null,
          0.515,
          3.05,
          0.01,
          3.2484645,
          0.09,
          0.835,
          2,
          0.010527242
         ],
         "yaxis": "y"
        }
       ],
       "layout": {
        "barmode": "relative",
        "legend": {
         "tracegroupgap": 0
        },
        "margin": {
         "t": 60
        },
        "template": {
         "data": {
          "bar": [
           {
            "error_x": {
             "color": "#2a3f5f"
            },
            "error_y": {
             "color": "#2a3f5f"
            },
            "marker": {
             "line": {
              "color": "#E5ECF6",
              "width": 0.5
             },
             "pattern": {
              "fillmode": "overlay",
              "size": 10,
              "solidity": 0.2
             }
            },
            "type": "bar"
           }
          ],
          "barpolar": [
           {
            "marker": {
             "line": {
              "color": "#E5ECF6",
              "width": 0.5
             },
             "pattern": {
              "fillmode": "overlay",
              "size": 10,
              "solidity": 0.2
             }
            },
            "type": "barpolar"
           }
          ],
          "carpet": [
           {
            "aaxis": {
             "endlinecolor": "#2a3f5f",
             "gridcolor": "white",
             "linecolor": "white",
             "minorgridcolor": "white",
             "startlinecolor": "#2a3f5f"
            },
            "baxis": {
             "endlinecolor": "#2a3f5f",
             "gridcolor": "white",
             "linecolor": "white",
             "minorgridcolor": "white",
             "startlinecolor": "#2a3f5f"
            },
            "type": "carpet"
           }
          ],
          "choropleth": [
           {
            "colorbar": {
             "outlinewidth": 0,
             "ticks": ""
            },
            "type": "choropleth"
           }
          ],
          "contour": [
           {
            "colorbar": {
             "outlinewidth": 0,
             "ticks": ""
            },
            "colorscale": [
             [
              0,
              "#0d0887"
             ],
             [
              0.1111111111111111,
              "#46039f"
             ],
             [
              0.2222222222222222,
              "#7201a8"
             ],
             [
              0.3333333333333333,
              "#9c179e"
             ],
             [
              0.4444444444444444,
              "#bd3786"
             ],
             [
              0.5555555555555556,
              "#d8576b"
             ],
             [
              0.6666666666666666,
              "#ed7953"
             ],
             [
              0.7777777777777778,
              "#fb9f3a"
             ],
             [
              0.8888888888888888,
              "#fdca26"
             ],
             [
              1,
              "#f0f921"
             ]
            ],
            "type": "contour"
           }
          ],
          "contourcarpet": [
           {
            "colorbar": {
             "outlinewidth": 0,
             "ticks": ""
            },
            "type": "contourcarpet"
           }
          ],
          "heatmap": [
           {
            "colorbar": {
             "outlinewidth": 0,
             "ticks": ""
            },
            "colorscale": [
             [
              0,
              "#0d0887"
             ],
             [
              0.1111111111111111,
              "#46039f"
             ],
             [
              0.2222222222222222,
              "#7201a8"
             ],
             [
              0.3333333333333333,
              "#9c179e"
             ],
             [
              0.4444444444444444,
              "#bd3786"
             ],
             [
              0.5555555555555556,
              "#d8576b"
             ],
             [
              0.6666666666666666,
              "#ed7953"
             ],
             [
              0.7777777777777778,
              "#fb9f3a"
             ],
             [
              0.8888888888888888,
              "#fdca26"
             ],
             [
              1,
              "#f0f921"
             ]
            ],
            "type": "heatmap"
           }
          ],
          "heatmapgl": [
           {
            "colorbar": {
             "outlinewidth": 0,
             "ticks": ""
            },
            "colorscale": [
             [
              0,
              "#0d0887"
             ],
             [
              0.1111111111111111,
              "#46039f"
             ],
             [
              0.2222222222222222,
              "#7201a8"
             ],
             [
              0.3333333333333333,
              "#9c179e"
             ],
             [
              0.4444444444444444,
              "#bd3786"
             ],
             [
              0.5555555555555556,
              "#d8576b"
             ],
             [
              0.6666666666666666,
              "#ed7953"
             ],
             [
              0.7777777777777778,
              "#fb9f3a"
             ],
             [
              0.8888888888888888,
              "#fdca26"
             ],
             [
              1,
              "#f0f921"
             ]
            ],
            "type": "heatmapgl"
           }
          ],
          "histogram": [
           {
            "marker": {
             "pattern": {
              "fillmode": "overlay",
              "size": 10,
              "solidity": 0.2
             }
            },
            "type": "histogram"
           }
          ],
          "histogram2d": [
           {
            "colorbar": {
             "outlinewidth": 0,
             "ticks": ""
            },
            "colorscale": [
             [
              0,
              "#0d0887"
             ],
             [
              0.1111111111111111,
              "#46039f"
             ],
             [
              0.2222222222222222,
              "#7201a8"
             ],
             [
              0.3333333333333333,
              "#9c179e"
             ],
             [
              0.4444444444444444,
              "#bd3786"
             ],
             [
              0.5555555555555556,
              "#d8576b"
             ],
             [
              0.6666666666666666,
              "#ed7953"
             ],
             [
              0.7777777777777778,
              "#fb9f3a"
             ],
             [
              0.8888888888888888,
              "#fdca26"
             ],
             [
              1,
              "#f0f921"
             ]
            ],
            "type": "histogram2d"
           }
          ],
          "histogram2dcontour": [
           {
            "colorbar": {
             "outlinewidth": 0,
             "ticks": ""
            },
            "colorscale": [
             [
              0,
              "#0d0887"
             ],
             [
              0.1111111111111111,
              "#46039f"
             ],
             [
              0.2222222222222222,
              "#7201a8"
             ],
             [
              0.3333333333333333,
              "#9c179e"
             ],
             [
              0.4444444444444444,
              "#bd3786"
             ],
             [
              0.5555555555555556,
              "#d8576b"
             ],
             [
              0.6666666666666666,
              "#ed7953"
             ],
             [
              0.7777777777777778,
              "#fb9f3a"
             ],
             [
              0.8888888888888888,
              "#fdca26"
             ],
             [
              1,
              "#f0f921"
             ]
            ],
            "type": "histogram2dcontour"
           }
          ],
          "mesh3d": [
           {
            "colorbar": {
             "outlinewidth": 0,
             "ticks": ""
            },
            "type": "mesh3d"
           }
          ],
          "parcoords": [
           {
            "line": {
             "colorbar": {
              "outlinewidth": 0,
              "ticks": ""
             }
            },
            "type": "parcoords"
           }
          ],
          "pie": [
           {
            "automargin": true,
            "type": "pie"
           }
          ],
          "scatter": [
           {
            "marker": {
             "colorbar": {
              "outlinewidth": 0,
              "ticks": ""
             }
            },
            "type": "scatter"
           }
          ],
          "scatter3d": [
           {
            "line": {
             "colorbar": {
              "outlinewidth": 0,
              "ticks": ""
             }
            },
            "marker": {
             "colorbar": {
              "outlinewidth": 0,
              "ticks": ""
             }
            },
            "type": "scatter3d"
           }
          ],
          "scattercarpet": [
           {
            "marker": {
             "colorbar": {
              "outlinewidth": 0,
              "ticks": ""
             }
            },
            "type": "scattercarpet"
           }
          ],
          "scattergeo": [
           {
            "marker": {
             "colorbar": {
              "outlinewidth": 0,
              "ticks": ""
             }
            },
            "type": "scattergeo"
           }
          ],
          "scattergl": [
           {
            "marker": {
             "colorbar": {
              "outlinewidth": 0,
              "ticks": ""
             }
            },
            "type": "scattergl"
           }
          ],
          "scattermapbox": [
           {
            "marker": {
             "colorbar": {
              "outlinewidth": 0,
              "ticks": ""
             }
            },
            "type": "scattermapbox"
           }
          ],
          "scatterpolar": [
           {
            "marker": {
             "colorbar": {
              "outlinewidth": 0,
              "ticks": ""
             }
            },
            "type": "scatterpolar"
           }
          ],
          "scatterpolargl": [
           {
            "marker": {
             "colorbar": {
              "outlinewidth": 0,
              "ticks": ""
             }
            },
            "type": "scatterpolargl"
           }
          ],
          "scatterternary": [
           {
            "marker": {
             "colorbar": {
              "outlinewidth": 0,
              "ticks": ""
             }
            },
            "type": "scatterternary"
           }
          ],
          "surface": [
           {
            "colorbar": {
             "outlinewidth": 0,
             "ticks": ""
            },
            "colorscale": [
             [
              0,
              "#0d0887"
             ],
             [
              0.1111111111111111,
              "#46039f"
             ],
             [
              0.2222222222222222,
              "#7201a8"
             ],
             [
              0.3333333333333333,
              "#9c179e"
             ],
             [
              0.4444444444444444,
              "#bd3786"
             ],
             [
              0.5555555555555556,
              "#d8576b"
             ],
             [
              0.6666666666666666,
              "#ed7953"
             ],
             [
              0.7777777777777778,
              "#fb9f3a"
             ],
             [
              0.8888888888888888,
              "#fdca26"
             ],
             [
              1,
              "#f0f921"
             ]
            ],
            "type": "surface"
           }
          ],
          "table": [
           {
            "cells": {
             "fill": {
              "color": "#EBF0F8"
             },
             "line": {
              "color": "white"
             }
            },
            "header": {
             "fill": {
              "color": "#C8D4E3"
             },
             "line": {
              "color": "white"
             }
            },
            "type": "table"
           }
          ]
         },
         "layout": {
          "annotationdefaults": {
           "arrowcolor": "#2a3f5f",
           "arrowhead": 0,
           "arrowwidth": 1
          },
          "autotypenumbers": "strict",
          "coloraxis": {
           "colorbar": {
            "outlinewidth": 0,
            "ticks": ""
           }
          },
          "colorscale": {
           "diverging": [
            [
             0,
             "#8e0152"
            ],
            [
             0.1,
             "#c51b7d"
            ],
            [
             0.2,
             "#de77ae"
            ],
            [
             0.3,
             "#f1b6da"
            ],
            [
             0.4,
             "#fde0ef"
            ],
            [
             0.5,
             "#f7f7f7"
            ],
            [
             0.6,
             "#e6f5d0"
            ],
            [
             0.7,
             "#b8e186"
            ],
            [
             0.8,
             "#7fbc41"
            ],
            [
             0.9,
             "#4d9221"
            ],
            [
             1,
             "#276419"
            ]
           ],
           "sequential": [
            [
             0,
             "#0d0887"
            ],
            [
             0.1111111111111111,
             "#46039f"
            ],
            [
             0.2222222222222222,
             "#7201a8"
            ],
            [
             0.3333333333333333,
             "#9c179e"
            ],
            [
             0.4444444444444444,
             "#bd3786"
            ],
            [
             0.5555555555555556,
             "#d8576b"
            ],
            [
             0.6666666666666666,
             "#ed7953"
            ],
            [
             0.7777777777777778,
             "#fb9f3a"
            ],
            [
             0.8888888888888888,
             "#fdca26"
            ],
            [
             1,
             "#f0f921"
            ]
           ],
           "sequentialminus": [
            [
             0,
             "#0d0887"
            ],
            [
             0.1111111111111111,
             "#46039f"
            ],
            [
             0.2222222222222222,
             "#7201a8"
            ],
            [
             0.3333333333333333,
             "#9c179e"
            ],
            [
             0.4444444444444444,
             "#bd3786"
            ],
            [
             0.5555555555555556,
             "#d8576b"
            ],
            [
             0.6666666666666666,
             "#ed7953"
            ],
            [
             0.7777777777777778,
             "#fb9f3a"
            ],
            [
             0.8888888888888888,
             "#fdca26"
            ],
            [
             1,
             "#f0f921"
            ]
           ]
          },
          "colorway": [
           "#636efa",
           "#EF553B",
           "#00cc96",
           "#ab63fa",
           "#FFA15A",
           "#19d3f3",
           "#FF6692",
           "#B6E880",
           "#FF97FF",
           "#FECB52"
          ],
          "font": {
           "color": "#2a3f5f"
          },
          "geo": {
           "bgcolor": "white",
           "lakecolor": "white",
           "landcolor": "#E5ECF6",
           "showlakes": true,
           "showland": true,
           "subunitcolor": "white"
          },
          "hoverlabel": {
           "align": "left"
          },
          "hovermode": "closest",
          "mapbox": {
           "style": "light"
          },
          "paper_bgcolor": "white",
          "plot_bgcolor": "#E5ECF6",
          "polar": {
           "angularaxis": {
            "gridcolor": "white",
            "linecolor": "white",
            "ticks": ""
           },
           "bgcolor": "#E5ECF6",
           "radialaxis": {
            "gridcolor": "white",
            "linecolor": "white",
            "ticks": ""
           }
          },
          "scene": {
           "xaxis": {
            "backgroundcolor": "#E5ECF6",
            "gridcolor": "white",
            "gridwidth": 2,
            "linecolor": "white",
            "showbackground": true,
            "ticks": "",
            "zerolinecolor": "white"
           },
           "yaxis": {
            "backgroundcolor": "#E5ECF6",
            "gridcolor": "white",
            "gridwidth": 2,
            "linecolor": "white",
            "showbackground": true,
            "ticks": "",
            "zerolinecolor": "white"
           },
           "zaxis": {
            "backgroundcolor": "#E5ECF6",
            "gridcolor": "white",
            "gridwidth": 2,
            "linecolor": "white",
            "showbackground": true,
            "ticks": "",
            "zerolinecolor": "white"
           }
          },
          "shapedefaults": {
           "line": {
            "color": "#2a3f5f"
           }
          },
          "ternary": {
           "aaxis": {
            "gridcolor": "white",
            "linecolor": "white",
            "ticks": ""
           },
           "baxis": {
            "gridcolor": "white",
            "linecolor": "white",
            "ticks": ""
           },
           "bgcolor": "#E5ECF6",
           "caxis": {
            "gridcolor": "white",
            "linecolor": "white",
            "ticks": ""
           }
          },
          "title": {
           "x": 0.05
          },
          "xaxis": {
           "automargin": true,
           "gridcolor": "white",
           "linecolor": "white",
           "ticks": "",
           "title": {
            "standoff": 15
           },
           "zerolinecolor": "white",
           "zerolinewidth": 2
          },
          "yaxis": {
           "automargin": true,
           "gridcolor": "white",
           "linecolor": "white",
           "ticks": "",
           "title": {
            "standoff": 15
           },
           "zerolinecolor": "white",
           "zerolinewidth": 2
          }
         }
        },
        "uniformtext": {
         "minsize": 8,
         "mode": "hide"
        },
        "xaxis": {
         "anchor": "y",
         "domain": [
          0,
          1
         ],
         "title": {
          "text": "collection"
         }
        },
        "yaxis": {
         "anchor": "x",
         "domain": [
          0,
          1
         ],
         "title": {
          "text": "floor_price"
         }
        }
       }
      }
     },
     "metadata": {},
     "output_type": "display_data"
    },
    {
     "data": {
      "text/plain": [
       "'nft_floorPrice.html'"
      ]
     },
     "execution_count": 3,
     "metadata": {},
     "output_type": "execute_result"
    }
   ],
   "source": [
    "# df1 = df[['collection', 'seven_day_sales', 'seven_day_average_price', 'seven_day_volume']]\n",
    "fig = px.bar(df, x=df['collection'], y=df[\"floor_price\"], text = 'floor_price')\n",
    "fig.update_traces(textposition='outside')\n",
    "fig.update_layout(uniformtext_minsize=8, uniformtext_mode='hide')                   \n",
    "fig.show()\n",
    "py.offline.plot(fig, filename='nft_floorPrice.html')"
   ]
  },
  {
   "cell_type": "code",
   "execution_count": 5,
   "metadata": {},
   "outputs": [
    {
     "data": {
      "application/vnd.plotly.v1+json": {
       "config": {
        "plotlyServerURL": "https://plot.ly"
       },
       "data": [
        {
         "cells": {
          "align": "left",
          "fill": {
           "color": [
            [
             "rgb(204, 229, 255)",
             "rgb(240, 240, 240)",
             "rgb(204, 229, 255)",
             "rgb(240, 240, 240)",
             "rgb(204, 229, 255)",
             "rgb(240, 240, 240)",
             "rgb(204, 229, 255)",
             "rgb(240, 240, 240)",
             "rgb(204, 229, 255)",
             "rgb(240, 240, 240)"
            ]
           ]
          },
          "height": 30,
          "line": {
           "color": "black"
          },
          "values": [
           [
            "clonex-mintvial",
            "cryptopunks",
            "akc",
            "sandbox",
            "wizards-dragons-game-v2",
            "decentraland",
            "superrare",
            "mekaverse",
            "crypto-bull-society",
            "the-sandbox-assets"
           ],
           [
            13364.978624647967,
            7427.960000000999,
            1672.392129323902,
            4596.536879670571,
            749.1889163666017,
            2310.5478388599986,
            165.26698000000002,
            157.97798475797669,
            1200.8492332526564,
            964.9035440199156
           ],
           [
            2055,
            97,
            1661,
            1330,
            4392,
            361,
            204,
            123,
            424,
            1821
           ],
           [
            6.503639233405337,
            76.57690721650513,
            1.0068585968235413,
            3.456042766669602,
            0.17058035436398034,
            6.400409525927974,
            0.8101322549019608,
            1.2843738598209486,
            2.8321915878600388,
            0.5298756419659064
           ],
           [
            22931.964969712317,
            33934.561000001006,
            8905.499898281441,
            43506.73231291401,
            10501.567733339996,
            9812.62311991673,
            4918.060995,
            963.8352233847652,
            7423.71902261678,
            3562.5767232040675
           ],
           [
            5247,
            360,
            14869,
            13167,
            24889,
            1674,
            410,
            687,
            5907,
            7679
           ],
           [
            4.370490750850451,
            94.26266944444724,
            0.5989306542660193,
            3.304225131990128,
            0.4219361056426532,
            5.861782031013578,
            11.995270719512195,
            1.4029624794538067,
            1.256766382701334,
            0.46393758604037866
           ]
          ]
         },
         "columnwidth": [
          100,
          90
         ],
         "header": {
          "align": "left",
          "fill": {
           "color": "rgb(153, 204, 255)"
          },
          "line": {
           "color": "black"
          },
          "values": [
           "collection",
           "seven_day_volume",
           "seven_day_sales",
           "seven_day_average_price",
           "thirty_day_volume",
           "thirty_day_sales",
           "thirty_day_average_price"
          ]
         },
         "type": "table"
        }
       ],
       "layout": {
        "template": {
         "data": {
          "bar": [
           {
            "error_x": {
             "color": "#2a3f5f"
            },
            "error_y": {
             "color": "#2a3f5f"
            },
            "marker": {
             "line": {
              "color": "#E5ECF6",
              "width": 0.5
             },
             "pattern": {
              "fillmode": "overlay",
              "size": 10,
              "solidity": 0.2
             }
            },
            "type": "bar"
           }
          ],
          "barpolar": [
           {
            "marker": {
             "line": {
              "color": "#E5ECF6",
              "width": 0.5
             },
             "pattern": {
              "fillmode": "overlay",
              "size": 10,
              "solidity": 0.2
             }
            },
            "type": "barpolar"
           }
          ],
          "carpet": [
           {
            "aaxis": {
             "endlinecolor": "#2a3f5f",
             "gridcolor": "white",
             "linecolor": "white",
             "minorgridcolor": "white",
             "startlinecolor": "#2a3f5f"
            },
            "baxis": {
             "endlinecolor": "#2a3f5f",
             "gridcolor": "white",
             "linecolor": "white",
             "minorgridcolor": "white",
             "startlinecolor": "#2a3f5f"
            },
            "type": "carpet"
           }
          ],
          "choropleth": [
           {
            "colorbar": {
             "outlinewidth": 0,
             "ticks": ""
            },
            "type": "choropleth"
           }
          ],
          "contour": [
           {
            "colorbar": {
             "outlinewidth": 0,
             "ticks": ""
            },
            "colorscale": [
             [
              0,
              "#0d0887"
             ],
             [
              0.1111111111111111,
              "#46039f"
             ],
             [
              0.2222222222222222,
              "#7201a8"
             ],
             [
              0.3333333333333333,
              "#9c179e"
             ],
             [
              0.4444444444444444,
              "#bd3786"
             ],
             [
              0.5555555555555556,
              "#d8576b"
             ],
             [
              0.6666666666666666,
              "#ed7953"
             ],
             [
              0.7777777777777778,
              "#fb9f3a"
             ],
             [
              0.8888888888888888,
              "#fdca26"
             ],
             [
              1,
              "#f0f921"
             ]
            ],
            "type": "contour"
           }
          ],
          "contourcarpet": [
           {
            "colorbar": {
             "outlinewidth": 0,
             "ticks": ""
            },
            "type": "contourcarpet"
           }
          ],
          "heatmap": [
           {
            "colorbar": {
             "outlinewidth": 0,
             "ticks": ""
            },
            "colorscale": [
             [
              0,
              "#0d0887"
             ],
             [
              0.1111111111111111,
              "#46039f"
             ],
             [
              0.2222222222222222,
              "#7201a8"
             ],
             [
              0.3333333333333333,
              "#9c179e"
             ],
             [
              0.4444444444444444,
              "#bd3786"
             ],
             [
              0.5555555555555556,
              "#d8576b"
             ],
             [
              0.6666666666666666,
              "#ed7953"
             ],
             [
              0.7777777777777778,
              "#fb9f3a"
             ],
             [
              0.8888888888888888,
              "#fdca26"
             ],
             [
              1,
              "#f0f921"
             ]
            ],
            "type": "heatmap"
           }
          ],
          "heatmapgl": [
           {
            "colorbar": {
             "outlinewidth": 0,
             "ticks": ""
            },
            "colorscale": [
             [
              0,
              "#0d0887"
             ],
             [
              0.1111111111111111,
              "#46039f"
             ],
             [
              0.2222222222222222,
              "#7201a8"
             ],
             [
              0.3333333333333333,
              "#9c179e"
             ],
             [
              0.4444444444444444,
              "#bd3786"
             ],
             [
              0.5555555555555556,
              "#d8576b"
             ],
             [
              0.6666666666666666,
              "#ed7953"
             ],
             [
              0.7777777777777778,
              "#fb9f3a"
             ],
             [
              0.8888888888888888,
              "#fdca26"
             ],
             [
              1,
              "#f0f921"
             ]
            ],
            "type": "heatmapgl"
           }
          ],
          "histogram": [
           {
            "marker": {
             "pattern": {
              "fillmode": "overlay",
              "size": 10,
              "solidity": 0.2
             }
            },
            "type": "histogram"
           }
          ],
          "histogram2d": [
           {
            "colorbar": {
             "outlinewidth": 0,
             "ticks": ""
            },
            "colorscale": [
             [
              0,
              "#0d0887"
             ],
             [
              0.1111111111111111,
              "#46039f"
             ],
             [
              0.2222222222222222,
              "#7201a8"
             ],
             [
              0.3333333333333333,
              "#9c179e"
             ],
             [
              0.4444444444444444,
              "#bd3786"
             ],
             [
              0.5555555555555556,
              "#d8576b"
             ],
             [
              0.6666666666666666,
              "#ed7953"
             ],
             [
              0.7777777777777778,
              "#fb9f3a"
             ],
             [
              0.8888888888888888,
              "#fdca26"
             ],
             [
              1,
              "#f0f921"
             ]
            ],
            "type": "histogram2d"
           }
          ],
          "histogram2dcontour": [
           {
            "colorbar": {
             "outlinewidth": 0,
             "ticks": ""
            },
            "colorscale": [
             [
              0,
              "#0d0887"
             ],
             [
              0.1111111111111111,
              "#46039f"
             ],
             [
              0.2222222222222222,
              "#7201a8"
             ],
             [
              0.3333333333333333,
              "#9c179e"
             ],
             [
              0.4444444444444444,
              "#bd3786"
             ],
             [
              0.5555555555555556,
              "#d8576b"
             ],
             [
              0.6666666666666666,
              "#ed7953"
             ],
             [
              0.7777777777777778,
              "#fb9f3a"
             ],
             [
              0.8888888888888888,
              "#fdca26"
             ],
             [
              1,
              "#f0f921"
             ]
            ],
            "type": "histogram2dcontour"
           }
          ],
          "mesh3d": [
           {
            "colorbar": {
             "outlinewidth": 0,
             "ticks": ""
            },
            "type": "mesh3d"
           }
          ],
          "parcoords": [
           {
            "line": {
             "colorbar": {
              "outlinewidth": 0,
              "ticks": ""
             }
            },
            "type": "parcoords"
           }
          ],
          "pie": [
           {
            "automargin": true,
            "type": "pie"
           }
          ],
          "scatter": [
           {
            "marker": {
             "colorbar": {
              "outlinewidth": 0,
              "ticks": ""
             }
            },
            "type": "scatter"
           }
          ],
          "scatter3d": [
           {
            "line": {
             "colorbar": {
              "outlinewidth": 0,
              "ticks": ""
             }
            },
            "marker": {
             "colorbar": {
              "outlinewidth": 0,
              "ticks": ""
             }
            },
            "type": "scatter3d"
           }
          ],
          "scattercarpet": [
           {
            "marker": {
             "colorbar": {
              "outlinewidth": 0,
              "ticks": ""
             }
            },
            "type": "scattercarpet"
           }
          ],
          "scattergeo": [
           {
            "marker": {
             "colorbar": {
              "outlinewidth": 0,
              "ticks": ""
             }
            },
            "type": "scattergeo"
           }
          ],
          "scattergl": [
           {
            "marker": {
             "colorbar": {
              "outlinewidth": 0,
              "ticks": ""
             }
            },
            "type": "scattergl"
           }
          ],
          "scattermapbox": [
           {
            "marker": {
             "colorbar": {
              "outlinewidth": 0,
              "ticks": ""
             }
            },
            "type": "scattermapbox"
           }
          ],
          "scatterpolar": [
           {
            "marker": {
             "colorbar": {
              "outlinewidth": 0,
              "ticks": ""
             }
            },
            "type": "scatterpolar"
           }
          ],
          "scatterpolargl": [
           {
            "marker": {
             "colorbar": {
              "outlinewidth": 0,
              "ticks": ""
             }
            },
            "type": "scatterpolargl"
           }
          ],
          "scatterternary": [
           {
            "marker": {
             "colorbar": {
              "outlinewidth": 0,
              "ticks": ""
             }
            },
            "type": "scatterternary"
           }
          ],
          "surface": [
           {
            "colorbar": {
             "outlinewidth": 0,
             "ticks": ""
            },
            "colorscale": [
             [
              0,
              "#0d0887"
             ],
             [
              0.1111111111111111,
              "#46039f"
             ],
             [
              0.2222222222222222,
              "#7201a8"
             ],
             [
              0.3333333333333333,
              "#9c179e"
             ],
             [
              0.4444444444444444,
              "#bd3786"
             ],
             [
              0.5555555555555556,
              "#d8576b"
             ],
             [
              0.6666666666666666,
              "#ed7953"
             ],
             [
              0.7777777777777778,
              "#fb9f3a"
             ],
             [
              0.8888888888888888,
              "#fdca26"
             ],
             [
              1,
              "#f0f921"
             ]
            ],
            "type": "surface"
           }
          ],
          "table": [
           {
            "cells": {
             "fill": {
              "color": "#EBF0F8"
             },
             "line": {
              "color": "white"
             }
            },
            "header": {
             "fill": {
              "color": "#C8D4E3"
             },
             "line": {
              "color": "white"
             }
            },
            "type": "table"
           }
          ]
         },
         "layout": {
          "annotationdefaults": {
           "arrowcolor": "#2a3f5f",
           "arrowhead": 0,
           "arrowwidth": 1
          },
          "autotypenumbers": "strict",
          "coloraxis": {
           "colorbar": {
            "outlinewidth": 0,
            "ticks": ""
           }
          },
          "colorscale": {
           "diverging": [
            [
             0,
             "#8e0152"
            ],
            [
             0.1,
             "#c51b7d"
            ],
            [
             0.2,
             "#de77ae"
            ],
            [
             0.3,
             "#f1b6da"
            ],
            [
             0.4,
             "#fde0ef"
            ],
            [
             0.5,
             "#f7f7f7"
            ],
            [
             0.6,
             "#e6f5d0"
            ],
            [
             0.7,
             "#b8e186"
            ],
            [
             0.8,
             "#7fbc41"
            ],
            [
             0.9,
             "#4d9221"
            ],
            [
             1,
             "#276419"
            ]
           ],
           "sequential": [
            [
             0,
             "#0d0887"
            ],
            [
             0.1111111111111111,
             "#46039f"
            ],
            [
             0.2222222222222222,
             "#7201a8"
            ],
            [
             0.3333333333333333,
             "#9c179e"
            ],
            [
             0.4444444444444444,
             "#bd3786"
            ],
            [
             0.5555555555555556,
             "#d8576b"
            ],
            [
             0.6666666666666666,
             "#ed7953"
            ],
            [
             0.7777777777777778,
             "#fb9f3a"
            ],
            [
             0.8888888888888888,
             "#fdca26"
            ],
            [
             1,
             "#f0f921"
            ]
           ],
           "sequentialminus": [
            [
             0,
             "#0d0887"
            ],
            [
             0.1111111111111111,
             "#46039f"
            ],
            [
             0.2222222222222222,
             "#7201a8"
            ],
            [
             0.3333333333333333,
             "#9c179e"
            ],
            [
             0.4444444444444444,
             "#bd3786"
            ],
            [
             0.5555555555555556,
             "#d8576b"
            ],
            [
             0.6666666666666666,
             "#ed7953"
            ],
            [
             0.7777777777777778,
             "#fb9f3a"
            ],
            [
             0.8888888888888888,
             "#fdca26"
            ],
            [
             1,
             "#f0f921"
            ]
           ]
          },
          "colorway": [
           "#636efa",
           "#EF553B",
           "#00cc96",
           "#ab63fa",
           "#FFA15A",
           "#19d3f3",
           "#FF6692",
           "#B6E880",
           "#FF97FF",
           "#FECB52"
          ],
          "font": {
           "color": "#2a3f5f"
          },
          "geo": {
           "bgcolor": "white",
           "lakecolor": "white",
           "landcolor": "#E5ECF6",
           "showlakes": true,
           "showland": true,
           "subunitcolor": "white"
          },
          "hoverlabel": {
           "align": "left"
          },
          "hovermode": "closest",
          "mapbox": {
           "style": "light"
          },
          "paper_bgcolor": "white",
          "plot_bgcolor": "#E5ECF6",
          "polar": {
           "angularaxis": {
            "gridcolor": "white",
            "linecolor": "white",
            "ticks": ""
           },
           "bgcolor": "#E5ECF6",
           "radialaxis": {
            "gridcolor": "white",
            "linecolor": "white",
            "ticks": ""
           }
          },
          "scene": {
           "xaxis": {
            "backgroundcolor": "#E5ECF6",
            "gridcolor": "white",
            "gridwidth": 2,
            "linecolor": "white",
            "showbackground": true,
            "ticks": "",
            "zerolinecolor": "white"
           },
           "yaxis": {
            "backgroundcolor": "#E5ECF6",
            "gridcolor": "white",
            "gridwidth": 2,
            "linecolor": "white",
            "showbackground": true,
            "ticks": "",
            "zerolinecolor": "white"
           },
           "zaxis": {
            "backgroundcolor": "#E5ECF6",
            "gridcolor": "white",
            "gridwidth": 2,
            "linecolor": "white",
            "showbackground": true,
            "ticks": "",
            "zerolinecolor": "white"
           }
          },
          "shapedefaults": {
           "line": {
            "color": "#2a3f5f"
           }
          },
          "ternary": {
           "aaxis": {
            "gridcolor": "white",
            "linecolor": "white",
            "ticks": ""
           },
           "baxis": {
            "gridcolor": "white",
            "linecolor": "white",
            "ticks": ""
           },
           "bgcolor": "#E5ECF6",
           "caxis": {
            "gridcolor": "white",
            "linecolor": "white",
            "ticks": ""
           }
          },
          "title": {
           "x": 0.05
          },
          "xaxis": {
           "automargin": true,
           "gridcolor": "white",
           "linecolor": "white",
           "ticks": "",
           "title": {
            "standoff": 15
           },
           "zerolinecolor": "white",
           "zerolinewidth": 2
          },
          "yaxis": {
           "automargin": true,
           "gridcolor": "white",
           "linecolor": "white",
           "ticks": "",
           "title": {
            "standoff": 15
           },
           "zerolinecolor": "white",
           "zerolinewidth": 2
          }
         }
        }
       }
      }
     },
     "metadata": {},
     "output_type": "display_data"
    },
    {
     "data": {
      "application/vnd.plotly.v1+json": {
       "config": {
        "plotlyServerURL": "https://plot.ly"
       },
       "data": [
        {
         "cells": {
          "align": "left",
          "fill": {
           "color": [
            [
             "rgb(204, 229, 255)",
             "rgb(240, 240, 240)",
             "rgb(204, 229, 255)",
             "rgb(240, 240, 240)",
             "rgb(204, 229, 255)",
             "rgb(240, 240, 240)",
             "rgb(204, 229, 255)",
             "rgb(240, 240, 240)",
             "rgb(204, 229, 255)",
             "rgb(240, 240, 240)"
            ]
           ]
          },
          "height": 30,
          "line": {
           "color": "black"
          },
          "values": [
           [
            "clonex-mintvial",
            "cryptopunks",
            "akc",
            "sandbox",
            "wizards-dragons-game-v2",
            "decentraland",
            "superrare",
            "mekaverse",
            "crypto-bull-society",
            "the-sandbox-assets"
           ],
           [
            5247,
            18131,
            14869,
            69281,
            24889,
            15627,
            19754,
            9939,
            5907,
            18652
           ],
           [
            1017,
            3282,
            5273,
            17246,
            2859,
            6025,
            5712,
            5105,
            4699,
            21913
           ],
           [
            7316.594137581003,
            765692.4952578349,
            10067.57910963859,
            356373.3059279027,
            7872.624514606421,
            621870.1899486879,
            23378.796611960788,
            11414.230492228771,
            22025.953978787522,
            794.2835873068937
           ],
           [
            9.2,
            null,
            0.515,
            3.05,
            0.01,
            3.2484645,
            0.09,
            0.835,
            2,
            0.010527242
           ],
           [
            3,
            4,
            5,
            7,
            1,
            6,
            1,
            1,
            2,
            11
           ]
          ]
         },
         "columnwidth": [
          100,
          90
         ],
         "header": {
          "align": "left",
          "fill": {
           "color": "rgb(153, 204, 255)"
          },
          "line": {
           "color": "black"
          },
          "values": [
           "collection",
           "total_sales",
           "num_owners",
           "market_cap",
           "floor_price",
           "num_reports"
          ]
         },
         "type": "table"
        }
       ],
       "layout": {
        "template": {
         "data": {
          "bar": [
           {
            "error_x": {
             "color": "#2a3f5f"
            },
            "error_y": {
             "color": "#2a3f5f"
            },
            "marker": {
             "line": {
              "color": "#E5ECF6",
              "width": 0.5
             },
             "pattern": {
              "fillmode": "overlay",
              "size": 10,
              "solidity": 0.2
             }
            },
            "type": "bar"
           }
          ],
          "barpolar": [
           {
            "marker": {
             "line": {
              "color": "#E5ECF6",
              "width": 0.5
             },
             "pattern": {
              "fillmode": "overlay",
              "size": 10,
              "solidity": 0.2
             }
            },
            "type": "barpolar"
           }
          ],
          "carpet": [
           {
            "aaxis": {
             "endlinecolor": "#2a3f5f",
             "gridcolor": "white",
             "linecolor": "white",
             "minorgridcolor": "white",
             "startlinecolor": "#2a3f5f"
            },
            "baxis": {
             "endlinecolor": "#2a3f5f",
             "gridcolor": "white",
             "linecolor": "white",
             "minorgridcolor": "white",
             "startlinecolor": "#2a3f5f"
            },
            "type": "carpet"
           }
          ],
          "choropleth": [
           {
            "colorbar": {
             "outlinewidth": 0,
             "ticks": ""
            },
            "type": "choropleth"
           }
          ],
          "contour": [
           {
            "colorbar": {
             "outlinewidth": 0,
             "ticks": ""
            },
            "colorscale": [
             [
              0,
              "#0d0887"
             ],
             [
              0.1111111111111111,
              "#46039f"
             ],
             [
              0.2222222222222222,
              "#7201a8"
             ],
             [
              0.3333333333333333,
              "#9c179e"
             ],
             [
              0.4444444444444444,
              "#bd3786"
             ],
             [
              0.5555555555555556,
              "#d8576b"
             ],
             [
              0.6666666666666666,
              "#ed7953"
             ],
             [
              0.7777777777777778,
              "#fb9f3a"
             ],
             [
              0.8888888888888888,
              "#fdca26"
             ],
             [
              1,
              "#f0f921"
             ]
            ],
            "type": "contour"
           }
          ],
          "contourcarpet": [
           {
            "colorbar": {
             "outlinewidth": 0,
             "ticks": ""
            },
            "type": "contourcarpet"
           }
          ],
          "heatmap": [
           {
            "colorbar": {
             "outlinewidth": 0,
             "ticks": ""
            },
            "colorscale": [
             [
              0,
              "#0d0887"
             ],
             [
              0.1111111111111111,
              "#46039f"
             ],
             [
              0.2222222222222222,
              "#7201a8"
             ],
             [
              0.3333333333333333,
              "#9c179e"
             ],
             [
              0.4444444444444444,
              "#bd3786"
             ],
             [
              0.5555555555555556,
              "#d8576b"
             ],
             [
              0.6666666666666666,
              "#ed7953"
             ],
             [
              0.7777777777777778,
              "#fb9f3a"
             ],
             [
              0.8888888888888888,
              "#fdca26"
             ],
             [
              1,
              "#f0f921"
             ]
            ],
            "type": "heatmap"
           }
          ],
          "heatmapgl": [
           {
            "colorbar": {
             "outlinewidth": 0,
             "ticks": ""
            },
            "colorscale": [
             [
              0,
              "#0d0887"
             ],
             [
              0.1111111111111111,
              "#46039f"
             ],
             [
              0.2222222222222222,
              "#7201a8"
             ],
             [
              0.3333333333333333,
              "#9c179e"
             ],
             [
              0.4444444444444444,
              "#bd3786"
             ],
             [
              0.5555555555555556,
              "#d8576b"
             ],
             [
              0.6666666666666666,
              "#ed7953"
             ],
             [
              0.7777777777777778,
              "#fb9f3a"
             ],
             [
              0.8888888888888888,
              "#fdca26"
             ],
             [
              1,
              "#f0f921"
             ]
            ],
            "type": "heatmapgl"
           }
          ],
          "histogram": [
           {
            "marker": {
             "pattern": {
              "fillmode": "overlay",
              "size": 10,
              "solidity": 0.2
             }
            },
            "type": "histogram"
           }
          ],
          "histogram2d": [
           {
            "colorbar": {
             "outlinewidth": 0,
             "ticks": ""
            },
            "colorscale": [
             [
              0,
              "#0d0887"
             ],
             [
              0.1111111111111111,
              "#46039f"
             ],
             [
              0.2222222222222222,
              "#7201a8"
             ],
             [
              0.3333333333333333,
              "#9c179e"
             ],
             [
              0.4444444444444444,
              "#bd3786"
             ],
             [
              0.5555555555555556,
              "#d8576b"
             ],
             [
              0.6666666666666666,
              "#ed7953"
             ],
             [
              0.7777777777777778,
              "#fb9f3a"
             ],
             [
              0.8888888888888888,
              "#fdca26"
             ],
             [
              1,
              "#f0f921"
             ]
            ],
            "type": "histogram2d"
           }
          ],
          "histogram2dcontour": [
           {
            "colorbar": {
             "outlinewidth": 0,
             "ticks": ""
            },
            "colorscale": [
             [
              0,
              "#0d0887"
             ],
             [
              0.1111111111111111,
              "#46039f"
             ],
             [
              0.2222222222222222,
              "#7201a8"
             ],
             [
              0.3333333333333333,
              "#9c179e"
             ],
             [
              0.4444444444444444,
              "#bd3786"
             ],
             [
              0.5555555555555556,
              "#d8576b"
             ],
             [
              0.6666666666666666,
              "#ed7953"
             ],
             [
              0.7777777777777778,
              "#fb9f3a"
             ],
             [
              0.8888888888888888,
              "#fdca26"
             ],
             [
              1,
              "#f0f921"
             ]
            ],
            "type": "histogram2dcontour"
           }
          ],
          "mesh3d": [
           {
            "colorbar": {
             "outlinewidth": 0,
             "ticks": ""
            },
            "type": "mesh3d"
           }
          ],
          "parcoords": [
           {
            "line": {
             "colorbar": {
              "outlinewidth": 0,
              "ticks": ""
             }
            },
            "type": "parcoords"
           }
          ],
          "pie": [
           {
            "automargin": true,
            "type": "pie"
           }
          ],
          "scatter": [
           {
            "marker": {
             "colorbar": {
              "outlinewidth": 0,
              "ticks": ""
             }
            },
            "type": "scatter"
           }
          ],
          "scatter3d": [
           {
            "line": {
             "colorbar": {
              "outlinewidth": 0,
              "ticks": ""
             }
            },
            "marker": {
             "colorbar": {
              "outlinewidth": 0,
              "ticks": ""
             }
            },
            "type": "scatter3d"
           }
          ],
          "scattercarpet": [
           {
            "marker": {
             "colorbar": {
              "outlinewidth": 0,
              "ticks": ""
             }
            },
            "type": "scattercarpet"
           }
          ],
          "scattergeo": [
           {
            "marker": {
             "colorbar": {
              "outlinewidth": 0,
              "ticks": ""
             }
            },
            "type": "scattergeo"
           }
          ],
          "scattergl": [
           {
            "marker": {
             "colorbar": {
              "outlinewidth": 0,
              "ticks": ""
             }
            },
            "type": "scattergl"
           }
          ],
          "scattermapbox": [
           {
            "marker": {
             "colorbar": {
              "outlinewidth": 0,
              "ticks": ""
             }
            },
            "type": "scattermapbox"
           }
          ],
          "scatterpolar": [
           {
            "marker": {
             "colorbar": {
              "outlinewidth": 0,
              "ticks": ""
             }
            },
            "type": "scatterpolar"
           }
          ],
          "scatterpolargl": [
           {
            "marker": {
             "colorbar": {
              "outlinewidth": 0,
              "ticks": ""
             }
            },
            "type": "scatterpolargl"
           }
          ],
          "scatterternary": [
           {
            "marker": {
             "colorbar": {
              "outlinewidth": 0,
              "ticks": ""
             }
            },
            "type": "scatterternary"
           }
          ],
          "surface": [
           {
            "colorbar": {
             "outlinewidth": 0,
             "ticks": ""
            },
            "colorscale": [
             [
              0,
              "#0d0887"
             ],
             [
              0.1111111111111111,
              "#46039f"
             ],
             [
              0.2222222222222222,
              "#7201a8"
             ],
             [
              0.3333333333333333,
              "#9c179e"
             ],
             [
              0.4444444444444444,
              "#bd3786"
             ],
             [
              0.5555555555555556,
              "#d8576b"
             ],
             [
              0.6666666666666666,
              "#ed7953"
             ],
             [
              0.7777777777777778,
              "#fb9f3a"
             ],
             [
              0.8888888888888888,
              "#fdca26"
             ],
             [
              1,
              "#f0f921"
             ]
            ],
            "type": "surface"
           }
          ],
          "table": [
           {
            "cells": {
             "fill": {
              "color": "#EBF0F8"
             },
             "line": {
              "color": "white"
             }
            },
            "header": {
             "fill": {
              "color": "#C8D4E3"
             },
             "line": {
              "color": "white"
             }
            },
            "type": "table"
           }
          ]
         },
         "layout": {
          "annotationdefaults": {
           "arrowcolor": "#2a3f5f",
           "arrowhead": 0,
           "arrowwidth": 1
          },
          "autotypenumbers": "strict",
          "coloraxis": {
           "colorbar": {
            "outlinewidth": 0,
            "ticks": ""
           }
          },
          "colorscale": {
           "diverging": [
            [
             0,
             "#8e0152"
            ],
            [
             0.1,
             "#c51b7d"
            ],
            [
             0.2,
             "#de77ae"
            ],
            [
             0.3,
             "#f1b6da"
            ],
            [
             0.4,
             "#fde0ef"
            ],
            [
             0.5,
             "#f7f7f7"
            ],
            [
             0.6,
             "#e6f5d0"
            ],
            [
             0.7,
             "#b8e186"
            ],
            [
             0.8,
             "#7fbc41"
            ],
            [
             0.9,
             "#4d9221"
            ],
            [
             1,
             "#276419"
            ]
           ],
           "sequential": [
            [
             0,
             "#0d0887"
            ],
            [
             0.1111111111111111,
             "#46039f"
            ],
            [
             0.2222222222222222,
             "#7201a8"
            ],
            [
             0.3333333333333333,
             "#9c179e"
            ],
            [
             0.4444444444444444,
             "#bd3786"
            ],
            [
             0.5555555555555556,
             "#d8576b"
            ],
            [
             0.6666666666666666,
             "#ed7953"
            ],
            [
             0.7777777777777778,
             "#fb9f3a"
            ],
            [
             0.8888888888888888,
             "#fdca26"
            ],
            [
             1,
             "#f0f921"
            ]
           ],
           "sequentialminus": [
            [
             0,
             "#0d0887"
            ],
            [
             0.1111111111111111,
             "#46039f"
            ],
            [
             0.2222222222222222,
             "#7201a8"
            ],
            [
             0.3333333333333333,
             "#9c179e"
            ],
            [
             0.4444444444444444,
             "#bd3786"
            ],
            [
             0.5555555555555556,
             "#d8576b"
            ],
            [
             0.6666666666666666,
             "#ed7953"
            ],
            [
             0.7777777777777778,
             "#fb9f3a"
            ],
            [
             0.8888888888888888,
             "#fdca26"
            ],
            [
             1,
             "#f0f921"
            ]
           ]
          },
          "colorway": [
           "#636efa",
           "#EF553B",
           "#00cc96",
           "#ab63fa",
           "#FFA15A",
           "#19d3f3",
           "#FF6692",
           "#B6E880",
           "#FF97FF",
           "#FECB52"
          ],
          "font": {
           "color": "#2a3f5f"
          },
          "geo": {
           "bgcolor": "white",
           "lakecolor": "white",
           "landcolor": "#E5ECF6",
           "showlakes": true,
           "showland": true,
           "subunitcolor": "white"
          },
          "hoverlabel": {
           "align": "left"
          },
          "hovermode": "closest",
          "mapbox": {
           "style": "light"
          },
          "paper_bgcolor": "white",
          "plot_bgcolor": "#E5ECF6",
          "polar": {
           "angularaxis": {
            "gridcolor": "white",
            "linecolor": "white",
            "ticks": ""
           },
           "bgcolor": "#E5ECF6",
           "radialaxis": {
            "gridcolor": "white",
            "linecolor": "white",
            "ticks": ""
           }
          },
          "scene": {
           "xaxis": {
            "backgroundcolor": "#E5ECF6",
            "gridcolor": "white",
            "gridwidth": 2,
            "linecolor": "white",
            "showbackground": true,
            "ticks": "",
            "zerolinecolor": "white"
           },
           "yaxis": {
            "backgroundcolor": "#E5ECF6",
            "gridcolor": "white",
            "gridwidth": 2,
            "linecolor": "white",
            "showbackground": true,
            "ticks": "",
            "zerolinecolor": "white"
           },
           "zaxis": {
            "backgroundcolor": "#E5ECF6",
            "gridcolor": "white",
            "gridwidth": 2,
            "linecolor": "white",
            "showbackground": true,
            "ticks": "",
            "zerolinecolor": "white"
           }
          },
          "shapedefaults": {
           "line": {
            "color": "#2a3f5f"
           }
          },
          "ternary": {
           "aaxis": {
            "gridcolor": "white",
            "linecolor": "white",
            "ticks": ""
           },
           "baxis": {
            "gridcolor": "white",
            "linecolor": "white",
            "ticks": ""
           },
           "bgcolor": "#E5ECF6",
           "caxis": {
            "gridcolor": "white",
            "linecolor": "white",
            "ticks": ""
           }
          },
          "title": {
           "x": 0.05
          },
          "xaxis": {
           "automargin": true,
           "gridcolor": "white",
           "linecolor": "white",
           "ticks": "",
           "title": {
            "standoff": 15
           },
           "zerolinecolor": "white",
           "zerolinewidth": 2
          },
          "yaxis": {
           "automargin": true,
           "gridcolor": "white",
           "linecolor": "white",
           "ticks": "",
           "title": {
            "standoff": 15
           },
           "zerolinecolor": "white",
           "zerolinewidth": 2
          }
         }
        }
       }
      }
     },
     "metadata": {},
     "output_type": "display_data"
    },
    {
     "data": {
      "text/plain": [
       "'nft_table2.html'"
      ]
     },
     "execution_count": 5,
     "metadata": {},
     "output_type": "execute_result"
    }
   ],
   "source": [
    "\n",
    "def tableColorAlternator(color1, color2, table):\n",
    "    a = []\n",
    "    for i in range(len(table)):\n",
    "        if i%2 == 0:\n",
    "#             print(color1)\n",
    "            a.append(color1)\n",
    "        else:\n",
    "#             print(color2)\n",
    "            a.append(color2)\n",
    "        \n",
    "    b=[a]\n",
    "    return b\n",
    "\n",
    "#the dataframes\n",
    "table1 = df[['collection', 'seven_day_volume', 'seven_day_sales', 'seven_day_average_price', 'thirty_day_volume', 'thirty_day_sales', 'thirty_day_average_price']]\n",
    "table2 = df[['collection', 'total_sales', 'num_owners', 'market_cap', 'floor_price', 'num_reports']]\n",
    "\n",
    "#settings for cell styling\n",
    "color1 = 'rgb(204, 229, 255)'\n",
    "color2 = 'rgb(240, 240, 240)'\n",
    "headerColor = 'rgb(153, 204, 255)'\n",
    "myCellColors = tableColorAlternator(color1, color2, table1)\n",
    "\n",
    "#table1\n",
    "fig = go.Figure(data=[go.Table(\n",
    "    header=dict(values=list(table1.columns),\n",
    "                fill_color=headerColor,\n",
    "                line_color='black',\n",
    "                align='left'), columnwidth = [100,90],\n",
    "    cells=dict(values=[table1.collection, table1.seven_day_volume, table1.seven_day_sales, table1.seven_day_average_price, table1.thirty_day_volume, table1.thirty_day_sales, table1.thirty_day_average_price],\n",
    "               fill_color=myCellColors,\n",
    "               line_color='black',\n",
    "               align='left', height=30))\n",
    "])\n",
    "fig.show()\n",
    "py.offline.plot(fig, filename='nft_table1.html')\n",
    "\n",
    "\n",
    "#table2\n",
    "fig = go.Figure(data=[go.Table(\n",
    "    header=dict(values=list(table2.columns),\n",
    "                fill_color=headerColor,\n",
    "                line_color='black',\n",
    "                align='left'), columnwidth = [100,90],\n",
    "    cells=dict(values=[table2.collection, table2.total_sales, table2.num_owners, table2.market_cap, table2.floor_price, table2.num_reports],\n",
    "               fill_color=myCellColors,\n",
    "               line_color='black',\n",
    "               align='left', height=30))\n",
    "])\n",
    "fig.show()\n",
    "py.offline.plot(fig, filename='nft_table2.html')"
   ]
  }
 ],
 "metadata": {
  "interpreter": {
   "hash": "cb4f197880ecacceb993dbec3eced19237e3d5e98809f7607bd653c748a52724"
  },
  "kernelspec": {
   "display_name": "Python 3.8.8 64-bit ('base': conda)",
   "language": "python",
   "name": "python3"
  },
  "language_info": {
   "codemirror_mode": {
    "name": "ipython",
    "version": 3
   },
   "file_extension": ".py",
   "mimetype": "text/x-python",
   "name": "python",
   "nbconvert_exporter": "python",
   "pygments_lexer": "ipython3",
   "version": "3.8.8"
  },
  "orig_nbformat": 4
 },
 "nbformat": 4,
 "nbformat_minor": 2
}

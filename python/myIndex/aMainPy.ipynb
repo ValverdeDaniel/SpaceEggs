{
 "cells": [
  {
   "cell_type": "code",
   "execution_count": 8,
   "metadata": {},
   "outputs": [],
   "source": [
    "import pandas as pd\n",
    "import datetime\n",
    "from datetime import timedelta\n",
    "import requests\n",
    "import plotly as py\n",
    "import plotly.express as px\n",
    "import chart_studio.tools as tls"
   ]
  },
  {
   "cell_type": "code",
   "execution_count": 15,
   "metadata": {},
   "outputs": [
    {
     "ename": "KeyError",
     "evalue": "'id'",
     "output_type": "error",
     "traceback": [
      "\u001b[1;31m---------------------------------------------------------------------------\u001b[0m",
      "\u001b[1;31mKeyError\u001b[0m                                  Traceback (most recent call last)",
      "\u001b[1;32m<ipython-input-15-449b82b8a99b>\u001b[0m in \u001b[0;36m<module>\u001b[1;34m\u001b[0m\n\u001b[0;32m     66\u001b[0m \u001b[1;33m\u001b[0m\u001b[0m\n\u001b[0;32m     67\u001b[0m \u001b[1;32mfor\u001b[0m \u001b[0mcrypto\u001b[0m \u001b[1;32min\u001b[0m \u001b[0mtheCoins\u001b[0m\u001b[1;33m:\u001b[0m\u001b[1;33m\u001b[0m\u001b[1;33m\u001b[0m\u001b[0m\n\u001b[1;32m---> 68\u001b[1;33m     \u001b[0mcoinFunc\u001b[0m\u001b[1;33m(\u001b[0m\u001b[0mcrypto\u001b[0m\u001b[1;33m,\u001b[0m \u001b[0myesterday\u001b[0m\u001b[1;33m)\u001b[0m\u001b[1;33m\u001b[0m\u001b[1;33m\u001b[0m\u001b[0m\n\u001b[0m\u001b[0;32m     69\u001b[0m \u001b[1;33m\u001b[0m\u001b[0m\n\u001b[0;32m     70\u001b[0m \u001b[0mdisplay\u001b[0m\u001b[1;33m(\u001b[0m\u001b[0mdf\u001b[0m\u001b[1;33m)\u001b[0m\u001b[1;33m\u001b[0m\u001b[1;33m\u001b[0m\u001b[0m\n",
      "\u001b[1;32m<ipython-input-15-449b82b8a99b>\u001b[0m in \u001b[0;36mcoinFunc\u001b[1;34m(currentCoin, date)\u001b[0m\n\u001b[0;32m     19\u001b[0m \u001b[1;31m#     display(r)\u001b[0m\u001b[1;33m\u001b[0m\u001b[1;33m\u001b[0m\u001b[1;33m\u001b[0m\u001b[0m\n\u001b[0;32m     20\u001b[0m     \u001b[1;31m#     print(r)\u001b[0m\u001b[1;33m\u001b[0m\u001b[1;33m\u001b[0m\u001b[1;33m\u001b[0m\u001b[0m\n\u001b[1;32m---> 21\u001b[1;33m     \u001b[0mcoin_id\u001b[0m \u001b[1;33m=\u001b[0m \u001b[0mr\u001b[0m\u001b[1;33m[\u001b[0m\u001b[1;34m'id'\u001b[0m\u001b[1;33m]\u001b[0m\u001b[1;33m\u001b[0m\u001b[1;33m\u001b[0m\u001b[0m\n\u001b[0m\u001b[0;32m     22\u001b[0m     \u001b[0mcoin_symbol\u001b[0m \u001b[1;33m=\u001b[0m \u001b[0mr\u001b[0m\u001b[1;33m[\u001b[0m\u001b[1;34m'symbol'\u001b[0m\u001b[1;33m]\u001b[0m\u001b[1;33m\u001b[0m\u001b[1;33m\u001b[0m\u001b[0m\n\u001b[0;32m     23\u001b[0m \u001b[1;33m\u001b[0m\u001b[0m\n",
      "\u001b[1;31mKeyError\u001b[0m: 'id'"
     ]
    }
   ],
   "source": [
    "#BUILDS DATAFRAME FOR COMMUNITY DATA\n",
    "columns = ['id', 'symbol', 'price', 'mkt_cap', 'vol', 'reddit_posts_48h', 'reddit_comments_48h', 'reddit accounts_48h', 'forks', 'stars', 'contributors', 'commits', 'twitter_followers', 'alexa_rank']\n",
    "df = pd.DataFrame(columns = columns)\n",
    "# display(df)\n",
    "today = datetime.datetime.now()\n",
    "yesterday = today -timedelta(days = 2)\n",
    "yesterday = yesterday.strftime(\"%d-%m-%Y\")\n",
    "# date = str(yesterday)\n",
    "date = yesterday\n",
    "# print('yesterday', yesterday)\n",
    "# print('date', date)\n",
    "\n",
    "def coinFunc(currentCoin, date): \n",
    "    coin= currentCoin\n",
    "    geckoReq = 'https://api.coingecko.com/api/v3/coins/'+coin+'/history?date='+date\n",
    "    priceReq = 'https://api.coingecko.com/api/v3/simple/price?ids=' + coin + '&vs_currencies=usd&include_market_cap=true&include_24hr_vol=true'\n",
    "    price = requests.get(priceReq).json()\n",
    "    r =requests.get(geckoReq).json()\n",
    "#     display(r)\n",
    "    #     print(r)\n",
    "    coin_id = r['id']\n",
    "    coin_symbol = r['symbol']\n",
    "\n",
    "    #price data\n",
    "    current_price = price[currentCoin]['usd']\n",
    "    mkt_cap = price[currentCoin]['usd_market_cap']\n",
    "    vol = price[currentCoin]['usd_24h_vol']\n",
    "\n",
    "    #reddit data\n",
    "    reddit_average_posts_48h = r['community_data']['reddit_average_posts_48h']\n",
    "    reddit_average_comments_48h = r['community_data']['reddit_average_comments_48h']\n",
    "    reddit_accounts_active_48h = r['community_data']['reddit_accounts_active_48h']\n",
    "    #github data\n",
    "    forks = r['developer_data']['forks']\n",
    "    stars = r['developer_data']['stars']\n",
    "    contributors = r['developer_data']['pull_request_contributors']\n",
    "    commits = r['developer_data']['commit_count_4_weeks']\n",
    "    twitter_followers = r['community_data']['twitter_followers']\n",
    "    alexa_rank = r['public_interest_stats']['alexa_rank']\n",
    "\n",
    "\n",
    "    dataInsert = [coin_id, coin_symbol, current_price, mkt_cap, vol, reddit_average_posts_48h, reddit_average_comments_48h, reddit_accounts_active_48h, forks, stars, contributors, commits, twitter_followers, alexa_rank]\n",
    "    # print(dataInsert)\n",
    "\n",
    "    df_length = len(df)\n",
    "    df.loc[df_length] = dataInsert\n",
    "    \n",
    "# coinFunc('audius', yesterday)    \n",
    "# display(df)\n",
    "# print(r)\n",
    "# print(r['developer_data'])\n",
    "# print(r['community_data'])\n",
    "# print(coin_price)\n",
    "\n",
    "theCoins = ['ethereum', 'bitcoin', 'binancecoin', 'solana', 'cardano', 'xrp', 'dogecoin', 'terra']\n",
    "trendingReq = 'https://api.coingecko.com/api/v3/search/trending'\n",
    "trends =requests.get(trendingReq).json()\n",
    "# print(r)\n",
    "# trending = []\n",
    "# #could be for 7 coins but lets just do top 5\n",
    "# for i in range(5):\n",
    "#     trendingCoin = trends['coins'][i]['item']['id']\n",
    "#     trending.append(trendingCoin)\n",
    "\n",
    "# theCoins.extend(trending)\n",
    "\n",
    "for crypto in theCoins:\n",
    "    coinFunc(crypto, yesterday)\n",
    "    \n",
    "display(df)\n",
    "myCoinsList = df['id'].tolist()\n",
    "print(myCoinsList)"
   ]
  },
  {
   "cell_type": "code",
   "execution_count": 10,
   "metadata": {},
   "outputs": [
    {
     "data": {
      "text/html": [
       "<div>\n",
       "<style scoped>\n",
       "    .dataframe tbody tr th:only-of-type {\n",
       "        vertical-align: middle;\n",
       "    }\n",
       "\n",
       "    .dataframe tbody tr th {\n",
       "        vertical-align: top;\n",
       "    }\n",
       "\n",
       "    .dataframe thead th {\n",
       "        text-align: right;\n",
       "    }\n",
       "</style>\n",
       "<table border=\"1\" class=\"dataframe\">\n",
       "  <thead>\n",
       "    <tr style=\"text-align: right;\">\n",
       "      <th></th>\n",
       "      <th>id</th>\n",
       "      <th>symbol</th>\n",
       "      <th>price</th>\n",
       "      <th>mkt_cap</th>\n",
       "      <th>vol</th>\n",
       "      <th>reddit_posts_48h</th>\n",
       "      <th>reddit_comments_48h</th>\n",
       "      <th>reddit accounts_48h</th>\n",
       "      <th>forks</th>\n",
       "      <th>stars</th>\n",
       "      <th>contributors</th>\n",
       "      <th>twitter_followers</th>\n",
       "      <th>alexa_rank</th>\n",
       "    </tr>\n",
       "  </thead>\n",
       "  <tbody>\n",
       "    <tr>\n",
       "      <th>0</th>\n",
       "      <td>ethereum</td>\n",
       "      <td>eth</td>\n",
       "      <td>4420.39</td>\n",
       "      <td>5.243481e+11</td>\n",
       "      <td>2.028228e+10</td>\n",
       "      <td>7.636</td>\n",
       "      <td>343.091</td>\n",
       "      <td>1203.75</td>\n",
       "      <td>None</td>\n",
       "      <td>None</td>\n",
       "      <td>None</td>\n",
       "      <td>None</td>\n",
       "      <td>3541</td>\n",
       "    </tr>\n",
       "    <tr>\n",
       "      <th>1</th>\n",
       "      <td>bitcoin</td>\n",
       "      <td>btc</td>\n",
       "      <td>50818.00</td>\n",
       "      <td>9.603928e+11</td>\n",
       "      <td>2.790181e+10</td>\n",
       "      <td>6.364</td>\n",
       "      <td>1282.545</td>\n",
       "      <td>5091.75</td>\n",
       "      <td>30758</td>\n",
       "      <td>59861</td>\n",
       "      <td>760</td>\n",
       "      <td>3933186</td>\n",
       "      <td>6000</td>\n",
       "    </tr>\n",
       "    <tr>\n",
       "      <th>2</th>\n",
       "      <td>binancecoin</td>\n",
       "      <td>bnb</td>\n",
       "      <td>594.92</td>\n",
       "      <td>1.002279e+11</td>\n",
       "      <td>2.084154e+09</td>\n",
       "      <td>8.091</td>\n",
       "      <td>204.636</td>\n",
       "      <td>693.75</td>\n",
       "      <td>None</td>\n",
       "      <td>None</td>\n",
       "      <td>None</td>\n",
       "      <td>None</td>\n",
       "      <td>109</td>\n",
       "    </tr>\n",
       "    <tr>\n",
       "      <th>3</th>\n",
       "      <td>solana</td>\n",
       "      <td>sol</td>\n",
       "      <td>194.21</td>\n",
       "      <td>5.979471e+10</td>\n",
       "      <td>2.260233e+09</td>\n",
       "      <td>8.636</td>\n",
       "      <td>142.545</td>\n",
       "      <td>414.583333333333</td>\n",
       "      <td>1163</td>\n",
       "      <td>5947</td>\n",
       "      <td>214</td>\n",
       "      <td>1067230</td>\n",
       "      <td>3321</td>\n",
       "    </tr>\n",
       "    <tr>\n",
       "      <th>4</th>\n",
       "      <td>polkadot</td>\n",
       "      <td>dot</td>\n",
       "      <td>29.63</td>\n",
       "      <td>3.152380e+10</td>\n",
       "      <td>1.306569e+09</td>\n",
       "      <td>1.636</td>\n",
       "      <td>17.182</td>\n",
       "      <td>88.5</td>\n",
       "      <td>1011</td>\n",
       "      <td>4838</td>\n",
       "      <td>143</td>\n",
       "      <td>None</td>\n",
       "      <td>13319</td>\n",
       "    </tr>\n",
       "  </tbody>\n",
       "</table>\n",
       "</div>"
      ],
      "text/plain": [
       "            id symbol     price       mkt_cap           vol  reddit_posts_48h  \\\n",
       "0     ethereum    eth   4420.39  5.243481e+11  2.028228e+10             7.636   \n",
       "1      bitcoin    btc  50818.00  9.603928e+11  2.790181e+10             6.364   \n",
       "2  binancecoin    bnb    594.92  1.002279e+11  2.084154e+09             8.091   \n",
       "3       solana    sol    194.21  5.979471e+10  2.260233e+09             8.636   \n",
       "4     polkadot    dot     29.63  3.152380e+10  1.306569e+09             1.636   \n",
       "\n",
       "   reddit_comments_48h reddit accounts_48h  forks  stars contributors  \\\n",
       "0              343.091             1203.75   None   None         None   \n",
       "1             1282.545             5091.75  30758  59861          760   \n",
       "2              204.636              693.75   None   None         None   \n",
       "3              142.545    414.583333333333   1163   5947          214   \n",
       "4               17.182                88.5   1011   4838          143   \n",
       "\n",
       "  twitter_followers alexa_rank  \n",
       "0              None       3541  \n",
       "1           3933186       6000  \n",
       "2              None        109  \n",
       "3           1067230       3321  \n",
       "4              None      13319  "
      ]
     },
     "metadata": {},
     "output_type": "display_data"
    },
    {
     "data": {
      "application/vnd.plotly.v1+json": {
       "config": {
        "plotlyServerURL": "https://plot.ly"
       },
       "data": [
        {
         "alignmentgroup": "True",
         "bingroup": "x",
         "histfunc": "sum",
         "hovertemplate": "token=%{x}<br>sum of reddit_comments_48h=%{y}<extra></extra>",
         "legendgroup": "",
         "marker": {
          "color": "#636efa",
          "pattern": {
           "shape": ""
          }
         },
         "name": "",
         "offsetgroup": "",
         "orientation": "v",
         "showlegend": false,
         "type": "histogram",
         "x": [
          "ethereum",
          "bitcoin",
          "binancecoin",
          "solana",
          "polkadot",
          "flow",
          "dogecoin",
          "audius"
         ],
         "xaxis": "x",
         "y": [
          343.091,
          1282.545,
          204.636,
          142.545,
          17.182,
          0,
          1343.727,
          9.273
         ],
         "yaxis": "y"
        }
       ],
       "layout": {
        "barmode": "relative",
        "legend": {
         "tracegroupgap": 0
        },
        "margin": {
         "t": 60
        },
        "template": {
         "data": {
          "bar": [
           {
            "error_x": {
             "color": "#2a3f5f"
            },
            "error_y": {
             "color": "#2a3f5f"
            },
            "marker": {
             "line": {
              "color": "#E5ECF6",
              "width": 0.5
             },
             "pattern": {
              "fillmode": "overlay",
              "size": 10,
              "solidity": 0.2
             }
            },
            "type": "bar"
           }
          ],
          "barpolar": [
           {
            "marker": {
             "line": {
              "color": "#E5ECF6",
              "width": 0.5
             },
             "pattern": {
              "fillmode": "overlay",
              "size": 10,
              "solidity": 0.2
             }
            },
            "type": "barpolar"
           }
          ],
          "carpet": [
           {
            "aaxis": {
             "endlinecolor": "#2a3f5f",
             "gridcolor": "white",
             "linecolor": "white",
             "minorgridcolor": "white",
             "startlinecolor": "#2a3f5f"
            },
            "baxis": {
             "endlinecolor": "#2a3f5f",
             "gridcolor": "white",
             "linecolor": "white",
             "minorgridcolor": "white",
             "startlinecolor": "#2a3f5f"
            },
            "type": "carpet"
           }
          ],
          "choropleth": [
           {
            "colorbar": {
             "outlinewidth": 0,
             "ticks": ""
            },
            "type": "choropleth"
           }
          ],
          "contour": [
           {
            "colorbar": {
             "outlinewidth": 0,
             "ticks": ""
            },
            "colorscale": [
             [
              0,
              "#0d0887"
             ],
             [
              0.1111111111111111,
              "#46039f"
             ],
             [
              0.2222222222222222,
              "#7201a8"
             ],
             [
              0.3333333333333333,
              "#9c179e"
             ],
             [
              0.4444444444444444,
              "#bd3786"
             ],
             [
              0.5555555555555556,
              "#d8576b"
             ],
             [
              0.6666666666666666,
              "#ed7953"
             ],
             [
              0.7777777777777778,
              "#fb9f3a"
             ],
             [
              0.8888888888888888,
              "#fdca26"
             ],
             [
              1,
              "#f0f921"
             ]
            ],
            "type": "contour"
           }
          ],
          "contourcarpet": [
           {
            "colorbar": {
             "outlinewidth": 0,
             "ticks": ""
            },
            "type": "contourcarpet"
           }
          ],
          "heatmap": [
           {
            "colorbar": {
             "outlinewidth": 0,
             "ticks": ""
            },
            "colorscale": [
             [
              0,
              "#0d0887"
             ],
             [
              0.1111111111111111,
              "#46039f"
             ],
             [
              0.2222222222222222,
              "#7201a8"
             ],
             [
              0.3333333333333333,
              "#9c179e"
             ],
             [
              0.4444444444444444,
              "#bd3786"
             ],
             [
              0.5555555555555556,
              "#d8576b"
             ],
             [
              0.6666666666666666,
              "#ed7953"
             ],
             [
              0.7777777777777778,
              "#fb9f3a"
             ],
             [
              0.8888888888888888,
              "#fdca26"
             ],
             [
              1,
              "#f0f921"
             ]
            ],
            "type": "heatmap"
           }
          ],
          "heatmapgl": [
           {
            "colorbar": {
             "outlinewidth": 0,
             "ticks": ""
            },
            "colorscale": [
             [
              0,
              "#0d0887"
             ],
             [
              0.1111111111111111,
              "#46039f"
             ],
             [
              0.2222222222222222,
              "#7201a8"
             ],
             [
              0.3333333333333333,
              "#9c179e"
             ],
             [
              0.4444444444444444,
              "#bd3786"
             ],
             [
              0.5555555555555556,
              "#d8576b"
             ],
             [
              0.6666666666666666,
              "#ed7953"
             ],
             [
              0.7777777777777778,
              "#fb9f3a"
             ],
             [
              0.8888888888888888,
              "#fdca26"
             ],
             [
              1,
              "#f0f921"
             ]
            ],
            "type": "heatmapgl"
           }
          ],
          "histogram": [
           {
            "marker": {
             "pattern": {
              "fillmode": "overlay",
              "size": 10,
              "solidity": 0.2
             }
            },
            "type": "histogram"
           }
          ],
          "histogram2d": [
           {
            "colorbar": {
             "outlinewidth": 0,
             "ticks": ""
            },
            "colorscale": [
             [
              0,
              "#0d0887"
             ],
             [
              0.1111111111111111,
              "#46039f"
             ],
             [
              0.2222222222222222,
              "#7201a8"
             ],
             [
              0.3333333333333333,
              "#9c179e"
             ],
             [
              0.4444444444444444,
              "#bd3786"
             ],
             [
              0.5555555555555556,
              "#d8576b"
             ],
             [
              0.6666666666666666,
              "#ed7953"
             ],
             [
              0.7777777777777778,
              "#fb9f3a"
             ],
             [
              0.8888888888888888,
              "#fdca26"
             ],
             [
              1,
              "#f0f921"
             ]
            ],
            "type": "histogram2d"
           }
          ],
          "histogram2dcontour": [
           {
            "colorbar": {
             "outlinewidth": 0,
             "ticks": ""
            },
            "colorscale": [
             [
              0,
              "#0d0887"
             ],
             [
              0.1111111111111111,
              "#46039f"
             ],
             [
              0.2222222222222222,
              "#7201a8"
             ],
             [
              0.3333333333333333,
              "#9c179e"
             ],
             [
              0.4444444444444444,
              "#bd3786"
             ],
             [
              0.5555555555555556,
              "#d8576b"
             ],
             [
              0.6666666666666666,
              "#ed7953"
             ],
             [
              0.7777777777777778,
              "#fb9f3a"
             ],
             [
              0.8888888888888888,
              "#fdca26"
             ],
             [
              1,
              "#f0f921"
             ]
            ],
            "type": "histogram2dcontour"
           }
          ],
          "mesh3d": [
           {
            "colorbar": {
             "outlinewidth": 0,
             "ticks": ""
            },
            "type": "mesh3d"
           }
          ],
          "parcoords": [
           {
            "line": {
             "colorbar": {
              "outlinewidth": 0,
              "ticks": ""
             }
            },
            "type": "parcoords"
           }
          ],
          "pie": [
           {
            "automargin": true,
            "type": "pie"
           }
          ],
          "scatter": [
           {
            "marker": {
             "colorbar": {
              "outlinewidth": 0,
              "ticks": ""
             }
            },
            "type": "scatter"
           }
          ],
          "scatter3d": [
           {
            "line": {
             "colorbar": {
              "outlinewidth": 0,
              "ticks": ""
             }
            },
            "marker": {
             "colorbar": {
              "outlinewidth": 0,
              "ticks": ""
             }
            },
            "type": "scatter3d"
           }
          ],
          "scattercarpet": [
           {
            "marker": {
             "colorbar": {
              "outlinewidth": 0,
              "ticks": ""
             }
            },
            "type": "scattercarpet"
           }
          ],
          "scattergeo": [
           {
            "marker": {
             "colorbar": {
              "outlinewidth": 0,
              "ticks": ""
             }
            },
            "type": "scattergeo"
           }
          ],
          "scattergl": [
           {
            "marker": {
             "colorbar": {
              "outlinewidth": 0,
              "ticks": ""
             }
            },
            "type": "scattergl"
           }
          ],
          "scattermapbox": [
           {
            "marker": {
             "colorbar": {
              "outlinewidth": 0,
              "ticks": ""
             }
            },
            "type": "scattermapbox"
           }
          ],
          "scatterpolar": [
           {
            "marker": {
             "colorbar": {
              "outlinewidth": 0,
              "ticks": ""
             }
            },
            "type": "scatterpolar"
           }
          ],
          "scatterpolargl": [
           {
            "marker": {
             "colorbar": {
              "outlinewidth": 0,
              "ticks": ""
             }
            },
            "type": "scatterpolargl"
           }
          ],
          "scatterternary": [
           {
            "marker": {
             "colorbar": {
              "outlinewidth": 0,
              "ticks": ""
             }
            },
            "type": "scatterternary"
           }
          ],
          "surface": [
           {
            "colorbar": {
             "outlinewidth": 0,
             "ticks": ""
            },
            "colorscale": [
             [
              0,
              "#0d0887"
             ],
             [
              0.1111111111111111,
              "#46039f"
             ],
             [
              0.2222222222222222,
              "#7201a8"
             ],
             [
              0.3333333333333333,
              "#9c179e"
             ],
             [
              0.4444444444444444,
              "#bd3786"
             ],
             [
              0.5555555555555556,
              "#d8576b"
             ],
             [
              0.6666666666666666,
              "#ed7953"
             ],
             [
              0.7777777777777778,
              "#fb9f3a"
             ],
             [
              0.8888888888888888,
              "#fdca26"
             ],
             [
              1,
              "#f0f921"
             ]
            ],
            "type": "surface"
           }
          ],
          "table": [
           {
            "cells": {
             "fill": {
              "color": "#EBF0F8"
             },
             "line": {
              "color": "white"
             }
            },
            "header": {
             "fill": {
              "color": "#C8D4E3"
             },
             "line": {
              "color": "white"
             }
            },
            "type": "table"
           }
          ]
         },
         "layout": {
          "annotationdefaults": {
           "arrowcolor": "#2a3f5f",
           "arrowhead": 0,
           "arrowwidth": 1
          },
          "autotypenumbers": "strict",
          "coloraxis": {
           "colorbar": {
            "outlinewidth": 0,
            "ticks": ""
           }
          },
          "colorscale": {
           "diverging": [
            [
             0,
             "#8e0152"
            ],
            [
             0.1,
             "#c51b7d"
            ],
            [
             0.2,
             "#de77ae"
            ],
            [
             0.3,
             "#f1b6da"
            ],
            [
             0.4,
             "#fde0ef"
            ],
            [
             0.5,
             "#f7f7f7"
            ],
            [
             0.6,
             "#e6f5d0"
            ],
            [
             0.7,
             "#b8e186"
            ],
            [
             0.8,
             "#7fbc41"
            ],
            [
             0.9,
             "#4d9221"
            ],
            [
             1,
             "#276419"
            ]
           ],
           "sequential": [
            [
             0,
             "#0d0887"
            ],
            [
             0.1111111111111111,
             "#46039f"
            ],
            [
             0.2222222222222222,
             "#7201a8"
            ],
            [
             0.3333333333333333,
             "#9c179e"
            ],
            [
             0.4444444444444444,
             "#bd3786"
            ],
            [
             0.5555555555555556,
             "#d8576b"
            ],
            [
             0.6666666666666666,
             "#ed7953"
            ],
            [
             0.7777777777777778,
             "#fb9f3a"
            ],
            [
             0.8888888888888888,
             "#fdca26"
            ],
            [
             1,
             "#f0f921"
            ]
           ],
           "sequentialminus": [
            [
             0,
             "#0d0887"
            ],
            [
             0.1111111111111111,
             "#46039f"
            ],
            [
             0.2222222222222222,
             "#7201a8"
            ],
            [
             0.3333333333333333,
             "#9c179e"
            ],
            [
             0.4444444444444444,
             "#bd3786"
            ],
            [
             0.5555555555555556,
             "#d8576b"
            ],
            [
             0.6666666666666666,
             "#ed7953"
            ],
            [
             0.7777777777777778,
             "#fb9f3a"
            ],
            [
             0.8888888888888888,
             "#fdca26"
            ],
            [
             1,
             "#f0f921"
            ]
           ]
          },
          "colorway": [
           "#636efa",
           "#EF553B",
           "#00cc96",
           "#ab63fa",
           "#FFA15A",
           "#19d3f3",
           "#FF6692",
           "#B6E880",
           "#FF97FF",
           "#FECB52"
          ],
          "font": {
           "color": "#2a3f5f"
          },
          "geo": {
           "bgcolor": "white",
           "lakecolor": "white",
           "landcolor": "#E5ECF6",
           "showlakes": true,
           "showland": true,
           "subunitcolor": "white"
          },
          "hoverlabel": {
           "align": "left"
          },
          "hovermode": "closest",
          "mapbox": {
           "style": "light"
          },
          "paper_bgcolor": "white",
          "plot_bgcolor": "#E5ECF6",
          "polar": {
           "angularaxis": {
            "gridcolor": "white",
            "linecolor": "white",
            "ticks": ""
           },
           "bgcolor": "#E5ECF6",
           "radialaxis": {
            "gridcolor": "white",
            "linecolor": "white",
            "ticks": ""
           }
          },
          "scene": {
           "xaxis": {
            "backgroundcolor": "#E5ECF6",
            "gridcolor": "white",
            "gridwidth": 2,
            "linecolor": "white",
            "showbackground": true,
            "ticks": "",
            "zerolinecolor": "white"
           },
           "yaxis": {
            "backgroundcolor": "#E5ECF6",
            "gridcolor": "white",
            "gridwidth": 2,
            "linecolor": "white",
            "showbackground": true,
            "ticks": "",
            "zerolinecolor": "white"
           },
           "zaxis": {
            "backgroundcolor": "#E5ECF6",
            "gridcolor": "white",
            "gridwidth": 2,
            "linecolor": "white",
            "showbackground": true,
            "ticks": "",
            "zerolinecolor": "white"
           }
          },
          "shapedefaults": {
           "line": {
            "color": "#2a3f5f"
           }
          },
          "ternary": {
           "aaxis": {
            "gridcolor": "white",
            "linecolor": "white",
            "ticks": ""
           },
           "baxis": {
            "gridcolor": "white",
            "linecolor": "white",
            "ticks": ""
           },
           "bgcolor": "#E5ECF6",
           "caxis": {
            "gridcolor": "white",
            "linecolor": "white",
            "ticks": ""
           }
          },
          "title": {
           "x": 0.05
          },
          "xaxis": {
           "automargin": true,
           "gridcolor": "white",
           "linecolor": "white",
           "ticks": "",
           "title": {
            "standoff": 15
           },
           "zerolinecolor": "white",
           "zerolinewidth": 2
          },
          "yaxis": {
           "automargin": true,
           "gridcolor": "white",
           "linecolor": "white",
           "ticks": "",
           "title": {
            "standoff": 15
           },
           "zerolinecolor": "white",
           "zerolinewidth": 2
          }
         }
        },
        "xaxis": {
         "anchor": "y",
         "domain": [
          0,
          1
         ],
         "title": {
          "text": "token"
         }
        },
        "yaxis": {
         "anchor": "x",
         "domain": [
          0,
          1
         ],
         "title": {
          "text": "sum of reddit_comments_48h"
         }
        }
       }
      }
     },
     "metadata": {},
     "output_type": "display_data"
    }
   ],
   "source": [
    "### BUILDING REDDIT COMMENTS HTML GRAPH\n",
    "display(df.head(5))\n",
    "\n",
    "fig = px.histogram(df, x=df['id'], y=df['reddit_comments_48h'],\n",
    "                labels={\n",
    "                     \"sum of reddit_comments_48h\": \"Reddit Comments 48h\",\n",
    "                     \"id\": \"token\"\n",
    "#                      \"species\": \"Species of Iris\"\n",
    "                 },)\n",
    "py.offline.plot(fig, filename='geckoRedditComments.html')\n",
    "\n",
    "\n",
    "# print(tls.get_embed('https://plotly.com/~fooba/1'))\n",
    "fig.show()\n",
    "\n"
   ]
  },
  {
   "cell_type": "code",
   "execution_count": 11,
   "metadata": {},
   "outputs": [
    {
     "data": {
      "text/html": [
       "<div>\n",
       "<style scoped>\n",
       "    .dataframe tbody tr th:only-of-type {\n",
       "        vertical-align: middle;\n",
       "    }\n",
       "\n",
       "    .dataframe tbody tr th {\n",
       "        vertical-align: top;\n",
       "    }\n",
       "\n",
       "    .dataframe thead th {\n",
       "        text-align: right;\n",
       "    }\n",
       "</style>\n",
       "<table border=\"1\" class=\"dataframe\">\n",
       "  <thead>\n",
       "    <tr style=\"text-align: right;\">\n",
       "      <th></th>\n",
       "      <th>id</th>\n",
       "      <th>symbol</th>\n",
       "      <th>price</th>\n",
       "      <th>mkt_cap</th>\n",
       "      <th>vol</th>\n",
       "      <th>reddit_posts_48h</th>\n",
       "      <th>reddit_comments_48h</th>\n",
       "      <th>reddit accounts_48h</th>\n",
       "      <th>forks</th>\n",
       "      <th>stars</th>\n",
       "      <th>contributors</th>\n",
       "      <th>twitter_followers</th>\n",
       "      <th>alexa_rank</th>\n",
       "    </tr>\n",
       "  </thead>\n",
       "  <tbody>\n",
       "    <tr>\n",
       "      <th>0</th>\n",
       "      <td>ethereum</td>\n",
       "      <td>eth</td>\n",
       "      <td>4420.39</td>\n",
       "      <td>5.243481e+11</td>\n",
       "      <td>2.028228e+10</td>\n",
       "      <td>7.636</td>\n",
       "      <td>343.091</td>\n",
       "      <td>1203.75</td>\n",
       "      <td>None</td>\n",
       "      <td>None</td>\n",
       "      <td>None</td>\n",
       "      <td>None</td>\n",
       "      <td>3541</td>\n",
       "    </tr>\n",
       "    <tr>\n",
       "      <th>1</th>\n",
       "      <td>bitcoin</td>\n",
       "      <td>btc</td>\n",
       "      <td>50818.00</td>\n",
       "      <td>9.603928e+11</td>\n",
       "      <td>2.790181e+10</td>\n",
       "      <td>6.364</td>\n",
       "      <td>1282.545</td>\n",
       "      <td>5091.75</td>\n",
       "      <td>30758</td>\n",
       "      <td>59861</td>\n",
       "      <td>760</td>\n",
       "      <td>3933186</td>\n",
       "      <td>6000</td>\n",
       "    </tr>\n",
       "    <tr>\n",
       "      <th>2</th>\n",
       "      <td>binancecoin</td>\n",
       "      <td>bnb</td>\n",
       "      <td>594.92</td>\n",
       "      <td>1.002279e+11</td>\n",
       "      <td>2.084154e+09</td>\n",
       "      <td>8.091</td>\n",
       "      <td>204.636</td>\n",
       "      <td>693.75</td>\n",
       "      <td>None</td>\n",
       "      <td>None</td>\n",
       "      <td>None</td>\n",
       "      <td>None</td>\n",
       "      <td>109</td>\n",
       "    </tr>\n",
       "    <tr>\n",
       "      <th>3</th>\n",
       "      <td>solana</td>\n",
       "      <td>sol</td>\n",
       "      <td>194.21</td>\n",
       "      <td>5.979471e+10</td>\n",
       "      <td>2.260233e+09</td>\n",
       "      <td>8.636</td>\n",
       "      <td>142.545</td>\n",
       "      <td>414.583333333333</td>\n",
       "      <td>1163</td>\n",
       "      <td>5947</td>\n",
       "      <td>214</td>\n",
       "      <td>1067230</td>\n",
       "      <td>3321</td>\n",
       "    </tr>\n",
       "    <tr>\n",
       "      <th>4</th>\n",
       "      <td>polkadot</td>\n",
       "      <td>dot</td>\n",
       "      <td>29.63</td>\n",
       "      <td>3.152380e+10</td>\n",
       "      <td>1.306569e+09</td>\n",
       "      <td>1.636</td>\n",
       "      <td>17.182</td>\n",
       "      <td>88.5</td>\n",
       "      <td>1011</td>\n",
       "      <td>4838</td>\n",
       "      <td>143</td>\n",
       "      <td>None</td>\n",
       "      <td>13319</td>\n",
       "    </tr>\n",
       "  </tbody>\n",
       "</table>\n",
       "</div>"
      ],
      "text/plain": [
       "            id symbol     price       mkt_cap           vol  reddit_posts_48h  \\\n",
       "0     ethereum    eth   4420.39  5.243481e+11  2.028228e+10             7.636   \n",
       "1      bitcoin    btc  50818.00  9.603928e+11  2.790181e+10             6.364   \n",
       "2  binancecoin    bnb    594.92  1.002279e+11  2.084154e+09             8.091   \n",
       "3       solana    sol    194.21  5.979471e+10  2.260233e+09             8.636   \n",
       "4     polkadot    dot     29.63  3.152380e+10  1.306569e+09             1.636   \n",
       "\n",
       "   reddit_comments_48h reddit accounts_48h  forks  stars contributors  \\\n",
       "0              343.091             1203.75   None   None         None   \n",
       "1             1282.545             5091.75  30758  59861          760   \n",
       "2              204.636              693.75   None   None         None   \n",
       "3              142.545    414.583333333333   1163   5947          214   \n",
       "4               17.182                88.5   1011   4838          143   \n",
       "\n",
       "  twitter_followers alexa_rank  \n",
       "0              None       3541  \n",
       "1           3933186       6000  \n",
       "2              None        109  \n",
       "3           1067230       3321  \n",
       "4              None      13319  "
      ]
     },
     "metadata": {},
     "output_type": "display_data"
    },
    {
     "data": {
      "application/vnd.plotly.v1+json": {
       "config": {
        "plotlyServerURL": "https://plot.ly"
       },
       "data": [
        {
         "hovertemplate": "token=%{x}<br>twitter_followers=%{y}<extra></extra>",
         "legendgroup": "",
         "marker": {
          "color": "#636efa",
          "symbol": "circle"
         },
         "mode": "markers",
         "name": "",
         "orientation": "v",
         "showlegend": false,
         "type": "scatter",
         "x": [
          "ethereum",
          "bitcoin",
          "binancecoin",
          "solana",
          "polkadot",
          "flow",
          "dogecoin",
          "audius"
         ],
         "xaxis": "x",
         "y": [
          null,
          3933186,
          null,
          1067230,
          null,
          null,
          2616195,
          null
         ],
         "yaxis": "y"
        }
       ],
       "layout": {
        "legend": {
         "tracegroupgap": 0
        },
        "margin": {
         "t": 60
        },
        "template": {
         "data": {
          "bar": [
           {
            "error_x": {
             "color": "#2a3f5f"
            },
            "error_y": {
             "color": "#2a3f5f"
            },
            "marker": {
             "line": {
              "color": "#E5ECF6",
              "width": 0.5
             },
             "pattern": {
              "fillmode": "overlay",
              "size": 10,
              "solidity": 0.2
             }
            },
            "type": "bar"
           }
          ],
          "barpolar": [
           {
            "marker": {
             "line": {
              "color": "#E5ECF6",
              "width": 0.5
             },
             "pattern": {
              "fillmode": "overlay",
              "size": 10,
              "solidity": 0.2
             }
            },
            "type": "barpolar"
           }
          ],
          "carpet": [
           {
            "aaxis": {
             "endlinecolor": "#2a3f5f",
             "gridcolor": "white",
             "linecolor": "white",
             "minorgridcolor": "white",
             "startlinecolor": "#2a3f5f"
            },
            "baxis": {
             "endlinecolor": "#2a3f5f",
             "gridcolor": "white",
             "linecolor": "white",
             "minorgridcolor": "white",
             "startlinecolor": "#2a3f5f"
            },
            "type": "carpet"
           }
          ],
          "choropleth": [
           {
            "colorbar": {
             "outlinewidth": 0,
             "ticks": ""
            },
            "type": "choropleth"
           }
          ],
          "contour": [
           {
            "colorbar": {
             "outlinewidth": 0,
             "ticks": ""
            },
            "colorscale": [
             [
              0,
              "#0d0887"
             ],
             [
              0.1111111111111111,
              "#46039f"
             ],
             [
              0.2222222222222222,
              "#7201a8"
             ],
             [
              0.3333333333333333,
              "#9c179e"
             ],
             [
              0.4444444444444444,
              "#bd3786"
             ],
             [
              0.5555555555555556,
              "#d8576b"
             ],
             [
              0.6666666666666666,
              "#ed7953"
             ],
             [
              0.7777777777777778,
              "#fb9f3a"
             ],
             [
              0.8888888888888888,
              "#fdca26"
             ],
             [
              1,
              "#f0f921"
             ]
            ],
            "type": "contour"
           }
          ],
          "contourcarpet": [
           {
            "colorbar": {
             "outlinewidth": 0,
             "ticks": ""
            },
            "type": "contourcarpet"
           }
          ],
          "heatmap": [
           {
            "colorbar": {
             "outlinewidth": 0,
             "ticks": ""
            },
            "colorscale": [
             [
              0,
              "#0d0887"
             ],
             [
              0.1111111111111111,
              "#46039f"
             ],
             [
              0.2222222222222222,
              "#7201a8"
             ],
             [
              0.3333333333333333,
              "#9c179e"
             ],
             [
              0.4444444444444444,
              "#bd3786"
             ],
             [
              0.5555555555555556,
              "#d8576b"
             ],
             [
              0.6666666666666666,
              "#ed7953"
             ],
             [
              0.7777777777777778,
              "#fb9f3a"
             ],
             [
              0.8888888888888888,
              "#fdca26"
             ],
             [
              1,
              "#f0f921"
             ]
            ],
            "type": "heatmap"
           }
          ],
          "heatmapgl": [
           {
            "colorbar": {
             "outlinewidth": 0,
             "ticks": ""
            },
            "colorscale": [
             [
              0,
              "#0d0887"
             ],
             [
              0.1111111111111111,
              "#46039f"
             ],
             [
              0.2222222222222222,
              "#7201a8"
             ],
             [
              0.3333333333333333,
              "#9c179e"
             ],
             [
              0.4444444444444444,
              "#bd3786"
             ],
             [
              0.5555555555555556,
              "#d8576b"
             ],
             [
              0.6666666666666666,
              "#ed7953"
             ],
             [
              0.7777777777777778,
              "#fb9f3a"
             ],
             [
              0.8888888888888888,
              "#fdca26"
             ],
             [
              1,
              "#f0f921"
             ]
            ],
            "type": "heatmapgl"
           }
          ],
          "histogram": [
           {
            "marker": {
             "pattern": {
              "fillmode": "overlay",
              "size": 10,
              "solidity": 0.2
             }
            },
            "type": "histogram"
           }
          ],
          "histogram2d": [
           {
            "colorbar": {
             "outlinewidth": 0,
             "ticks": ""
            },
            "colorscale": [
             [
              0,
              "#0d0887"
             ],
             [
              0.1111111111111111,
              "#46039f"
             ],
             [
              0.2222222222222222,
              "#7201a8"
             ],
             [
              0.3333333333333333,
              "#9c179e"
             ],
             [
              0.4444444444444444,
              "#bd3786"
             ],
             [
              0.5555555555555556,
              "#d8576b"
             ],
             [
              0.6666666666666666,
              "#ed7953"
             ],
             [
              0.7777777777777778,
              "#fb9f3a"
             ],
             [
              0.8888888888888888,
              "#fdca26"
             ],
             [
              1,
              "#f0f921"
             ]
            ],
            "type": "histogram2d"
           }
          ],
          "histogram2dcontour": [
           {
            "colorbar": {
             "outlinewidth": 0,
             "ticks": ""
            },
            "colorscale": [
             [
              0,
              "#0d0887"
             ],
             [
              0.1111111111111111,
              "#46039f"
             ],
             [
              0.2222222222222222,
              "#7201a8"
             ],
             [
              0.3333333333333333,
              "#9c179e"
             ],
             [
              0.4444444444444444,
              "#bd3786"
             ],
             [
              0.5555555555555556,
              "#d8576b"
             ],
             [
              0.6666666666666666,
              "#ed7953"
             ],
             [
              0.7777777777777778,
              "#fb9f3a"
             ],
             [
              0.8888888888888888,
              "#fdca26"
             ],
             [
              1,
              "#f0f921"
             ]
            ],
            "type": "histogram2dcontour"
           }
          ],
          "mesh3d": [
           {
            "colorbar": {
             "outlinewidth": 0,
             "ticks": ""
            },
            "type": "mesh3d"
           }
          ],
          "parcoords": [
           {
            "line": {
             "colorbar": {
              "outlinewidth": 0,
              "ticks": ""
             }
            },
            "type": "parcoords"
           }
          ],
          "pie": [
           {
            "automargin": true,
            "type": "pie"
           }
          ],
          "scatter": [
           {
            "marker": {
             "colorbar": {
              "outlinewidth": 0,
              "ticks": ""
             }
            },
            "type": "scatter"
           }
          ],
          "scatter3d": [
           {
            "line": {
             "colorbar": {
              "outlinewidth": 0,
              "ticks": ""
             }
            },
            "marker": {
             "colorbar": {
              "outlinewidth": 0,
              "ticks": ""
             }
            },
            "type": "scatter3d"
           }
          ],
          "scattercarpet": [
           {
            "marker": {
             "colorbar": {
              "outlinewidth": 0,
              "ticks": ""
             }
            },
            "type": "scattercarpet"
           }
          ],
          "scattergeo": [
           {
            "marker": {
             "colorbar": {
              "outlinewidth": 0,
              "ticks": ""
             }
            },
            "type": "scattergeo"
           }
          ],
          "scattergl": [
           {
            "marker": {
             "colorbar": {
              "outlinewidth": 0,
              "ticks": ""
             }
            },
            "type": "scattergl"
           }
          ],
          "scattermapbox": [
           {
            "marker": {
             "colorbar": {
              "outlinewidth": 0,
              "ticks": ""
             }
            },
            "type": "scattermapbox"
           }
          ],
          "scatterpolar": [
           {
            "marker": {
             "colorbar": {
              "outlinewidth": 0,
              "ticks": ""
             }
            },
            "type": "scatterpolar"
           }
          ],
          "scatterpolargl": [
           {
            "marker": {
             "colorbar": {
              "outlinewidth": 0,
              "ticks": ""
             }
            },
            "type": "scatterpolargl"
           }
          ],
          "scatterternary": [
           {
            "marker": {
             "colorbar": {
              "outlinewidth": 0,
              "ticks": ""
             }
            },
            "type": "scatterternary"
           }
          ],
          "surface": [
           {
            "colorbar": {
             "outlinewidth": 0,
             "ticks": ""
            },
            "colorscale": [
             [
              0,
              "#0d0887"
             ],
             [
              0.1111111111111111,
              "#46039f"
             ],
             [
              0.2222222222222222,
              "#7201a8"
             ],
             [
              0.3333333333333333,
              "#9c179e"
             ],
             [
              0.4444444444444444,
              "#bd3786"
             ],
             [
              0.5555555555555556,
              "#d8576b"
             ],
             [
              0.6666666666666666,
              "#ed7953"
             ],
             [
              0.7777777777777778,
              "#fb9f3a"
             ],
             [
              0.8888888888888888,
              "#fdca26"
             ],
             [
              1,
              "#f0f921"
             ]
            ],
            "type": "surface"
           }
          ],
          "table": [
           {
            "cells": {
             "fill": {
              "color": "#EBF0F8"
             },
             "line": {
              "color": "white"
             }
            },
            "header": {
             "fill": {
              "color": "#C8D4E3"
             },
             "line": {
              "color": "white"
             }
            },
            "type": "table"
           }
          ]
         },
         "layout": {
          "annotationdefaults": {
           "arrowcolor": "#2a3f5f",
           "arrowhead": 0,
           "arrowwidth": 1
          },
          "autotypenumbers": "strict",
          "coloraxis": {
           "colorbar": {
            "outlinewidth": 0,
            "ticks": ""
           }
          },
          "colorscale": {
           "diverging": [
            [
             0,
             "#8e0152"
            ],
            [
             0.1,
             "#c51b7d"
            ],
            [
             0.2,
             "#de77ae"
            ],
            [
             0.3,
             "#f1b6da"
            ],
            [
             0.4,
             "#fde0ef"
            ],
            [
             0.5,
             "#f7f7f7"
            ],
            [
             0.6,
             "#e6f5d0"
            ],
            [
             0.7,
             "#b8e186"
            ],
            [
             0.8,
             "#7fbc41"
            ],
            [
             0.9,
             "#4d9221"
            ],
            [
             1,
             "#276419"
            ]
           ],
           "sequential": [
            [
             0,
             "#0d0887"
            ],
            [
             0.1111111111111111,
             "#46039f"
            ],
            [
             0.2222222222222222,
             "#7201a8"
            ],
            [
             0.3333333333333333,
             "#9c179e"
            ],
            [
             0.4444444444444444,
             "#bd3786"
            ],
            [
             0.5555555555555556,
             "#d8576b"
            ],
            [
             0.6666666666666666,
             "#ed7953"
            ],
            [
             0.7777777777777778,
             "#fb9f3a"
            ],
            [
             0.8888888888888888,
             "#fdca26"
            ],
            [
             1,
             "#f0f921"
            ]
           ],
           "sequentialminus": [
            [
             0,
             "#0d0887"
            ],
            [
             0.1111111111111111,
             "#46039f"
            ],
            [
             0.2222222222222222,
             "#7201a8"
            ],
            [
             0.3333333333333333,
             "#9c179e"
            ],
            [
             0.4444444444444444,
             "#bd3786"
            ],
            [
             0.5555555555555556,
             "#d8576b"
            ],
            [
             0.6666666666666666,
             "#ed7953"
            ],
            [
             0.7777777777777778,
             "#fb9f3a"
            ],
            [
             0.8888888888888888,
             "#fdca26"
            ],
            [
             1,
             "#f0f921"
            ]
           ]
          },
          "colorway": [
           "#636efa",
           "#EF553B",
           "#00cc96",
           "#ab63fa",
           "#FFA15A",
           "#19d3f3",
           "#FF6692",
           "#B6E880",
           "#FF97FF",
           "#FECB52"
          ],
          "font": {
           "color": "#2a3f5f"
          },
          "geo": {
           "bgcolor": "white",
           "lakecolor": "white",
           "landcolor": "#E5ECF6",
           "showlakes": true,
           "showland": true,
           "subunitcolor": "white"
          },
          "hoverlabel": {
           "align": "left"
          },
          "hovermode": "closest",
          "mapbox": {
           "style": "light"
          },
          "paper_bgcolor": "white",
          "plot_bgcolor": "#E5ECF6",
          "polar": {
           "angularaxis": {
            "gridcolor": "white",
            "linecolor": "white",
            "ticks": ""
           },
           "bgcolor": "#E5ECF6",
           "radialaxis": {
            "gridcolor": "white",
            "linecolor": "white",
            "ticks": ""
           }
          },
          "scene": {
           "xaxis": {
            "backgroundcolor": "#E5ECF6",
            "gridcolor": "white",
            "gridwidth": 2,
            "linecolor": "white",
            "showbackground": true,
            "ticks": "",
            "zerolinecolor": "white"
           },
           "yaxis": {
            "backgroundcolor": "#E5ECF6",
            "gridcolor": "white",
            "gridwidth": 2,
            "linecolor": "white",
            "showbackground": true,
            "ticks": "",
            "zerolinecolor": "white"
           },
           "zaxis": {
            "backgroundcolor": "#E5ECF6",
            "gridcolor": "white",
            "gridwidth": 2,
            "linecolor": "white",
            "showbackground": true,
            "ticks": "",
            "zerolinecolor": "white"
           }
          },
          "shapedefaults": {
           "line": {
            "color": "#2a3f5f"
           }
          },
          "ternary": {
           "aaxis": {
            "gridcolor": "white",
            "linecolor": "white",
            "ticks": ""
           },
           "baxis": {
            "gridcolor": "white",
            "linecolor": "white",
            "ticks": ""
           },
           "bgcolor": "#E5ECF6",
           "caxis": {
            "gridcolor": "white",
            "linecolor": "white",
            "ticks": ""
           }
          },
          "title": {
           "x": 0.05
          },
          "xaxis": {
           "automargin": true,
           "gridcolor": "white",
           "linecolor": "white",
           "ticks": "",
           "title": {
            "standoff": 15
           },
           "zerolinecolor": "white",
           "zerolinewidth": 2
          },
          "yaxis": {
           "automargin": true,
           "gridcolor": "white",
           "linecolor": "white",
           "ticks": "",
           "title": {
            "standoff": 15
           },
           "zerolinecolor": "white",
           "zerolinewidth": 2
          }
         }
        },
        "xaxis": {
         "anchor": "y",
         "domain": [
          0,
          1
         ],
         "title": {
          "text": "token"
         }
        },
        "yaxis": {
         "anchor": "x",
         "domain": [
          0,
          1
         ],
         "title": {
          "text": "twitter_followers"
         }
        }
       }
      }
     },
     "metadata": {},
     "output_type": "display_data"
    }
   ],
   "source": [
    "### BUILDING REDDIT COMMENTS HTML GRAPH\n",
    "display(df.head(5))\n",
    "\n",
    "fig = px.scatter(df, x=df['id'], y=df['twitter_followers'],\n",
    "                labels={\n",
    "                     \"sum of twitter_followers\": \"twitter_followers\",\n",
    "                     \"id\": \"token\"\n",
    "#                      \"species\": \"Species of Iris\"\n",
    "                 },)\n",
    "py.offline.plot(fig, filename='twitter_followers.html')\n",
    "\n",
    "\n",
    "# print(tls.get_embed('https://plotly.com/~fooba/1'))\n",
    "fig.show()\n"
   ]
  },
  {
   "cell_type": "code",
   "execution_count": 12,
   "metadata": {},
   "outputs": [
    {
     "name": "stdout",
     "output_type": "stream",
     "text": [
      "         dates\n",
      "0   09-10-2021\n",
      "1   10-10-2021\n",
      "2   11-10-2021\n",
      "3   12-10-2021\n",
      "4   13-10-2021\n",
      "..         ...\n",
      "56  04-12-2021\n",
      "57  05-12-2021\n",
      "58  06-12-2021\n",
      "59  07-12-2021\n",
      "60  08-12-2021\n",
      "\n",
      "[61 rows x 1 columns]\n",
      "09-10-2021\n",
      "just added:  ethereum\n"
     ]
    },
    {
     "ename": "JSONDecodeError",
     "evalue": "Expecting value: line 1 column 1 (char 0)",
     "output_type": "error",
     "traceback": [
      "\u001b[1;31m---------------------------------------------------------------------------\u001b[0m",
      "\u001b[1;31mJSONDecodeError\u001b[0m                           Traceback (most recent call last)",
      "\u001b[1;32m<ipython-input-12-0e3093a0df93>\u001b[0m in \u001b[0;36m<module>\u001b[1;34m\u001b[0m\n\u001b[0;32m     56\u001b[0m \u001b[1;33m\u001b[0m\u001b[0m\n\u001b[0;32m     57\u001b[0m \u001b[1;32mfor\u001b[0m \u001b[0mi\u001b[0m \u001b[1;32min\u001b[0m \u001b[0mmyCoinsList\u001b[0m\u001b[1;33m:\u001b[0m\u001b[1;33m\u001b[0m\u001b[1;33m\u001b[0m\u001b[0m\n\u001b[1;32m---> 58\u001b[1;33m     \u001b[0mhistoricalCoinPrices\u001b[0m\u001b[1;33m(\u001b[0m\u001b[0mi\u001b[0m\u001b[1;33m)\u001b[0m\u001b[1;33m\u001b[0m\u001b[1;33m\u001b[0m\u001b[0m\n\u001b[0m\u001b[0;32m     59\u001b[0m     \u001b[0mprint\u001b[0m\u001b[1;33m(\u001b[0m\u001b[1;34m'just added: '\u001b[0m\u001b[1;33m,\u001b[0m \u001b[0mi\u001b[0m\u001b[1;33m)\u001b[0m\u001b[1;33m\u001b[0m\u001b[1;33m\u001b[0m\u001b[0m\n\u001b[0;32m     60\u001b[0m \u001b[1;33m\u001b[0m\u001b[0m\n",
      "\u001b[1;32m<ipython-input-12-0e3093a0df93>\u001b[0m in \u001b[0;36mhistoricalCoinPrices\u001b[1;34m(coin)\u001b[0m\n\u001b[0;32m     34\u001b[0m     \u001b[0mgeckoReq\u001b[0m \u001b[1;33m=\u001b[0m \u001b[1;34m'https://api.coingecko.com/api/v3/coins/'\u001b[0m\u001b[1;33m+\u001b[0m\u001b[0mcoin\u001b[0m\u001b[1;33m+\u001b[0m\u001b[1;34m'/market_chart?vs_currency=usd&days=60&interval=daily'\u001b[0m\u001b[1;33m\u001b[0m\u001b[1;33m\u001b[0m\u001b[0m\n\u001b[0;32m     35\u001b[0m \u001b[1;33m\u001b[0m\u001b[0m\n\u001b[1;32m---> 36\u001b[1;33m     \u001b[0mr\u001b[0m \u001b[1;33m=\u001b[0m \u001b[0mrequests\u001b[0m\u001b[1;33m.\u001b[0m\u001b[0mget\u001b[0m\u001b[1;33m(\u001b[0m\u001b[0mgeckoReq\u001b[0m\u001b[1;33m)\u001b[0m\u001b[1;33m.\u001b[0m\u001b[0mjson\u001b[0m\u001b[1;33m(\u001b[0m\u001b[1;33m)\u001b[0m\u001b[1;33m\u001b[0m\u001b[1;33m\u001b[0m\u001b[0m\n\u001b[0m\u001b[0;32m     37\u001b[0m     \u001b[0mts\u001b[0m \u001b[1;33m=\u001b[0m \u001b[0mr\u001b[0m\u001b[1;33m[\u001b[0m\u001b[1;34m'prices'\u001b[0m\u001b[1;33m]\u001b[0m\u001b[1;33m[\u001b[0m\u001b[1;36m0\u001b[0m\u001b[1;33m]\u001b[0m\u001b[1;33m[\u001b[0m\u001b[1;36m0\u001b[0m\u001b[1;33m]\u001b[0m\u001b[1;33m\u001b[0m\u001b[1;33m\u001b[0m\u001b[0m\n\u001b[0;32m     38\u001b[0m     \u001b[1;31m# print(ts)\u001b[0m\u001b[1;33m\u001b[0m\u001b[1;33m\u001b[0m\u001b[1;33m\u001b[0m\u001b[0m\n",
      "\u001b[1;32m~\\anaconda3\\lib\\site-packages\\requests\\models.py\u001b[0m in \u001b[0;36mjson\u001b[1;34m(self, **kwargs)\u001b[0m\n\u001b[0;32m    898\u001b[0m                     \u001b[1;31m# used.\u001b[0m\u001b[1;33m\u001b[0m\u001b[1;33m\u001b[0m\u001b[1;33m\u001b[0m\u001b[0m\n\u001b[0;32m    899\u001b[0m                     \u001b[1;32mpass\u001b[0m\u001b[1;33m\u001b[0m\u001b[1;33m\u001b[0m\u001b[0m\n\u001b[1;32m--> 900\u001b[1;33m         \u001b[1;32mreturn\u001b[0m \u001b[0mcomplexjson\u001b[0m\u001b[1;33m.\u001b[0m\u001b[0mloads\u001b[0m\u001b[1;33m(\u001b[0m\u001b[0mself\u001b[0m\u001b[1;33m.\u001b[0m\u001b[0mtext\u001b[0m\u001b[1;33m,\u001b[0m \u001b[1;33m**\u001b[0m\u001b[0mkwargs\u001b[0m\u001b[1;33m)\u001b[0m\u001b[1;33m\u001b[0m\u001b[1;33m\u001b[0m\u001b[0m\n\u001b[0m\u001b[0;32m    901\u001b[0m \u001b[1;33m\u001b[0m\u001b[0m\n\u001b[0;32m    902\u001b[0m     \u001b[1;33m@\u001b[0m\u001b[0mproperty\u001b[0m\u001b[1;33m\u001b[0m\u001b[1;33m\u001b[0m\u001b[0m\n",
      "\u001b[1;32m~\\anaconda3\\lib\\json\\__init__.py\u001b[0m in \u001b[0;36mloads\u001b[1;34m(s, cls, object_hook, parse_float, parse_int, parse_constant, object_pairs_hook, **kw)\u001b[0m\n\u001b[0;32m    355\u001b[0m             \u001b[0mparse_int\u001b[0m \u001b[1;32mis\u001b[0m \u001b[1;32mNone\u001b[0m \u001b[1;32mand\u001b[0m \u001b[0mparse_float\u001b[0m \u001b[1;32mis\u001b[0m \u001b[1;32mNone\u001b[0m \u001b[1;32mand\u001b[0m\u001b[1;33m\u001b[0m\u001b[1;33m\u001b[0m\u001b[0m\n\u001b[0;32m    356\u001b[0m             parse_constant is None and object_pairs_hook is None and not kw):\n\u001b[1;32m--> 357\u001b[1;33m         \u001b[1;32mreturn\u001b[0m \u001b[0m_default_decoder\u001b[0m\u001b[1;33m.\u001b[0m\u001b[0mdecode\u001b[0m\u001b[1;33m(\u001b[0m\u001b[0ms\u001b[0m\u001b[1;33m)\u001b[0m\u001b[1;33m\u001b[0m\u001b[1;33m\u001b[0m\u001b[0m\n\u001b[0m\u001b[0;32m    358\u001b[0m     \u001b[1;32mif\u001b[0m \u001b[0mcls\u001b[0m \u001b[1;32mis\u001b[0m \u001b[1;32mNone\u001b[0m\u001b[1;33m:\u001b[0m\u001b[1;33m\u001b[0m\u001b[1;33m\u001b[0m\u001b[0m\n\u001b[0;32m    359\u001b[0m         \u001b[0mcls\u001b[0m \u001b[1;33m=\u001b[0m \u001b[0mJSONDecoder\u001b[0m\u001b[1;33m\u001b[0m\u001b[1;33m\u001b[0m\u001b[0m\n",
      "\u001b[1;32m~\\anaconda3\\lib\\json\\decoder.py\u001b[0m in \u001b[0;36mdecode\u001b[1;34m(self, s, _w)\u001b[0m\n\u001b[0;32m    335\u001b[0m \u001b[1;33m\u001b[0m\u001b[0m\n\u001b[0;32m    336\u001b[0m         \"\"\"\n\u001b[1;32m--> 337\u001b[1;33m         \u001b[0mobj\u001b[0m\u001b[1;33m,\u001b[0m \u001b[0mend\u001b[0m \u001b[1;33m=\u001b[0m \u001b[0mself\u001b[0m\u001b[1;33m.\u001b[0m\u001b[0mraw_decode\u001b[0m\u001b[1;33m(\u001b[0m\u001b[0ms\u001b[0m\u001b[1;33m,\u001b[0m \u001b[0midx\u001b[0m\u001b[1;33m=\u001b[0m\u001b[0m_w\u001b[0m\u001b[1;33m(\u001b[0m\u001b[0ms\u001b[0m\u001b[1;33m,\u001b[0m \u001b[1;36m0\u001b[0m\u001b[1;33m)\u001b[0m\u001b[1;33m.\u001b[0m\u001b[0mend\u001b[0m\u001b[1;33m(\u001b[0m\u001b[1;33m)\u001b[0m\u001b[1;33m)\u001b[0m\u001b[1;33m\u001b[0m\u001b[1;33m\u001b[0m\u001b[0m\n\u001b[0m\u001b[0;32m    338\u001b[0m         \u001b[0mend\u001b[0m \u001b[1;33m=\u001b[0m \u001b[0m_w\u001b[0m\u001b[1;33m(\u001b[0m\u001b[0ms\u001b[0m\u001b[1;33m,\u001b[0m \u001b[0mend\u001b[0m\u001b[1;33m)\u001b[0m\u001b[1;33m.\u001b[0m\u001b[0mend\u001b[0m\u001b[1;33m(\u001b[0m\u001b[1;33m)\u001b[0m\u001b[1;33m\u001b[0m\u001b[1;33m\u001b[0m\u001b[0m\n\u001b[0;32m    339\u001b[0m         \u001b[1;32mif\u001b[0m \u001b[0mend\u001b[0m \u001b[1;33m!=\u001b[0m \u001b[0mlen\u001b[0m\u001b[1;33m(\u001b[0m\u001b[0ms\u001b[0m\u001b[1;33m)\u001b[0m\u001b[1;33m:\u001b[0m\u001b[1;33m\u001b[0m\u001b[1;33m\u001b[0m\u001b[0m\n",
      "\u001b[1;32m~\\anaconda3\\lib\\json\\decoder.py\u001b[0m in \u001b[0;36mraw_decode\u001b[1;34m(self, s, idx)\u001b[0m\n\u001b[0;32m    353\u001b[0m             \u001b[0mobj\u001b[0m\u001b[1;33m,\u001b[0m \u001b[0mend\u001b[0m \u001b[1;33m=\u001b[0m \u001b[0mself\u001b[0m\u001b[1;33m.\u001b[0m\u001b[0mscan_once\u001b[0m\u001b[1;33m(\u001b[0m\u001b[0ms\u001b[0m\u001b[1;33m,\u001b[0m \u001b[0midx\u001b[0m\u001b[1;33m)\u001b[0m\u001b[1;33m\u001b[0m\u001b[1;33m\u001b[0m\u001b[0m\n\u001b[0;32m    354\u001b[0m         \u001b[1;32mexcept\u001b[0m \u001b[0mStopIteration\u001b[0m \u001b[1;32mas\u001b[0m \u001b[0merr\u001b[0m\u001b[1;33m:\u001b[0m\u001b[1;33m\u001b[0m\u001b[1;33m\u001b[0m\u001b[0m\n\u001b[1;32m--> 355\u001b[1;33m             \u001b[1;32mraise\u001b[0m \u001b[0mJSONDecodeError\u001b[0m\u001b[1;33m(\u001b[0m\u001b[1;34m\"Expecting value\"\u001b[0m\u001b[1;33m,\u001b[0m \u001b[0ms\u001b[0m\u001b[1;33m,\u001b[0m \u001b[0merr\u001b[0m\u001b[1;33m.\u001b[0m\u001b[0mvalue\u001b[0m\u001b[1;33m)\u001b[0m \u001b[1;32mfrom\u001b[0m \u001b[1;32mNone\u001b[0m\u001b[1;33m\u001b[0m\u001b[1;33m\u001b[0m\u001b[0m\n\u001b[0m\u001b[0;32m    356\u001b[0m         \u001b[1;32mreturn\u001b[0m \u001b[0mobj\u001b[0m\u001b[1;33m,\u001b[0m \u001b[0mend\u001b[0m\u001b[1;33m\u001b[0m\u001b[1;33m\u001b[0m\u001b[0m\n",
      "\u001b[1;31mJSONDecodeError\u001b[0m: Expecting value: line 1 column 1 (char 0)"
     ]
    }
   ],
   "source": [
    "#clean version of historic prices request\n",
    "#timestamps are in day-month-year\n",
    "import requests\n",
    "import datetime\n",
    "import pandas as pd\n",
    "from datetime import timedelta\n",
    "\n",
    "# dfPrices = pd.DataFrame()\n",
    "# geckoReq = 'https://api.coingecko.com/api/v3/coins/ethereum/market_chart?vs_currency=usd&days=60&interval=daily'\n",
    "geckoReq = 'https://api.coingecko.com/api/v3/coins/ethereum/market_chart?vs_currency=usd&days=60&interval=daily'\n",
    "\n",
    "r = requests.get(geckoReq).json()\n",
    "ts = r['prices'][0][0]\n",
    "ts = ts/1000\n",
    "HistPricesList = []\n",
    "for i in range(len(r['prices'])):\n",
    "    currentUnix = r['prices'][i][0] \n",
    "    price = r['prices'][i][1]\n",
    "    currentUnix = currentUnix/1000\n",
    "    currentTS = datetime.datetime.fromtimestamp(currentUnix).strftime(\"%d-%m-%Y\")\n",
    "    HistPricesList.append([currentTS])\n",
    "global dfPrices\n",
    "dfPrices = pd.DataFrame(HistPricesList, columns = ['dates'])\n",
    "print(dfPrices)\n",
    "\n",
    "# display(dfCoin)\n",
    "# print('dfprices')\n",
    "# display(dfPrices)\n",
    "\n",
    "# coin='ethereum'\n",
    "def historicalCoinPrices(coin):\n",
    "    global dfPrices\n",
    "    # geckoReq = 'https://api.coingecko.com/api/v3/coins/ethereum/market_chart?vs_currency=usd&days=60&interval=daily'\n",
    "    geckoReq = 'https://api.coingecko.com/api/v3/coins/'+coin+'/market_chart?vs_currency=usd&days=60&interval=daily'\n",
    "\n",
    "    r = requests.get(geckoReq).json()\n",
    "    ts = r['prices'][0][0]\n",
    "    # print(ts)\n",
    "    ts = ts/1000\n",
    "    print(datetime.datetime.fromtimestamp(ts).strftime(\"%d-%m-%Y\"))\n",
    "    # print('prices length',len(r['prices']))\n",
    "    HistPricesList = []\n",
    "    for i in range(len(r['prices'])):\n",
    "        currentUnix = r['prices'][i][0] \n",
    "        price = r['prices'][i][1]\n",
    "        currentUnix = currentUnix/1000\n",
    "        currentTS = datetime.datetime.fromtimestamp(currentUnix).strftime(\"%d-%m-%Y\")\n",
    "    #     print('price: ', price, 'TS: ', currentTS)\n",
    "        HistPricesList.append([currentTS, price])\n",
    "    #     currentUnix = currentTS\n",
    "#     print(HistPricesList)\n",
    "    dfCoin = pd.DataFrame(HistPricesList, columns = ['dates', coin])\n",
    "    # display(dfCoin)\n",
    "    dfPrices = pd.merge(dfPrices, dfCoin[coin], left_on = dfPrices['dates'], right_on=dfCoin['dates']).drop(['key_0'], axis = 1)\n",
    "    # display(dfPrices)\n",
    "\n",
    "for i in myCoinsList:\n",
    "    historicalCoinPrices(i)\n",
    "    print('just added: ', i)\n",
    "\n",
    "\n",
    "display(dfPrices.head(5))"
   ]
  },
  {
   "cell_type": "code",
   "execution_count": null,
   "metadata": {},
   "outputs": [
    {
     "data": {
      "text/html": [
       "<div>\n",
       "<style scoped>\n",
       "    .dataframe tbody tr th:only-of-type {\n",
       "        vertical-align: middle;\n",
       "    }\n",
       "\n",
       "    .dataframe tbody tr th {\n",
       "        vertical-align: top;\n",
       "    }\n",
       "\n",
       "    .dataframe thead th {\n",
       "        text-align: right;\n",
       "    }\n",
       "</style>\n",
       "<table border=\"1\" class=\"dataframe\">\n",
       "  <thead>\n",
       "    <tr style=\"text-align: right;\">\n",
       "      <th></th>\n",
       "      <th>ethereum</th>\n",
       "      <th>bitcoin</th>\n",
       "      <th>binancecoin</th>\n",
       "      <th>solana</th>\n",
       "      <th>polkadot</th>\n",
       "      <th>flow</th>\n",
       "      <th>dogecoin</th>\n",
       "      <th>audius</th>\n",
       "      <th>brokoli</th>\n",
       "      <th>cellframe</th>\n",
       "      <th>richquack</th>\n",
       "      <th>railgun</th>\n",
       "      <th>matic-network</th>\n",
       "    </tr>\n",
       "    <tr>\n",
       "      <th>dates</th>\n",
       "      <th></th>\n",
       "      <th></th>\n",
       "      <th></th>\n",
       "      <th></th>\n",
       "      <th></th>\n",
       "      <th></th>\n",
       "      <th></th>\n",
       "      <th></th>\n",
       "      <th></th>\n",
       "      <th></th>\n",
       "      <th></th>\n",
       "      <th></th>\n",
       "      <th></th>\n",
       "    </tr>\n",
       "  </thead>\n",
       "  <tbody>\n",
       "    <tr>\n",
       "      <th>09-10-2021</th>\n",
       "      <td>NaN</td>\n",
       "      <td>NaN</td>\n",
       "      <td>NaN</td>\n",
       "      <td>NaN</td>\n",
       "      <td>NaN</td>\n",
       "      <td>NaN</td>\n",
       "      <td>NaN</td>\n",
       "      <td>NaN</td>\n",
       "      <td>NaN</td>\n",
       "      <td>NaN</td>\n",
       "      <td>NaN</td>\n",
       "      <td>NaN</td>\n",
       "      <td>NaN</td>\n",
       "    </tr>\n",
       "    <tr>\n",
       "      <th>10-10-2021</th>\n",
       "      <td>-0.043773</td>\n",
       "      <td>-0.007503</td>\n",
       "      <td>-0.042581</td>\n",
       "      <td>-0.061265</td>\n",
       "      <td>-0.055829</td>\n",
       "      <td>-0.039292</td>\n",
       "      <td>-0.072280</td>\n",
       "      <td>-0.068157</td>\n",
       "      <td>-0.015886</td>\n",
       "      <td>-0.054261</td>\n",
       "      <td>0.008730</td>\n",
       "      <td>-0.074105</td>\n",
       "      <td>-0.077091</td>\n",
       "    </tr>\n",
       "    <tr>\n",
       "      <th>11-10-2021</th>\n",
       "      <td>0.031134</td>\n",
       "      <td>0.052286</td>\n",
       "      <td>0.021206</td>\n",
       "      <td>-0.019209</td>\n",
       "      <td>-0.006674</td>\n",
       "      <td>-0.018157</td>\n",
       "      <td>0.011613</td>\n",
       "      <td>0.023884</td>\n",
       "      <td>-0.081278</td>\n",
       "      <td>-0.017916</td>\n",
       "      <td>0.080064</td>\n",
       "      <td>-0.032748</td>\n",
       "      <td>-0.005899</td>\n",
       "    </tr>\n",
       "    <tr>\n",
       "      <th>12-10-2021</th>\n",
       "      <td>-0.011231</td>\n",
       "      <td>-0.021494</td>\n",
       "      <td>0.066512</td>\n",
       "      <td>0.049301</td>\n",
       "      <td>0.029803</td>\n",
       "      <td>-0.047677</td>\n",
       "      <td>-0.024184</td>\n",
       "      <td>-0.030948</td>\n",
       "      <td>0.155369</td>\n",
       "      <td>-0.104943</td>\n",
       "      <td>0.284806</td>\n",
       "      <td>-0.030728</td>\n",
       "      <td>-0.014201</td>\n",
       "    </tr>\n",
       "    <tr>\n",
       "      <th>13-10-2021</th>\n",
       "      <td>0.030744</td>\n",
       "      <td>0.020466</td>\n",
       "      <td>0.066319</td>\n",
       "      <td>-0.023742</td>\n",
       "      <td>0.187795</td>\n",
       "      <td>0.041626</td>\n",
       "      <td>0.028325</td>\n",
       "      <td>0.026601</td>\n",
       "      <td>0.092290</td>\n",
       "      <td>-0.037908</td>\n",
       "      <td>0.051568</td>\n",
       "      <td>0.015866</td>\n",
       "      <td>0.014779</td>\n",
       "    </tr>\n",
       "  </tbody>\n",
       "</table>\n",
       "</div>"
      ],
      "text/plain": [
       "            ethereum   bitcoin  binancecoin    solana  polkadot      flow  \\\n",
       "dates                                                                       \n",
       "09-10-2021       NaN       NaN          NaN       NaN       NaN       NaN   \n",
       "10-10-2021 -0.043773 -0.007503    -0.042581 -0.061265 -0.055829 -0.039292   \n",
       "11-10-2021  0.031134  0.052286     0.021206 -0.019209 -0.006674 -0.018157   \n",
       "12-10-2021 -0.011231 -0.021494     0.066512  0.049301  0.029803 -0.047677   \n",
       "13-10-2021  0.030744  0.020466     0.066319 -0.023742  0.187795  0.041626   \n",
       "\n",
       "            dogecoin    audius   brokoli  cellframe  richquack   railgun  \\\n",
       "dates                                                                      \n",
       "09-10-2021       NaN       NaN       NaN        NaN        NaN       NaN   \n",
       "10-10-2021 -0.072280 -0.068157 -0.015886  -0.054261   0.008730 -0.074105   \n",
       "11-10-2021  0.011613  0.023884 -0.081278  -0.017916   0.080064 -0.032748   \n",
       "12-10-2021 -0.024184 -0.030948  0.155369  -0.104943   0.284806 -0.030728   \n",
       "13-10-2021  0.028325  0.026601  0.092290  -0.037908   0.051568  0.015866   \n",
       "\n",
       "            matic-network  \n",
       "dates                      \n",
       "09-10-2021            NaN  \n",
       "10-10-2021      -0.077091  \n",
       "11-10-2021      -0.005899  \n",
       "12-10-2021      -0.014201  \n",
       "13-10-2021       0.014779  "
      ]
     },
     "metadata": {},
     "output_type": "display_data"
    },
    {
     "data": {
      "application/vnd.plotly.v1+json": {
       "config": {
        "plotlyServerURL": "https://plot.ly"
       },
       "data": [
        {
         "hovertemplate": "coin=ethereum<br>dates=%{x}<br>Percent Change=%{y}<extra></extra>",
         "legendgroup": "ethereum",
         "line": {
          "color": "#636efa",
          "dash": "solid"
         },
         "marker": {
          "symbol": "circle"
         },
         "mode": "lines",
         "name": "ethereum",
         "orientation": "v",
         "showlegend": true,
         "type": "scatter",
         "x": [
          "09-10-2021",
          "10-10-2021",
          "11-10-2021",
          "12-10-2021",
          "13-10-2021",
          "14-10-2021",
          "15-10-2021",
          "16-10-2021",
          "17-10-2021",
          "18-10-2021",
          "19-10-2021",
          "20-10-2021",
          "21-10-2021",
          "22-10-2021",
          "23-10-2021",
          "24-10-2021",
          "25-10-2021",
          "26-10-2021",
          "27-10-2021",
          "28-10-2021",
          "29-10-2021",
          "30-10-2021",
          "31-10-2021",
          "01-11-2021",
          "02-11-2021",
          "03-11-2021",
          "04-11-2021",
          "05-11-2021",
          "06-11-2021",
          "07-11-2021",
          "08-11-2021",
          "09-11-2021",
          "10-11-2021",
          "11-11-2021",
          "12-11-2021",
          "13-11-2021",
          "14-11-2021",
          "15-11-2021",
          "16-11-2021",
          "17-11-2021",
          "18-11-2021",
          "19-11-2021",
          "20-11-2021",
          "21-11-2021",
          "22-11-2021",
          "23-11-2021",
          "24-11-2021",
          "25-11-2021",
          "26-11-2021",
          "27-11-2021",
          "28-11-2021",
          "29-11-2021",
          "30-11-2021",
          "01-12-2021",
          "02-12-2021",
          "03-12-2021",
          "04-12-2021",
          "05-12-2021",
          "06-12-2021",
          "07-12-2021",
          "08-12-2021"
         ],
         "xaxis": "x",
         "y": [
          null,
          -0.04377315285500849,
          0.031133832442670206,
          -0.011231371126135037,
          0.030743797912474946,
          0.052380718155080386,
          0.024014882260152248,
          -0.00801497023339881,
          -0.00007128670856804131,
          -0.026361977873821885,
          0.035167059977317505,
          0.07350089364525658,
          -0.02284060194577575,
          -0.020650569058552115,
          0.04729239365068039,
          -0.02021879923733816,
          0.033033307307561266,
          -0.0183532526161444,
          -0.050204912248124844,
          0.08722069776301744,
          0.031445956079624526,
          -0.022231953852998254,
          -0.007531188687390555,
          0.008973046615302183,
          0.06143324644128678,
          0.002416176997830144,
          -0.012519228039140406,
          -0.01213439540028527,
          0.007186387247482884,
          0.02198428198450597,
          0.040715461328153735,
          -0.015145099382704696,
          -0.02120422397952293,
          0.019690858363690555,
          -0.010103287160752483,
          -0.00397170435653571,
          -0.0029039126361360967,
          -0.014987484183940025,
          -0.07415292049714384,
          0.014010631089711678,
          -0.07180394341542429,
          0.0810638548001581,
          0.027466528513752753,
          -0.026335916000870485,
          -0.050539573265131366,
          0.06202247782263215,
          -0.019741774423552738,
          0.057713948638502766,
          -0.10353115132488955,
          0.008837173162675072,
          0.05044047834956289,
          0.0359983940282933,
          0.04333268344454688,
          -0.010245795391650603,
          -0.015288789258551594,
          -0.061796472060979823,
          -0.032663595580194826,
          0.023628520783402385,
          0.035498432559930126,
          -0.008521678851458492,
          0.02026089510915674
         ],
         "yaxis": "y"
        },
        {
         "hovertemplate": "coin=bitcoin<br>dates=%{x}<br>Percent Change=%{y}<extra></extra>",
         "legendgroup": "bitcoin",
         "line": {
          "color": "#EF553B",
          "dash": "solid"
         },
         "marker": {
          "symbol": "circle"
         },
         "mode": "lines",
         "name": "bitcoin",
         "orientation": "v",
         "showlegend": true,
         "type": "scatter",
         "x": [
          "09-10-2021",
          "10-10-2021",
          "11-10-2021",
          "12-10-2021",
          "13-10-2021",
          "14-10-2021",
          "15-10-2021",
          "16-10-2021",
          "17-10-2021",
          "18-10-2021",
          "19-10-2021",
          "20-10-2021",
          "21-10-2021",
          "22-10-2021",
          "23-10-2021",
          "24-10-2021",
          "25-10-2021",
          "26-10-2021",
          "27-10-2021",
          "28-10-2021",
          "29-10-2021",
          "30-10-2021",
          "31-10-2021",
          "01-11-2021",
          "02-11-2021",
          "03-11-2021",
          "04-11-2021",
          "05-11-2021",
          "06-11-2021",
          "07-11-2021",
          "08-11-2021",
          "09-11-2021",
          "10-11-2021",
          "11-11-2021",
          "12-11-2021",
          "13-11-2021",
          "14-11-2021",
          "15-11-2021",
          "16-11-2021",
          "17-11-2021",
          "18-11-2021",
          "19-11-2021",
          "20-11-2021",
          "21-11-2021",
          "22-11-2021",
          "23-11-2021",
          "24-11-2021",
          "25-11-2021",
          "26-11-2021",
          "27-11-2021",
          "28-11-2021",
          "29-11-2021",
          "30-11-2021",
          "01-12-2021",
          "02-12-2021",
          "03-12-2021",
          "04-12-2021",
          "05-12-2021",
          "06-12-2021",
          "07-12-2021",
          "08-12-2021"
         ],
         "xaxis": "x",
         "y": [
          null,
          -0.00750271722909801,
          0.05228556947593477,
          -0.021494205771029118,
          0.02046595711684307,
          -0.0006184613157378394,
          0.07582955192454643,
          -0.010409294001069824,
          0.006836171865272744,
          0.007050530590506421,
          0.04030566826685744,
          0.026657341490993636,
          -0.055805693722625116,
          -0.024173164798613422,
          0.008895231650529967,
          -0.006479781938479978,
          0.0335939359750157,
          -0.04150085506325352,
          -0.03239359274954279,
          0.036263950553575564,
          0.024941635097122328,
          -0.007159893306932563,
          -0.005908873677866078,
          -0.005694267482849735,
          0.03477280896937862,
          -0.0018382883841414621,
          -0.024222650933138135,
          -0.005752412339716018,
          0.006759043213572458,
          0.02419459385310141,
          0.07068182162969716,
          -0.006975176376694314,
          -0.03104190765803294,
          -0.0008516500063071586,
          -0.008823806160427772,
          0.0035430723157328092,
          0.01528978210577936,
          -0.026125956659382443,
          -0.054513746999305224,
          0.00256570790691657,
          -0.05967187089751369,
          0.025829133879631705,
          0.027774150344410886,
          -0.01569718182259261,
          -0.04654942003356488,
          0.024153435687739977,
          -0.00953455989697094,
          0.029715333991548354,
          -0.08608216391045309,
          0.013108674531043807,
          0.04958900530936705,
          0.010676753520305171,
          -0.01447728295138373,
          0.002772986648486908,
          -0.011563953157635254,
          -0.048175266653738724,
          -0.08596994171332117,
          0.0021658842416134583,
          0.024216440020385255,
          0.0036876883657550596,
          -0.0019121444370977514
         ],
         "yaxis": "y"
        },
        {
         "hovertemplate": "coin=binancecoin<br>dates=%{x}<br>Percent Change=%{y}<extra></extra>",
         "legendgroup": "binancecoin",
         "line": {
          "color": "#00cc96",
          "dash": "solid"
         },
         "marker": {
          "symbol": "circle"
         },
         "mode": "lines",
         "name": "binancecoin",
         "orientation": "v",
         "showlegend": true,
         "type": "scatter",
         "x": [
          "09-10-2021",
          "10-10-2021",
          "11-10-2021",
          "12-10-2021",
          "13-10-2021",
          "14-10-2021",
          "15-10-2021",
          "16-10-2021",
          "17-10-2021",
          "18-10-2021",
          "19-10-2021",
          "20-10-2021",
          "21-10-2021",
          "22-10-2021",
          "23-10-2021",
          "24-10-2021",
          "25-10-2021",
          "26-10-2021",
          "27-10-2021",
          "28-10-2021",
          "29-10-2021",
          "30-10-2021",
          "31-10-2021",
          "01-11-2021",
          "02-11-2021",
          "03-11-2021",
          "04-11-2021",
          "05-11-2021",
          "06-11-2021",
          "07-11-2021",
          "08-11-2021",
          "09-11-2021",
          "10-11-2021",
          "11-11-2021",
          "12-11-2021",
          "13-11-2021",
          "14-11-2021",
          "15-11-2021",
          "16-11-2021",
          "17-11-2021",
          "18-11-2021",
          "19-11-2021",
          "20-11-2021",
          "21-11-2021",
          "22-11-2021",
          "23-11-2021",
          "24-11-2021",
          "25-11-2021",
          "26-11-2021",
          "27-11-2021",
          "28-11-2021",
          "29-11-2021",
          "30-11-2021",
          "01-12-2021",
          "02-12-2021",
          "03-12-2021",
          "04-12-2021",
          "05-12-2021",
          "06-12-2021",
          "07-12-2021",
          "08-12-2021"
         ],
         "xaxis": "x",
         "y": [
          null,
          -0.04258140011946965,
          0.02120626094176825,
          0.06651219302657307,
          0.06631922640221388,
          0.004827584548011021,
          0.008946672169542147,
          -0.01732241451858263,
          0.0059635286045853775,
          0.030512057471172804,
          0.007450136103117844,
          0.029773818269849706,
          -0.060481143758885136,
          0.01789601061747792,
          0.007655211237343362,
          -0.014160363026410216,
          0.01920979589184002,
          -0.01787434597507187,
          -0.0576628859508751,
          0.09062303278775241,
          0.07641475201635184,
          -0.004429201783101688,
          -0.004249010499615347,
          0.05066397073616291,
          0.00735402660972162,
          0.025342368238060464,
          -0.014648181086392764,
          0.08254283732609924,
          0.0471951532738315,
          0.022704708772738114,
          0.0062298517580223756,
          -0.026919937466435284,
          -0.04001292487034769,
          0.029878762725476182,
          -0.0009787255332730505,
          0.03678088799860668,
          0.0036664982895260323,
          -0.028900790495080098,
          -0.06977580307514886,
          -0.019169383765316406,
          -0.08457788901824637,
          0.10045180280469612,
          0.03634482935460914,
          -0.02522506403069802,
          -0.05127498267034358,
          0.05981876696791,
          -0.0034926870104273755,
          0.07905538004574408,
          -0.08242760188237486,
          0.021347377305803272,
          0.022376048056987674,
          0.020232170390312332,
          0.0003666586813901862,
          0.00557958204400677,
          -0.011191064180610777,
          -0.038843586680954445,
          -0.04888436434237675,
          -0.02014677349703342,
          0.05867633666129901,
          -0.01681551006321702,
          0.02877461521744351
         ],
         "yaxis": "y"
        },
        {
         "hovertemplate": "coin=solana<br>dates=%{x}<br>Percent Change=%{y}<extra></extra>",
         "legendgroup": "solana",
         "line": {
          "color": "#ab63fa",
          "dash": "solid"
         },
         "marker": {
          "symbol": "circle"
         },
         "mode": "lines",
         "name": "solana",
         "orientation": "v",
         "showlegend": true,
         "type": "scatter",
         "x": [
          "09-10-2021",
          "10-10-2021",
          "11-10-2021",
          "12-10-2021",
          "13-10-2021",
          "14-10-2021",
          "15-10-2021",
          "16-10-2021",
          "17-10-2021",
          "18-10-2021",
          "19-10-2021",
          "20-10-2021",
          "21-10-2021",
          "22-10-2021",
          "23-10-2021",
          "24-10-2021",
          "25-10-2021",
          "26-10-2021",
          "27-10-2021",
          "28-10-2021",
          "29-10-2021",
          "30-10-2021",
          "31-10-2021",
          "01-11-2021",
          "02-11-2021",
          "03-11-2021",
          "04-11-2021",
          "05-11-2021",
          "06-11-2021",
          "07-11-2021",
          "08-11-2021",
          "09-11-2021",
          "10-11-2021",
          "11-11-2021",
          "12-11-2021",
          "13-11-2021",
          "14-11-2021",
          "15-11-2021",
          "16-11-2021",
          "17-11-2021",
          "18-11-2021",
          "19-11-2021",
          "20-11-2021",
          "21-11-2021",
          "22-11-2021",
          "23-11-2021",
          "24-11-2021",
          "25-11-2021",
          "26-11-2021",
          "27-11-2021",
          "28-11-2021",
          "29-11-2021",
          "30-11-2021",
          "01-12-2021",
          "02-12-2021",
          "03-12-2021",
          "04-12-2021",
          "05-12-2021",
          "06-12-2021",
          "07-12-2021",
          "08-12-2021"
         ],
         "xaxis": "x",
         "y": [
          null,
          -0.06126496204979015,
          -0.019209454765635736,
          0.049300872103524185,
          -0.023741550161256675,
          0.011451484223634845,
          0.08588643154511622,
          -0.02888949027449761,
          0.010044556569996033,
          -0.015564323673242897,
          -0.006256662172017369,
          0.1228415629604136,
          0.07663560757393695,
          0.04641178671006041,
          0.0023911602757475947,
          0.02449907402279372,
          0.03950238053169963,
          -0.05417228182190015,
          -0.08113819814587198,
          0.06289275997072008,
          0.024083053789235143,
          -0.03226815773653047,
          0.046827836730590766,
          0.007029746682922111,
          0.08262232490163668,
          0.09694974332297934,
          0.02898928174358839,
          -0.04486185973654966,
          0.08974797254444189,
          -0.034233838050523824,
          -0.006160189489501144,
          -0.03778626142701591,
          -0.026508836370020106,
          0.007682818265537739,
          -0.023272052618210082,
          0.0520327733898156,
          -0.0075427494057579425,
          -0.003130687781798258,
          -0.07818153830538965,
          -0.004507482586563638,
          -0.10965969684775811,
          0.10640043338061722,
          0.011557236406974702,
          0.06463511538997402,
          -0.06901591686329822,
          0.02633631026841088,
          -0.07451437514531045,
          0.020644743239321306,
          -0.08410574738537002,
          -0.00005842572876901819,
          0.04332978208850391,
          0.019400260634672595,
          0.02131224269067955,
          0.09938945557819956,
          0.013613080146855028,
          -0.08787954914848506,
          -0.05276184352605717,
          -0.021759405036200996,
          -0.0136197259205042,
          -0.018150133200012686,
          0.01953022057702891
         ],
         "yaxis": "y"
        },
        {
         "hovertemplate": "coin=polkadot<br>dates=%{x}<br>Percent Change=%{y}<extra></extra>",
         "legendgroup": "polkadot",
         "line": {
          "color": "#FFA15A",
          "dash": "solid"
         },
         "marker": {
          "symbol": "circle"
         },
         "mode": "lines",
         "name": "polkadot",
         "orientation": "v",
         "showlegend": true,
         "type": "scatter",
         "x": [
          "09-10-2021",
          "10-10-2021",
          "11-10-2021",
          "12-10-2021",
          "13-10-2021",
          "14-10-2021",
          "15-10-2021",
          "16-10-2021",
          "17-10-2021",
          "18-10-2021",
          "19-10-2021",
          "20-10-2021",
          "21-10-2021",
          "22-10-2021",
          "23-10-2021",
          "24-10-2021",
          "25-10-2021",
          "26-10-2021",
          "27-10-2021",
          "28-10-2021",
          "29-10-2021",
          "30-10-2021",
          "31-10-2021",
          "01-11-2021",
          "02-11-2021",
          "03-11-2021",
          "04-11-2021",
          "05-11-2021",
          "06-11-2021",
          "07-11-2021",
          "08-11-2021",
          "09-11-2021",
          "10-11-2021",
          "11-11-2021",
          "12-11-2021",
          "13-11-2021",
          "14-11-2021",
          "15-11-2021",
          "16-11-2021",
          "17-11-2021",
          "18-11-2021",
          "19-11-2021",
          "20-11-2021",
          "21-11-2021",
          "22-11-2021",
          "23-11-2021",
          "24-11-2021",
          "25-11-2021",
          "26-11-2021",
          "27-11-2021",
          "28-11-2021",
          "29-11-2021",
          "30-11-2021",
          "01-12-2021",
          "02-12-2021",
          "03-12-2021",
          "04-12-2021",
          "05-12-2021",
          "06-12-2021",
          "07-12-2021",
          "08-12-2021"
         ],
         "xaxis": "x",
         "y": [
          null,
          -0.05582911118846423,
          -0.006673896233555854,
          0.029803079742317884,
          0.1877950522834444,
          -0.02413785913701727,
          0.07038300138505416,
          -0.037129257182031195,
          0.0038518558702529404,
          -0.02346127943031895,
          0.00677434062033333,
          0.07563960167738082,
          -0.03481962057488375,
          0.017829364211111365,
          0.00817444008214152,
          -0.03632274037192085,
          0.04867218867213219,
          0.015909369781927696,
          -0.10627550027755284,
          0.03915324619772753,
          0.04873211321739479,
          -0.03144735574584445,
          0.0018887284879274269,
          0.1699277497597751,
          0.023668152840498724,
          0.040131324168282356,
          0.015124864867879895,
          -0.039748808866136076,
          0.0016725817218146144,
          0.006118971094295489,
          0.01902213925412899,
          -0.04539219995260735,
          -0.07794751252443222,
          0.017689871348254504,
          -0.035804969744280046,
          0.025151022698995495,
          -0.014463856766184002,
          -0.0355065669835718,
          -0.0835376343977351,
          0.0364942735252447,
          -0.08808384447200279,
          0.06430151094925951,
          0.018237967296197644,
          0.009388641005086518,
          -0.07328483169171685,
          0.03632730579748311,
          -0.06249213608957327,
          0.027625870064346802,
          -0.1215831540152501,
          0.009940366653685917,
          0.01983014134653205,
          0.04331205640358382,
          0.021919938450810195,
          -0.03432241382947476,
          -0.026658542112006467,
          -0.05385265147962137,
          -0.1337174292712402,
          -0.03371643325952667,
          -0.0005251252746215629,
          0.07313401426971655,
          -0.026699369037310405
         ],
         "yaxis": "y"
        },
        {
         "hovertemplate": "coin=flow<br>dates=%{x}<br>Percent Change=%{y}<extra></extra>",
         "legendgroup": "flow",
         "line": {
          "color": "#19d3f3",
          "dash": "solid"
         },
         "marker": {
          "symbol": "circle"
         },
         "mode": "lines",
         "name": "flow",
         "orientation": "v",
         "showlegend": true,
         "type": "scatter",
         "x": [
          "09-10-2021",
          "10-10-2021",
          "11-10-2021",
          "12-10-2021",
          "13-10-2021",
          "14-10-2021",
          "15-10-2021",
          "16-10-2021",
          "17-10-2021",
          "18-10-2021",
          "19-10-2021",
          "20-10-2021",
          "21-10-2021",
          "22-10-2021",
          "23-10-2021",
          "24-10-2021",
          "25-10-2021",
          "26-10-2021",
          "27-10-2021",
          "28-10-2021",
          "29-10-2021",
          "30-10-2021",
          "31-10-2021",
          "01-11-2021",
          "02-11-2021",
          "03-11-2021",
          "04-11-2021",
          "05-11-2021",
          "06-11-2021",
          "07-11-2021",
          "08-11-2021",
          "09-11-2021",
          "10-11-2021",
          "11-11-2021",
          "12-11-2021",
          "13-11-2021",
          "14-11-2021",
          "15-11-2021",
          "16-11-2021",
          "17-11-2021",
          "18-11-2021",
          "19-11-2021",
          "20-11-2021",
          "21-11-2021",
          "22-11-2021",
          "23-11-2021",
          "24-11-2021",
          "25-11-2021",
          "26-11-2021",
          "27-11-2021",
          "28-11-2021",
          "29-11-2021",
          "30-11-2021",
          "01-12-2021",
          "02-12-2021",
          "03-12-2021",
          "04-12-2021",
          "05-12-2021",
          "06-12-2021",
          "07-12-2021",
          "08-12-2021"
         ],
         "xaxis": "x",
         "y": [
          null,
          -0.03929163449228246,
          -0.018156704182662464,
          -0.04767720713765977,
          0.04162605097624428,
          0.0015852283934283395,
          -0.05705566582340249,
          -0.056695192324942134,
          -0.0710741136699935,
          -0.040862794106439004,
          -0.09728564768865444,
          0.057186264882186366,
          0.026771754022966165,
          -0.05575732601200867,
          -0.022324041738828626,
          -0.01485091913553771,
          0.020975408243987248,
          -0.025261725669839308,
          -0.09568062945472355,
          0.07460076835489149,
          0.0718490161072387,
          0.08501131299461329,
          -0.05542123352901307,
          0.006298701098085502,
          0.019568681184564785,
          -0.025402637430075425,
          -0.007610875290851249,
          0.0021815227939012694,
          -0.006269050493837636,
          -0.0005950670953478454,
          0.009386293347403818,
          -0.020292120179128292,
          -0.05728500119172697,
          0.021857779470519034,
          -0.022946966647934275,
          0.02577586649086827,
          -0.012405733209324143,
          0.019787012926830716,
          -0.047722600278766625,
          -0.006078604234690088,
          -0.07017417904272305,
          0.057870656735796056,
          0.04576547370621564,
          0.08360292204798148,
          -0.039669017032559095,
          -0.02047866856864977,
          -0.014027146518017397,
          0.016303926474093622,
          -0.11583541115822926,
          0.010114987521460561,
          0.0378813724833007,
          0.043522877147433636,
          -0.029862372815743665,
          -0.010232883080315114,
          -0.01994212165516729,
          -0.03868032812302269,
          -0.14454986829720695,
          -0.06820361397610342,
          0.04294612945618148,
          0.04574027341621467,
          -0.008849511201233229
         ],
         "yaxis": "y"
        },
        {
         "hovertemplate": "coin=dogecoin<br>dates=%{x}<br>Percent Change=%{y}<extra></extra>",
         "legendgroup": "dogecoin",
         "line": {
          "color": "#FF6692",
          "dash": "solid"
         },
         "marker": {
          "symbol": "circle"
         },
         "mode": "lines",
         "name": "dogecoin",
         "orientation": "v",
         "showlegend": true,
         "type": "scatter",
         "x": [
          "09-10-2021",
          "10-10-2021",
          "11-10-2021",
          "12-10-2021",
          "13-10-2021",
          "14-10-2021",
          "15-10-2021",
          "16-10-2021",
          "17-10-2021",
          "18-10-2021",
          "19-10-2021",
          "20-10-2021",
          "21-10-2021",
          "22-10-2021",
          "23-10-2021",
          "24-10-2021",
          "25-10-2021",
          "26-10-2021",
          "27-10-2021",
          "28-10-2021",
          "29-10-2021",
          "30-10-2021",
          "31-10-2021",
          "01-11-2021",
          "02-11-2021",
          "03-11-2021",
          "04-11-2021",
          "05-11-2021",
          "06-11-2021",
          "07-11-2021",
          "08-11-2021",
          "09-11-2021",
          "10-11-2021",
          "11-11-2021",
          "12-11-2021",
          "13-11-2021",
          "14-11-2021",
          "15-11-2021",
          "16-11-2021",
          "17-11-2021",
          "18-11-2021",
          "19-11-2021",
          "20-11-2021",
          "21-11-2021",
          "22-11-2021",
          "23-11-2021",
          "24-11-2021",
          "25-11-2021",
          "26-11-2021",
          "27-11-2021",
          "28-11-2021",
          "29-11-2021",
          "30-11-2021",
          "01-12-2021",
          "02-12-2021",
          "03-12-2021",
          "04-12-2021",
          "05-12-2021",
          "06-12-2021",
          "07-12-2021",
          "08-12-2021"
         ],
         "xaxis": "x",
         "y": [
          null,
          -0.07228022951219526,
          0.011612702803672992,
          -0.024184067073102722,
          0.028324890622668297,
          0.0009394341102715309,
          0.00882724849366645,
          0.014976551567025265,
          -0.0026068393081116747,
          0.034403772200343186,
          0.0017318993529422677,
          0.03232224027448405,
          -0.043183167137072376,
          0.011907686293391118,
          0.020588640969875227,
          0.10654664773765554,
          -0.04773783472774806,
          -0.031055345504592213,
          -0.06859820217609847,
          0.2525957228644582,
          -0.03593341208945966,
          -0.07103529269322306,
          0.04274802564767066,
          -0.027470327302432485,
          0.00660833261406113,
          -0.0153049532036994,
          -0.022540949347896855,
          -0.006835787458183473,
          0.0026951591732977676,
          0.015534379625022465,
          0.05881956733876592,
          -0.028730856660315607,
          -0.06721385953037273,
          0.022155863055168146,
          -0.007843079978504863,
          0.011898332979928483,
          0.007743011598400518,
          -0.02446975569946208,
          -0.07447902440648846,
          0.00038426927495649466,
          -0.0719743045236495,
          0.056745587315814916,
          0.001713715666159521,
          -0.025535492500830204,
          -0.03693505200163116,
          0.028757314332387818,
          -0.03652780216969953,
          0.015243066402257144,
          -0.08657226633283333,
          0.009682278729236327,
          0.015419132701803395,
          0.0371353797145928,
          -0.0011994912323954887,
          -0.02556501685807777,
          0.0011717887652427095,
          -0.04038718289627663,
          -0.11067667435741357,
          -0.04258013755555434,
          0.040354298617676365,
          -0.006279673541390252,
          0.019076922912361294
         ],
         "yaxis": "y"
        },
        {
         "hovertemplate": "coin=audius<br>dates=%{x}<br>Percent Change=%{y}<extra></extra>",
         "legendgroup": "audius",
         "line": {
          "color": "#B6E880",
          "dash": "solid"
         },
         "marker": {
          "symbol": "circle"
         },
         "mode": "lines",
         "name": "audius",
         "orientation": "v",
         "showlegend": true,
         "type": "scatter",
         "x": [
          "09-10-2021",
          "10-10-2021",
          "11-10-2021",
          "12-10-2021",
          "13-10-2021",
          "14-10-2021",
          "15-10-2021",
          "16-10-2021",
          "17-10-2021",
          "18-10-2021",
          "19-10-2021",
          "20-10-2021",
          "21-10-2021",
          "22-10-2021",
          "23-10-2021",
          "24-10-2021",
          "25-10-2021",
          "26-10-2021",
          "27-10-2021",
          "28-10-2021",
          "29-10-2021",
          "30-10-2021",
          "31-10-2021",
          "01-11-2021",
          "02-11-2021",
          "03-11-2021",
          "04-11-2021",
          "05-11-2021",
          "06-11-2021",
          "07-11-2021",
          "08-11-2021",
          "09-11-2021",
          "10-11-2021",
          "11-11-2021",
          "12-11-2021",
          "13-11-2021",
          "14-11-2021",
          "15-11-2021",
          "16-11-2021",
          "17-11-2021",
          "18-11-2021",
          "19-11-2021",
          "20-11-2021",
          "21-11-2021",
          "22-11-2021",
          "23-11-2021",
          "24-11-2021",
          "25-11-2021",
          "26-11-2021",
          "27-11-2021",
          "28-11-2021",
          "29-11-2021",
          "30-11-2021",
          "01-12-2021",
          "02-12-2021",
          "03-12-2021",
          "04-12-2021",
          "05-12-2021",
          "06-12-2021",
          "07-12-2021",
          "08-12-2021"
         ],
         "xaxis": "x",
         "y": [
          null,
          -0.06815729435161089,
          0.02388399613611436,
          -0.03094823063786445,
          0.02660129283061874,
          0.011106876567503088,
          0.012727285512431408,
          -0.005659714032912433,
          -0.03642186997948593,
          -0.014283672741159603,
          0.007337458559434129,
          0.039571777733498514,
          -0.03072898933813284,
          0.04394643738045567,
          0.04268228208916769,
          0.032846040073676086,
          0.0832308298440616,
          -0.07121585328275248,
          -0.13301759725105966,
          0.02308901905218108,
          0.035282820346724586,
          0.12882412946978028,
          -0.03958438804424036,
          0.0396020708893452,
          0.1101500895378964,
          0.029345552613735837,
          -0.000641074457434998,
          -0.01584528387150419,
          -0.020800342352335743,
          0.021149565892372824,
          0.032228722436869806,
          -0.021408883708921467,
          -0.10668590150905077,
          0.008922027094646845,
          -0.03539993073176495,
          0.049935496248216804,
          0.06858145971940344,
          -0.06027800157801855,
          -0.09716945050693893,
          0.04987166443030633,
          -0.06425581727299745,
          0.031372485580118514,
          0.03078436206432289,
          -0.00808207432593444,
          -0.07468447628825281,
          0.34282698583580884,
          -0.06873994175696274,
          -0.0623407346621947,
          -0.1053880961216136,
          0.10586275063512884,
          0.005855298133141895,
          -0.007826846168158208,
          -0.042060012849718276,
          0.02327377482356252,
          -0.048959862074546945,
          -0.028387973497666197,
          -0.13628660536020265,
          -0.08796765353929559,
          0.02122043329185841,
          -0.01400103445458678,
          0.0175901839660626
         ],
         "yaxis": "y"
        },
        {
         "hovertemplate": "coin=brokoli<br>dates=%{x}<br>Percent Change=%{y}<extra></extra>",
         "legendgroup": "brokoli",
         "line": {
          "color": "#FF97FF",
          "dash": "solid"
         },
         "marker": {
          "symbol": "circle"
         },
         "mode": "lines",
         "name": "brokoli",
         "orientation": "v",
         "showlegend": true,
         "type": "scatter",
         "x": [
          "09-10-2021",
          "10-10-2021",
          "11-10-2021",
          "12-10-2021",
          "13-10-2021",
          "14-10-2021",
          "15-10-2021",
          "16-10-2021",
          "17-10-2021",
          "18-10-2021",
          "19-10-2021",
          "20-10-2021",
          "21-10-2021",
          "22-10-2021",
          "23-10-2021",
          "24-10-2021",
          "25-10-2021",
          "26-10-2021",
          "27-10-2021",
          "28-10-2021",
          "29-10-2021",
          "30-10-2021",
          "31-10-2021",
          "01-11-2021",
          "02-11-2021",
          "03-11-2021",
          "04-11-2021",
          "05-11-2021",
          "06-11-2021",
          "07-11-2021",
          "08-11-2021",
          "09-11-2021",
          "10-11-2021",
          "11-11-2021",
          "12-11-2021",
          "13-11-2021",
          "14-11-2021",
          "15-11-2021",
          "16-11-2021",
          "17-11-2021",
          "18-11-2021",
          "19-11-2021",
          "20-11-2021",
          "21-11-2021",
          "22-11-2021",
          "23-11-2021",
          "24-11-2021",
          "25-11-2021",
          "26-11-2021",
          "27-11-2021",
          "28-11-2021",
          "29-11-2021",
          "30-11-2021",
          "01-12-2021",
          "02-12-2021",
          "03-12-2021",
          "04-12-2021",
          "05-12-2021",
          "06-12-2021",
          "07-12-2021",
          "08-12-2021"
         ],
         "xaxis": "x",
         "y": [
          null,
          -0.015885890864254293,
          -0.08127837136756955,
          0.15536857213962363,
          0.09228998794655219,
          -0.09221899058652294,
          -0.004990320219141031,
          -0.06341526846885803,
          -0.020555567167382827,
          -0.04695049515795302,
          0.06951134175714335,
          -0.06634589442826044,
          0.010594131322143152,
          0.01918236009929286,
          0.013186140898045373,
          -0.027439744031084512,
          -0.07843241777514554,
          0.013518956468399068,
          -0.0035767576955944014,
          -0.0614239834667365,
          0.0218561632396721,
          0.02229818326503752,
          -0.033198973300351264,
          0.0304557635041649,
          0.03913902992656815,
          0.171229915703615,
          0.2076184654856037,
          -0.0111869791604009,
          0.2812733213700871,
          0.3064880575633324,
          0.18174061052030765,
          0.23069709550145334,
          -0.2352578038904405,
          0.2595914065720406,
          -0.19090701789191766,
          -0.020326067122729663,
          -0.05293500638424131,
          0.11558545406322374,
          -0.09246691623309289,
          -0.11299447122683981,
          0.013345602830230563,
          0.24952391549414354,
          -0.003866443282076748,
          -0.0962514702714522,
          -0.09965276406159351,
          0.16238865342675846,
          -0.02947858323159036,
          0.06361762483893885,
          -0.055994571865577214,
          0.04864429468103282,
          0.0005208577803859082,
          0.29352030090978,
          0.07173026875407795,
          -0.11251647776797102,
          -0.08452624879976978,
          -0.02889512818233153,
          -0.14430483719036946,
          0.18247373428897284,
          -0.13226695858731485,
          0.00006960090749985604,
          0.07443700128893505
         ],
         "yaxis": "y"
        },
        {
         "hovertemplate": "coin=cellframe<br>dates=%{x}<br>Percent Change=%{y}<extra></extra>",
         "legendgroup": "cellframe",
         "line": {
          "color": "#FECB52",
          "dash": "solid"
         },
         "marker": {
          "symbol": "circle"
         },
         "mode": "lines",
         "name": "cellframe",
         "orientation": "v",
         "showlegend": true,
         "type": "scatter",
         "x": [
          "09-10-2021",
          "10-10-2021",
          "11-10-2021",
          "12-10-2021",
          "13-10-2021",
          "14-10-2021",
          "15-10-2021",
          "16-10-2021",
          "17-10-2021",
          "18-10-2021",
          "19-10-2021",
          "20-10-2021",
          "21-10-2021",
          "22-10-2021",
          "23-10-2021",
          "24-10-2021",
          "25-10-2021",
          "26-10-2021",
          "27-10-2021",
          "28-10-2021",
          "29-10-2021",
          "30-10-2021",
          "31-10-2021",
          "01-11-2021",
          "02-11-2021",
          "03-11-2021",
          "04-11-2021",
          "05-11-2021",
          "06-11-2021",
          "07-11-2021",
          "08-11-2021",
          "09-11-2021",
          "10-11-2021",
          "11-11-2021",
          "12-11-2021",
          "13-11-2021",
          "14-11-2021",
          "15-11-2021",
          "16-11-2021",
          "17-11-2021",
          "18-11-2021",
          "19-11-2021",
          "20-11-2021",
          "21-11-2021",
          "22-11-2021",
          "23-11-2021",
          "24-11-2021",
          "25-11-2021",
          "26-11-2021",
          "27-11-2021",
          "28-11-2021",
          "29-11-2021",
          "30-11-2021",
          "01-12-2021",
          "02-12-2021",
          "03-12-2021",
          "04-12-2021",
          "05-12-2021",
          "06-12-2021",
          "07-12-2021",
          "08-12-2021"
         ],
         "xaxis": "x",
         "y": [
          null,
          -0.05426052602395259,
          -0.01791608165174996,
          -0.10494267041712291,
          -0.03790797986675398,
          -0.23543498148606823,
          0.05052112333040215,
          -0.10287532435268498,
          -0.013317407330041608,
          -0.03297834521690324,
          -0.03697081142028347,
          0.18100152828629512,
          -0.0858867626028762,
          -0.027849763799151606,
          0.15697181862480591,
          -0.03952840802780189,
          0.037710468639784445,
          0.21600153266454947,
          0.19162613149658103,
          -0.13048709090161048,
          -0.11910203825086108,
          -0.04441896222825359,
          -0.07378689732259669,
          -0.07820100769374827,
          0.1896176536920562,
          -0.005705691281457259,
          -0.03284890959981723,
          -0.00823073524752127,
          0.039902656628952426,
          -0.014592378061269673,
          0.27817694928491354,
          0.3549631565778715,
          -0.15508072650241755,
          0.5019293047587661,
          -0.08088306503993425,
          0.15720817109779706,
          0.28308400666250355,
          -0.09133140650972138,
          -0.04423596967897925,
          -0.06448868917666883,
          -0.27312169193945934,
          0.2406865039242454,
          -0.0063194891448904444,
          0.04088143883780049,
          -0.05767733719184709,
          0.07461715503327127,
          -0.19537890422709325,
          0.15374852394119398,
          -0.21268888228822735,
          0.14016354909961137,
          0.03493543195020221,
          0.029512421253788723,
          -0.03043717562941739,
          0.011144426898996418,
          -0.032835578607740334,
          -0.07280103868102783,
          -0.19602000339835546,
          0.02447367537080547,
          -0.03794806786177973,
          0.05820696066531483,
          0.07964353827542636
         ],
         "yaxis": "y"
        },
        {
         "hovertemplate": "coin=richquack<br>dates=%{x}<br>Percent Change=%{y}<extra></extra>",
         "legendgroup": "richquack",
         "line": {
          "color": "#636efa",
          "dash": "solid"
         },
         "marker": {
          "symbol": "circle"
         },
         "mode": "lines",
         "name": "richquack",
         "orientation": "v",
         "showlegend": true,
         "type": "scatter",
         "x": [
          "09-10-2021",
          "10-10-2021",
          "11-10-2021",
          "12-10-2021",
          "13-10-2021",
          "14-10-2021",
          "15-10-2021",
          "16-10-2021",
          "17-10-2021",
          "18-10-2021",
          "19-10-2021",
          "20-10-2021",
          "21-10-2021",
          "22-10-2021",
          "23-10-2021",
          "24-10-2021",
          "25-10-2021",
          "26-10-2021",
          "27-10-2021",
          "28-10-2021",
          "29-10-2021",
          "30-10-2021",
          "31-10-2021",
          "01-11-2021",
          "02-11-2021",
          "03-11-2021",
          "04-11-2021",
          "05-11-2021",
          "06-11-2021",
          "07-11-2021",
          "08-11-2021",
          "09-11-2021",
          "10-11-2021",
          "11-11-2021",
          "12-11-2021",
          "13-11-2021",
          "14-11-2021",
          "15-11-2021",
          "16-11-2021",
          "17-11-2021",
          "18-11-2021",
          "19-11-2021",
          "20-11-2021",
          "21-11-2021",
          "22-11-2021",
          "23-11-2021",
          "24-11-2021",
          "25-11-2021",
          "26-11-2021",
          "27-11-2021",
          "28-11-2021",
          "29-11-2021",
          "30-11-2021",
          "01-12-2021",
          "02-12-2021",
          "03-12-2021",
          "04-12-2021",
          "05-12-2021",
          "06-12-2021",
          "07-12-2021",
          "08-12-2021"
         ],
         "xaxis": "x",
         "y": [
          null,
          0.008729792776335232,
          0.08006377539361065,
          0.2848063220791768,
          0.05156762430315753,
          -0.04516584289769798,
          -0.13595139706390946,
          -0.044900133177038226,
          -0.004310772470942803,
          0.004251373091088695,
          0.010558154579337842,
          -0.00875345686838136,
          -0.11291222678578894,
          0.015951121760683806,
          0.041611768783730296,
          0.007309133649374022,
          0.41302206003709463,
          0.9852812271239157,
          -0.04856543777218891,
          -0.07023987684246935,
          0.12223516067288087,
          0.3119367067933039,
          1.835304698812691,
          0.16763189034389137,
          0.7105097569674697,
          0.7631447002869503,
          -0.4104720473176787,
          1.89281390692125,
          1.0937914485604834,
          -0.01707088659324818,
          -0.3599436259661276,
          0.08732571182963644,
          -0.24635315625103438,
          0.2906636806683556,
          -0.2526940855747114,
          0.03800443865755465,
          -0.015506851958189238,
          -0.1764783114566738,
          -0.03586978024921461,
          0.1254856760914438,
          -0.16503158097694148,
          0.06490678818367845,
          0.019200140630040163,
          0.011617545122696082,
          -0.09278583872104007,
          0.06891556212055194,
          -0.08885072314242703,
          0.050133682237595734,
          -0.18897852578234475,
          0.12468748232212623,
          -0.07572666578319043,
          -0.05108312212932631,
          0.03048402556797236,
          -0.044109668025943405,
          -0.06563800016767751,
          0.1634977880741202,
          -0.2801568325518966,
          -0.14163500269247564,
          -0.11611305382947013,
          0.3875313100439868,
          0.03533851130886689
         ],
         "yaxis": "y"
        },
        {
         "hovertemplate": "coin=railgun<br>dates=%{x}<br>Percent Change=%{y}<extra></extra>",
         "legendgroup": "railgun",
         "line": {
          "color": "#EF553B",
          "dash": "solid"
         },
         "marker": {
          "symbol": "circle"
         },
         "mode": "lines",
         "name": "railgun",
         "orientation": "v",
         "showlegend": true,
         "type": "scatter",
         "x": [
          "09-10-2021",
          "10-10-2021",
          "11-10-2021",
          "12-10-2021",
          "13-10-2021",
          "14-10-2021",
          "15-10-2021",
          "16-10-2021",
          "17-10-2021",
          "18-10-2021",
          "19-10-2021",
          "20-10-2021",
          "21-10-2021",
          "22-10-2021",
          "23-10-2021",
          "24-10-2021",
          "25-10-2021",
          "26-10-2021",
          "27-10-2021",
          "28-10-2021",
          "29-10-2021",
          "30-10-2021",
          "31-10-2021",
          "01-11-2021",
          "02-11-2021",
          "03-11-2021",
          "04-11-2021",
          "05-11-2021",
          "06-11-2021",
          "07-11-2021",
          "08-11-2021",
          "09-11-2021",
          "10-11-2021",
          "11-11-2021",
          "12-11-2021",
          "13-11-2021",
          "14-11-2021",
          "15-11-2021",
          "16-11-2021",
          "17-11-2021",
          "18-11-2021",
          "19-11-2021",
          "20-11-2021",
          "21-11-2021",
          "22-11-2021",
          "23-11-2021",
          "24-11-2021",
          "25-11-2021",
          "26-11-2021",
          "27-11-2021",
          "28-11-2021",
          "29-11-2021",
          "30-11-2021",
          "01-12-2021",
          "02-12-2021",
          "03-12-2021",
          "04-12-2021",
          "05-12-2021",
          "06-12-2021",
          "07-12-2021",
          "08-12-2021"
         ],
         "xaxis": "x",
         "y": [
          null,
          -0.07410496719106485,
          -0.03274838712532613,
          -0.030727896755772366,
          0.015866247184572524,
          0.04552504256838752,
          -0.029885610574183707,
          0.029809169158925508,
          -0.009818360631751233,
          -0.06645421031010701,
          0.025872302729373686,
          0.060937039561494766,
          -0.01751414302693377,
          0.012003271730952836,
          0.051046409591871234,
          0.011175032265762885,
          0.012396692586405855,
          -0.08595231828818295,
          0.02868515116856707,
          0.1574278457186149,
          0.0025201484004264696,
          0.006354004916269584,
          0.030150966053903216,
          -0.005876035324707263,
          -0.005084148412265566,
          -0.008998427357624905,
          0.03783096432464017,
          0.0016715046841737635,
          0.13143442684153284,
          0.030861113008031626,
          0.035127355240394564,
          -0.057680843834406414,
          -0.11557382321204368,
          0.14675955071643143,
          -0.017171716827346306,
          -0.0539917651020847,
          -0.00403594963624665,
          0.03601798248326693,
          -0.1837052842888257,
          0.0012464810858179298,
          -0.045699519964406354,
          0.18820727599023135,
          0.039286246112931966,
          -0.039661650104711454,
          -0.01874072004941363,
          0.09249038267621201,
          -0.011993495972594248,
          0.25586790853254415,
          -0.2319085462930187,
          0.1577885758016826,
          0.12005027413998803,
          0.08007520092064557,
          0.08222643078461322,
          0.0423461775836107,
          0.030833745508085375,
          -0.02221877645526793,
          -0.14836446762449362,
          -0.01838297296759328,
          0.015814793707740415,
          0.15499319688770963,
          0.027210301644639
         ],
         "yaxis": "y"
        },
        {
         "hovertemplate": "coin=matic-network<br>dates=%{x}<br>Percent Change=%{y}<extra></extra>",
         "legendgroup": "matic-network",
         "line": {
          "color": "#00cc96",
          "dash": "solid"
         },
         "marker": {
          "symbol": "circle"
         },
         "mode": "lines",
         "name": "matic-network",
         "orientation": "v",
         "showlegend": true,
         "type": "scatter",
         "x": [
          "09-10-2021",
          "10-10-2021",
          "11-10-2021",
          "12-10-2021",
          "13-10-2021",
          "14-10-2021",
          "15-10-2021",
          "16-10-2021",
          "17-10-2021",
          "18-10-2021",
          "19-10-2021",
          "20-10-2021",
          "21-10-2021",
          "22-10-2021",
          "23-10-2021",
          "24-10-2021",
          "25-10-2021",
          "26-10-2021",
          "27-10-2021",
          "28-10-2021",
          "29-10-2021",
          "30-10-2021",
          "31-10-2021",
          "01-11-2021",
          "02-11-2021",
          "03-11-2021",
          "04-11-2021",
          "05-11-2021",
          "06-11-2021",
          "07-11-2021",
          "08-11-2021",
          "09-11-2021",
          "10-11-2021",
          "11-11-2021",
          "12-11-2021",
          "13-11-2021",
          "14-11-2021",
          "15-11-2021",
          "16-11-2021",
          "17-11-2021",
          "18-11-2021",
          "19-11-2021",
          "20-11-2021",
          "21-11-2021",
          "22-11-2021",
          "23-11-2021",
          "24-11-2021",
          "25-11-2021",
          "26-11-2021",
          "27-11-2021",
          "28-11-2021",
          "29-11-2021",
          "30-11-2021",
          "01-12-2021",
          "02-12-2021",
          "03-12-2021",
          "04-12-2021",
          "05-12-2021",
          "06-12-2021",
          "07-12-2021",
          "08-12-2021"
         ],
         "xaxis": "x",
         "y": [
          null,
          -0.07709119899175343,
          -0.005898826509473265,
          -0.014200992504180387,
          0.014778881686427825,
          0.02003603127432685,
          0.25864392985587337,
          -0.05197890969959085,
          -0.035499740038626104,
          0.014971759851136301,
          0.00011172947531168376,
          0.035201587953950675,
          -0.013970856137930254,
          0.005955480121286216,
          0.08416834181717503,
          -0.04215484620868448,
          0.05999910548087417,
          0.043106760581005155,
          0.017310613530914898,
          0.1997855355905518,
          -0.04839749149884731,
          -0.08104949850017307,
          0.03947952581254266,
          -0.013872232568675091,
          0.015597874623287877,
          0.05153303346188265,
          -0.054800818102068605,
          -0.010289818336128187,
          -0.00884132067355392,
          0.00041961270483370505,
          0.0024123519361718415,
          -0.06692734215529239,
          -0.03686042546654722,
          0.0385545203181068,
          -0.025162863923884005,
          0.02081555292513082,
          -0.012974710639061526,
          -0.02067630342668314,
          -0.07548411694640766,
          0.043967776954721094,
          -0.09489115496896205,
          0.09306955427886043,
          0.031032235743924774,
          -0.03374014880474818,
          -0.03506225305937216,
          0.1255000490093472,
          -0.036172046579281636,
          0.13002479166038783,
          -0.14366186441731477,
          -0.019847378192764276,
          0.027095982630706672,
          0.10143388038754653,
          -0.015557114773802172,
          0.12636138394929985,
          0.0557003939199614,
          0.07443766684129471,
          -0.1370722497189918,
          0.023917512019894893,
          0.12478076031196261,
          0.04408101946891474,
          0.049521485904341356
         ],
         "yaxis": "y"
        }
       ],
       "layout": {
        "legend": {
         "title": {
          "text": "coin"
         },
         "tracegroupgap": 0
        },
        "margin": {
         "t": 60
        },
        "template": {
         "data": {
          "bar": [
           {
            "error_x": {
             "color": "#2a3f5f"
            },
            "error_y": {
             "color": "#2a3f5f"
            },
            "marker": {
             "line": {
              "color": "#E5ECF6",
              "width": 0.5
             },
             "pattern": {
              "fillmode": "overlay",
              "size": 10,
              "solidity": 0.2
             }
            },
            "type": "bar"
           }
          ],
          "barpolar": [
           {
            "marker": {
             "line": {
              "color": "#E5ECF6",
              "width": 0.5
             },
             "pattern": {
              "fillmode": "overlay",
              "size": 10,
              "solidity": 0.2
             }
            },
            "type": "barpolar"
           }
          ],
          "carpet": [
           {
            "aaxis": {
             "endlinecolor": "#2a3f5f",
             "gridcolor": "white",
             "linecolor": "white",
             "minorgridcolor": "white",
             "startlinecolor": "#2a3f5f"
            },
            "baxis": {
             "endlinecolor": "#2a3f5f",
             "gridcolor": "white",
             "linecolor": "white",
             "minorgridcolor": "white",
             "startlinecolor": "#2a3f5f"
            },
            "type": "carpet"
           }
          ],
          "choropleth": [
           {
            "colorbar": {
             "outlinewidth": 0,
             "ticks": ""
            },
            "type": "choropleth"
           }
          ],
          "contour": [
           {
            "colorbar": {
             "outlinewidth": 0,
             "ticks": ""
            },
            "colorscale": [
             [
              0,
              "#0d0887"
             ],
             [
              0.1111111111111111,
              "#46039f"
             ],
             [
              0.2222222222222222,
              "#7201a8"
             ],
             [
              0.3333333333333333,
              "#9c179e"
             ],
             [
              0.4444444444444444,
              "#bd3786"
             ],
             [
              0.5555555555555556,
              "#d8576b"
             ],
             [
              0.6666666666666666,
              "#ed7953"
             ],
             [
              0.7777777777777778,
              "#fb9f3a"
             ],
             [
              0.8888888888888888,
              "#fdca26"
             ],
             [
              1,
              "#f0f921"
             ]
            ],
            "type": "contour"
           }
          ],
          "contourcarpet": [
           {
            "colorbar": {
             "outlinewidth": 0,
             "ticks": ""
            },
            "type": "contourcarpet"
           }
          ],
          "heatmap": [
           {
            "colorbar": {
             "outlinewidth": 0,
             "ticks": ""
            },
            "colorscale": [
             [
              0,
              "#0d0887"
             ],
             [
              0.1111111111111111,
              "#46039f"
             ],
             [
              0.2222222222222222,
              "#7201a8"
             ],
             [
              0.3333333333333333,
              "#9c179e"
             ],
             [
              0.4444444444444444,
              "#bd3786"
             ],
             [
              0.5555555555555556,
              "#d8576b"
             ],
             [
              0.6666666666666666,
              "#ed7953"
             ],
             [
              0.7777777777777778,
              "#fb9f3a"
             ],
             [
              0.8888888888888888,
              "#fdca26"
             ],
             [
              1,
              "#f0f921"
             ]
            ],
            "type": "heatmap"
           }
          ],
          "heatmapgl": [
           {
            "colorbar": {
             "outlinewidth": 0,
             "ticks": ""
            },
            "colorscale": [
             [
              0,
              "#0d0887"
             ],
             [
              0.1111111111111111,
              "#46039f"
             ],
             [
              0.2222222222222222,
              "#7201a8"
             ],
             [
              0.3333333333333333,
              "#9c179e"
             ],
             [
              0.4444444444444444,
              "#bd3786"
             ],
             [
              0.5555555555555556,
              "#d8576b"
             ],
             [
              0.6666666666666666,
              "#ed7953"
             ],
             [
              0.7777777777777778,
              "#fb9f3a"
             ],
             [
              0.8888888888888888,
              "#fdca26"
             ],
             [
              1,
              "#f0f921"
             ]
            ],
            "type": "heatmapgl"
           }
          ],
          "histogram": [
           {
            "marker": {
             "pattern": {
              "fillmode": "overlay",
              "size": 10,
              "solidity": 0.2
             }
            },
            "type": "histogram"
           }
          ],
          "histogram2d": [
           {
            "colorbar": {
             "outlinewidth": 0,
             "ticks": ""
            },
            "colorscale": [
             [
              0,
              "#0d0887"
             ],
             [
              0.1111111111111111,
              "#46039f"
             ],
             [
              0.2222222222222222,
              "#7201a8"
             ],
             [
              0.3333333333333333,
              "#9c179e"
             ],
             [
              0.4444444444444444,
              "#bd3786"
             ],
             [
              0.5555555555555556,
              "#d8576b"
             ],
             [
              0.6666666666666666,
              "#ed7953"
             ],
             [
              0.7777777777777778,
              "#fb9f3a"
             ],
             [
              0.8888888888888888,
              "#fdca26"
             ],
             [
              1,
              "#f0f921"
             ]
            ],
            "type": "histogram2d"
           }
          ],
          "histogram2dcontour": [
           {
            "colorbar": {
             "outlinewidth": 0,
             "ticks": ""
            },
            "colorscale": [
             [
              0,
              "#0d0887"
             ],
             [
              0.1111111111111111,
              "#46039f"
             ],
             [
              0.2222222222222222,
              "#7201a8"
             ],
             [
              0.3333333333333333,
              "#9c179e"
             ],
             [
              0.4444444444444444,
              "#bd3786"
             ],
             [
              0.5555555555555556,
              "#d8576b"
             ],
             [
              0.6666666666666666,
              "#ed7953"
             ],
             [
              0.7777777777777778,
              "#fb9f3a"
             ],
             [
              0.8888888888888888,
              "#fdca26"
             ],
             [
              1,
              "#f0f921"
             ]
            ],
            "type": "histogram2dcontour"
           }
          ],
          "mesh3d": [
           {
            "colorbar": {
             "outlinewidth": 0,
             "ticks": ""
            },
            "type": "mesh3d"
           }
          ],
          "parcoords": [
           {
            "line": {
             "colorbar": {
              "outlinewidth": 0,
              "ticks": ""
             }
            },
            "type": "parcoords"
           }
          ],
          "pie": [
           {
            "automargin": true,
            "type": "pie"
           }
          ],
          "scatter": [
           {
            "marker": {
             "colorbar": {
              "outlinewidth": 0,
              "ticks": ""
             }
            },
            "type": "scatter"
           }
          ],
          "scatter3d": [
           {
            "line": {
             "colorbar": {
              "outlinewidth": 0,
              "ticks": ""
             }
            },
            "marker": {
             "colorbar": {
              "outlinewidth": 0,
              "ticks": ""
             }
            },
            "type": "scatter3d"
           }
          ],
          "scattercarpet": [
           {
            "marker": {
             "colorbar": {
              "outlinewidth": 0,
              "ticks": ""
             }
            },
            "type": "scattercarpet"
           }
          ],
          "scattergeo": [
           {
            "marker": {
             "colorbar": {
              "outlinewidth": 0,
              "ticks": ""
             }
            },
            "type": "scattergeo"
           }
          ],
          "scattergl": [
           {
            "marker": {
             "colorbar": {
              "outlinewidth": 0,
              "ticks": ""
             }
            },
            "type": "scattergl"
           }
          ],
          "scattermapbox": [
           {
            "marker": {
             "colorbar": {
              "outlinewidth": 0,
              "ticks": ""
             }
            },
            "type": "scattermapbox"
           }
          ],
          "scatterpolar": [
           {
            "marker": {
             "colorbar": {
              "outlinewidth": 0,
              "ticks": ""
             }
            },
            "type": "scatterpolar"
           }
          ],
          "scatterpolargl": [
           {
            "marker": {
             "colorbar": {
              "outlinewidth": 0,
              "ticks": ""
             }
            },
            "type": "scatterpolargl"
           }
          ],
          "scatterternary": [
           {
            "marker": {
             "colorbar": {
              "outlinewidth": 0,
              "ticks": ""
             }
            },
            "type": "scatterternary"
           }
          ],
          "surface": [
           {
            "colorbar": {
             "outlinewidth": 0,
             "ticks": ""
            },
            "colorscale": [
             [
              0,
              "#0d0887"
             ],
             [
              0.1111111111111111,
              "#46039f"
             ],
             [
              0.2222222222222222,
              "#7201a8"
             ],
             [
              0.3333333333333333,
              "#9c179e"
             ],
             [
              0.4444444444444444,
              "#bd3786"
             ],
             [
              0.5555555555555556,
              "#d8576b"
             ],
             [
              0.6666666666666666,
              "#ed7953"
             ],
             [
              0.7777777777777778,
              "#fb9f3a"
             ],
             [
              0.8888888888888888,
              "#fdca26"
             ],
             [
              1,
              "#f0f921"
             ]
            ],
            "type": "surface"
           }
          ],
          "table": [
           {
            "cells": {
             "fill": {
              "color": "#EBF0F8"
             },
             "line": {
              "color": "white"
             }
            },
            "header": {
             "fill": {
              "color": "#C8D4E3"
             },
             "line": {
              "color": "white"
             }
            },
            "type": "table"
           }
          ]
         },
         "layout": {
          "annotationdefaults": {
           "arrowcolor": "#2a3f5f",
           "arrowhead": 0,
           "arrowwidth": 1
          },
          "autotypenumbers": "strict",
          "coloraxis": {
           "colorbar": {
            "outlinewidth": 0,
            "ticks": ""
           }
          },
          "colorscale": {
           "diverging": [
            [
             0,
             "#8e0152"
            ],
            [
             0.1,
             "#c51b7d"
            ],
            [
             0.2,
             "#de77ae"
            ],
            [
             0.3,
             "#f1b6da"
            ],
            [
             0.4,
             "#fde0ef"
            ],
            [
             0.5,
             "#f7f7f7"
            ],
            [
             0.6,
             "#e6f5d0"
            ],
            [
             0.7,
             "#b8e186"
            ],
            [
             0.8,
             "#7fbc41"
            ],
            [
             0.9,
             "#4d9221"
            ],
            [
             1,
             "#276419"
            ]
           ],
           "sequential": [
            [
             0,
             "#0d0887"
            ],
            [
             0.1111111111111111,
             "#46039f"
            ],
            [
             0.2222222222222222,
             "#7201a8"
            ],
            [
             0.3333333333333333,
             "#9c179e"
            ],
            [
             0.4444444444444444,
             "#bd3786"
            ],
            [
             0.5555555555555556,
             "#d8576b"
            ],
            [
             0.6666666666666666,
             "#ed7953"
            ],
            [
             0.7777777777777778,
             "#fb9f3a"
            ],
            [
             0.8888888888888888,
             "#fdca26"
            ],
            [
             1,
             "#f0f921"
            ]
           ],
           "sequentialminus": [
            [
             0,
             "#0d0887"
            ],
            [
             0.1111111111111111,
             "#46039f"
            ],
            [
             0.2222222222222222,
             "#7201a8"
            ],
            [
             0.3333333333333333,
             "#9c179e"
            ],
            [
             0.4444444444444444,
             "#bd3786"
            ],
            [
             0.5555555555555556,
             "#d8576b"
            ],
            [
             0.6666666666666666,
             "#ed7953"
            ],
            [
             0.7777777777777778,
             "#fb9f3a"
            ],
            [
             0.8888888888888888,
             "#fdca26"
            ],
            [
             1,
             "#f0f921"
            ]
           ]
          },
          "colorway": [
           "#636efa",
           "#EF553B",
           "#00cc96",
           "#ab63fa",
           "#FFA15A",
           "#19d3f3",
           "#FF6692",
           "#B6E880",
           "#FF97FF",
           "#FECB52"
          ],
          "font": {
           "color": "#2a3f5f"
          },
          "geo": {
           "bgcolor": "white",
           "lakecolor": "white",
           "landcolor": "#E5ECF6",
           "showlakes": true,
           "showland": true,
           "subunitcolor": "white"
          },
          "hoverlabel": {
           "align": "left"
          },
          "hovermode": "closest",
          "mapbox": {
           "style": "light"
          },
          "paper_bgcolor": "white",
          "plot_bgcolor": "#E5ECF6",
          "polar": {
           "angularaxis": {
            "gridcolor": "white",
            "linecolor": "white",
            "ticks": ""
           },
           "bgcolor": "#E5ECF6",
           "radialaxis": {
            "gridcolor": "white",
            "linecolor": "white",
            "ticks": ""
           }
          },
          "scene": {
           "xaxis": {
            "backgroundcolor": "#E5ECF6",
            "gridcolor": "white",
            "gridwidth": 2,
            "linecolor": "white",
            "showbackground": true,
            "ticks": "",
            "zerolinecolor": "white"
           },
           "yaxis": {
            "backgroundcolor": "#E5ECF6",
            "gridcolor": "white",
            "gridwidth": 2,
            "linecolor": "white",
            "showbackground": true,
            "ticks": "",
            "zerolinecolor": "white"
           },
           "zaxis": {
            "backgroundcolor": "#E5ECF6",
            "gridcolor": "white",
            "gridwidth": 2,
            "linecolor": "white",
            "showbackground": true,
            "ticks": "",
            "zerolinecolor": "white"
           }
          },
          "shapedefaults": {
           "line": {
            "color": "#2a3f5f"
           }
          },
          "ternary": {
           "aaxis": {
            "gridcolor": "white",
            "linecolor": "white",
            "ticks": ""
           },
           "baxis": {
            "gridcolor": "white",
            "linecolor": "white",
            "ticks": ""
           },
           "bgcolor": "#E5ECF6",
           "caxis": {
            "gridcolor": "white",
            "linecolor": "white",
            "ticks": ""
           }
          },
          "title": {
           "x": 0.05
          },
          "xaxis": {
           "automargin": true,
           "gridcolor": "white",
           "linecolor": "white",
           "ticks": "",
           "title": {
            "standoff": 15
           },
           "zerolinecolor": "white",
           "zerolinewidth": 2
          },
          "yaxis": {
           "automargin": true,
           "gridcolor": "white",
           "linecolor": "white",
           "ticks": "",
           "title": {
            "standoff": 15
           },
           "zerolinecolor": "white",
           "zerolinewidth": 2
          }
         }
        },
        "xaxis": {
         "anchor": "y",
         "domain": [
          0,
          1
         ],
         "title": {
          "text": "dates"
         }
        },
        "yaxis": {
         "anchor": "x",
         "domain": [
          0,
          1
         ],
         "title": {
          "text": "Percent Change"
         }
        }
       }
      }
     },
     "metadata": {},
     "output_type": "display_data"
    }
   ],
   "source": [
    "#build price percent Changes Graph\n",
    "dfPercents = dfPrices\n",
    "dfPercents = dfPercents.set_index('dates')\n",
    "dfPercents = dfPercents.pct_change()\n",
    "display(dfPercents.head(5))\n",
    "#the default y axis label was value so thats why it is being changed below\n",
    "fig = px.line(dfPercents, labels = {'value': 'Percent Change', 'variable': 'coin'})\n",
    "py.offline.plot(fig, filename='pricePercentChangesLines.html')\n",
    "\n",
    "fig.show()\n"
   ]
  },
  {
   "cell_type": "code",
   "execution_count": null,
   "metadata": {},
   "outputs": [
    {
     "data": {
      "application/vnd.plotly.v1+json": {
       "config": {
        "plotlyServerURL": "https://plot.ly"
       },
       "data": [
        {
         "hovertemplate": "variable=ethereum<br>dates=%{x}<br>value=%{y}<extra></extra>",
         "legendgroup": "ethereum",
         "line": {
          "color": "#636efa",
          "dash": "solid"
         },
         "marker": {
          "symbol": "circle"
         },
         "mode": "lines",
         "name": "ethereum",
         "orientation": "v",
         "showlegend": true,
         "type": "scatter",
         "x": [
          "09-10-2021",
          "10-10-2021",
          "11-10-2021",
          "12-10-2021",
          "13-10-2021",
          "14-10-2021",
          "15-10-2021",
          "16-10-2021",
          "17-10-2021",
          "18-10-2021",
          "19-10-2021",
          "20-10-2021",
          "21-10-2021",
          "22-10-2021",
          "23-10-2021",
          "24-10-2021",
          "25-10-2021",
          "26-10-2021",
          "27-10-2021",
          "28-10-2021",
          "29-10-2021",
          "30-10-2021",
          "31-10-2021",
          "01-11-2021",
          "02-11-2021",
          "03-11-2021",
          "04-11-2021",
          "05-11-2021",
          "06-11-2021",
          "07-11-2021",
          "08-11-2021",
          "09-11-2021",
          "10-11-2021",
          "11-11-2021",
          "12-11-2021",
          "13-11-2021",
          "14-11-2021",
          "15-11-2021",
          "16-11-2021",
          "17-11-2021",
          "18-11-2021",
          "19-11-2021",
          "20-11-2021",
          "21-11-2021",
          "22-11-2021",
          "23-11-2021",
          "24-11-2021",
          "25-11-2021",
          "26-11-2021",
          "27-11-2021",
          "28-11-2021",
          "29-11-2021",
          "30-11-2021",
          "01-12-2021",
          "02-12-2021",
          "03-12-2021",
          "04-12-2021",
          "05-12-2021",
          "06-12-2021",
          "07-12-2021",
          "08-12-2021"
         ],
         "xaxis": "x",
         "y": [
          3588.0809215501645,
          3431.0193069150096,
          3537.840087124068,
          3498.1052921206597,
          3605.6503342981764,
          3794.516888224821,
          3885.641764529699,
          3854.498461449342,
          3854.223686940845,
          3752.61872738495,
          3884.5872952429017,
          4170.107932886265,
          4074.8601575202883,
          3990.711976433473,
          4179.44229816945,
          4094.9389934187225,
          4230.208371594039,
          4152.570288731245,
          3944.090861781322,
          4288.09721878663,
          4422.940535593754,
          4324.6099257118785,
          4292.04047236198,
          4330.553151595248,
          4596.59309058429,
          4607.699273078144,
          4550.014435142697,
          4494.80276090967,
          4527.104154150622,
          4626.6292884486975,
          4815.004634322234,
          4742.08091060724,
          4641.528764849704,
          4732.9244503493555,
          4685.10635551733,
          4666.498498194288,
          4652.947394238871,
          4583.211418759011,
          4243.352906802173,
          4302.804958962834,
          3993.846595161859,
          4317.603195646166,
          4436.192766930451,
          4319.361566856902,
          4101.062876490145,
          4355.420957796475,
          4269.437219728043,
          4515.843300142739,
          4048.3128440761725,
          4084.0884856959556,
          4290.091862536401,
          4444.528279821561,
          4637.121616831405,
          4589.610617539151,
          4519.441028028784,
          4240.155516808957,
          4101.656791810778,
          4198.572874562462,
          4347.615630598069,
          4310.566646424531,
          4397.902585108768
         ],
         "yaxis": "y"
        },
        {
         "hovertemplate": "variable=bitcoin<br>dates=%{x}<br>value=%{y}<extra></extra>",
         "legendgroup": "bitcoin",
         "line": {
          "color": "#EF553B",
          "dash": "solid"
         },
         "marker": {
          "symbol": "circle"
         },
         "mode": "lines",
         "name": "bitcoin",
         "orientation": "v",
         "showlegend": true,
         "type": "scatter",
         "x": [
          "09-10-2021",
          "10-10-2021",
          "11-10-2021",
          "12-10-2021",
          "13-10-2021",
          "14-10-2021",
          "15-10-2021",
          "16-10-2021",
          "17-10-2021",
          "18-10-2021",
          "19-10-2021",
          "20-10-2021",
          "21-10-2021",
          "22-10-2021",
          "23-10-2021",
          "24-10-2021",
          "25-10-2021",
          "26-10-2021",
          "27-10-2021",
          "28-10-2021",
          "29-10-2021",
          "30-10-2021",
          "31-10-2021",
          "01-11-2021",
          "02-11-2021",
          "03-11-2021",
          "04-11-2021",
          "05-11-2021",
          "06-11-2021",
          "07-11-2021",
          "08-11-2021",
          "09-11-2021",
          "10-11-2021",
          "11-11-2021",
          "12-11-2021",
          "13-11-2021",
          "14-11-2021",
          "15-11-2021",
          "16-11-2021",
          "17-11-2021",
          "18-11-2021",
          "19-11-2021",
          "20-11-2021",
          "21-11-2021",
          "22-11-2021",
          "23-11-2021",
          "24-11-2021",
          "25-11-2021",
          "26-11-2021",
          "27-11-2021",
          "28-11-2021",
          "29-11-2021",
          "30-11-2021",
          "01-12-2021",
          "02-12-2021",
          "03-12-2021",
          "04-12-2021",
          "05-12-2021",
          "06-12-2021",
          "07-12-2021",
          "08-12-2021"
         ],
         "xaxis": "x",
         "y": [
          55125.460337680444,
          54711.86959664297,
          57572.510855596534,
          56335.035460511535,
          57487.985880422195,
          57452.43178503547,
          61809.02394427028,
          61165.63564211521,
          61583.77443961336,
          62017.972725178704,
          64517.64856042277,
          66237.51755029388,
          62541.08693293518,
          61029.27093182092,
          61572.14043422243,
          61173.1663907232,
          63228.21382584213,
          60604.18888794746,
          58641.00147419492,
          60767.55585206728,
          62283.19805587354,
          61837.257002978935,
          61471.86846276259,
          61121.83120106507,
          63247.20896127831,
          63130.94235171542,
          61601.74357204975,
          61247.38494217787,
          61661.35866372036,
          63153.230193019495,
          67617.0155448617,
          67145.37493537061,
          65061.05440696283,
          65005.64515956679,
          64432.04794734522,
          64660.33535267343,
          65648.97779110243,
          63933.835442599324,
          60448.56251258625,
          60603.65586738653,
          56987.32233855049,
          58459.25551667463,
          60082.91166841709,
          59139.779279527174,
          56386.856853152145,
          57748.79317378856,
          57198.18384629529,
          58897.84698299794,
          53827.792865034724,
          54533.40388242691,
          57237.66113709043,
          57848.77353712989,
          57011.28047424234,
          57169.37199381056,
          56508.26805402271,
          53785.96717237922,
          49161.99070957517,
          49268.46989053938,
          50461.57683653979,
          50647.66340635755,
          50550.81775852308
         ],
         "yaxis": "y"
        },
        {
         "hovertemplate": "variable=binancecoin<br>dates=%{x}<br>value=%{y}<extra></extra>",
         "legendgroup": "binancecoin",
         "line": {
          "color": "#00cc96",
          "dash": "solid"
         },
         "marker": {
          "symbol": "circle"
         },
         "mode": "lines",
         "name": "binancecoin",
         "orientation": "v",
         "showlegend": true,
         "type": "scatter",
         "x": [
          "09-10-2021",
          "10-10-2021",
          "11-10-2021",
          "12-10-2021",
          "13-10-2021",
          "14-10-2021",
          "15-10-2021",
          "16-10-2021",
          "17-10-2021",
          "18-10-2021",
          "19-10-2021",
          "20-10-2021",
          "21-10-2021",
          "22-10-2021",
          "23-10-2021",
          "24-10-2021",
          "25-10-2021",
          "26-10-2021",
          "27-10-2021",
          "28-10-2021",
          "29-10-2021",
          "30-10-2021",
          "31-10-2021",
          "01-11-2021",
          "02-11-2021",
          "03-11-2021",
          "04-11-2021",
          "05-11-2021",
          "06-11-2021",
          "07-11-2021",
          "08-11-2021",
          "09-11-2021",
          "10-11-2021",
          "11-11-2021",
          "12-11-2021",
          "13-11-2021",
          "14-11-2021",
          "15-11-2021",
          "16-11-2021",
          "17-11-2021",
          "18-11-2021",
          "19-11-2021",
          "20-11-2021",
          "21-11-2021",
          "22-11-2021",
          "23-11-2021",
          "24-11-2021",
          "25-11-2021",
          "26-11-2021",
          "27-11-2021",
          "28-11-2021",
          "29-11-2021",
          "30-11-2021",
          "01-12-2021",
          "02-12-2021",
          "03-12-2021",
          "04-12-2021",
          "05-12-2021",
          "06-12-2021",
          "07-12-2021",
          "08-12-2021"
         ],
         "xaxis": "x",
         "y": [
          422.312499600526,
          404.32984207958265,
          412.9041662172662,
          440.36732782218525,
          469.5721483361627,
          471.83904758364673,
          476.06043685916666,
          467.81392063599463,
          470.6037423333306,
          484.96283076555414,
          488.5758698597108,
          503.12263901994754,
          472.6932063610324,
          481.1525290008791,
          484.83585324776277,
          477.9704015575551,
          487.15211541381655,
          478.44458996042187,
          450.85609413572087,
          491.7140407371403,
          529.2882472230272,
          526.9439227746522,
          524.7049325140741,
          551.2885678600875,
          555.3427586577659,
          569.4164593460114,
          561.0755439359384,
          607.3883112866952,
          636.0540957346044,
          650.4955187419658,
          654.5480093929862,
          636.9276179113473,
          611.442280988011,
          629.7114198219757,
          629.0951051768023,
          652.233781780782,
          654.6251958260524,
          635.7060101886829,
          591.3491128080688,
          580.0133147253715,
          530.9570129634238,
          584.2926021273962,
          605.5286170448769,
          590.2541189074999,
          559.9888491894189,
          593.4866916637089,
          591.4138284048736,
          638.1682733737293,
          585.565593002117,
          598.0658826532297,
          611.4482335847231,
          623.8191584314648,
          624.0478871415212,
          627.5298135272164,
          620.5070871087867,
          596.4043662845299,
          567.2495179476927,
          555.8212703932991,
          588.4348263784073,
          578.5399946338938,
          595.1872603673859
         ],
         "yaxis": "y"
        },
        {
         "hovertemplate": "variable=solana<br>dates=%{x}<br>value=%{y}<extra></extra>",
         "legendgroup": "solana",
         "line": {
          "color": "#ab63fa",
          "dash": "solid"
         },
         "marker": {
          "symbol": "circle"
         },
         "mode": "lines",
         "name": "solana",
         "orientation": "v",
         "showlegend": true,
         "type": "scatter",
         "x": [
          "09-10-2021",
          "10-10-2021",
          "11-10-2021",
          "12-10-2021",
          "13-10-2021",
          "14-10-2021",
          "15-10-2021",
          "16-10-2021",
          "17-10-2021",
          "18-10-2021",
          "19-10-2021",
          "20-10-2021",
          "21-10-2021",
          "22-10-2021",
          "23-10-2021",
          "24-10-2021",
          "25-10-2021",
          "26-10-2021",
          "27-10-2021",
          "28-10-2021",
          "29-10-2021",
          "30-10-2021",
          "31-10-2021",
          "01-11-2021",
          "02-11-2021",
          "03-11-2021",
          "04-11-2021",
          "05-11-2021",
          "06-11-2021",
          "07-11-2021",
          "08-11-2021",
          "09-11-2021",
          "10-11-2021",
          "11-11-2021",
          "12-11-2021",
          "13-11-2021",
          "14-11-2021",
          "15-11-2021",
          "16-11-2021",
          "17-11-2021",
          "18-11-2021",
          "19-11-2021",
          "20-11-2021",
          "21-11-2021",
          "22-11-2021",
          "23-11-2021",
          "24-11-2021",
          "25-11-2021",
          "26-11-2021",
          "27-11-2021",
          "28-11-2021",
          "29-11-2021",
          "30-11-2021",
          "01-12-2021",
          "02-12-2021",
          "03-12-2021",
          "04-12-2021",
          "05-12-2021",
          "06-12-2021",
          "07-12-2021",
          "08-12-2021"
         ],
         "xaxis": "x",
         "y": [
          157.3354214402797,
          147.69627281665322,
          144.85910794492872,
          152.00078829875227,
          148.39205395880688,
          150.09136322362892,
          162.9821748166483,
          158.27370286236626,
          159.86349202431006,
          157.37532489090881,
          156.39068064885493,
          175.60195629220317,
          189.05931890382809,
          197.83389968834183,
          198.30695225047282,
          203.16528895289179,
          211.19080150794161,
          199.75011389046043,
          183.54274956995576,
          195.08625966302498,
          199.7845325480303,
          193.33785373845146,
          202.39144718715852,
          203.81420779167425,
          220.65381148740764,
          242.04614187434888,
          249.06288567609292,
          237.88946143331174,
          259.23955828664066,
          250.36479323196647,
          248.8224986641578,
          239.42042668071062,
          233.07366976619127,
          234.8643324134869,
          229.39855731141944,
          241.33480045995515,
          239.51447253719712,
          238.76462750446106,
          220.09764163324894,
          219.10555534624334,
          195.0785065693146,
          215.83494421153327,
          218.32939968667216,
          232.44114562844396,
          216.39900684614148,
          222.09815823221743,
          205.54865275061945,
          209.79215190984442,
          192.14742617788187,
          192.13619982447634,
          200.46141949418416,
          204.35042327956776,
          208.705589094445,
          229.4487239706693,
          232.57222783967566,
          212.13388531266622,
          200.94131044922477,
          196.56894708665507,
          193.89173190285274,
          190.37257114243482,
          194.0905894486627
         ],
         "yaxis": "y"
        },
        {
         "hovertemplate": "variable=polkadot<br>dates=%{x}<br>value=%{y}<extra></extra>",
         "legendgroup": "polkadot",
         "line": {
          "color": "#FFA15A",
          "dash": "solid"
         },
         "marker": {
          "symbol": "circle"
         },
         "mode": "lines",
         "name": "polkadot",
         "orientation": "v",
         "showlegend": true,
         "type": "scatter",
         "x": [
          "09-10-2021",
          "10-10-2021",
          "11-10-2021",
          "12-10-2021",
          "13-10-2021",
          "14-10-2021",
          "15-10-2021",
          "16-10-2021",
          "17-10-2021",
          "18-10-2021",
          "19-10-2021",
          "20-10-2021",
          "21-10-2021",
          "22-10-2021",
          "23-10-2021",
          "24-10-2021",
          "25-10-2021",
          "26-10-2021",
          "27-10-2021",
          "28-10-2021",
          "29-10-2021",
          "30-10-2021",
          "31-10-2021",
          "01-11-2021",
          "02-11-2021",
          "03-11-2021",
          "04-11-2021",
          "05-11-2021",
          "06-11-2021",
          "07-11-2021",
          "08-11-2021",
          "09-11-2021",
          "10-11-2021",
          "11-11-2021",
          "12-11-2021",
          "13-11-2021",
          "14-11-2021",
          "15-11-2021",
          "16-11-2021",
          "17-11-2021",
          "18-11-2021",
          "19-11-2021",
          "20-11-2021",
          "21-11-2021",
          "22-11-2021",
          "23-11-2021",
          "24-11-2021",
          "25-11-2021",
          "26-11-2021",
          "27-11-2021",
          "28-11-2021",
          "29-11-2021",
          "30-11-2021",
          "01-12-2021",
          "02-12-2021",
          "03-12-2021",
          "04-12-2021",
          "05-12-2021",
          "06-12-2021",
          "07-12-2021",
          "08-12-2021"
         ],
         "xaxis": "x",
         "y": [
          36.373698468386564,
          34.34298721225934,
          34.113785679254384,
          35.13048155416554,
          41.72781217437264,
          40.720592122011716,
          43.5866296137355,
          41.968290433109175,
          42.12994623897843,
          41.14152379788144,
          41.420230493727836,
          44.55324022965871,
          43.00191330948035,
          43.76861008364971,
          44.12639396425712,
          42.52360241274431,
          44.59331921239614,
          45.302770817549685,
          40.48819618495527,
          42.073440498286715,
          44.12376816409454,
          42.736192329791095,
          42.81690939370991,
          50.09269045865121,
          51.27829191261836,
          53.33615766815946,
          54.14285984546231,
          51.990745657999035,
          52.07770442889012,
          52.39636639694776,
          53.39305737496087,
          50.96942903851561,
          46.99648883017275,
          47.82785067139819,
          46.11537592517483,
          47.275224791841616,
          46.591442711863266,
          44.93714053035325,
          41.18319811384895,
          42.6861490104601,
          38.926188899913996,
          41.42920166167476,
          42.184786086687964,
          42.58084389913225,
          39.460313920693075,
          40.89380081135477,
          38.338259845831686,
          39.3973876308258,
          34.607328982708594,
          34.95133852170145,
          35.64442850483728,
          37.1882620027123,
          38.003426416904354,
          36.69905708848537,
          35.72071372962105,
          33.797058582536444,
          29.277802791950165,
          28.290659708129795,
          28.275803567681336,
          30.343726589287844,
          29.5335682351132
         ],
         "yaxis": "y"
        },
        {
         "hovertemplate": "variable=flow<br>dates=%{x}<br>value=%{y}<extra></extra>",
         "legendgroup": "flow",
         "line": {
          "color": "#19d3f3",
          "dash": "solid"
         },
         "marker": {
          "symbol": "circle"
         },
         "mode": "lines",
         "name": "flow",
         "orientation": "v",
         "showlegend": true,
         "type": "scatter",
         "x": [
          "09-10-2021",
          "10-10-2021",
          "11-10-2021",
          "12-10-2021",
          "13-10-2021",
          "14-10-2021",
          "15-10-2021",
          "16-10-2021",
          "17-10-2021",
          "18-10-2021",
          "19-10-2021",
          "20-10-2021",
          "21-10-2021",
          "22-10-2021",
          "23-10-2021",
          "24-10-2021",
          "25-10-2021",
          "26-10-2021",
          "27-10-2021",
          "28-10-2021",
          "29-10-2021",
          "30-10-2021",
          "31-10-2021",
          "01-11-2021",
          "02-11-2021",
          "03-11-2021",
          "04-11-2021",
          "05-11-2021",
          "06-11-2021",
          "07-11-2021",
          "08-11-2021",
          "09-11-2021",
          "10-11-2021",
          "11-11-2021",
          "12-11-2021",
          "13-11-2021",
          "14-11-2021",
          "15-11-2021",
          "16-11-2021",
          "17-11-2021",
          "18-11-2021",
          "19-11-2021",
          "20-11-2021",
          "21-11-2021",
          "22-11-2021",
          "23-11-2021",
          "24-11-2021",
          "25-11-2021",
          "26-11-2021",
          "27-11-2021",
          "28-11-2021",
          "29-11-2021",
          "30-11-2021",
          "01-12-2021",
          "02-12-2021",
          "03-12-2021",
          "04-12-2021",
          "05-12-2021",
          "06-12-2021",
          "07-12-2021",
          "08-12-2021"
         ],
         "xaxis": "x",
         "y": [
          19.93175821947432,
          19.14860686072619,
          18.800931270445883,
          17.90455537588393,
          18.649851310667465,
          18.67941558449835,
          17.613649091132757,
          16.615039868366942,
          15.434140636131156,
          14.803458525107105,
          13.363294474459927,
          14.12749137197505,
          14.505709095947145,
          13.69690954484906,
          13.39113916447689,
          13.192268439612512,
          13.468981655797654,
          13.128731936156795,
          11.872566600562982,
          12.758269191309601,
          13.674938279936491,
          14.83746273823419,
          14.015152250840483,
          14.103429505712688,
          14.379415021318964,
          14.014139955075818,
          13.9074800835692,
          13.937819568377233,
          13.850442673729077,
          13.84220073103794,
          13.97212768767311,
          13.68860359347672,
          12.90445192031133,
          13.186514584573409,
          12.883924074198704,
          13.216018381013733,
          13.052063982889353,
          13.310325341640604,
          12.675122005781152,
          12.598074955481597,
          11.714015387961986,
          12.391913151476567,
          12.959034926980177,
          14.042448113797569,
          13.485398000392506,
          13.209235004226136,
          13.023947129430931,
          13.236288605831657,
          11.703057672966162,
          11.821433955291148,
          12.26924609823827,
          12.803238988863525,
          12.420903892929017,
          12.293802235640843,
          12.048637735853125,
          11.582592474794893,
          9.90833025802307,
          9.23254632595712,
          9.629048455681868,
          10.069483764782737,
          9.980373755415656
         ],
         "yaxis": "y"
        },
        {
         "hovertemplate": "variable=dogecoin<br>dates=%{x}<br>value=%{y}<extra></extra>",
         "legendgroup": "dogecoin",
         "line": {
          "color": "#FF6692",
          "dash": "solid"
         },
         "marker": {
          "symbol": "circle"
         },
         "mode": "lines",
         "name": "dogecoin",
         "orientation": "v",
         "showlegend": true,
         "type": "scatter",
         "x": [
          "09-10-2021",
          "10-10-2021",
          "11-10-2021",
          "12-10-2021",
          "13-10-2021",
          "14-10-2021",
          "15-10-2021",
          "16-10-2021",
          "17-10-2021",
          "18-10-2021",
          "19-10-2021",
          "20-10-2021",
          "21-10-2021",
          "22-10-2021",
          "23-10-2021",
          "24-10-2021",
          "25-10-2021",
          "26-10-2021",
          "27-10-2021",
          "28-10-2021",
          "29-10-2021",
          "30-10-2021",
          "31-10-2021",
          "01-11-2021",
          "02-11-2021",
          "03-11-2021",
          "04-11-2021",
          "05-11-2021",
          "06-11-2021",
          "07-11-2021",
          "08-11-2021",
          "09-11-2021",
          "10-11-2021",
          "11-11-2021",
          "12-11-2021",
          "13-11-2021",
          "14-11-2021",
          "15-11-2021",
          "16-11-2021",
          "17-11-2021",
          "18-11-2021",
          "19-11-2021",
          "20-11-2021",
          "21-11-2021",
          "22-11-2021",
          "23-11-2021",
          "24-11-2021",
          "25-11-2021",
          "26-11-2021",
          "27-11-2021",
          "28-11-2021",
          "29-11-2021",
          "30-11-2021",
          "01-12-2021",
          "02-12-2021",
          "03-12-2021",
          "04-12-2021",
          "05-12-2021",
          "06-12-2021",
          "07-12-2021",
          "08-12-2021"
         ],
         "xaxis": "x",
         "y": [
          0.24716356106257545,
          0.229298522141921,
          0.23196129773287655,
          0.2263515301501407,
          0.23276291248391703,
          0.2329815779035106,
          0.2350381641861114,
          0.23855822537226365,
          0.23793634241308986,
          0.24612225013565267,
          0.2465485091014073,
          0.2545175092518988,
          0.2435266371105627,
          0.2464264759093598,
          0.25150006214732923,
          0.2782965506749392,
          0.2650112759335166,
          0.2567812591967884,
          0.23916652646337397,
          0.2995789681003715,
          0.28881407358628575,
          0.26829808133516186,
          0.2797672945972982,
          0.2720819954461944,
          0.2738800037704003,
          0.2696882831292653,
          0.26360925319952727,
          0.26180727637264484,
          0.2625128886551967,
          0.2665908635240278,
          0.28227162277297907,
          0.2741617172398139,
          0.2557342500886513,
          0.2614002631121316,
          0.25935007994214093,
          0.2624359135516636,
          0.26446795787413097,
          0.25799649155461535,
          0.23878116456333076,
          0.2388729208283108,
          0.22168020848216033,
          0.23425958210877282,
          0.2346610364245806,
          0.2286688512887237,
          0.2202229553752214,
          0.22655597612615405,
          0.21828038424985471,
          0.22160764664128546,
          0.20242257043486367,
          0.20438248218290248,
          0.20753388279760462,
          0.21524073233893745,
          0.21498255296764252,
          0.20948652037683213,
          0.20973199432787948,
          0.20126150991375855,
          0.17898655532035213,
          0.1713652831742167,
          0.1782806089841317,
          0.1771610649609511,
          0.180540752940283
         ],
         "yaxis": "y"
        },
        {
         "hovertemplate": "variable=audius<br>dates=%{x}<br>value=%{y}<extra></extra>",
         "legendgroup": "audius",
         "line": {
          "color": "#B6E880",
          "dash": "solid"
         },
         "marker": {
          "symbol": "circle"
         },
         "mode": "lines",
         "name": "audius",
         "orientation": "v",
         "showlegend": true,
         "type": "scatter",
         "x": [
          "09-10-2021",
          "10-10-2021",
          "11-10-2021",
          "12-10-2021",
          "13-10-2021",
          "14-10-2021",
          "15-10-2021",
          "16-10-2021",
          "17-10-2021",
          "18-10-2021",
          "19-10-2021",
          "20-10-2021",
          "21-10-2021",
          "22-10-2021",
          "23-10-2021",
          "24-10-2021",
          "25-10-2021",
          "26-10-2021",
          "27-10-2021",
          "28-10-2021",
          "29-10-2021",
          "30-10-2021",
          "31-10-2021",
          "01-11-2021",
          "02-11-2021",
          "03-11-2021",
          "04-11-2021",
          "05-11-2021",
          "06-11-2021",
          "07-11-2021",
          "08-11-2021",
          "09-11-2021",
          "10-11-2021",
          "11-11-2021",
          "12-11-2021",
          "13-11-2021",
          "14-11-2021",
          "15-11-2021",
          "16-11-2021",
          "17-11-2021",
          "18-11-2021",
          "19-11-2021",
          "20-11-2021",
          "21-11-2021",
          "22-11-2021",
          "23-11-2021",
          "24-11-2021",
          "25-11-2021",
          "26-11-2021",
          "27-11-2021",
          "28-11-2021",
          "29-11-2021",
          "30-11-2021",
          "01-12-2021",
          "02-12-2021",
          "03-12-2021",
          "04-12-2021",
          "05-12-2021",
          "06-12-2021",
          "07-12-2021",
          "08-12-2021"
         ],
         "xaxis": "x",
         "y": [
          2.1166922976240743,
          1.9724242776431227,
          2.0195336514691293,
          1.9570326582425341,
          2.009092257063528,
          2.031406996775459,
          2.057261293615371,
          2.0456177830025286,
          1.9711125580822861,
          1.942957831366649,
          1.9572142039370295,
          2.034664649392072,
          1.9721414610742272,
          2.058810052298726,
          2.1466847637189543,
          2.217194857493617,
          2.401733825408797,
          2.23069230167426,
          1.9339709714991142,
          1.9786244641064223,
          2.0484359156071235,
          2.312323889209843,
          2.220791963095394,
          2.308739923848386,
          2.5630478331800015,
          2.6382618882201068,
          2.6365705659115446,
          2.5947933568474237,
          2.540820766691431,
          2.5945580229172807,
          2.6781773132842353,
          2.620840526632261,
          2.341233792337043,
          2.3621223436671768,
          2.2785033763214044,
          2.392281573121251,
          2.5563477354657373,
          2.4022562026333696,
          2.1688302874465992,
          2.2769934637484206,
          2.1306833878099924,
          2.1975282216698595,
          2.265177726092312,
          2.246870391348583,
          2.0790640528831323,
          2.7918233154926373,
          2.5999135433899427,
          2.437833023036824,
          2.1809144420765754,
          2.411792043814679,
          2.4259138052663536,
          2.4069265510953226,
          2.3056911894279253,
          2.359353326983343,
          2.2438397135091153,
          2.1801416511890075,
          1.8830175463440706,
          1.717372911218861,
          1.7538163085186254,
          1.72926106595604,
          1.7596790862315563
         ],
         "yaxis": "y"
        },
        {
         "hovertemplate": "variable=brokoli<br>dates=%{x}<br>value=%{y}<extra></extra>",
         "legendgroup": "brokoli",
         "line": {
          "color": "#FF97FF",
          "dash": "solid"
         },
         "marker": {
          "symbol": "circle"
         },
         "mode": "lines",
         "name": "brokoli",
         "orientation": "v",
         "showlegend": true,
         "type": "scatter",
         "x": [
          "09-10-2021",
          "10-10-2021",
          "11-10-2021",
          "12-10-2021",
          "13-10-2021",
          "14-10-2021",
          "15-10-2021",
          "16-10-2021",
          "17-10-2021",
          "18-10-2021",
          "19-10-2021",
          "20-10-2021",
          "21-10-2021",
          "22-10-2021",
          "23-10-2021",
          "24-10-2021",
          "25-10-2021",
          "26-10-2021",
          "27-10-2021",
          "28-10-2021",
          "29-10-2021",
          "30-10-2021",
          "31-10-2021",
          "01-11-2021",
          "02-11-2021",
          "03-11-2021",
          "04-11-2021",
          "05-11-2021",
          "06-11-2021",
          "07-11-2021",
          "08-11-2021",
          "09-11-2021",
          "10-11-2021",
          "11-11-2021",
          "12-11-2021",
          "13-11-2021",
          "14-11-2021",
          "15-11-2021",
          "16-11-2021",
          "17-11-2021",
          "18-11-2021",
          "19-11-2021",
          "20-11-2021",
          "21-11-2021",
          "22-11-2021",
          "23-11-2021",
          "24-11-2021",
          "25-11-2021",
          "26-11-2021",
          "27-11-2021",
          "28-11-2021",
          "29-11-2021",
          "30-11-2021",
          "01-12-2021",
          "02-12-2021",
          "03-12-2021",
          "04-12-2021",
          "05-12-2021",
          "06-12-2021",
          "07-12-2021",
          "08-12-2021"
         ],
         "xaxis": "x",
         "y": [
          0.5465838308250353,
          0.5379008597403827,
          0.49418115390346895,
          0.5709613741637625,
          0.623655392503283,
          0.5661425217327885,
          0.5633172892596698,
          0.5275943721281185,
          0.5167493705747058,
          0.49248773175366284,
          0.526721214786792,
          0.4917754246774224,
          0.4969853581074577,
          0.506518710210751,
          0.5131977372910862,
          0.49911572274248706,
          0.4599688698582046,
          0.4661871689866364,
          0.4645197304423761,
          0.4359870781997107,
          0.44551608295123124,
          0.4554502822163995,
          0.4403298004574598,
          0.4537403807240283,
          0.4714993390640785,
          0.5522341311463308,
          0.6668881340437076,
          0.659427670385842,
          0.8449070814386068,
          1.1038610116502297,
          1.3044773858371068,
          1.605416529897056,
          1.2277297627440629,
          1.546437858745152,
          1.2512120187769524,
          1.225779799298526,
          1.1608931377969844,
          1.2950754982481294,
          1.1753238606360885,
          1.0425187624832257,
          1.0564318038303904,
          1.3200368039746904,
          1.3149329565418684,
          1.188368726166326,
          1.0699444978794967,
          1.2436913441315174,
          1.207029085329128,
          1.2838174088492837,
          1.2119306026871934,
          1.270884112057271,
          1.2715460619350047,
          1.6447706446548132,
          1.762750485034721,
          1.5644120092748317,
          1.4321781305535195,
          1.3907951598912436,
          1.1900966907779837,
          1.4072580781091915,
          1.2211243321702587,
          1.2212093235319479,
          1.312112483521755
         ],
         "yaxis": "y"
        },
        {
         "hovertemplate": "variable=cellframe<br>dates=%{x}<br>value=%{y}<extra></extra>",
         "legendgroup": "cellframe",
         "line": {
          "color": "#FECB52",
          "dash": "solid"
         },
         "marker": {
          "symbol": "circle"
         },
         "mode": "lines",
         "name": "cellframe",
         "orientation": "v",
         "showlegend": true,
         "type": "scatter",
         "x": [
          "09-10-2021",
          "10-10-2021",
          "11-10-2021",
          "12-10-2021",
          "13-10-2021",
          "14-10-2021",
          "15-10-2021",
          "16-10-2021",
          "17-10-2021",
          "18-10-2021",
          "19-10-2021",
          "20-10-2021",
          "21-10-2021",
          "22-10-2021",
          "23-10-2021",
          "24-10-2021",
          "25-10-2021",
          "26-10-2021",
          "27-10-2021",
          "28-10-2021",
          "29-10-2021",
          "30-10-2021",
          "31-10-2021",
          "01-11-2021",
          "02-11-2021",
          "03-11-2021",
          "04-11-2021",
          "05-11-2021",
          "06-11-2021",
          "07-11-2021",
          "08-11-2021",
          "09-11-2021",
          "10-11-2021",
          "11-11-2021",
          "12-11-2021",
          "13-11-2021",
          "14-11-2021",
          "15-11-2021",
          "16-11-2021",
          "17-11-2021",
          "18-11-2021",
          "19-11-2021",
          "20-11-2021",
          "21-11-2021",
          "22-11-2021",
          "23-11-2021",
          "24-11-2021",
          "25-11-2021",
          "26-11-2021",
          "27-11-2021",
          "28-11-2021",
          "29-11-2021",
          "30-11-2021",
          "01-12-2021",
          "02-12-2021",
          "03-12-2021",
          "04-12-2021",
          "05-12-2021",
          "06-12-2021",
          "07-12-2021",
          "08-12-2021"
         ],
         "xaxis": "x",
         "y": [
          1.4858801501102914,
          1.4052555115567573,
          1.3800788390701348,
          1.2352496803119521,
          1.1884238603002724,
          0.908627310752876,
          0.9545321831807937,
          0.856334375230993,
          0.8449302215453252,
          0.8170658210150089,
          0.786858234628304,
          0.9292807776406832,
          0.8494678601000416,
          0.8258103808412847,
          0.9554393381611846,
          0.9176723421565364,
          0.9522781962370279,
          1.1579717461472585,
          1.3798693922437986,
          1.199814249425732,
          1.0569139267967003,
          1.0099669070038024,
          0.9354445825374923,
          0.8622918735414027,
          1.0257976354000506,
          1.019944750775209,
          0.9864406778601861,
          0.9783215458033334,
          1.0173591745182298,
          1.0025134848195585,
          1.2813896276436507,
          1.7362357346781843,
          1.4669790355648327,
          2.2032988029815743,
          2.0250892425976064,
          2.343449818736199,
          3.00684298283656,
          2.732223784060211,
          2.6113612155923374,
          2.442957953831995,
          1.7757331441444408,
          2.2031281465109744,
          2.1892055021042958,
          2.278703372941949,
          2.147273830140577,
          2.3074972944230625,
          1.8566610015317022,
          2.1421198899763803,
          1.6865148048499234,
          1.9229027055067272,
          1.990080142121817,
          2.048812225604916,
          1.9864521680624816,
          2.008590039037807,
          1.9426368229202569,
          1.8012108444316501,
          1.4481374885850034,
          1.4835787353729262,
          1.427279788844701,
          1.5103574073723833,
          1.6306476153560194
         ],
         "yaxis": "y"
        },
        {
         "hovertemplate": "variable=richquack<br>dates=%{x}<br>value=%{y}<extra></extra>",
         "legendgroup": "richquack",
         "line": {
          "color": "#636efa",
          "dash": "solid"
         },
         "marker": {
          "symbol": "circle"
         },
         "mode": "lines",
         "name": "richquack",
         "orientation": "v",
         "showlegend": true,
         "type": "scatter",
         "x": [
          "09-10-2021",
          "10-10-2021",
          "11-10-2021",
          "12-10-2021",
          "13-10-2021",
          "14-10-2021",
          "15-10-2021",
          "16-10-2021",
          "17-10-2021",
          "18-10-2021",
          "19-10-2021",
          "20-10-2021",
          "21-10-2021",
          "22-10-2021",
          "23-10-2021",
          "24-10-2021",
          "25-10-2021",
          "26-10-2021",
          "27-10-2021",
          "28-10-2021",
          "29-10-2021",
          "30-10-2021",
          "31-10-2021",
          "01-11-2021",
          "02-11-2021",
          "03-11-2021",
          "04-11-2021",
          "05-11-2021",
          "06-11-2021",
          "07-11-2021",
          "08-11-2021",
          "09-11-2021",
          "10-11-2021",
          "11-11-2021",
          "12-11-2021",
          "13-11-2021",
          "14-11-2021",
          "15-11-2021",
          "16-11-2021",
          "17-11-2021",
          "18-11-2021",
          "19-11-2021",
          "20-11-2021",
          "21-11-2021",
          "22-11-2021",
          "23-11-2021",
          "24-11-2021",
          "25-11-2021",
          "26-11-2021",
          "27-11-2021",
          "28-11-2021",
          "29-11-2021",
          "30-11-2021",
          "01-12-2021",
          "02-12-2021",
          "03-12-2021",
          "04-12-2021",
          "05-12-2021",
          "06-12-2021",
          "07-12-2021",
          "08-12-2021"
         ],
         "xaxis": "x",
         "y": [
          8.116092810180215e-11,
          8.186944618566592e-11,
          8.842422313667437e-11,
          1.1360800091093904e-10,
          1.194664956197471e-10,
          1.1407069064704709e-10,
          9.856262088953601e-11,
          9.413714608531792e-11,
          9.373134226748021e-11,
          9.412982917378779e-11,
          9.51236664607313e-11,
          9.4291005549205e-11,
          8.364439814677308e-11,
          8.497862012621138e-11,
          8.851473081846373e-11,
          8.916169681595426e-11,
          1.2598744451128255e-10,
          2.5012050844156526e-10,
          2.379732964532982e-10,
          2.2125808141862206e-10,
          2.483035985510007e-10,
          3.2575860536792643e-10,
          9.236249044783509e-10,
          1.078453893184753e-9,
          1.8447059067320734e-9,
          3.2524834430426883e-9,
          1.9174299053101033e-9,
          5.546767895627763e-9,
          1.1613775187015238e-8,
          1.1415517747878221e-8,
          7.3065748974262505e-9,
          7.944626751380552e-9,
          5.987442875941551e-9,
          7.727775060054246e-9,
          5.775012007726778e-9,
          5.994488097321071e-9,
          5.901532457830786e-9,
          4.860039974666055e-9,
          4.685711408772385e-9,
          5.273701072871579e-9,
          4.40337384721579e-9,
          4.689182700810575e-9,
          4.77921566810609e-9,
          4.8347384217814085e-9,
          4.386143162319583e-9,
          4.688416683892052e-9,
          4.2718474711352235e-9,
          4.486010914820594e-9,
          3.63825118549429e-9,
          4.091895565869064e-9,
          3.782029957932779e-9,
          3.588832059694928e-9,
          3.698234107961827e-9,
          3.5351062291774096e-9,
          3.303068925913905e-9,
          3.843113389157188e-9,
          2.766438914913126e-9,
          2.3746143317508357e-9,
          2.0988906100240197e-9,
          2.912276437765651e-9,
          3.015191951596179e-9
         ],
         "yaxis": "y"
        },
        {
         "hovertemplate": "variable=railgun<br>dates=%{x}<br>value=%{y}<extra></extra>",
         "legendgroup": "railgun",
         "line": {
          "color": "#EF553B",
          "dash": "solid"
         },
         "marker": {
          "symbol": "circle"
         },
         "mode": "lines",
         "name": "railgun",
         "orientation": "v",
         "showlegend": true,
         "type": "scatter",
         "x": [
          "09-10-2021",
          "10-10-2021",
          "11-10-2021",
          "12-10-2021",
          "13-10-2021",
          "14-10-2021",
          "15-10-2021",
          "16-10-2021",
          "17-10-2021",
          "18-10-2021",
          "19-10-2021",
          "20-10-2021",
          "21-10-2021",
          "22-10-2021",
          "23-10-2021",
          "24-10-2021",
          "25-10-2021",
          "26-10-2021",
          "27-10-2021",
          "28-10-2021",
          "29-10-2021",
          "30-10-2021",
          "31-10-2021",
          "01-11-2021",
          "02-11-2021",
          "03-11-2021",
          "04-11-2021",
          "05-11-2021",
          "06-11-2021",
          "07-11-2021",
          "08-11-2021",
          "09-11-2021",
          "10-11-2021",
          "11-11-2021",
          "12-11-2021",
          "13-11-2021",
          "14-11-2021",
          "15-11-2021",
          "16-11-2021",
          "17-11-2021",
          "18-11-2021",
          "19-11-2021",
          "20-11-2021",
          "21-11-2021",
          "22-11-2021",
          "23-11-2021",
          "24-11-2021",
          "25-11-2021",
          "26-11-2021",
          "27-11-2021",
          "28-11-2021",
          "29-11-2021",
          "30-11-2021",
          "01-12-2021",
          "02-12-2021",
          "03-12-2021",
          "04-12-2021",
          "05-12-2021",
          "06-12-2021",
          "07-12-2021",
          "08-12-2021"
         ],
         "xaxis": "x",
         "y": [
          0.9459032929240648,
          0.8758071604360068,
          0.8471258884989159,
          0.8210954916579792,
          0.8341231956907629,
          0.8720966896818644,
          0.8460335476309975,
          0.8712531047664558,
          0.8626988275823257,
          0.8053688582598871,
          0.826205605169597,
          0.8765521288177455,
          0.8612000694630682,
          0.8715372879115488,
          0.9160261372848704,
          0.926262758925311,
          0.9377453536019442,
          0.8571439664958852,
          0.8817312707480449,
          1.0205403252046463,
          1.0231122382727815,
          1.0296130984646623,
          1.0606569280451246,
          1.054424470468536,
          1.0490636199711494,
          1.039623697193312,
          1.0789536641928825,
          1.0807571402965874,
          1.2228058355863636,
          1.260542984665275,
          1.3048225258833992,
          1.2295592615363031,
          1.0874543968147754,
          1.2470487155159198,
          1.2256347481031744,
          1.159460564682635,
          1.1547810402383618,
          1.1963739235176758,
          0.9765937117821233,
          0.9778110173723885,
          0.9331255232625626,
          1.1087465361527689,
          1.1523050254489273,
          1.1066027067156714,
          1.0858641751831897,
          1.1862961682802722,
          1.1720683299636987,
          1.4719630022087422,
          1.1306022021694053,
          1.308998313447962,
          1.4661439198261719,
          1.5835456887848354,
          1.7137549987579743,
          1.7863259722701799,
          1.8414050926936416,
          1.8004913245754897,
          1.5333623877423277,
          1.5051746284189362,
          1.5289786546615065,
          1.765959944320563,
          1.8140122470978752
         ],
         "yaxis": "y"
        },
        {
         "hovertemplate": "variable=matic-network<br>dates=%{x}<br>value=%{y}<extra></extra>",
         "legendgroup": "matic-network",
         "line": {
          "color": "#00cc96",
          "dash": "solid"
         },
         "marker": {
          "symbol": "circle"
         },
         "mode": "lines",
         "name": "matic-network",
         "orientation": "v",
         "showlegend": true,
         "type": "scatter",
         "x": [
          "09-10-2021",
          "10-10-2021",
          "11-10-2021",
          "12-10-2021",
          "13-10-2021",
          "14-10-2021",
          "15-10-2021",
          "16-10-2021",
          "17-10-2021",
          "18-10-2021",
          "19-10-2021",
          "20-10-2021",
          "21-10-2021",
          "22-10-2021",
          "23-10-2021",
          "24-10-2021",
          "25-10-2021",
          "26-10-2021",
          "27-10-2021",
          "28-10-2021",
          "29-10-2021",
          "30-10-2021",
          "31-10-2021",
          "01-11-2021",
          "02-11-2021",
          "03-11-2021",
          "04-11-2021",
          "05-11-2021",
          "06-11-2021",
          "07-11-2021",
          "08-11-2021",
          "09-11-2021",
          "10-11-2021",
          "11-11-2021",
          "12-11-2021",
          "13-11-2021",
          "14-11-2021",
          "15-11-2021",
          "16-11-2021",
          "17-11-2021",
          "18-11-2021",
          "19-11-2021",
          "20-11-2021",
          "21-11-2021",
          "22-11-2021",
          "23-11-2021",
          "24-11-2021",
          "25-11-2021",
          "26-11-2021",
          "27-11-2021",
          "28-11-2021",
          "29-11-2021",
          "30-11-2021",
          "01-12-2021",
          "02-12-2021",
          "03-12-2021",
          "04-12-2021",
          "05-12-2021",
          "06-12-2021",
          "07-12-2021",
          "08-12-2021"
         ],
         "xaxis": "x",
         "y": [
          1.352020490537352,
          1.247791609860409,
          1.240431103633866,
          1.2228157508292092,
          1.2408876001350144,
          1.265750062899244,
          1.5931286333828234,
          1.510319544008385,
          1.456703592820831,
          1.478513009186832,
          1.4786782026695897,
          1.530730023476453,
          1.5093444145324528,
          1.5183332851893754,
          1.646128880129589,
          1.5767365703480523,
          1.6713393541479167,
          1.7433853795367826,
          1.7735644500773913,
          2.1278969736404654,
          2.024912097948278,
          1.8607939879026367,
          1.934257252179863,
          1.9074247857299775,
          1.9371765583911453,
          2.037005142796291,
          1.9253755944929332,
          1.905563829396786,
          1.8887161285171636,
          1.8895086578005136,
          1.8940668176695723,
          1.767301959698415,
          1.7021584575360686,
          1.7677843603717804,
          1.723301843064975,
          1.7591733237852694,
          1.7363485589451995,
          1.7004472892859646,
          1.572090527240301,
          1.6412118528946322,
          1.4854753646247103,
          1.6237278947025597,
          1.6741158015149562,
          1.6176308852554613,
          1.560913101799978,
          1.7568077725752074,
          1.693260439994773,
          1.9134262759318699,
          1.638539889706418,
          1.6060191688314844,
          1.6495358363347243,
          1.8168546570524722,
          1.7885896406253898,
          2.0145983029321948,
          2.126812221996004,
          2.2851271616109363,
          1.9718996406749512,
          2.0190625740328207,
          2.2710027371380646,
          2.3711108530078064,
          2.4885317856926634
         ],
         "yaxis": "y"
        }
       ],
       "layout": {
        "legend": {
         "title": {
          "text": "variable"
         },
         "tracegroupgap": 0
        },
        "margin": {
         "t": 60
        },
        "template": {
         "data": {
          "bar": [
           {
            "error_x": {
             "color": "#2a3f5f"
            },
            "error_y": {
             "color": "#2a3f5f"
            },
            "marker": {
             "line": {
              "color": "#E5ECF6",
              "width": 0.5
             },
             "pattern": {
              "fillmode": "overlay",
              "size": 10,
              "solidity": 0.2
             }
            },
            "type": "bar"
           }
          ],
          "barpolar": [
           {
            "marker": {
             "line": {
              "color": "#E5ECF6",
              "width": 0.5
             },
             "pattern": {
              "fillmode": "overlay",
              "size": 10,
              "solidity": 0.2
             }
            },
            "type": "barpolar"
           }
          ],
          "carpet": [
           {
            "aaxis": {
             "endlinecolor": "#2a3f5f",
             "gridcolor": "white",
             "linecolor": "white",
             "minorgridcolor": "white",
             "startlinecolor": "#2a3f5f"
            },
            "baxis": {
             "endlinecolor": "#2a3f5f",
             "gridcolor": "white",
             "linecolor": "white",
             "minorgridcolor": "white",
             "startlinecolor": "#2a3f5f"
            },
            "type": "carpet"
           }
          ],
          "choropleth": [
           {
            "colorbar": {
             "outlinewidth": 0,
             "ticks": ""
            },
            "type": "choropleth"
           }
          ],
          "contour": [
           {
            "colorbar": {
             "outlinewidth": 0,
             "ticks": ""
            },
            "colorscale": [
             [
              0,
              "#0d0887"
             ],
             [
              0.1111111111111111,
              "#46039f"
             ],
             [
              0.2222222222222222,
              "#7201a8"
             ],
             [
              0.3333333333333333,
              "#9c179e"
             ],
             [
              0.4444444444444444,
              "#bd3786"
             ],
             [
              0.5555555555555556,
              "#d8576b"
             ],
             [
              0.6666666666666666,
              "#ed7953"
             ],
             [
              0.7777777777777778,
              "#fb9f3a"
             ],
             [
              0.8888888888888888,
              "#fdca26"
             ],
             [
              1,
              "#f0f921"
             ]
            ],
            "type": "contour"
           }
          ],
          "contourcarpet": [
           {
            "colorbar": {
             "outlinewidth": 0,
             "ticks": ""
            },
            "type": "contourcarpet"
           }
          ],
          "heatmap": [
           {
            "colorbar": {
             "outlinewidth": 0,
             "ticks": ""
            },
            "colorscale": [
             [
              0,
              "#0d0887"
             ],
             [
              0.1111111111111111,
              "#46039f"
             ],
             [
              0.2222222222222222,
              "#7201a8"
             ],
             [
              0.3333333333333333,
              "#9c179e"
             ],
             [
              0.4444444444444444,
              "#bd3786"
             ],
             [
              0.5555555555555556,
              "#d8576b"
             ],
             [
              0.6666666666666666,
              "#ed7953"
             ],
             [
              0.7777777777777778,
              "#fb9f3a"
             ],
             [
              0.8888888888888888,
              "#fdca26"
             ],
             [
              1,
              "#f0f921"
             ]
            ],
            "type": "heatmap"
           }
          ],
          "heatmapgl": [
           {
            "colorbar": {
             "outlinewidth": 0,
             "ticks": ""
            },
            "colorscale": [
             [
              0,
              "#0d0887"
             ],
             [
              0.1111111111111111,
              "#46039f"
             ],
             [
              0.2222222222222222,
              "#7201a8"
             ],
             [
              0.3333333333333333,
              "#9c179e"
             ],
             [
              0.4444444444444444,
              "#bd3786"
             ],
             [
              0.5555555555555556,
              "#d8576b"
             ],
             [
              0.6666666666666666,
              "#ed7953"
             ],
             [
              0.7777777777777778,
              "#fb9f3a"
             ],
             [
              0.8888888888888888,
              "#fdca26"
             ],
             [
              1,
              "#f0f921"
             ]
            ],
            "type": "heatmapgl"
           }
          ],
          "histogram": [
           {
            "marker": {
             "pattern": {
              "fillmode": "overlay",
              "size": 10,
              "solidity": 0.2
             }
            },
            "type": "histogram"
           }
          ],
          "histogram2d": [
           {
            "colorbar": {
             "outlinewidth": 0,
             "ticks": ""
            },
            "colorscale": [
             [
              0,
              "#0d0887"
             ],
             [
              0.1111111111111111,
              "#46039f"
             ],
             [
              0.2222222222222222,
              "#7201a8"
             ],
             [
              0.3333333333333333,
              "#9c179e"
             ],
             [
              0.4444444444444444,
              "#bd3786"
             ],
             [
              0.5555555555555556,
              "#d8576b"
             ],
             [
              0.6666666666666666,
              "#ed7953"
             ],
             [
              0.7777777777777778,
              "#fb9f3a"
             ],
             [
              0.8888888888888888,
              "#fdca26"
             ],
             [
              1,
              "#f0f921"
             ]
            ],
            "type": "histogram2d"
           }
          ],
          "histogram2dcontour": [
           {
            "colorbar": {
             "outlinewidth": 0,
             "ticks": ""
            },
            "colorscale": [
             [
              0,
              "#0d0887"
             ],
             [
              0.1111111111111111,
              "#46039f"
             ],
             [
              0.2222222222222222,
              "#7201a8"
             ],
             [
              0.3333333333333333,
              "#9c179e"
             ],
             [
              0.4444444444444444,
              "#bd3786"
             ],
             [
              0.5555555555555556,
              "#d8576b"
             ],
             [
              0.6666666666666666,
              "#ed7953"
             ],
             [
              0.7777777777777778,
              "#fb9f3a"
             ],
             [
              0.8888888888888888,
              "#fdca26"
             ],
             [
              1,
              "#f0f921"
             ]
            ],
            "type": "histogram2dcontour"
           }
          ],
          "mesh3d": [
           {
            "colorbar": {
             "outlinewidth": 0,
             "ticks": ""
            },
            "type": "mesh3d"
           }
          ],
          "parcoords": [
           {
            "line": {
             "colorbar": {
              "outlinewidth": 0,
              "ticks": ""
             }
            },
            "type": "parcoords"
           }
          ],
          "pie": [
           {
            "automargin": true,
            "type": "pie"
           }
          ],
          "scatter": [
           {
            "marker": {
             "colorbar": {
              "outlinewidth": 0,
              "ticks": ""
             }
            },
            "type": "scatter"
           }
          ],
          "scatter3d": [
           {
            "line": {
             "colorbar": {
              "outlinewidth": 0,
              "ticks": ""
             }
            },
            "marker": {
             "colorbar": {
              "outlinewidth": 0,
              "ticks": ""
             }
            },
            "type": "scatter3d"
           }
          ],
          "scattercarpet": [
           {
            "marker": {
             "colorbar": {
              "outlinewidth": 0,
              "ticks": ""
             }
            },
            "type": "scattercarpet"
           }
          ],
          "scattergeo": [
           {
            "marker": {
             "colorbar": {
              "outlinewidth": 0,
              "ticks": ""
             }
            },
            "type": "scattergeo"
           }
          ],
          "scattergl": [
           {
            "marker": {
             "colorbar": {
              "outlinewidth": 0,
              "ticks": ""
             }
            },
            "type": "scattergl"
           }
          ],
          "scattermapbox": [
           {
            "marker": {
             "colorbar": {
              "outlinewidth": 0,
              "ticks": ""
             }
            },
            "type": "scattermapbox"
           }
          ],
          "scatterpolar": [
           {
            "marker": {
             "colorbar": {
              "outlinewidth": 0,
              "ticks": ""
             }
            },
            "type": "scatterpolar"
           }
          ],
          "scatterpolargl": [
           {
            "marker": {
             "colorbar": {
              "outlinewidth": 0,
              "ticks": ""
             }
            },
            "type": "scatterpolargl"
           }
          ],
          "scatterternary": [
           {
            "marker": {
             "colorbar": {
              "outlinewidth": 0,
              "ticks": ""
             }
            },
            "type": "scatterternary"
           }
          ],
          "surface": [
           {
            "colorbar": {
             "outlinewidth": 0,
             "ticks": ""
            },
            "colorscale": [
             [
              0,
              "#0d0887"
             ],
             [
              0.1111111111111111,
              "#46039f"
             ],
             [
              0.2222222222222222,
              "#7201a8"
             ],
             [
              0.3333333333333333,
              "#9c179e"
             ],
             [
              0.4444444444444444,
              "#bd3786"
             ],
             [
              0.5555555555555556,
              "#d8576b"
             ],
             [
              0.6666666666666666,
              "#ed7953"
             ],
             [
              0.7777777777777778,
              "#fb9f3a"
             ],
             [
              0.8888888888888888,
              "#fdca26"
             ],
             [
              1,
              "#f0f921"
             ]
            ],
            "type": "surface"
           }
          ],
          "table": [
           {
            "cells": {
             "fill": {
              "color": "#EBF0F8"
             },
             "line": {
              "color": "white"
             }
            },
            "header": {
             "fill": {
              "color": "#C8D4E3"
             },
             "line": {
              "color": "white"
             }
            },
            "type": "table"
           }
          ]
         },
         "layout": {
          "annotationdefaults": {
           "arrowcolor": "#2a3f5f",
           "arrowhead": 0,
           "arrowwidth": 1
          },
          "autotypenumbers": "strict",
          "coloraxis": {
           "colorbar": {
            "outlinewidth": 0,
            "ticks": ""
           }
          },
          "colorscale": {
           "diverging": [
            [
             0,
             "#8e0152"
            ],
            [
             0.1,
             "#c51b7d"
            ],
            [
             0.2,
             "#de77ae"
            ],
            [
             0.3,
             "#f1b6da"
            ],
            [
             0.4,
             "#fde0ef"
            ],
            [
             0.5,
             "#f7f7f7"
            ],
            [
             0.6,
             "#e6f5d0"
            ],
            [
             0.7,
             "#b8e186"
            ],
            [
             0.8,
             "#7fbc41"
            ],
            [
             0.9,
             "#4d9221"
            ],
            [
             1,
             "#276419"
            ]
           ],
           "sequential": [
            [
             0,
             "#0d0887"
            ],
            [
             0.1111111111111111,
             "#46039f"
            ],
            [
             0.2222222222222222,
             "#7201a8"
            ],
            [
             0.3333333333333333,
             "#9c179e"
            ],
            [
             0.4444444444444444,
             "#bd3786"
            ],
            [
             0.5555555555555556,
             "#d8576b"
            ],
            [
             0.6666666666666666,
             "#ed7953"
            ],
            [
             0.7777777777777778,
             "#fb9f3a"
            ],
            [
             0.8888888888888888,
             "#fdca26"
            ],
            [
             1,
             "#f0f921"
            ]
           ],
           "sequentialminus": [
            [
             0,
             "#0d0887"
            ],
            [
             0.1111111111111111,
             "#46039f"
            ],
            [
             0.2222222222222222,
             "#7201a8"
            ],
            [
             0.3333333333333333,
             "#9c179e"
            ],
            [
             0.4444444444444444,
             "#bd3786"
            ],
            [
             0.5555555555555556,
             "#d8576b"
            ],
            [
             0.6666666666666666,
             "#ed7953"
            ],
            [
             0.7777777777777778,
             "#fb9f3a"
            ],
            [
             0.8888888888888888,
             "#fdca26"
            ],
            [
             1,
             "#f0f921"
            ]
           ]
          },
          "colorway": [
           "#636efa",
           "#EF553B",
           "#00cc96",
           "#ab63fa",
           "#FFA15A",
           "#19d3f3",
           "#FF6692",
           "#B6E880",
           "#FF97FF",
           "#FECB52"
          ],
          "font": {
           "color": "#2a3f5f"
          },
          "geo": {
           "bgcolor": "white",
           "lakecolor": "white",
           "landcolor": "#E5ECF6",
           "showlakes": true,
           "showland": true,
           "subunitcolor": "white"
          },
          "hoverlabel": {
           "align": "left"
          },
          "hovermode": "closest",
          "mapbox": {
           "style": "light"
          },
          "paper_bgcolor": "white",
          "plot_bgcolor": "#E5ECF6",
          "polar": {
           "angularaxis": {
            "gridcolor": "white",
            "linecolor": "white",
            "ticks": ""
           },
           "bgcolor": "#E5ECF6",
           "radialaxis": {
            "gridcolor": "white",
            "linecolor": "white",
            "ticks": ""
           }
          },
          "scene": {
           "xaxis": {
            "backgroundcolor": "#E5ECF6",
            "gridcolor": "white",
            "gridwidth": 2,
            "linecolor": "white",
            "showbackground": true,
            "ticks": "",
            "zerolinecolor": "white"
           },
           "yaxis": {
            "backgroundcolor": "#E5ECF6",
            "gridcolor": "white",
            "gridwidth": 2,
            "linecolor": "white",
            "showbackground": true,
            "ticks": "",
            "zerolinecolor": "white"
           },
           "zaxis": {
            "backgroundcolor": "#E5ECF6",
            "gridcolor": "white",
            "gridwidth": 2,
            "linecolor": "white",
            "showbackground": true,
            "ticks": "",
            "zerolinecolor": "white"
           }
          },
          "shapedefaults": {
           "line": {
            "color": "#2a3f5f"
           }
          },
          "ternary": {
           "aaxis": {
            "gridcolor": "white",
            "linecolor": "white",
            "ticks": ""
           },
           "baxis": {
            "gridcolor": "white",
            "linecolor": "white",
            "ticks": ""
           },
           "bgcolor": "#E5ECF6",
           "caxis": {
            "gridcolor": "white",
            "linecolor": "white",
            "ticks": ""
           }
          },
          "title": {
           "x": 0.05
          },
          "xaxis": {
           "automargin": true,
           "gridcolor": "white",
           "linecolor": "white",
           "ticks": "",
           "title": {
            "standoff": 15
           },
           "zerolinecolor": "white",
           "zerolinewidth": 2
          },
          "yaxis": {
           "automargin": true,
           "gridcolor": "white",
           "linecolor": "white",
           "ticks": "",
           "title": {
            "standoff": 15
           },
           "zerolinecolor": "white",
           "zerolinewidth": 2
          }
         }
        },
        "xaxis": {
         "anchor": "y",
         "domain": [
          0,
          1
         ],
         "title": {
          "text": "dates"
         }
        },
        "yaxis": {
         "anchor": "x",
         "domain": [
          0,
          1
         ],
         "title": {
          "text": "value"
         }
        }
       }
      }
     },
     "metadata": {},
     "output_type": "display_data"
    }
   ],
   "source": [
    "dfPrices = dfPrices.set_index('dates')\n",
    "fig = px.line(dfPrices)\n",
    "# fig = px.line(dfPercents, labels = {'value': 'Percent Change', 'variable': 'coin'})\n",
    "py.offline.plot(fig, filename='priceChangesLines.html')\n",
    "\n",
    "fig.show()\n"
   ]
  }
 ],
 "metadata": {
  "interpreter": {
   "hash": "cb4f197880ecacceb993dbec3eced19237e3d5e98809f7607bd653c748a52724"
  },
  "kernelspec": {
   "display_name": "Python 3",
   "language": "python",
   "name": "python3"
  },
  "language_info": {
   "codemirror_mode": {
    "name": "ipython",
    "version": 3
   },
   "file_extension": ".py",
   "mimetype": "text/x-python",
   "name": "python",
   "nbconvert_exporter": "python",
   "pygments_lexer": "ipython3",
   "version": "3.8.8"
  }
 },
 "nbformat": 4,
 "nbformat_minor": 2
}

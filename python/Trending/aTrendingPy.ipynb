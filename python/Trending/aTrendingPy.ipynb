{
 "cells": [
  {
   "cell_type": "code",
   "execution_count": 9,
   "metadata": {},
   "outputs": [],
   "source": [
    "import pandas as pd\n",
    "import datetime\n",
    "from datetime import timedelta\n",
    "import requests\n",
    "import plotly as py\n",
    "import plotly.express as px\n",
    "import chart_studio.tools as tls"
   ]
  },
  {
   "cell_type": "code",
   "execution_count": 10,
   "metadata": {},
   "outputs": [
    {
     "data": {
      "text/html": [
       "<div>\n",
       "<style scoped>\n",
       "    .dataframe tbody tr th:only-of-type {\n",
       "        vertical-align: middle;\n",
       "    }\n",
       "\n",
       "    .dataframe tbody tr th {\n",
       "        vertical-align: top;\n",
       "    }\n",
       "\n",
       "    .dataframe thead th {\n",
       "        text-align: right;\n",
       "    }\n",
       "</style>\n",
       "<table border=\"1\" class=\"dataframe\">\n",
       "  <thead>\n",
       "    <tr style=\"text-align: right;\">\n",
       "      <th></th>\n",
       "      <th>id</th>\n",
       "      <th>symbol</th>\n",
       "      <th>price</th>\n",
       "      <th>mkt_cap</th>\n",
       "      <th>vol</th>\n",
       "      <th>reddit_posts_48h</th>\n",
       "      <th>reddit_comments_48h</th>\n",
       "      <th>reddit accounts_48h</th>\n",
       "      <th>forks</th>\n",
       "      <th>stars</th>\n",
       "      <th>contributors</th>\n",
       "      <th>commits</th>\n",
       "      <th>twitter_followers</th>\n",
       "      <th>alexa_rank</th>\n",
       "    </tr>\n",
       "  </thead>\n",
       "  <tbody>\n",
       "    <tr>\n",
       "      <th>0</th>\n",
       "      <td>brokoli</td>\n",
       "      <td>brkl</td>\n",
       "      <td>1.310000e+00</td>\n",
       "      <td>2.246755e+07</td>\n",
       "      <td>1.168140e+06</td>\n",
       "      <td>0.000</td>\n",
       "      <td>0.0</td>\n",
       "      <td>None</td>\n",
       "      <td>None</td>\n",
       "      <td>None</td>\n",
       "      <td>None</td>\n",
       "      <td>None</td>\n",
       "      <td>None</td>\n",
       "      <td>182185</td>\n",
       "    </tr>\n",
       "    <tr>\n",
       "      <th>1</th>\n",
       "      <td>cellframe</td>\n",
       "      <td>cell</td>\n",
       "      <td>1.630000e+00</td>\n",
       "      <td>3.949405e+07</td>\n",
       "      <td>8.180283e+05</td>\n",
       "      <td>0.000</td>\n",
       "      <td>0.0</td>\n",
       "      <td>None</td>\n",
       "      <td>None</td>\n",
       "      <td>None</td>\n",
       "      <td>None</td>\n",
       "      <td>None</td>\n",
       "      <td>None</td>\n",
       "      <td>262850</td>\n",
       "    </tr>\n",
       "    <tr>\n",
       "      <th>2</th>\n",
       "      <td>richquack</td>\n",
       "      <td>quack</td>\n",
       "      <td>3.009000e-09</td>\n",
       "      <td>1.347421e+08</td>\n",
       "      <td>5.946945e+06</td>\n",
       "      <td>1.182</td>\n",
       "      <td>5.0</td>\n",
       "      <td>15.0833333333333</td>\n",
       "      <td>None</td>\n",
       "      <td>None</td>\n",
       "      <td>None</td>\n",
       "      <td>None</td>\n",
       "      <td>None</td>\n",
       "      <td>81661</td>\n",
       "    </tr>\n",
       "    <tr>\n",
       "      <th>3</th>\n",
       "      <td>railgun</td>\n",
       "      <td>rail</td>\n",
       "      <td>1.810000e+00</td>\n",
       "      <td>9.058077e+07</td>\n",
       "      <td>3.310951e+05</td>\n",
       "      <td>0.000</td>\n",
       "      <td>0.0</td>\n",
       "      <td>None</td>\n",
       "      <td>None</td>\n",
       "      <td>None</td>\n",
       "      <td>None</td>\n",
       "      <td>None</td>\n",
       "      <td>7337</td>\n",
       "      <td>882493</td>\n",
       "    </tr>\n",
       "    <tr>\n",
       "      <th>4</th>\n",
       "      <td>matic-network</td>\n",
       "      <td>matic</td>\n",
       "      <td>2.480000e+00</td>\n",
       "      <td>1.716698e+10</td>\n",
       "      <td>4.017201e+09</td>\n",
       "      <td>0.000</td>\n",
       "      <td>0.0</td>\n",
       "      <td>None</td>\n",
       "      <td>148</td>\n",
       "      <td>360</td>\n",
       "      <td>17</td>\n",
       "      <td>1</td>\n",
       "      <td>961117</td>\n",
       "      <td>4158</td>\n",
       "    </tr>\n",
       "  </tbody>\n",
       "</table>\n",
       "</div>"
      ],
      "text/plain": [
       "              id symbol         price       mkt_cap           vol  \\\n",
       "0        brokoli   brkl  1.310000e+00  2.246755e+07  1.168140e+06   \n",
       "1      cellframe   cell  1.630000e+00  3.949405e+07  8.180283e+05   \n",
       "2      richquack  quack  3.009000e-09  1.347421e+08  5.946945e+06   \n",
       "3        railgun   rail  1.810000e+00  9.058077e+07  3.310951e+05   \n",
       "4  matic-network  matic  2.480000e+00  1.716698e+10  4.017201e+09   \n",
       "\n",
       "   reddit_posts_48h  reddit_comments_48h reddit accounts_48h forks stars  \\\n",
       "0             0.000                  0.0                None  None  None   \n",
       "1             0.000                  0.0                None  None  None   \n",
       "2             1.182                  5.0    15.0833333333333  None  None   \n",
       "3             0.000                  0.0                None  None  None   \n",
       "4             0.000                  0.0                None   148   360   \n",
       "\n",
       "  contributors commits twitter_followers alexa_rank  \n",
       "0         None    None              None     182185  \n",
       "1         None    None              None     262850  \n",
       "2         None    None              None      81661  \n",
       "3         None    None              7337     882493  \n",
       "4           17       1            961117       4158  "
      ]
     },
     "metadata": {},
     "output_type": "display_data"
    },
    {
     "name": "stdout",
     "output_type": "stream",
     "text": [
      "['brokoli', 'cellframe', 'richquack', 'railgun', 'matic-network']\n"
     ]
    }
   ],
   "source": [
    "#BUILDS DATAFRAME FOR COMMUNITY DATA\n",
    "columns = ['id', 'symbol', 'price', 'mkt_cap', 'vol', 'reddit_posts_48h', 'reddit_comments_48h', 'reddit accounts_48h', 'forks', 'stars', 'contributors', 'commits', 'twitter_followers', 'alexa_rank']\n",
    "df = pd.DataFrame(columns = columns)\n",
    "# display(df)\n",
    "today = datetime.datetime.now()\n",
    "yesterday = today -timedelta(days = 2)\n",
    "yesterday = yesterday.strftime(\"%d-%m-%Y\")\n",
    "# date = str(yesterday)\n",
    "date = yesterday\n",
    "# print('yesterday', yesterday)\n",
    "# print('date', date)\n",
    "\n",
    "def coinFunc(currentCoin, date): \n",
    "    coin= currentCoin\n",
    "    geckoReq = 'https://api.coingecko.com/api/v3/coins/'+coin+'/history?date='+date\n",
    "    priceReq = 'https://api.coingecko.com/api/v3/simple/price?ids=' + coin + '&vs_currencies=usd&include_market_cap=true&include_24hr_vol=true'\n",
    "    price = requests.get(priceReq).json()\n",
    "    r =requests.get(geckoReq).json()\n",
    "#     display(r)\n",
    "    #     print(r)\n",
    "    coin_id = r['id']\n",
    "    coin_symbol = r['symbol']\n",
    "\n",
    "    #price data\n",
    "    current_price = price[currentCoin]['usd']\n",
    "    mkt_cap = price[currentCoin]['usd_market_cap']\n",
    "    vol = price[currentCoin]['usd_24h_vol']\n",
    "\n",
    "    #reddit data\n",
    "    reddit_average_posts_48h = r['community_data']['reddit_average_posts_48h']\n",
    "    reddit_average_comments_48h = r['community_data']['reddit_average_comments_48h']\n",
    "    reddit_accounts_active_48h = r['community_data']['reddit_accounts_active_48h']\n",
    "    #github data\n",
    "    forks = r['developer_data']['forks']\n",
    "    stars = r['developer_data']['stars']\n",
    "    contributors = r['developer_data']['pull_request_contributors']\n",
    "    commits = r['developer_data']['commit_count_4_weeks']\n",
    "    twitter_followers = r['community_data']['twitter_followers']\n",
    "    alexa_rank = r['public_interest_stats']['alexa_rank']\n",
    "\n",
    "\n",
    "    dataInsert = [coin_id, coin_symbol, current_price, mkt_cap, vol, reddit_average_posts_48h, reddit_average_comments_48h, reddit_accounts_active_48h, forks, stars, contributors, commits, twitter_followers, alexa_rank]\n",
    "    # print(dataInsert)\n",
    "\n",
    "    df_length = len(df)\n",
    "    df.loc[df_length] = dataInsert\n",
    "    \n",
    "# coinFunc('audius', yesterday)    \n",
    "# display(df)\n",
    "# print(r)\n",
    "# print(r['developer_data'])\n",
    "# print(r['community_data'])\n",
    "# print(coin_price)\n",
    "\n",
    "theCoins = []\n",
    "trendingReq = 'https://api.coingecko.com/api/v3/search/trending'\n",
    "trends =requests.get(trendingReq).json()\n",
    "# print(r)\n",
    "trending = []\n",
    "#could be for 7 coins but lets just do top 5\n",
    "for i in range(5):\n",
    "    trendingCoin = trends['coins'][i]['item']['id']\n",
    "    trending.append(trendingCoin)\n",
    "\n",
    "theCoins.extend(trending)\n",
    "\n",
    "for crypto in theCoins:\n",
    "    coinFunc(crypto, yesterday)\n",
    "    \n",
    "display(df)\n",
    "myCoinsList = df['id'].tolist()\n",
    "print(myCoinsList)"
   ]
  },
  {
   "cell_type": "code",
   "execution_count": 11,
   "metadata": {},
   "outputs": [
    {
     "data": {
      "text/html": [
       "<div>\n",
       "<style scoped>\n",
       "    .dataframe tbody tr th:only-of-type {\n",
       "        vertical-align: middle;\n",
       "    }\n",
       "\n",
       "    .dataframe tbody tr th {\n",
       "        vertical-align: top;\n",
       "    }\n",
       "\n",
       "    .dataframe thead th {\n",
       "        text-align: right;\n",
       "    }\n",
       "</style>\n",
       "<table border=\"1\" class=\"dataframe\">\n",
       "  <thead>\n",
       "    <tr style=\"text-align: right;\">\n",
       "      <th></th>\n",
       "      <th>id</th>\n",
       "      <th>symbol</th>\n",
       "      <th>price</th>\n",
       "      <th>mkt_cap</th>\n",
       "      <th>vol</th>\n",
       "      <th>reddit_posts_48h</th>\n",
       "      <th>reddit_comments_48h</th>\n",
       "      <th>reddit accounts_48h</th>\n",
       "      <th>forks</th>\n",
       "      <th>stars</th>\n",
       "      <th>contributors</th>\n",
       "      <th>commits</th>\n",
       "      <th>twitter_followers</th>\n",
       "      <th>alexa_rank</th>\n",
       "    </tr>\n",
       "  </thead>\n",
       "  <tbody>\n",
       "    <tr>\n",
       "      <th>0</th>\n",
       "      <td>brokoli</td>\n",
       "      <td>brkl</td>\n",
       "      <td>1.310000e+00</td>\n",
       "      <td>2.246755e+07</td>\n",
       "      <td>1.168140e+06</td>\n",
       "      <td>0.000</td>\n",
       "      <td>0.0</td>\n",
       "      <td>None</td>\n",
       "      <td>None</td>\n",
       "      <td>None</td>\n",
       "      <td>None</td>\n",
       "      <td>None</td>\n",
       "      <td>None</td>\n",
       "      <td>182185</td>\n",
       "    </tr>\n",
       "    <tr>\n",
       "      <th>1</th>\n",
       "      <td>cellframe</td>\n",
       "      <td>cell</td>\n",
       "      <td>1.630000e+00</td>\n",
       "      <td>3.949405e+07</td>\n",
       "      <td>8.180283e+05</td>\n",
       "      <td>0.000</td>\n",
       "      <td>0.0</td>\n",
       "      <td>None</td>\n",
       "      <td>None</td>\n",
       "      <td>None</td>\n",
       "      <td>None</td>\n",
       "      <td>None</td>\n",
       "      <td>None</td>\n",
       "      <td>262850</td>\n",
       "    </tr>\n",
       "    <tr>\n",
       "      <th>2</th>\n",
       "      <td>richquack</td>\n",
       "      <td>quack</td>\n",
       "      <td>3.009000e-09</td>\n",
       "      <td>1.347421e+08</td>\n",
       "      <td>5.946945e+06</td>\n",
       "      <td>1.182</td>\n",
       "      <td>5.0</td>\n",
       "      <td>15.0833333333333</td>\n",
       "      <td>None</td>\n",
       "      <td>None</td>\n",
       "      <td>None</td>\n",
       "      <td>None</td>\n",
       "      <td>None</td>\n",
       "      <td>81661</td>\n",
       "    </tr>\n",
       "    <tr>\n",
       "      <th>3</th>\n",
       "      <td>railgun</td>\n",
       "      <td>rail</td>\n",
       "      <td>1.810000e+00</td>\n",
       "      <td>9.058077e+07</td>\n",
       "      <td>3.310951e+05</td>\n",
       "      <td>0.000</td>\n",
       "      <td>0.0</td>\n",
       "      <td>None</td>\n",
       "      <td>None</td>\n",
       "      <td>None</td>\n",
       "      <td>None</td>\n",
       "      <td>None</td>\n",
       "      <td>7337</td>\n",
       "      <td>882493</td>\n",
       "    </tr>\n",
       "    <tr>\n",
       "      <th>4</th>\n",
       "      <td>matic-network</td>\n",
       "      <td>matic</td>\n",
       "      <td>2.480000e+00</td>\n",
       "      <td>1.716698e+10</td>\n",
       "      <td>4.017201e+09</td>\n",
       "      <td>0.000</td>\n",
       "      <td>0.0</td>\n",
       "      <td>None</td>\n",
       "      <td>148</td>\n",
       "      <td>360</td>\n",
       "      <td>17</td>\n",
       "      <td>1</td>\n",
       "      <td>961117</td>\n",
       "      <td>4158</td>\n",
       "    </tr>\n",
       "  </tbody>\n",
       "</table>\n",
       "</div>"
      ],
      "text/plain": [
       "              id symbol         price       mkt_cap           vol  \\\n",
       "0        brokoli   brkl  1.310000e+00  2.246755e+07  1.168140e+06   \n",
       "1      cellframe   cell  1.630000e+00  3.949405e+07  8.180283e+05   \n",
       "2      richquack  quack  3.009000e-09  1.347421e+08  5.946945e+06   \n",
       "3        railgun   rail  1.810000e+00  9.058077e+07  3.310951e+05   \n",
       "4  matic-network  matic  2.480000e+00  1.716698e+10  4.017201e+09   \n",
       "\n",
       "   reddit_posts_48h  reddit_comments_48h reddit accounts_48h forks stars  \\\n",
       "0             0.000                  0.0                None  None  None   \n",
       "1             0.000                  0.0                None  None  None   \n",
       "2             1.182                  5.0    15.0833333333333  None  None   \n",
       "3             0.000                  0.0                None  None  None   \n",
       "4             0.000                  0.0                None   148   360   \n",
       "\n",
       "  contributors commits twitter_followers alexa_rank  \n",
       "0         None    None              None     182185  \n",
       "1         None    None              None     262850  \n",
       "2         None    None              None      81661  \n",
       "3         None    None              7337     882493  \n",
       "4           17       1            961117       4158  "
      ]
     },
     "metadata": {},
     "output_type": "display_data"
    },
    {
     "data": {
      "application/vnd.plotly.v1+json": {
       "config": {
        "plotlyServerURL": "https://plot.ly"
       },
       "data": [
        {
         "alignmentgroup": "True",
         "bingroup": "x",
         "histfunc": "sum",
         "hovertemplate": "token=%{x}<br>sum of reddit_comments_48h=%{y}<extra></extra>",
         "legendgroup": "",
         "marker": {
          "color": "#636efa",
          "pattern": {
           "shape": ""
          }
         },
         "name": "",
         "offsetgroup": "",
         "orientation": "v",
         "showlegend": false,
         "type": "histogram",
         "x": [
          "brokoli",
          "cellframe",
          "richquack",
          "railgun",
          "matic-network"
         ],
         "xaxis": "x",
         "y": [
          0,
          0,
          5,
          0,
          0
         ],
         "yaxis": "y"
        }
       ],
       "layout": {
        "barmode": "relative",
        "legend": {
         "tracegroupgap": 0
        },
        "margin": {
         "t": 60
        },
        "template": {
         "data": {
          "bar": [
           {
            "error_x": {
             "color": "#2a3f5f"
            },
            "error_y": {
             "color": "#2a3f5f"
            },
            "marker": {
             "line": {
              "color": "#E5ECF6",
              "width": 0.5
             },
             "pattern": {
              "fillmode": "overlay",
              "size": 10,
              "solidity": 0.2
             }
            },
            "type": "bar"
           }
          ],
          "barpolar": [
           {
            "marker": {
             "line": {
              "color": "#E5ECF6",
              "width": 0.5
             },
             "pattern": {
              "fillmode": "overlay",
              "size": 10,
              "solidity": 0.2
             }
            },
            "type": "barpolar"
           }
          ],
          "carpet": [
           {
            "aaxis": {
             "endlinecolor": "#2a3f5f",
             "gridcolor": "white",
             "linecolor": "white",
             "minorgridcolor": "white",
             "startlinecolor": "#2a3f5f"
            },
            "baxis": {
             "endlinecolor": "#2a3f5f",
             "gridcolor": "white",
             "linecolor": "white",
             "minorgridcolor": "white",
             "startlinecolor": "#2a3f5f"
            },
            "type": "carpet"
           }
          ],
          "choropleth": [
           {
            "colorbar": {
             "outlinewidth": 0,
             "ticks": ""
            },
            "type": "choropleth"
           }
          ],
          "contour": [
           {
            "colorbar": {
             "outlinewidth": 0,
             "ticks": ""
            },
            "colorscale": [
             [
              0,
              "#0d0887"
             ],
             [
              0.1111111111111111,
              "#46039f"
             ],
             [
              0.2222222222222222,
              "#7201a8"
             ],
             [
              0.3333333333333333,
              "#9c179e"
             ],
             [
              0.4444444444444444,
              "#bd3786"
             ],
             [
              0.5555555555555556,
              "#d8576b"
             ],
             [
              0.6666666666666666,
              "#ed7953"
             ],
             [
              0.7777777777777778,
              "#fb9f3a"
             ],
             [
              0.8888888888888888,
              "#fdca26"
             ],
             [
              1,
              "#f0f921"
             ]
            ],
            "type": "contour"
           }
          ],
          "contourcarpet": [
           {
            "colorbar": {
             "outlinewidth": 0,
             "ticks": ""
            },
            "type": "contourcarpet"
           }
          ],
          "heatmap": [
           {
            "colorbar": {
             "outlinewidth": 0,
             "ticks": ""
            },
            "colorscale": [
             [
              0,
              "#0d0887"
             ],
             [
              0.1111111111111111,
              "#46039f"
             ],
             [
              0.2222222222222222,
              "#7201a8"
             ],
             [
              0.3333333333333333,
              "#9c179e"
             ],
             [
              0.4444444444444444,
              "#bd3786"
             ],
             [
              0.5555555555555556,
              "#d8576b"
             ],
             [
              0.6666666666666666,
              "#ed7953"
             ],
             [
              0.7777777777777778,
              "#fb9f3a"
             ],
             [
              0.8888888888888888,
              "#fdca26"
             ],
             [
              1,
              "#f0f921"
             ]
            ],
            "type": "heatmap"
           }
          ],
          "heatmapgl": [
           {
            "colorbar": {
             "outlinewidth": 0,
             "ticks": ""
            },
            "colorscale": [
             [
              0,
              "#0d0887"
             ],
             [
              0.1111111111111111,
              "#46039f"
             ],
             [
              0.2222222222222222,
              "#7201a8"
             ],
             [
              0.3333333333333333,
              "#9c179e"
             ],
             [
              0.4444444444444444,
              "#bd3786"
             ],
             [
              0.5555555555555556,
              "#d8576b"
             ],
             [
              0.6666666666666666,
              "#ed7953"
             ],
             [
              0.7777777777777778,
              "#fb9f3a"
             ],
             [
              0.8888888888888888,
              "#fdca26"
             ],
             [
              1,
              "#f0f921"
             ]
            ],
            "type": "heatmapgl"
           }
          ],
          "histogram": [
           {
            "marker": {
             "pattern": {
              "fillmode": "overlay",
              "size": 10,
              "solidity": 0.2
             }
            },
            "type": "histogram"
           }
          ],
          "histogram2d": [
           {
            "colorbar": {
             "outlinewidth": 0,
             "ticks": ""
            },
            "colorscale": [
             [
              0,
              "#0d0887"
             ],
             [
              0.1111111111111111,
              "#46039f"
             ],
             [
              0.2222222222222222,
              "#7201a8"
             ],
             [
              0.3333333333333333,
              "#9c179e"
             ],
             [
              0.4444444444444444,
              "#bd3786"
             ],
             [
              0.5555555555555556,
              "#d8576b"
             ],
             [
              0.6666666666666666,
              "#ed7953"
             ],
             [
              0.7777777777777778,
              "#fb9f3a"
             ],
             [
              0.8888888888888888,
              "#fdca26"
             ],
             [
              1,
              "#f0f921"
             ]
            ],
            "type": "histogram2d"
           }
          ],
          "histogram2dcontour": [
           {
            "colorbar": {
             "outlinewidth": 0,
             "ticks": ""
            },
            "colorscale": [
             [
              0,
              "#0d0887"
             ],
             [
              0.1111111111111111,
              "#46039f"
             ],
             [
              0.2222222222222222,
              "#7201a8"
             ],
             [
              0.3333333333333333,
              "#9c179e"
             ],
             [
              0.4444444444444444,
              "#bd3786"
             ],
             [
              0.5555555555555556,
              "#d8576b"
             ],
             [
              0.6666666666666666,
              "#ed7953"
             ],
             [
              0.7777777777777778,
              "#fb9f3a"
             ],
             [
              0.8888888888888888,
              "#fdca26"
             ],
             [
              1,
              "#f0f921"
             ]
            ],
            "type": "histogram2dcontour"
           }
          ],
          "mesh3d": [
           {
            "colorbar": {
             "outlinewidth": 0,
             "ticks": ""
            },
            "type": "mesh3d"
           }
          ],
          "parcoords": [
           {
            "line": {
             "colorbar": {
              "outlinewidth": 0,
              "ticks": ""
             }
            },
            "type": "parcoords"
           }
          ],
          "pie": [
           {
            "automargin": true,
            "type": "pie"
           }
          ],
          "scatter": [
           {
            "marker": {
             "colorbar": {
              "outlinewidth": 0,
              "ticks": ""
             }
            },
            "type": "scatter"
           }
          ],
          "scatter3d": [
           {
            "line": {
             "colorbar": {
              "outlinewidth": 0,
              "ticks": ""
             }
            },
            "marker": {
             "colorbar": {
              "outlinewidth": 0,
              "ticks": ""
             }
            },
            "type": "scatter3d"
           }
          ],
          "scattercarpet": [
           {
            "marker": {
             "colorbar": {
              "outlinewidth": 0,
              "ticks": ""
             }
            },
            "type": "scattercarpet"
           }
          ],
          "scattergeo": [
           {
            "marker": {
             "colorbar": {
              "outlinewidth": 0,
              "ticks": ""
             }
            },
            "type": "scattergeo"
           }
          ],
          "scattergl": [
           {
            "marker": {
             "colorbar": {
              "outlinewidth": 0,
              "ticks": ""
             }
            },
            "type": "scattergl"
           }
          ],
          "scattermapbox": [
           {
            "marker": {
             "colorbar": {
              "outlinewidth": 0,
              "ticks": ""
             }
            },
            "type": "scattermapbox"
           }
          ],
          "scatterpolar": [
           {
            "marker": {
             "colorbar": {
              "outlinewidth": 0,
              "ticks": ""
             }
            },
            "type": "scatterpolar"
           }
          ],
          "scatterpolargl": [
           {
            "marker": {
             "colorbar": {
              "outlinewidth": 0,
              "ticks": ""
             }
            },
            "type": "scatterpolargl"
           }
          ],
          "scatterternary": [
           {
            "marker": {
             "colorbar": {
              "outlinewidth": 0,
              "ticks": ""
             }
            },
            "type": "scatterternary"
           }
          ],
          "surface": [
           {
            "colorbar": {
             "outlinewidth": 0,
             "ticks": ""
            },
            "colorscale": [
             [
              0,
              "#0d0887"
             ],
             [
              0.1111111111111111,
              "#46039f"
             ],
             [
              0.2222222222222222,
              "#7201a8"
             ],
             [
              0.3333333333333333,
              "#9c179e"
             ],
             [
              0.4444444444444444,
              "#bd3786"
             ],
             [
              0.5555555555555556,
              "#d8576b"
             ],
             [
              0.6666666666666666,
              "#ed7953"
             ],
             [
              0.7777777777777778,
              "#fb9f3a"
             ],
             [
              0.8888888888888888,
              "#fdca26"
             ],
             [
              1,
              "#f0f921"
             ]
            ],
            "type": "surface"
           }
          ],
          "table": [
           {
            "cells": {
             "fill": {
              "color": "#EBF0F8"
             },
             "line": {
              "color": "white"
             }
            },
            "header": {
             "fill": {
              "color": "#C8D4E3"
             },
             "line": {
              "color": "white"
             }
            },
            "type": "table"
           }
          ]
         },
         "layout": {
          "annotationdefaults": {
           "arrowcolor": "#2a3f5f",
           "arrowhead": 0,
           "arrowwidth": 1
          },
          "autotypenumbers": "strict",
          "coloraxis": {
           "colorbar": {
            "outlinewidth": 0,
            "ticks": ""
           }
          },
          "colorscale": {
           "diverging": [
            [
             0,
             "#8e0152"
            ],
            [
             0.1,
             "#c51b7d"
            ],
            [
             0.2,
             "#de77ae"
            ],
            [
             0.3,
             "#f1b6da"
            ],
            [
             0.4,
             "#fde0ef"
            ],
            [
             0.5,
             "#f7f7f7"
            ],
            [
             0.6,
             "#e6f5d0"
            ],
            [
             0.7,
             "#b8e186"
            ],
            [
             0.8,
             "#7fbc41"
            ],
            [
             0.9,
             "#4d9221"
            ],
            [
             1,
             "#276419"
            ]
           ],
           "sequential": [
            [
             0,
             "#0d0887"
            ],
            [
             0.1111111111111111,
             "#46039f"
            ],
            [
             0.2222222222222222,
             "#7201a8"
            ],
            [
             0.3333333333333333,
             "#9c179e"
            ],
            [
             0.4444444444444444,
             "#bd3786"
            ],
            [
             0.5555555555555556,
             "#d8576b"
            ],
            [
             0.6666666666666666,
             "#ed7953"
            ],
            [
             0.7777777777777778,
             "#fb9f3a"
            ],
            [
             0.8888888888888888,
             "#fdca26"
            ],
            [
             1,
             "#f0f921"
            ]
           ],
           "sequentialminus": [
            [
             0,
             "#0d0887"
            ],
            [
             0.1111111111111111,
             "#46039f"
            ],
            [
             0.2222222222222222,
             "#7201a8"
            ],
            [
             0.3333333333333333,
             "#9c179e"
            ],
            [
             0.4444444444444444,
             "#bd3786"
            ],
            [
             0.5555555555555556,
             "#d8576b"
            ],
            [
             0.6666666666666666,
             "#ed7953"
            ],
            [
             0.7777777777777778,
             "#fb9f3a"
            ],
            [
             0.8888888888888888,
             "#fdca26"
            ],
            [
             1,
             "#f0f921"
            ]
           ]
          },
          "colorway": [
           "#636efa",
           "#EF553B",
           "#00cc96",
           "#ab63fa",
           "#FFA15A",
           "#19d3f3",
           "#FF6692",
           "#B6E880",
           "#FF97FF",
           "#FECB52"
          ],
          "font": {
           "color": "#2a3f5f"
          },
          "geo": {
           "bgcolor": "white",
           "lakecolor": "white",
           "landcolor": "#E5ECF6",
           "showlakes": true,
           "showland": true,
           "subunitcolor": "white"
          },
          "hoverlabel": {
           "align": "left"
          },
          "hovermode": "closest",
          "mapbox": {
           "style": "light"
          },
          "paper_bgcolor": "white",
          "plot_bgcolor": "#E5ECF6",
          "polar": {
           "angularaxis": {
            "gridcolor": "white",
            "linecolor": "white",
            "ticks": ""
           },
           "bgcolor": "#E5ECF6",
           "radialaxis": {
            "gridcolor": "white",
            "linecolor": "white",
            "ticks": ""
           }
          },
          "scene": {
           "xaxis": {
            "backgroundcolor": "#E5ECF6",
            "gridcolor": "white",
            "gridwidth": 2,
            "linecolor": "white",
            "showbackground": true,
            "ticks": "",
            "zerolinecolor": "white"
           },
           "yaxis": {
            "backgroundcolor": "#E5ECF6",
            "gridcolor": "white",
            "gridwidth": 2,
            "linecolor": "white",
            "showbackground": true,
            "ticks": "",
            "zerolinecolor": "white"
           },
           "zaxis": {
            "backgroundcolor": "#E5ECF6",
            "gridcolor": "white",
            "gridwidth": 2,
            "linecolor": "white",
            "showbackground": true,
            "ticks": "",
            "zerolinecolor": "white"
           }
          },
          "shapedefaults": {
           "line": {
            "color": "#2a3f5f"
           }
          },
          "ternary": {
           "aaxis": {
            "gridcolor": "white",
            "linecolor": "white",
            "ticks": ""
           },
           "baxis": {
            "gridcolor": "white",
            "linecolor": "white",
            "ticks": ""
           },
           "bgcolor": "#E5ECF6",
           "caxis": {
            "gridcolor": "white",
            "linecolor": "white",
            "ticks": ""
           }
          },
          "title": {
           "x": 0.05
          },
          "xaxis": {
           "automargin": true,
           "gridcolor": "white",
           "linecolor": "white",
           "ticks": "",
           "title": {
            "standoff": 15
           },
           "zerolinecolor": "white",
           "zerolinewidth": 2
          },
          "yaxis": {
           "automargin": true,
           "gridcolor": "white",
           "linecolor": "white",
           "ticks": "",
           "title": {
            "standoff": 15
           },
           "zerolinecolor": "white",
           "zerolinewidth": 2
          }
         }
        },
        "xaxis": {
         "anchor": "y",
         "domain": [
          0,
          1
         ],
         "title": {
          "text": "token"
         }
        },
        "yaxis": {
         "anchor": "x",
         "domain": [
          0,
          1
         ],
         "title": {
          "text": "sum of reddit_comments_48h"
         }
        }
       }
      }
     },
     "metadata": {},
     "output_type": "display_data"
    }
   ],
   "source": [
    "### BUILDING REDDIT COMMENTS HTML GRAPH\n",
    "display(df.head(5))\n",
    "\n",
    "fig = px.histogram(df, x=df['id'], y=df['reddit_comments_48h'],\n",
    "                labels={\n",
    "                     \"sum of reddit_comments_48h\": \"Reddit Comments 48h\",\n",
    "                     \"id\": \"token\"\n",
    "#                      \"species\": \"Species of Iris\"\n",
    "                 },)\n",
    "py.offline.plot(fig, filename='geckoRedditComments.html')\n",
    "\n",
    "\n",
    "# print(tls.get_embed('https://plotly.com/~fooba/1'))\n",
    "fig.show()\n",
    "\n"
   ]
  },
  {
   "cell_type": "code",
   "execution_count": 12,
   "metadata": {},
   "outputs": [
    {
     "data": {
      "text/html": [
       "<div>\n",
       "<style scoped>\n",
       "    .dataframe tbody tr th:only-of-type {\n",
       "        vertical-align: middle;\n",
       "    }\n",
       "\n",
       "    .dataframe tbody tr th {\n",
       "        vertical-align: top;\n",
       "    }\n",
       "\n",
       "    .dataframe thead th {\n",
       "        text-align: right;\n",
       "    }\n",
       "</style>\n",
       "<table border=\"1\" class=\"dataframe\">\n",
       "  <thead>\n",
       "    <tr style=\"text-align: right;\">\n",
       "      <th></th>\n",
       "      <th>id</th>\n",
       "      <th>symbol</th>\n",
       "      <th>price</th>\n",
       "      <th>mkt_cap</th>\n",
       "      <th>vol</th>\n",
       "      <th>reddit_posts_48h</th>\n",
       "      <th>reddit_comments_48h</th>\n",
       "      <th>reddit accounts_48h</th>\n",
       "      <th>forks</th>\n",
       "      <th>stars</th>\n",
       "      <th>contributors</th>\n",
       "      <th>commits</th>\n",
       "      <th>twitter_followers</th>\n",
       "      <th>alexa_rank</th>\n",
       "    </tr>\n",
       "  </thead>\n",
       "  <tbody>\n",
       "    <tr>\n",
       "      <th>0</th>\n",
       "      <td>brokoli</td>\n",
       "      <td>brkl</td>\n",
       "      <td>1.310000e+00</td>\n",
       "      <td>2.246755e+07</td>\n",
       "      <td>1.168140e+06</td>\n",
       "      <td>0.000</td>\n",
       "      <td>0.0</td>\n",
       "      <td>None</td>\n",
       "      <td>None</td>\n",
       "      <td>None</td>\n",
       "      <td>None</td>\n",
       "      <td>None</td>\n",
       "      <td>None</td>\n",
       "      <td>182185</td>\n",
       "    </tr>\n",
       "    <tr>\n",
       "      <th>1</th>\n",
       "      <td>cellframe</td>\n",
       "      <td>cell</td>\n",
       "      <td>1.630000e+00</td>\n",
       "      <td>3.949405e+07</td>\n",
       "      <td>8.180283e+05</td>\n",
       "      <td>0.000</td>\n",
       "      <td>0.0</td>\n",
       "      <td>None</td>\n",
       "      <td>None</td>\n",
       "      <td>None</td>\n",
       "      <td>None</td>\n",
       "      <td>None</td>\n",
       "      <td>None</td>\n",
       "      <td>262850</td>\n",
       "    </tr>\n",
       "    <tr>\n",
       "      <th>2</th>\n",
       "      <td>richquack</td>\n",
       "      <td>quack</td>\n",
       "      <td>3.009000e-09</td>\n",
       "      <td>1.347421e+08</td>\n",
       "      <td>5.946945e+06</td>\n",
       "      <td>1.182</td>\n",
       "      <td>5.0</td>\n",
       "      <td>15.0833333333333</td>\n",
       "      <td>None</td>\n",
       "      <td>None</td>\n",
       "      <td>None</td>\n",
       "      <td>None</td>\n",
       "      <td>None</td>\n",
       "      <td>81661</td>\n",
       "    </tr>\n",
       "    <tr>\n",
       "      <th>3</th>\n",
       "      <td>railgun</td>\n",
       "      <td>rail</td>\n",
       "      <td>1.810000e+00</td>\n",
       "      <td>9.058077e+07</td>\n",
       "      <td>3.310951e+05</td>\n",
       "      <td>0.000</td>\n",
       "      <td>0.0</td>\n",
       "      <td>None</td>\n",
       "      <td>None</td>\n",
       "      <td>None</td>\n",
       "      <td>None</td>\n",
       "      <td>None</td>\n",
       "      <td>7337</td>\n",
       "      <td>882493</td>\n",
       "    </tr>\n",
       "    <tr>\n",
       "      <th>4</th>\n",
       "      <td>matic-network</td>\n",
       "      <td>matic</td>\n",
       "      <td>2.480000e+00</td>\n",
       "      <td>1.716698e+10</td>\n",
       "      <td>4.017201e+09</td>\n",
       "      <td>0.000</td>\n",
       "      <td>0.0</td>\n",
       "      <td>None</td>\n",
       "      <td>148</td>\n",
       "      <td>360</td>\n",
       "      <td>17</td>\n",
       "      <td>1</td>\n",
       "      <td>961117</td>\n",
       "      <td>4158</td>\n",
       "    </tr>\n",
       "  </tbody>\n",
       "</table>\n",
       "</div>"
      ],
      "text/plain": [
       "              id symbol         price       mkt_cap           vol  \\\n",
       "0        brokoli   brkl  1.310000e+00  2.246755e+07  1.168140e+06   \n",
       "1      cellframe   cell  1.630000e+00  3.949405e+07  8.180283e+05   \n",
       "2      richquack  quack  3.009000e-09  1.347421e+08  5.946945e+06   \n",
       "3        railgun   rail  1.810000e+00  9.058077e+07  3.310951e+05   \n",
       "4  matic-network  matic  2.480000e+00  1.716698e+10  4.017201e+09   \n",
       "\n",
       "   reddit_posts_48h  reddit_comments_48h reddit accounts_48h forks stars  \\\n",
       "0             0.000                  0.0                None  None  None   \n",
       "1             0.000                  0.0                None  None  None   \n",
       "2             1.182                  5.0    15.0833333333333  None  None   \n",
       "3             0.000                  0.0                None  None  None   \n",
       "4             0.000                  0.0                None   148   360   \n",
       "\n",
       "  contributors commits twitter_followers alexa_rank  \n",
       "0         None    None              None     182185  \n",
       "1         None    None              None     262850  \n",
       "2         None    None              None      81661  \n",
       "3         None    None              7337     882493  \n",
       "4           17       1            961117       4158  "
      ]
     },
     "metadata": {},
     "output_type": "display_data"
    },
    {
     "data": {
      "application/vnd.plotly.v1+json": {
       "config": {
        "plotlyServerURL": "https://plot.ly"
       },
       "data": [
        {
         "hovertemplate": "token=%{x}<br>twitter_followers=%{y}<extra></extra>",
         "legendgroup": "",
         "marker": {
          "color": "#636efa",
          "symbol": "circle"
         },
         "mode": "markers",
         "name": "",
         "orientation": "v",
         "showlegend": false,
         "type": "scatter",
         "x": [
          "brokoli",
          "cellframe",
          "richquack",
          "railgun",
          "matic-network"
         ],
         "xaxis": "x",
         "y": [
          null,
          null,
          null,
          7337,
          961117
         ],
         "yaxis": "y"
        }
       ],
       "layout": {
        "legend": {
         "tracegroupgap": 0
        },
        "margin": {
         "t": 60
        },
        "template": {
         "data": {
          "bar": [
           {
            "error_x": {
             "color": "#2a3f5f"
            },
            "error_y": {
             "color": "#2a3f5f"
            },
            "marker": {
             "line": {
              "color": "#E5ECF6",
              "width": 0.5
             },
             "pattern": {
              "fillmode": "overlay",
              "size": 10,
              "solidity": 0.2
             }
            },
            "type": "bar"
           }
          ],
          "barpolar": [
           {
            "marker": {
             "line": {
              "color": "#E5ECF6",
              "width": 0.5
             },
             "pattern": {
              "fillmode": "overlay",
              "size": 10,
              "solidity": 0.2
             }
            },
            "type": "barpolar"
           }
          ],
          "carpet": [
           {
            "aaxis": {
             "endlinecolor": "#2a3f5f",
             "gridcolor": "white",
             "linecolor": "white",
             "minorgridcolor": "white",
             "startlinecolor": "#2a3f5f"
            },
            "baxis": {
             "endlinecolor": "#2a3f5f",
             "gridcolor": "white",
             "linecolor": "white",
             "minorgridcolor": "white",
             "startlinecolor": "#2a3f5f"
            },
            "type": "carpet"
           }
          ],
          "choropleth": [
           {
            "colorbar": {
             "outlinewidth": 0,
             "ticks": ""
            },
            "type": "choropleth"
           }
          ],
          "contour": [
           {
            "colorbar": {
             "outlinewidth": 0,
             "ticks": ""
            },
            "colorscale": [
             [
              0,
              "#0d0887"
             ],
             [
              0.1111111111111111,
              "#46039f"
             ],
             [
              0.2222222222222222,
              "#7201a8"
             ],
             [
              0.3333333333333333,
              "#9c179e"
             ],
             [
              0.4444444444444444,
              "#bd3786"
             ],
             [
              0.5555555555555556,
              "#d8576b"
             ],
             [
              0.6666666666666666,
              "#ed7953"
             ],
             [
              0.7777777777777778,
              "#fb9f3a"
             ],
             [
              0.8888888888888888,
              "#fdca26"
             ],
             [
              1,
              "#f0f921"
             ]
            ],
            "type": "contour"
           }
          ],
          "contourcarpet": [
           {
            "colorbar": {
             "outlinewidth": 0,
             "ticks": ""
            },
            "type": "contourcarpet"
           }
          ],
          "heatmap": [
           {
            "colorbar": {
             "outlinewidth": 0,
             "ticks": ""
            },
            "colorscale": [
             [
              0,
              "#0d0887"
             ],
             [
              0.1111111111111111,
              "#46039f"
             ],
             [
              0.2222222222222222,
              "#7201a8"
             ],
             [
              0.3333333333333333,
              "#9c179e"
             ],
             [
              0.4444444444444444,
              "#bd3786"
             ],
             [
              0.5555555555555556,
              "#d8576b"
             ],
             [
              0.6666666666666666,
              "#ed7953"
             ],
             [
              0.7777777777777778,
              "#fb9f3a"
             ],
             [
              0.8888888888888888,
              "#fdca26"
             ],
             [
              1,
              "#f0f921"
             ]
            ],
            "type": "heatmap"
           }
          ],
          "heatmapgl": [
           {
            "colorbar": {
             "outlinewidth": 0,
             "ticks": ""
            },
            "colorscale": [
             [
              0,
              "#0d0887"
             ],
             [
              0.1111111111111111,
              "#46039f"
             ],
             [
              0.2222222222222222,
              "#7201a8"
             ],
             [
              0.3333333333333333,
              "#9c179e"
             ],
             [
              0.4444444444444444,
              "#bd3786"
             ],
             [
              0.5555555555555556,
              "#d8576b"
             ],
             [
              0.6666666666666666,
              "#ed7953"
             ],
             [
              0.7777777777777778,
              "#fb9f3a"
             ],
             [
              0.8888888888888888,
              "#fdca26"
             ],
             [
              1,
              "#f0f921"
             ]
            ],
            "type": "heatmapgl"
           }
          ],
          "histogram": [
           {
            "marker": {
             "pattern": {
              "fillmode": "overlay",
              "size": 10,
              "solidity": 0.2
             }
            },
            "type": "histogram"
           }
          ],
          "histogram2d": [
           {
            "colorbar": {
             "outlinewidth": 0,
             "ticks": ""
            },
            "colorscale": [
             [
              0,
              "#0d0887"
             ],
             [
              0.1111111111111111,
              "#46039f"
             ],
             [
              0.2222222222222222,
              "#7201a8"
             ],
             [
              0.3333333333333333,
              "#9c179e"
             ],
             [
              0.4444444444444444,
              "#bd3786"
             ],
             [
              0.5555555555555556,
              "#d8576b"
             ],
             [
              0.6666666666666666,
              "#ed7953"
             ],
             [
              0.7777777777777778,
              "#fb9f3a"
             ],
             [
              0.8888888888888888,
              "#fdca26"
             ],
             [
              1,
              "#f0f921"
             ]
            ],
            "type": "histogram2d"
           }
          ],
          "histogram2dcontour": [
           {
            "colorbar": {
             "outlinewidth": 0,
             "ticks": ""
            },
            "colorscale": [
             [
              0,
              "#0d0887"
             ],
             [
              0.1111111111111111,
              "#46039f"
             ],
             [
              0.2222222222222222,
              "#7201a8"
             ],
             [
              0.3333333333333333,
              "#9c179e"
             ],
             [
              0.4444444444444444,
              "#bd3786"
             ],
             [
              0.5555555555555556,
              "#d8576b"
             ],
             [
              0.6666666666666666,
              "#ed7953"
             ],
             [
              0.7777777777777778,
              "#fb9f3a"
             ],
             [
              0.8888888888888888,
              "#fdca26"
             ],
             [
              1,
              "#f0f921"
             ]
            ],
            "type": "histogram2dcontour"
           }
          ],
          "mesh3d": [
           {
            "colorbar": {
             "outlinewidth": 0,
             "ticks": ""
            },
            "type": "mesh3d"
           }
          ],
          "parcoords": [
           {
            "line": {
             "colorbar": {
              "outlinewidth": 0,
              "ticks": ""
             }
            },
            "type": "parcoords"
           }
          ],
          "pie": [
           {
            "automargin": true,
            "type": "pie"
           }
          ],
          "scatter": [
           {
            "marker": {
             "colorbar": {
              "outlinewidth": 0,
              "ticks": ""
             }
            },
            "type": "scatter"
           }
          ],
          "scatter3d": [
           {
            "line": {
             "colorbar": {
              "outlinewidth": 0,
              "ticks": ""
             }
            },
            "marker": {
             "colorbar": {
              "outlinewidth": 0,
              "ticks": ""
             }
            },
            "type": "scatter3d"
           }
          ],
          "scattercarpet": [
           {
            "marker": {
             "colorbar": {
              "outlinewidth": 0,
              "ticks": ""
             }
            },
            "type": "scattercarpet"
           }
          ],
          "scattergeo": [
           {
            "marker": {
             "colorbar": {
              "outlinewidth": 0,
              "ticks": ""
             }
            },
            "type": "scattergeo"
           }
          ],
          "scattergl": [
           {
            "marker": {
             "colorbar": {
              "outlinewidth": 0,
              "ticks": ""
             }
            },
            "type": "scattergl"
           }
          ],
          "scattermapbox": [
           {
            "marker": {
             "colorbar": {
              "outlinewidth": 0,
              "ticks": ""
             }
            },
            "type": "scattermapbox"
           }
          ],
          "scatterpolar": [
           {
            "marker": {
             "colorbar": {
              "outlinewidth": 0,
              "ticks": ""
             }
            },
            "type": "scatterpolar"
           }
          ],
          "scatterpolargl": [
           {
            "marker": {
             "colorbar": {
              "outlinewidth": 0,
              "ticks": ""
             }
            },
            "type": "scatterpolargl"
           }
          ],
          "scatterternary": [
           {
            "marker": {
             "colorbar": {
              "outlinewidth": 0,
              "ticks": ""
             }
            },
            "type": "scatterternary"
           }
          ],
          "surface": [
           {
            "colorbar": {
             "outlinewidth": 0,
             "ticks": ""
            },
            "colorscale": [
             [
              0,
              "#0d0887"
             ],
             [
              0.1111111111111111,
              "#46039f"
             ],
             [
              0.2222222222222222,
              "#7201a8"
             ],
             [
              0.3333333333333333,
              "#9c179e"
             ],
             [
              0.4444444444444444,
              "#bd3786"
             ],
             [
              0.5555555555555556,
              "#d8576b"
             ],
             [
              0.6666666666666666,
              "#ed7953"
             ],
             [
              0.7777777777777778,
              "#fb9f3a"
             ],
             [
              0.8888888888888888,
              "#fdca26"
             ],
             [
              1,
              "#f0f921"
             ]
            ],
            "type": "surface"
           }
          ],
          "table": [
           {
            "cells": {
             "fill": {
              "color": "#EBF0F8"
             },
             "line": {
              "color": "white"
             }
            },
            "header": {
             "fill": {
              "color": "#C8D4E3"
             },
             "line": {
              "color": "white"
             }
            },
            "type": "table"
           }
          ]
         },
         "layout": {
          "annotationdefaults": {
           "arrowcolor": "#2a3f5f",
           "arrowhead": 0,
           "arrowwidth": 1
          },
          "autotypenumbers": "strict",
          "coloraxis": {
           "colorbar": {
            "outlinewidth": 0,
            "ticks": ""
           }
          },
          "colorscale": {
           "diverging": [
            [
             0,
             "#8e0152"
            ],
            [
             0.1,
             "#c51b7d"
            ],
            [
             0.2,
             "#de77ae"
            ],
            [
             0.3,
             "#f1b6da"
            ],
            [
             0.4,
             "#fde0ef"
            ],
            [
             0.5,
             "#f7f7f7"
            ],
            [
             0.6,
             "#e6f5d0"
            ],
            [
             0.7,
             "#b8e186"
            ],
            [
             0.8,
             "#7fbc41"
            ],
            [
             0.9,
             "#4d9221"
            ],
            [
             1,
             "#276419"
            ]
           ],
           "sequential": [
            [
             0,
             "#0d0887"
            ],
            [
             0.1111111111111111,
             "#46039f"
            ],
            [
             0.2222222222222222,
             "#7201a8"
            ],
            [
             0.3333333333333333,
             "#9c179e"
            ],
            [
             0.4444444444444444,
             "#bd3786"
            ],
            [
             0.5555555555555556,
             "#d8576b"
            ],
            [
             0.6666666666666666,
             "#ed7953"
            ],
            [
             0.7777777777777778,
             "#fb9f3a"
            ],
            [
             0.8888888888888888,
             "#fdca26"
            ],
            [
             1,
             "#f0f921"
            ]
           ],
           "sequentialminus": [
            [
             0,
             "#0d0887"
            ],
            [
             0.1111111111111111,
             "#46039f"
            ],
            [
             0.2222222222222222,
             "#7201a8"
            ],
            [
             0.3333333333333333,
             "#9c179e"
            ],
            [
             0.4444444444444444,
             "#bd3786"
            ],
            [
             0.5555555555555556,
             "#d8576b"
            ],
            [
             0.6666666666666666,
             "#ed7953"
            ],
            [
             0.7777777777777778,
             "#fb9f3a"
            ],
            [
             0.8888888888888888,
             "#fdca26"
            ],
            [
             1,
             "#f0f921"
            ]
           ]
          },
          "colorway": [
           "#636efa",
           "#EF553B",
           "#00cc96",
           "#ab63fa",
           "#FFA15A",
           "#19d3f3",
           "#FF6692",
           "#B6E880",
           "#FF97FF",
           "#FECB52"
          ],
          "font": {
           "color": "#2a3f5f"
          },
          "geo": {
           "bgcolor": "white",
           "lakecolor": "white",
           "landcolor": "#E5ECF6",
           "showlakes": true,
           "showland": true,
           "subunitcolor": "white"
          },
          "hoverlabel": {
           "align": "left"
          },
          "hovermode": "closest",
          "mapbox": {
           "style": "light"
          },
          "paper_bgcolor": "white",
          "plot_bgcolor": "#E5ECF6",
          "polar": {
           "angularaxis": {
            "gridcolor": "white",
            "linecolor": "white",
            "ticks": ""
           },
           "bgcolor": "#E5ECF6",
           "radialaxis": {
            "gridcolor": "white",
            "linecolor": "white",
            "ticks": ""
           }
          },
          "scene": {
           "xaxis": {
            "backgroundcolor": "#E5ECF6",
            "gridcolor": "white",
            "gridwidth": 2,
            "linecolor": "white",
            "showbackground": true,
            "ticks": "",
            "zerolinecolor": "white"
           },
           "yaxis": {
            "backgroundcolor": "#E5ECF6",
            "gridcolor": "white",
            "gridwidth": 2,
            "linecolor": "white",
            "showbackground": true,
            "ticks": "",
            "zerolinecolor": "white"
           },
           "zaxis": {
            "backgroundcolor": "#E5ECF6",
            "gridcolor": "white",
            "gridwidth": 2,
            "linecolor": "white",
            "showbackground": true,
            "ticks": "",
            "zerolinecolor": "white"
           }
          },
          "shapedefaults": {
           "line": {
            "color": "#2a3f5f"
           }
          },
          "ternary": {
           "aaxis": {
            "gridcolor": "white",
            "linecolor": "white",
            "ticks": ""
           },
           "baxis": {
            "gridcolor": "white",
            "linecolor": "white",
            "ticks": ""
           },
           "bgcolor": "#E5ECF6",
           "caxis": {
            "gridcolor": "white",
            "linecolor": "white",
            "ticks": ""
           }
          },
          "title": {
           "x": 0.05
          },
          "xaxis": {
           "automargin": true,
           "gridcolor": "white",
           "linecolor": "white",
           "ticks": "",
           "title": {
            "standoff": 15
           },
           "zerolinecolor": "white",
           "zerolinewidth": 2
          },
          "yaxis": {
           "automargin": true,
           "gridcolor": "white",
           "linecolor": "white",
           "ticks": "",
           "title": {
            "standoff": 15
           },
           "zerolinecolor": "white",
           "zerolinewidth": 2
          }
         }
        },
        "xaxis": {
         "anchor": "y",
         "domain": [
          0,
          1
         ],
         "title": {
          "text": "token"
         }
        },
        "yaxis": {
         "anchor": "x",
         "domain": [
          0,
          1
         ],
         "title": {
          "text": "twitter_followers"
         }
        }
       }
      }
     },
     "metadata": {},
     "output_type": "display_data"
    }
   ],
   "source": [
    "### BUILDING REDDIT COMMENTS HTML GRAPH\n",
    "display(df.head(5))\n",
    "\n",
    "fig = px.scatter(df, x=df['id'], y=df['twitter_followers'],\n",
    "                labels={\n",
    "                     \"sum of twitter_followers\": \"twitter_followers\",\n",
    "                     \"id\": \"token\"\n",
    "#                      \"species\": \"Species of Iris\"\n",
    "                 },)\n",
    "py.offline.plot(fig, filename='twitter_followers.html')\n",
    "\n",
    "\n",
    "# print(tls.get_embed('https://plotly.com/~fooba/1'))\n",
    "fig.show()\n"
   ]
  },
  {
   "cell_type": "code",
   "execution_count": 13,
   "metadata": {},
   "outputs": [
    {
     "name": "stdout",
     "output_type": "stream",
     "text": [
      "         dates\n",
      "0   09-10-2021\n",
      "1   10-10-2021\n",
      "2   11-10-2021\n",
      "3   12-10-2021\n",
      "4   13-10-2021\n",
      "..         ...\n",
      "56  04-12-2021\n",
      "57  05-12-2021\n",
      "58  06-12-2021\n",
      "59  07-12-2021\n",
      "60  08-12-2021\n",
      "\n",
      "[61 rows x 1 columns]\n",
      "09-10-2021\n",
      "just added:  brokoli\n",
      "09-10-2021\n",
      "just added:  cellframe\n",
      "09-10-2021\n",
      "just added:  richquack\n",
      "09-10-2021\n",
      "just added:  railgun\n",
      "09-10-2021\n",
      "just added:  matic-network\n"
     ]
    },
    {
     "data": {
      "text/html": [
       "<div>\n",
       "<style scoped>\n",
       "    .dataframe tbody tr th:only-of-type {\n",
       "        vertical-align: middle;\n",
       "    }\n",
       "\n",
       "    .dataframe tbody tr th {\n",
       "        vertical-align: top;\n",
       "    }\n",
       "\n",
       "    .dataframe thead th {\n",
       "        text-align: right;\n",
       "    }\n",
       "</style>\n",
       "<table border=\"1\" class=\"dataframe\">\n",
       "  <thead>\n",
       "    <tr style=\"text-align: right;\">\n",
       "      <th></th>\n",
       "      <th>dates</th>\n",
       "      <th>brokoli</th>\n",
       "      <th>cellframe</th>\n",
       "      <th>richquack</th>\n",
       "      <th>railgun</th>\n",
       "      <th>matic-network</th>\n",
       "    </tr>\n",
       "  </thead>\n",
       "  <tbody>\n",
       "    <tr>\n",
       "      <th>0</th>\n",
       "      <td>09-10-2021</td>\n",
       "      <td>0.546584</td>\n",
       "      <td>1.485880</td>\n",
       "      <td>8.116093e-11</td>\n",
       "      <td>0.945903</td>\n",
       "      <td>1.352020</td>\n",
       "    </tr>\n",
       "    <tr>\n",
       "      <th>1</th>\n",
       "      <td>10-10-2021</td>\n",
       "      <td>0.537901</td>\n",
       "      <td>1.405256</td>\n",
       "      <td>8.186945e-11</td>\n",
       "      <td>0.875807</td>\n",
       "      <td>1.247792</td>\n",
       "    </tr>\n",
       "    <tr>\n",
       "      <th>2</th>\n",
       "      <td>11-10-2021</td>\n",
       "      <td>0.494181</td>\n",
       "      <td>1.380079</td>\n",
       "      <td>8.842422e-11</td>\n",
       "      <td>0.847126</td>\n",
       "      <td>1.240431</td>\n",
       "    </tr>\n",
       "    <tr>\n",
       "      <th>3</th>\n",
       "      <td>12-10-2021</td>\n",
       "      <td>0.570961</td>\n",
       "      <td>1.235250</td>\n",
       "      <td>1.136080e-10</td>\n",
       "      <td>0.821095</td>\n",
       "      <td>1.222816</td>\n",
       "    </tr>\n",
       "    <tr>\n",
       "      <th>4</th>\n",
       "      <td>13-10-2021</td>\n",
       "      <td>0.623655</td>\n",
       "      <td>1.188424</td>\n",
       "      <td>1.194665e-10</td>\n",
       "      <td>0.834123</td>\n",
       "      <td>1.240888</td>\n",
       "    </tr>\n",
       "  </tbody>\n",
       "</table>\n",
       "</div>"
      ],
      "text/plain": [
       "        dates   brokoli  cellframe     richquack   railgun  matic-network\n",
       "0  09-10-2021  0.546584   1.485880  8.116093e-11  0.945903       1.352020\n",
       "1  10-10-2021  0.537901   1.405256  8.186945e-11  0.875807       1.247792\n",
       "2  11-10-2021  0.494181   1.380079  8.842422e-11  0.847126       1.240431\n",
       "3  12-10-2021  0.570961   1.235250  1.136080e-10  0.821095       1.222816\n",
       "4  13-10-2021  0.623655   1.188424  1.194665e-10  0.834123       1.240888"
      ]
     },
     "metadata": {},
     "output_type": "display_data"
    }
   ],
   "source": [
    "#clean version of historic prices request\n",
    "#timestamps are in day-month-year\n",
    "import requests\n",
    "import datetime\n",
    "import pandas as pd\n",
    "from datetime import timedelta\n",
    "\n",
    "# dfPrices = pd.DataFrame()\n",
    "# geckoReq = 'https://api.coingecko.com/api/v3/coins/ethereum/market_chart?vs_currency=usd&days=60&interval=daily'\n",
    "geckoReq = 'https://api.coingecko.com/api/v3/coins/ethereum/market_chart?vs_currency=usd&days=60&interval=daily'\n",
    "\n",
    "r = requests.get(geckoReq).json()\n",
    "ts = r['prices'][0][0]\n",
    "ts = ts/1000\n",
    "HistPricesList = []\n",
    "for i in range(len(r['prices'])):\n",
    "    currentUnix = r['prices'][i][0] \n",
    "    price = r['prices'][i][1]\n",
    "    currentUnix = currentUnix/1000\n",
    "    currentTS = datetime.datetime.fromtimestamp(currentUnix).strftime(\"%d-%m-%Y\")\n",
    "    HistPricesList.append([currentTS])\n",
    "global dfPrices\n",
    "dfPrices = pd.DataFrame(HistPricesList, columns = ['dates'])\n",
    "print(dfPrices)\n",
    "\n",
    "# display(dfCoin)\n",
    "# print('dfprices')\n",
    "# display(dfPrices)\n",
    "\n",
    "# coin='ethereum'\n",
    "def historicalCoinPrices(coin):\n",
    "    global dfPrices\n",
    "    # geckoReq = 'https://api.coingecko.com/api/v3/coins/ethereum/market_chart?vs_currency=usd&days=60&interval=daily'\n",
    "    geckoReq = 'https://api.coingecko.com/api/v3/coins/'+coin+'/market_chart?vs_currency=usd&days=60&interval=daily'\n",
    "\n",
    "    r = requests.get(geckoReq).json()\n",
    "    ts = r['prices'][0][0]\n",
    "    # print(ts)\n",
    "    ts = ts/1000\n",
    "    print(datetime.datetime.fromtimestamp(ts).strftime(\"%d-%m-%Y\"))\n",
    "    # print('prices length',len(r['prices']))\n",
    "    HistPricesList = []\n",
    "    for i in range(len(r['prices'])):\n",
    "        currentUnix = r['prices'][i][0] \n",
    "        price = r['prices'][i][1]\n",
    "        currentUnix = currentUnix/1000\n",
    "        currentTS = datetime.datetime.fromtimestamp(currentUnix).strftime(\"%d-%m-%Y\")\n",
    "    #     print('price: ', price, 'TS: ', currentTS)\n",
    "        HistPricesList.append([currentTS, price])\n",
    "    #     currentUnix = currentTS\n",
    "#     print(HistPricesList)\n",
    "    dfCoin = pd.DataFrame(HistPricesList, columns = ['dates', coin])\n",
    "    # display(dfCoin)\n",
    "    dfPrices = pd.merge(dfPrices, dfCoin[coin], left_on = dfPrices['dates'], right_on=dfCoin['dates']).drop(['key_0'], axis = 1)\n",
    "    # display(dfPrices)\n",
    "\n",
    "for i in myCoinsList:\n",
    "    historicalCoinPrices(i)\n",
    "    print('just added: ', i)\n",
    "\n",
    "\n",
    "display(dfPrices.head(5))"
   ]
  },
  {
   "cell_type": "code",
   "execution_count": 14,
   "metadata": {},
   "outputs": [
    {
     "data": {
      "text/html": [
       "<div>\n",
       "<style scoped>\n",
       "    .dataframe tbody tr th:only-of-type {\n",
       "        vertical-align: middle;\n",
       "    }\n",
       "\n",
       "    .dataframe tbody tr th {\n",
       "        vertical-align: top;\n",
       "    }\n",
       "\n",
       "    .dataframe thead th {\n",
       "        text-align: right;\n",
       "    }\n",
       "</style>\n",
       "<table border=\"1\" class=\"dataframe\">\n",
       "  <thead>\n",
       "    <tr style=\"text-align: right;\">\n",
       "      <th></th>\n",
       "      <th>brokoli</th>\n",
       "      <th>cellframe</th>\n",
       "      <th>richquack</th>\n",
       "      <th>railgun</th>\n",
       "      <th>matic-network</th>\n",
       "    </tr>\n",
       "    <tr>\n",
       "      <th>dates</th>\n",
       "      <th></th>\n",
       "      <th></th>\n",
       "      <th></th>\n",
       "      <th></th>\n",
       "      <th></th>\n",
       "    </tr>\n",
       "  </thead>\n",
       "  <tbody>\n",
       "    <tr>\n",
       "      <th>09-10-2021</th>\n",
       "      <td>NaN</td>\n",
       "      <td>NaN</td>\n",
       "      <td>NaN</td>\n",
       "      <td>NaN</td>\n",
       "      <td>NaN</td>\n",
       "    </tr>\n",
       "    <tr>\n",
       "      <th>10-10-2021</th>\n",
       "      <td>-0.015886</td>\n",
       "      <td>-0.054261</td>\n",
       "      <td>0.008730</td>\n",
       "      <td>-0.074105</td>\n",
       "      <td>-0.077091</td>\n",
       "    </tr>\n",
       "    <tr>\n",
       "      <th>11-10-2021</th>\n",
       "      <td>-0.081278</td>\n",
       "      <td>-0.017916</td>\n",
       "      <td>0.080064</td>\n",
       "      <td>-0.032748</td>\n",
       "      <td>-0.005899</td>\n",
       "    </tr>\n",
       "    <tr>\n",
       "      <th>12-10-2021</th>\n",
       "      <td>0.155369</td>\n",
       "      <td>-0.104943</td>\n",
       "      <td>0.284806</td>\n",
       "      <td>-0.030728</td>\n",
       "      <td>-0.014201</td>\n",
       "    </tr>\n",
       "    <tr>\n",
       "      <th>13-10-2021</th>\n",
       "      <td>0.092290</td>\n",
       "      <td>-0.037908</td>\n",
       "      <td>0.051568</td>\n",
       "      <td>0.015866</td>\n",
       "      <td>0.014779</td>\n",
       "    </tr>\n",
       "  </tbody>\n",
       "</table>\n",
       "</div>"
      ],
      "text/plain": [
       "             brokoli  cellframe  richquack   railgun  matic-network\n",
       "dates                                                              \n",
       "09-10-2021       NaN        NaN        NaN       NaN            NaN\n",
       "10-10-2021 -0.015886  -0.054261   0.008730 -0.074105      -0.077091\n",
       "11-10-2021 -0.081278  -0.017916   0.080064 -0.032748      -0.005899\n",
       "12-10-2021  0.155369  -0.104943   0.284806 -0.030728      -0.014201\n",
       "13-10-2021  0.092290  -0.037908   0.051568  0.015866       0.014779"
      ]
     },
     "metadata": {},
     "output_type": "display_data"
    },
    {
     "data": {
      "application/vnd.plotly.v1+json": {
       "config": {
        "plotlyServerURL": "https://plot.ly"
       },
       "data": [
        {
         "hovertemplate": "coin=brokoli<br>dates=%{x}<br>Percent Change=%{y}<extra></extra>",
         "legendgroup": "brokoli",
         "line": {
          "color": "#636efa",
          "dash": "solid"
         },
         "marker": {
          "symbol": "circle"
         },
         "mode": "lines",
         "name": "brokoli",
         "orientation": "v",
         "showlegend": true,
         "type": "scatter",
         "x": [
          "09-10-2021",
          "10-10-2021",
          "11-10-2021",
          "12-10-2021",
          "13-10-2021",
          "14-10-2021",
          "15-10-2021",
          "16-10-2021",
          "17-10-2021",
          "18-10-2021",
          "19-10-2021",
          "20-10-2021",
          "21-10-2021",
          "22-10-2021",
          "23-10-2021",
          "24-10-2021",
          "25-10-2021",
          "26-10-2021",
          "27-10-2021",
          "28-10-2021",
          "29-10-2021",
          "30-10-2021",
          "31-10-2021",
          "01-11-2021",
          "02-11-2021",
          "03-11-2021",
          "04-11-2021",
          "05-11-2021",
          "06-11-2021",
          "07-11-2021",
          "08-11-2021",
          "09-11-2021",
          "10-11-2021",
          "11-11-2021",
          "12-11-2021",
          "13-11-2021",
          "14-11-2021",
          "15-11-2021",
          "16-11-2021",
          "17-11-2021",
          "18-11-2021",
          "19-11-2021",
          "20-11-2021",
          "21-11-2021",
          "22-11-2021",
          "23-11-2021",
          "24-11-2021",
          "25-11-2021",
          "26-11-2021",
          "27-11-2021",
          "28-11-2021",
          "29-11-2021",
          "30-11-2021",
          "01-12-2021",
          "02-12-2021",
          "03-12-2021",
          "04-12-2021",
          "05-12-2021",
          "06-12-2021",
          "07-12-2021",
          "08-12-2021"
         ],
         "xaxis": "x",
         "y": [
          null,
          -0.015885890864254293,
          -0.08127837136756955,
          0.15536857213962363,
          0.09228998794655219,
          -0.09221899058652294,
          -0.004990320219141031,
          -0.06341526846885803,
          -0.020555567167382827,
          -0.04695049515795302,
          0.06951134175714335,
          -0.06634589442826044,
          0.010594131322143152,
          0.01918236009929286,
          0.013186140898045373,
          -0.027439744031084512,
          -0.07843241777514554,
          0.013518956468399068,
          -0.0035767576955944014,
          -0.0614239834667365,
          0.0218561632396721,
          0.02229818326503752,
          -0.033198973300351264,
          0.0304557635041649,
          0.03913902992656815,
          0.171229915703615,
          0.2076184654856037,
          -0.0111869791604009,
          0.2812733213700871,
          0.3064880575633324,
          0.18174061052030765,
          0.23069709550145334,
          -0.2352578038904405,
          0.2595914065720406,
          -0.19090701789191766,
          -0.020326067122729663,
          -0.05293500638424131,
          0.11558545406322374,
          -0.09246691623309289,
          -0.11299447122683981,
          0.013345602830230563,
          0.24952391549414354,
          -0.003866443282076748,
          -0.0962514702714522,
          -0.09965276406159351,
          0.16238865342675846,
          -0.02947858323159036,
          0.06361762483893885,
          -0.055994571865577214,
          0.04864429468103282,
          0.0005208577803859082,
          0.29352030090978,
          0.07173026875407795,
          -0.11251647776797102,
          -0.08452624879976978,
          -0.02889512818233153,
          -0.14430483719036946,
          0.18247373428897284,
          -0.13226695858731485,
          0.00006960090749985604,
          0.07443700128893505
         ],
         "yaxis": "y"
        },
        {
         "hovertemplate": "coin=cellframe<br>dates=%{x}<br>Percent Change=%{y}<extra></extra>",
         "legendgroup": "cellframe",
         "line": {
          "color": "#EF553B",
          "dash": "solid"
         },
         "marker": {
          "symbol": "circle"
         },
         "mode": "lines",
         "name": "cellframe",
         "orientation": "v",
         "showlegend": true,
         "type": "scatter",
         "x": [
          "09-10-2021",
          "10-10-2021",
          "11-10-2021",
          "12-10-2021",
          "13-10-2021",
          "14-10-2021",
          "15-10-2021",
          "16-10-2021",
          "17-10-2021",
          "18-10-2021",
          "19-10-2021",
          "20-10-2021",
          "21-10-2021",
          "22-10-2021",
          "23-10-2021",
          "24-10-2021",
          "25-10-2021",
          "26-10-2021",
          "27-10-2021",
          "28-10-2021",
          "29-10-2021",
          "30-10-2021",
          "31-10-2021",
          "01-11-2021",
          "02-11-2021",
          "03-11-2021",
          "04-11-2021",
          "05-11-2021",
          "06-11-2021",
          "07-11-2021",
          "08-11-2021",
          "09-11-2021",
          "10-11-2021",
          "11-11-2021",
          "12-11-2021",
          "13-11-2021",
          "14-11-2021",
          "15-11-2021",
          "16-11-2021",
          "17-11-2021",
          "18-11-2021",
          "19-11-2021",
          "20-11-2021",
          "21-11-2021",
          "22-11-2021",
          "23-11-2021",
          "24-11-2021",
          "25-11-2021",
          "26-11-2021",
          "27-11-2021",
          "28-11-2021",
          "29-11-2021",
          "30-11-2021",
          "01-12-2021",
          "02-12-2021",
          "03-12-2021",
          "04-12-2021",
          "05-12-2021",
          "06-12-2021",
          "07-12-2021",
          "08-12-2021"
         ],
         "xaxis": "x",
         "y": [
          null,
          -0.05426052602395259,
          -0.01791608165174996,
          -0.10494267041712291,
          -0.03790797986675398,
          -0.23543498148606823,
          0.05052112333040215,
          -0.10287532435268498,
          -0.013317407330041608,
          -0.03297834521690324,
          -0.03697081142028347,
          0.18100152828629512,
          -0.0858867626028762,
          -0.027849763799151606,
          0.15697181862480591,
          -0.03952840802780189,
          0.037710468639784445,
          0.21600153266454947,
          0.19162613149658103,
          -0.13048709090161048,
          -0.11910203825086108,
          -0.04441896222825359,
          -0.07378689732259669,
          -0.07820100769374827,
          0.1896176536920562,
          -0.005705691281457259,
          -0.03284890959981723,
          -0.00823073524752127,
          0.039902656628952426,
          -0.014592378061269673,
          0.27817694928491354,
          0.3549631565778715,
          -0.15508072650241755,
          0.5019293047587661,
          -0.08088306503993425,
          0.15720817109779706,
          0.28308400666250355,
          -0.09133140650972138,
          -0.04423596967897925,
          -0.06448868917666883,
          -0.27312169193945934,
          0.2406865039242454,
          -0.0063194891448904444,
          0.04088143883780049,
          -0.05767733719184709,
          0.07461715503327127,
          -0.19537890422709325,
          0.15374852394119398,
          -0.21268888228822735,
          0.14016354909961137,
          0.03493543195020221,
          0.029512421253788723,
          -0.03043717562941739,
          0.011144426898996418,
          -0.032835578607740334,
          -0.07280103868102783,
          -0.19602000339835546,
          0.02447367537080547,
          -0.03794806786177973,
          0.05820696066531483,
          0.07964353827542636
         ],
         "yaxis": "y"
        },
        {
         "hovertemplate": "coin=richquack<br>dates=%{x}<br>Percent Change=%{y}<extra></extra>",
         "legendgroup": "richquack",
         "line": {
          "color": "#00cc96",
          "dash": "solid"
         },
         "marker": {
          "symbol": "circle"
         },
         "mode": "lines",
         "name": "richquack",
         "orientation": "v",
         "showlegend": true,
         "type": "scatter",
         "x": [
          "09-10-2021",
          "10-10-2021",
          "11-10-2021",
          "12-10-2021",
          "13-10-2021",
          "14-10-2021",
          "15-10-2021",
          "16-10-2021",
          "17-10-2021",
          "18-10-2021",
          "19-10-2021",
          "20-10-2021",
          "21-10-2021",
          "22-10-2021",
          "23-10-2021",
          "24-10-2021",
          "25-10-2021",
          "26-10-2021",
          "27-10-2021",
          "28-10-2021",
          "29-10-2021",
          "30-10-2021",
          "31-10-2021",
          "01-11-2021",
          "02-11-2021",
          "03-11-2021",
          "04-11-2021",
          "05-11-2021",
          "06-11-2021",
          "07-11-2021",
          "08-11-2021",
          "09-11-2021",
          "10-11-2021",
          "11-11-2021",
          "12-11-2021",
          "13-11-2021",
          "14-11-2021",
          "15-11-2021",
          "16-11-2021",
          "17-11-2021",
          "18-11-2021",
          "19-11-2021",
          "20-11-2021",
          "21-11-2021",
          "22-11-2021",
          "23-11-2021",
          "24-11-2021",
          "25-11-2021",
          "26-11-2021",
          "27-11-2021",
          "28-11-2021",
          "29-11-2021",
          "30-11-2021",
          "01-12-2021",
          "02-12-2021",
          "03-12-2021",
          "04-12-2021",
          "05-12-2021",
          "06-12-2021",
          "07-12-2021",
          "08-12-2021"
         ],
         "xaxis": "x",
         "y": [
          null,
          0.008729792776335232,
          0.08006377539361065,
          0.2848063220791768,
          0.05156762430315753,
          -0.04516584289769798,
          -0.13595139706390946,
          -0.044900133177038226,
          -0.004310772470942803,
          0.004251373091088695,
          0.010558154579337842,
          -0.00875345686838136,
          -0.11291222678578894,
          0.015951121760683806,
          0.041611768783730296,
          0.007309133649374022,
          0.41302206003709463,
          0.9852812271239157,
          -0.04856543777218891,
          -0.07023987684246935,
          0.12223516067288087,
          0.3119367067933039,
          1.835304698812691,
          0.16763189034389137,
          0.7105097569674697,
          0.7631447002869503,
          -0.4104720473176787,
          1.89281390692125,
          1.0937914485604834,
          -0.01707088659324818,
          -0.3599436259661276,
          0.08732571182963644,
          -0.24635315625103438,
          0.2906636806683556,
          -0.2526940855747114,
          0.03800443865755465,
          -0.015506851958189238,
          -0.1764783114566738,
          -0.03586978024921461,
          0.1254856760914438,
          -0.16503158097694148,
          0.06490678818367845,
          0.019200140630040163,
          0.011617545122696082,
          -0.09278583872104007,
          0.06891556212055194,
          -0.08885072314242703,
          0.050133682237595734,
          -0.18897852578234475,
          0.12468748232212623,
          -0.07572666578319043,
          -0.05108312212932631,
          0.03048402556797236,
          -0.044109668025943405,
          -0.06563800016767751,
          0.1634977880741202,
          -0.2801568325518966,
          -0.14163500269247564,
          -0.11611305382947013,
          0.3875313100439868,
          0.03533851130886689
         ],
         "yaxis": "y"
        },
        {
         "hovertemplate": "coin=railgun<br>dates=%{x}<br>Percent Change=%{y}<extra></extra>",
         "legendgroup": "railgun",
         "line": {
          "color": "#ab63fa",
          "dash": "solid"
         },
         "marker": {
          "symbol": "circle"
         },
         "mode": "lines",
         "name": "railgun",
         "orientation": "v",
         "showlegend": true,
         "type": "scatter",
         "x": [
          "09-10-2021",
          "10-10-2021",
          "11-10-2021",
          "12-10-2021",
          "13-10-2021",
          "14-10-2021",
          "15-10-2021",
          "16-10-2021",
          "17-10-2021",
          "18-10-2021",
          "19-10-2021",
          "20-10-2021",
          "21-10-2021",
          "22-10-2021",
          "23-10-2021",
          "24-10-2021",
          "25-10-2021",
          "26-10-2021",
          "27-10-2021",
          "28-10-2021",
          "29-10-2021",
          "30-10-2021",
          "31-10-2021",
          "01-11-2021",
          "02-11-2021",
          "03-11-2021",
          "04-11-2021",
          "05-11-2021",
          "06-11-2021",
          "07-11-2021",
          "08-11-2021",
          "09-11-2021",
          "10-11-2021",
          "11-11-2021",
          "12-11-2021",
          "13-11-2021",
          "14-11-2021",
          "15-11-2021",
          "16-11-2021",
          "17-11-2021",
          "18-11-2021",
          "19-11-2021",
          "20-11-2021",
          "21-11-2021",
          "22-11-2021",
          "23-11-2021",
          "24-11-2021",
          "25-11-2021",
          "26-11-2021",
          "27-11-2021",
          "28-11-2021",
          "29-11-2021",
          "30-11-2021",
          "01-12-2021",
          "02-12-2021",
          "03-12-2021",
          "04-12-2021",
          "05-12-2021",
          "06-12-2021",
          "07-12-2021",
          "08-12-2021"
         ],
         "xaxis": "x",
         "y": [
          null,
          -0.07410496719106485,
          -0.03274838712532613,
          -0.030727896755772366,
          0.015866247184572524,
          0.04552504256838752,
          -0.029885610574183707,
          0.029809169158925508,
          -0.009818360631751233,
          -0.06645421031010701,
          0.025872302729373686,
          0.060937039561494766,
          -0.01751414302693377,
          0.012003271730952836,
          0.051046409591871234,
          0.011175032265762885,
          0.012396692586405855,
          -0.08595231828818295,
          0.02868515116856707,
          0.1574278457186149,
          0.0025201484004264696,
          0.006354004916269584,
          0.030150966053903216,
          -0.005876035324707263,
          -0.005084148412265566,
          -0.008998427357624905,
          0.03783096432464017,
          0.0016715046841737635,
          0.13143442684153284,
          0.030861113008031626,
          0.035127355240394564,
          -0.057680843834406414,
          -0.11557382321204368,
          0.14675955071643143,
          -0.017171716827346306,
          -0.0539917651020847,
          -0.00403594963624665,
          0.03601798248326693,
          -0.1837052842888257,
          0.0012464810858179298,
          -0.045699519964406354,
          0.18820727599023135,
          0.039286246112931966,
          -0.039661650104711454,
          -0.01874072004941363,
          0.09249038267621201,
          -0.011993495972594248,
          0.25586790853254415,
          -0.2319085462930187,
          0.1577885758016826,
          0.12005027413998803,
          0.08007520092064557,
          0.08222643078461322,
          0.0423461775836107,
          0.030833745508085375,
          -0.02221877645526793,
          -0.14836446762449362,
          -0.01838297296759328,
          0.015814793707740415,
          0.15499319688770963,
          0.027210301644639
         ],
         "yaxis": "y"
        },
        {
         "hovertemplate": "coin=matic-network<br>dates=%{x}<br>Percent Change=%{y}<extra></extra>",
         "legendgroup": "matic-network",
         "line": {
          "color": "#FFA15A",
          "dash": "solid"
         },
         "marker": {
          "symbol": "circle"
         },
         "mode": "lines",
         "name": "matic-network",
         "orientation": "v",
         "showlegend": true,
         "type": "scatter",
         "x": [
          "09-10-2021",
          "10-10-2021",
          "11-10-2021",
          "12-10-2021",
          "13-10-2021",
          "14-10-2021",
          "15-10-2021",
          "16-10-2021",
          "17-10-2021",
          "18-10-2021",
          "19-10-2021",
          "20-10-2021",
          "21-10-2021",
          "22-10-2021",
          "23-10-2021",
          "24-10-2021",
          "25-10-2021",
          "26-10-2021",
          "27-10-2021",
          "28-10-2021",
          "29-10-2021",
          "30-10-2021",
          "31-10-2021",
          "01-11-2021",
          "02-11-2021",
          "03-11-2021",
          "04-11-2021",
          "05-11-2021",
          "06-11-2021",
          "07-11-2021",
          "08-11-2021",
          "09-11-2021",
          "10-11-2021",
          "11-11-2021",
          "12-11-2021",
          "13-11-2021",
          "14-11-2021",
          "15-11-2021",
          "16-11-2021",
          "17-11-2021",
          "18-11-2021",
          "19-11-2021",
          "20-11-2021",
          "21-11-2021",
          "22-11-2021",
          "23-11-2021",
          "24-11-2021",
          "25-11-2021",
          "26-11-2021",
          "27-11-2021",
          "28-11-2021",
          "29-11-2021",
          "30-11-2021",
          "01-12-2021",
          "02-12-2021",
          "03-12-2021",
          "04-12-2021",
          "05-12-2021",
          "06-12-2021",
          "07-12-2021",
          "08-12-2021"
         ],
         "xaxis": "x",
         "y": [
          null,
          -0.07709119899175343,
          -0.005898826509473265,
          -0.014200992504180387,
          0.014778881686427825,
          0.02003603127432685,
          0.25864392985587337,
          -0.05197890969959085,
          -0.035499740038626104,
          0.014971759851136301,
          0.00011172947531168376,
          0.035201587953950675,
          -0.013970856137930254,
          0.005955480121286216,
          0.08416834181717503,
          -0.04215484620868448,
          0.05999910548087417,
          0.043106760581005155,
          0.017310613530914898,
          0.1997855355905518,
          -0.04839749149884731,
          -0.08104949850017307,
          0.03947952581254266,
          -0.013872232568675091,
          0.015597874623287877,
          0.05153303346188265,
          -0.054800818102068605,
          -0.010289818336128187,
          -0.00884132067355392,
          0.00041961270483370505,
          0.0024123519361718415,
          -0.06692734215529239,
          -0.03686042546654722,
          0.0385545203181068,
          -0.025162863923884005,
          0.02081555292513082,
          -0.012974710639061526,
          -0.02067630342668314,
          -0.07548411694640766,
          0.043967776954721094,
          -0.09489115496896205,
          0.09306955427886043,
          0.031032235743924774,
          -0.03374014880474818,
          -0.03506225305937216,
          0.1255000490093472,
          -0.036172046579281636,
          0.13002479166038783,
          -0.14366186441731477,
          -0.019847378192764276,
          0.027095982630706672,
          0.10143388038754653,
          -0.015557114773802172,
          0.12636138394929985,
          0.0557003939199614,
          0.07443766684129471,
          -0.1370722497189918,
          0.023917512019894893,
          0.12478076031196261,
          0.04408101946891474,
          0.049521485904341356
         ],
         "yaxis": "y"
        }
       ],
       "layout": {
        "legend": {
         "title": {
          "text": "coin"
         },
         "tracegroupgap": 0
        },
        "margin": {
         "t": 60
        },
        "template": {
         "data": {
          "bar": [
           {
            "error_x": {
             "color": "#2a3f5f"
            },
            "error_y": {
             "color": "#2a3f5f"
            },
            "marker": {
             "line": {
              "color": "#E5ECF6",
              "width": 0.5
             },
             "pattern": {
              "fillmode": "overlay",
              "size": 10,
              "solidity": 0.2
             }
            },
            "type": "bar"
           }
          ],
          "barpolar": [
           {
            "marker": {
             "line": {
              "color": "#E5ECF6",
              "width": 0.5
             },
             "pattern": {
              "fillmode": "overlay",
              "size": 10,
              "solidity": 0.2
             }
            },
            "type": "barpolar"
           }
          ],
          "carpet": [
           {
            "aaxis": {
             "endlinecolor": "#2a3f5f",
             "gridcolor": "white",
             "linecolor": "white",
             "minorgridcolor": "white",
             "startlinecolor": "#2a3f5f"
            },
            "baxis": {
             "endlinecolor": "#2a3f5f",
             "gridcolor": "white",
             "linecolor": "white",
             "minorgridcolor": "white",
             "startlinecolor": "#2a3f5f"
            },
            "type": "carpet"
           }
          ],
          "choropleth": [
           {
            "colorbar": {
             "outlinewidth": 0,
             "ticks": ""
            },
            "type": "choropleth"
           }
          ],
          "contour": [
           {
            "colorbar": {
             "outlinewidth": 0,
             "ticks": ""
            },
            "colorscale": [
             [
              0,
              "#0d0887"
             ],
             [
              0.1111111111111111,
              "#46039f"
             ],
             [
              0.2222222222222222,
              "#7201a8"
             ],
             [
              0.3333333333333333,
              "#9c179e"
             ],
             [
              0.4444444444444444,
              "#bd3786"
             ],
             [
              0.5555555555555556,
              "#d8576b"
             ],
             [
              0.6666666666666666,
              "#ed7953"
             ],
             [
              0.7777777777777778,
              "#fb9f3a"
             ],
             [
              0.8888888888888888,
              "#fdca26"
             ],
             [
              1,
              "#f0f921"
             ]
            ],
            "type": "contour"
           }
          ],
          "contourcarpet": [
           {
            "colorbar": {
             "outlinewidth": 0,
             "ticks": ""
            },
            "type": "contourcarpet"
           }
          ],
          "heatmap": [
           {
            "colorbar": {
             "outlinewidth": 0,
             "ticks": ""
            },
            "colorscale": [
             [
              0,
              "#0d0887"
             ],
             [
              0.1111111111111111,
              "#46039f"
             ],
             [
              0.2222222222222222,
              "#7201a8"
             ],
             [
              0.3333333333333333,
              "#9c179e"
             ],
             [
              0.4444444444444444,
              "#bd3786"
             ],
             [
              0.5555555555555556,
              "#d8576b"
             ],
             [
              0.6666666666666666,
              "#ed7953"
             ],
             [
              0.7777777777777778,
              "#fb9f3a"
             ],
             [
              0.8888888888888888,
              "#fdca26"
             ],
             [
              1,
              "#f0f921"
             ]
            ],
            "type": "heatmap"
           }
          ],
          "heatmapgl": [
           {
            "colorbar": {
             "outlinewidth": 0,
             "ticks": ""
            },
            "colorscale": [
             [
              0,
              "#0d0887"
             ],
             [
              0.1111111111111111,
              "#46039f"
             ],
             [
              0.2222222222222222,
              "#7201a8"
             ],
             [
              0.3333333333333333,
              "#9c179e"
             ],
             [
              0.4444444444444444,
              "#bd3786"
             ],
             [
              0.5555555555555556,
              "#d8576b"
             ],
             [
              0.6666666666666666,
              "#ed7953"
             ],
             [
              0.7777777777777778,
              "#fb9f3a"
             ],
             [
              0.8888888888888888,
              "#fdca26"
             ],
             [
              1,
              "#f0f921"
             ]
            ],
            "type": "heatmapgl"
           }
          ],
          "histogram": [
           {
            "marker": {
             "pattern": {
              "fillmode": "overlay",
              "size": 10,
              "solidity": 0.2
             }
            },
            "type": "histogram"
           }
          ],
          "histogram2d": [
           {
            "colorbar": {
             "outlinewidth": 0,
             "ticks": ""
            },
            "colorscale": [
             [
              0,
              "#0d0887"
             ],
             [
              0.1111111111111111,
              "#46039f"
             ],
             [
              0.2222222222222222,
              "#7201a8"
             ],
             [
              0.3333333333333333,
              "#9c179e"
             ],
             [
              0.4444444444444444,
              "#bd3786"
             ],
             [
              0.5555555555555556,
              "#d8576b"
             ],
             [
              0.6666666666666666,
              "#ed7953"
             ],
             [
              0.7777777777777778,
              "#fb9f3a"
             ],
             [
              0.8888888888888888,
              "#fdca26"
             ],
             [
              1,
              "#f0f921"
             ]
            ],
            "type": "histogram2d"
           }
          ],
          "histogram2dcontour": [
           {
            "colorbar": {
             "outlinewidth": 0,
             "ticks": ""
            },
            "colorscale": [
             [
              0,
              "#0d0887"
             ],
             [
              0.1111111111111111,
              "#46039f"
             ],
             [
              0.2222222222222222,
              "#7201a8"
             ],
             [
              0.3333333333333333,
              "#9c179e"
             ],
             [
              0.4444444444444444,
              "#bd3786"
             ],
             [
              0.5555555555555556,
              "#d8576b"
             ],
             [
              0.6666666666666666,
              "#ed7953"
             ],
             [
              0.7777777777777778,
              "#fb9f3a"
             ],
             [
              0.8888888888888888,
              "#fdca26"
             ],
             [
              1,
              "#f0f921"
             ]
            ],
            "type": "histogram2dcontour"
           }
          ],
          "mesh3d": [
           {
            "colorbar": {
             "outlinewidth": 0,
             "ticks": ""
            },
            "type": "mesh3d"
           }
          ],
          "parcoords": [
           {
            "line": {
             "colorbar": {
              "outlinewidth": 0,
              "ticks": ""
             }
            },
            "type": "parcoords"
           }
          ],
          "pie": [
           {
            "automargin": true,
            "type": "pie"
           }
          ],
          "scatter": [
           {
            "marker": {
             "colorbar": {
              "outlinewidth": 0,
              "ticks": ""
             }
            },
            "type": "scatter"
           }
          ],
          "scatter3d": [
           {
            "line": {
             "colorbar": {
              "outlinewidth": 0,
              "ticks": ""
             }
            },
            "marker": {
             "colorbar": {
              "outlinewidth": 0,
              "ticks": ""
             }
            },
            "type": "scatter3d"
           }
          ],
          "scattercarpet": [
           {
            "marker": {
             "colorbar": {
              "outlinewidth": 0,
              "ticks": ""
             }
            },
            "type": "scattercarpet"
           }
          ],
          "scattergeo": [
           {
            "marker": {
             "colorbar": {
              "outlinewidth": 0,
              "ticks": ""
             }
            },
            "type": "scattergeo"
           }
          ],
          "scattergl": [
           {
            "marker": {
             "colorbar": {
              "outlinewidth": 0,
              "ticks": ""
             }
            },
            "type": "scattergl"
           }
          ],
          "scattermapbox": [
           {
            "marker": {
             "colorbar": {
              "outlinewidth": 0,
              "ticks": ""
             }
            },
            "type": "scattermapbox"
           }
          ],
          "scatterpolar": [
           {
            "marker": {
             "colorbar": {
              "outlinewidth": 0,
              "ticks": ""
             }
            },
            "type": "scatterpolar"
           }
          ],
          "scatterpolargl": [
           {
            "marker": {
             "colorbar": {
              "outlinewidth": 0,
              "ticks": ""
             }
            },
            "type": "scatterpolargl"
           }
          ],
          "scatterternary": [
           {
            "marker": {
             "colorbar": {
              "outlinewidth": 0,
              "ticks": ""
             }
            },
            "type": "scatterternary"
           }
          ],
          "surface": [
           {
            "colorbar": {
             "outlinewidth": 0,
             "ticks": ""
            },
            "colorscale": [
             [
              0,
              "#0d0887"
             ],
             [
              0.1111111111111111,
              "#46039f"
             ],
             [
              0.2222222222222222,
              "#7201a8"
             ],
             [
              0.3333333333333333,
              "#9c179e"
             ],
             [
              0.4444444444444444,
              "#bd3786"
             ],
             [
              0.5555555555555556,
              "#d8576b"
             ],
             [
              0.6666666666666666,
              "#ed7953"
             ],
             [
              0.7777777777777778,
              "#fb9f3a"
             ],
             [
              0.8888888888888888,
              "#fdca26"
             ],
             [
              1,
              "#f0f921"
             ]
            ],
            "type": "surface"
           }
          ],
          "table": [
           {
            "cells": {
             "fill": {
              "color": "#EBF0F8"
             },
             "line": {
              "color": "white"
             }
            },
            "header": {
             "fill": {
              "color": "#C8D4E3"
             },
             "line": {
              "color": "white"
             }
            },
            "type": "table"
           }
          ]
         },
         "layout": {
          "annotationdefaults": {
           "arrowcolor": "#2a3f5f",
           "arrowhead": 0,
           "arrowwidth": 1
          },
          "autotypenumbers": "strict",
          "coloraxis": {
           "colorbar": {
            "outlinewidth": 0,
            "ticks": ""
           }
          },
          "colorscale": {
           "diverging": [
            [
             0,
             "#8e0152"
            ],
            [
             0.1,
             "#c51b7d"
            ],
            [
             0.2,
             "#de77ae"
            ],
            [
             0.3,
             "#f1b6da"
            ],
            [
             0.4,
             "#fde0ef"
            ],
            [
             0.5,
             "#f7f7f7"
            ],
            [
             0.6,
             "#e6f5d0"
            ],
            [
             0.7,
             "#b8e186"
            ],
            [
             0.8,
             "#7fbc41"
            ],
            [
             0.9,
             "#4d9221"
            ],
            [
             1,
             "#276419"
            ]
           ],
           "sequential": [
            [
             0,
             "#0d0887"
            ],
            [
             0.1111111111111111,
             "#46039f"
            ],
            [
             0.2222222222222222,
             "#7201a8"
            ],
            [
             0.3333333333333333,
             "#9c179e"
            ],
            [
             0.4444444444444444,
             "#bd3786"
            ],
            [
             0.5555555555555556,
             "#d8576b"
            ],
            [
             0.6666666666666666,
             "#ed7953"
            ],
            [
             0.7777777777777778,
             "#fb9f3a"
            ],
            [
             0.8888888888888888,
             "#fdca26"
            ],
            [
             1,
             "#f0f921"
            ]
           ],
           "sequentialminus": [
            [
             0,
             "#0d0887"
            ],
            [
             0.1111111111111111,
             "#46039f"
            ],
            [
             0.2222222222222222,
             "#7201a8"
            ],
            [
             0.3333333333333333,
             "#9c179e"
            ],
            [
             0.4444444444444444,
             "#bd3786"
            ],
            [
             0.5555555555555556,
             "#d8576b"
            ],
            [
             0.6666666666666666,
             "#ed7953"
            ],
            [
             0.7777777777777778,
             "#fb9f3a"
            ],
            [
             0.8888888888888888,
             "#fdca26"
            ],
            [
             1,
             "#f0f921"
            ]
           ]
          },
          "colorway": [
           "#636efa",
           "#EF553B",
           "#00cc96",
           "#ab63fa",
           "#FFA15A",
           "#19d3f3",
           "#FF6692",
           "#B6E880",
           "#FF97FF",
           "#FECB52"
          ],
          "font": {
           "color": "#2a3f5f"
          },
          "geo": {
           "bgcolor": "white",
           "lakecolor": "white",
           "landcolor": "#E5ECF6",
           "showlakes": true,
           "showland": true,
           "subunitcolor": "white"
          },
          "hoverlabel": {
           "align": "left"
          },
          "hovermode": "closest",
          "mapbox": {
           "style": "light"
          },
          "paper_bgcolor": "white",
          "plot_bgcolor": "#E5ECF6",
          "polar": {
           "angularaxis": {
            "gridcolor": "white",
            "linecolor": "white",
            "ticks": ""
           },
           "bgcolor": "#E5ECF6",
           "radialaxis": {
            "gridcolor": "white",
            "linecolor": "white",
            "ticks": ""
           }
          },
          "scene": {
           "xaxis": {
            "backgroundcolor": "#E5ECF6",
            "gridcolor": "white",
            "gridwidth": 2,
            "linecolor": "white",
            "showbackground": true,
            "ticks": "",
            "zerolinecolor": "white"
           },
           "yaxis": {
            "backgroundcolor": "#E5ECF6",
            "gridcolor": "white",
            "gridwidth": 2,
            "linecolor": "white",
            "showbackground": true,
            "ticks": "",
            "zerolinecolor": "white"
           },
           "zaxis": {
            "backgroundcolor": "#E5ECF6",
            "gridcolor": "white",
            "gridwidth": 2,
            "linecolor": "white",
            "showbackground": true,
            "ticks": "",
            "zerolinecolor": "white"
           }
          },
          "shapedefaults": {
           "line": {
            "color": "#2a3f5f"
           }
          },
          "ternary": {
           "aaxis": {
            "gridcolor": "white",
            "linecolor": "white",
            "ticks": ""
           },
           "baxis": {
            "gridcolor": "white",
            "linecolor": "white",
            "ticks": ""
           },
           "bgcolor": "#E5ECF6",
           "caxis": {
            "gridcolor": "white",
            "linecolor": "white",
            "ticks": ""
           }
          },
          "title": {
           "x": 0.05
          },
          "xaxis": {
           "automargin": true,
           "gridcolor": "white",
           "linecolor": "white",
           "ticks": "",
           "title": {
            "standoff": 15
           },
           "zerolinecolor": "white",
           "zerolinewidth": 2
          },
          "yaxis": {
           "automargin": true,
           "gridcolor": "white",
           "linecolor": "white",
           "ticks": "",
           "title": {
            "standoff": 15
           },
           "zerolinecolor": "white",
           "zerolinewidth": 2
          }
         }
        },
        "xaxis": {
         "anchor": "y",
         "domain": [
          0,
          1
         ],
         "title": {
          "text": "dates"
         }
        },
        "yaxis": {
         "anchor": "x",
         "domain": [
          0,
          1
         ],
         "title": {
          "text": "Percent Change"
         }
        }
       }
      }
     },
     "metadata": {},
     "output_type": "display_data"
    }
   ],
   "source": [
    "#build price percent Changes Graph\n",
    "dfPercents = dfPrices\n",
    "dfPercents = dfPercents.set_index('dates')\n",
    "dfPercents = dfPercents.pct_change()\n",
    "display(dfPercents.head(5))\n",
    "#the default y axis label was value so thats why it is being changed below\n",
    "fig = px.line(dfPercents, labels = {'value': 'Percent Change', 'variable': 'coin'})\n",
    "py.offline.plot(fig, filename='pricePercentChangesLines.html')\n",
    "\n",
    "fig.show()\n"
   ]
  },
  {
   "cell_type": "code",
   "execution_count": 15,
   "metadata": {},
   "outputs": [
    {
     "data": {
      "application/vnd.plotly.v1+json": {
       "config": {
        "plotlyServerURL": "https://plot.ly"
       },
       "data": [
        {
         "hovertemplate": "variable=brokoli<br>dates=%{x}<br>value=%{y}<extra></extra>",
         "legendgroup": "brokoli",
         "line": {
          "color": "#636efa",
          "dash": "solid"
         },
         "marker": {
          "symbol": "circle"
         },
         "mode": "lines",
         "name": "brokoli",
         "orientation": "v",
         "showlegend": true,
         "type": "scatter",
         "x": [
          "09-10-2021",
          "10-10-2021",
          "11-10-2021",
          "12-10-2021",
          "13-10-2021",
          "14-10-2021",
          "15-10-2021",
          "16-10-2021",
          "17-10-2021",
          "18-10-2021",
          "19-10-2021",
          "20-10-2021",
          "21-10-2021",
          "22-10-2021",
          "23-10-2021",
          "24-10-2021",
          "25-10-2021",
          "26-10-2021",
          "27-10-2021",
          "28-10-2021",
          "29-10-2021",
          "30-10-2021",
          "31-10-2021",
          "01-11-2021",
          "02-11-2021",
          "03-11-2021",
          "04-11-2021",
          "05-11-2021",
          "06-11-2021",
          "07-11-2021",
          "08-11-2021",
          "09-11-2021",
          "10-11-2021",
          "11-11-2021",
          "12-11-2021",
          "13-11-2021",
          "14-11-2021",
          "15-11-2021",
          "16-11-2021",
          "17-11-2021",
          "18-11-2021",
          "19-11-2021",
          "20-11-2021",
          "21-11-2021",
          "22-11-2021",
          "23-11-2021",
          "24-11-2021",
          "25-11-2021",
          "26-11-2021",
          "27-11-2021",
          "28-11-2021",
          "29-11-2021",
          "30-11-2021",
          "01-12-2021",
          "02-12-2021",
          "03-12-2021",
          "04-12-2021",
          "05-12-2021",
          "06-12-2021",
          "07-12-2021",
          "08-12-2021"
         ],
         "xaxis": "x",
         "y": [
          0.5465838308250353,
          0.5379008597403827,
          0.49418115390346895,
          0.5709613741637625,
          0.623655392503283,
          0.5661425217327885,
          0.5633172892596698,
          0.5275943721281185,
          0.5167493705747058,
          0.49248773175366284,
          0.526721214786792,
          0.4917754246774224,
          0.4969853581074577,
          0.506518710210751,
          0.5131977372910862,
          0.49911572274248706,
          0.4599688698582046,
          0.4661871689866364,
          0.4645197304423761,
          0.4359870781997107,
          0.44551608295123124,
          0.4554502822163995,
          0.4403298004574598,
          0.4537403807240283,
          0.4714993390640785,
          0.5522341311463308,
          0.6668881340437076,
          0.659427670385842,
          0.8449070814386068,
          1.1038610116502297,
          1.3044773858371068,
          1.605416529897056,
          1.2277297627440629,
          1.546437858745152,
          1.2512120187769524,
          1.225779799298526,
          1.1608931377969844,
          1.2950754982481294,
          1.1753238606360885,
          1.0425187624832257,
          1.0564318038303904,
          1.3200368039746904,
          1.3149329565418684,
          1.188368726166326,
          1.0699444978794967,
          1.2436913441315174,
          1.207029085329128,
          1.2838174088492837,
          1.2119306026871934,
          1.270884112057271,
          1.2715460619350047,
          1.6447706446548132,
          1.762750485034721,
          1.5644120092748317,
          1.4321781305535195,
          1.3907951598912436,
          1.1900966907779837,
          1.4072580781091915,
          1.2211243321702587,
          1.2212093235319479,
          1.312112483521755
         ],
         "yaxis": "y"
        },
        {
         "hovertemplate": "variable=cellframe<br>dates=%{x}<br>value=%{y}<extra></extra>",
         "legendgroup": "cellframe",
         "line": {
          "color": "#EF553B",
          "dash": "solid"
         },
         "marker": {
          "symbol": "circle"
         },
         "mode": "lines",
         "name": "cellframe",
         "orientation": "v",
         "showlegend": true,
         "type": "scatter",
         "x": [
          "09-10-2021",
          "10-10-2021",
          "11-10-2021",
          "12-10-2021",
          "13-10-2021",
          "14-10-2021",
          "15-10-2021",
          "16-10-2021",
          "17-10-2021",
          "18-10-2021",
          "19-10-2021",
          "20-10-2021",
          "21-10-2021",
          "22-10-2021",
          "23-10-2021",
          "24-10-2021",
          "25-10-2021",
          "26-10-2021",
          "27-10-2021",
          "28-10-2021",
          "29-10-2021",
          "30-10-2021",
          "31-10-2021",
          "01-11-2021",
          "02-11-2021",
          "03-11-2021",
          "04-11-2021",
          "05-11-2021",
          "06-11-2021",
          "07-11-2021",
          "08-11-2021",
          "09-11-2021",
          "10-11-2021",
          "11-11-2021",
          "12-11-2021",
          "13-11-2021",
          "14-11-2021",
          "15-11-2021",
          "16-11-2021",
          "17-11-2021",
          "18-11-2021",
          "19-11-2021",
          "20-11-2021",
          "21-11-2021",
          "22-11-2021",
          "23-11-2021",
          "24-11-2021",
          "25-11-2021",
          "26-11-2021",
          "27-11-2021",
          "28-11-2021",
          "29-11-2021",
          "30-11-2021",
          "01-12-2021",
          "02-12-2021",
          "03-12-2021",
          "04-12-2021",
          "05-12-2021",
          "06-12-2021",
          "07-12-2021",
          "08-12-2021"
         ],
         "xaxis": "x",
         "y": [
          1.4858801501102914,
          1.4052555115567573,
          1.3800788390701348,
          1.2352496803119521,
          1.1884238603002724,
          0.908627310752876,
          0.9545321831807937,
          0.856334375230993,
          0.8449302215453252,
          0.8170658210150089,
          0.786858234628304,
          0.9292807776406832,
          0.8494678601000416,
          0.8258103808412847,
          0.9554393381611846,
          0.9176723421565364,
          0.9522781962370279,
          1.1579717461472585,
          1.3798693922437986,
          1.199814249425732,
          1.0569139267967003,
          1.0099669070038024,
          0.9354445825374923,
          0.8622918735414027,
          1.0257976354000506,
          1.019944750775209,
          0.9864406778601861,
          0.9783215458033334,
          1.0173591745182298,
          1.0025134848195585,
          1.2813896276436507,
          1.7362357346781843,
          1.4669790355648327,
          2.2032988029815743,
          2.0250892425976064,
          2.343449818736199,
          3.00684298283656,
          2.732223784060211,
          2.6113612155923374,
          2.442957953831995,
          1.7757331441444408,
          2.2031281465109744,
          2.1892055021042958,
          2.278703372941949,
          2.147273830140577,
          2.3074972944230625,
          1.8566610015317022,
          2.1421198899763803,
          1.6865148048499234,
          1.9229027055067272,
          1.990080142121817,
          2.048812225604916,
          1.9864521680624816,
          2.008590039037807,
          1.9426368229202569,
          1.8012108444316501,
          1.4481374885850034,
          1.4835787353729262,
          1.427279788844701,
          1.5103574073723833,
          1.6306476153560194
         ],
         "yaxis": "y"
        },
        {
         "hovertemplate": "variable=richquack<br>dates=%{x}<br>value=%{y}<extra></extra>",
         "legendgroup": "richquack",
         "line": {
          "color": "#00cc96",
          "dash": "solid"
         },
         "marker": {
          "symbol": "circle"
         },
         "mode": "lines",
         "name": "richquack",
         "orientation": "v",
         "showlegend": true,
         "type": "scatter",
         "x": [
          "09-10-2021",
          "10-10-2021",
          "11-10-2021",
          "12-10-2021",
          "13-10-2021",
          "14-10-2021",
          "15-10-2021",
          "16-10-2021",
          "17-10-2021",
          "18-10-2021",
          "19-10-2021",
          "20-10-2021",
          "21-10-2021",
          "22-10-2021",
          "23-10-2021",
          "24-10-2021",
          "25-10-2021",
          "26-10-2021",
          "27-10-2021",
          "28-10-2021",
          "29-10-2021",
          "30-10-2021",
          "31-10-2021",
          "01-11-2021",
          "02-11-2021",
          "03-11-2021",
          "04-11-2021",
          "05-11-2021",
          "06-11-2021",
          "07-11-2021",
          "08-11-2021",
          "09-11-2021",
          "10-11-2021",
          "11-11-2021",
          "12-11-2021",
          "13-11-2021",
          "14-11-2021",
          "15-11-2021",
          "16-11-2021",
          "17-11-2021",
          "18-11-2021",
          "19-11-2021",
          "20-11-2021",
          "21-11-2021",
          "22-11-2021",
          "23-11-2021",
          "24-11-2021",
          "25-11-2021",
          "26-11-2021",
          "27-11-2021",
          "28-11-2021",
          "29-11-2021",
          "30-11-2021",
          "01-12-2021",
          "02-12-2021",
          "03-12-2021",
          "04-12-2021",
          "05-12-2021",
          "06-12-2021",
          "07-12-2021",
          "08-12-2021"
         ],
         "xaxis": "x",
         "y": [
          8.116092810180215e-11,
          8.186944618566592e-11,
          8.842422313667437e-11,
          1.1360800091093904e-10,
          1.194664956197471e-10,
          1.1407069064704709e-10,
          9.856262088953601e-11,
          9.413714608531792e-11,
          9.373134226748021e-11,
          9.412982917378779e-11,
          9.51236664607313e-11,
          9.4291005549205e-11,
          8.364439814677308e-11,
          8.497862012621138e-11,
          8.851473081846373e-11,
          8.916169681595426e-11,
          1.2598744451128255e-10,
          2.5012050844156526e-10,
          2.379732964532982e-10,
          2.2125808141862206e-10,
          2.483035985510007e-10,
          3.2575860536792643e-10,
          9.236249044783509e-10,
          1.078453893184753e-9,
          1.8447059067320734e-9,
          3.2524834430426883e-9,
          1.9174299053101033e-9,
          5.546767895627763e-9,
          1.1613775187015238e-8,
          1.1415517747878221e-8,
          7.3065748974262505e-9,
          7.944626751380552e-9,
          5.987442875941551e-9,
          7.727775060054246e-9,
          5.775012007726778e-9,
          5.994488097321071e-9,
          5.901532457830786e-9,
          4.860039974666055e-9,
          4.685711408772385e-9,
          5.273701072871579e-9,
          4.40337384721579e-9,
          4.689182700810575e-9,
          4.77921566810609e-9,
          4.8347384217814085e-9,
          4.386143162319583e-9,
          4.688416683892052e-9,
          4.2718474711352235e-9,
          4.486010914820594e-9,
          3.63825118549429e-9,
          4.091895565869064e-9,
          3.782029957932779e-9,
          3.588832059694928e-9,
          3.698234107961827e-9,
          3.5351062291774096e-9,
          3.303068925913905e-9,
          3.843113389157188e-9,
          2.766438914913126e-9,
          2.3746143317508357e-9,
          2.0988906100240197e-9,
          2.912276437765651e-9,
          3.015191951596179e-9
         ],
         "yaxis": "y"
        },
        {
         "hovertemplate": "variable=railgun<br>dates=%{x}<br>value=%{y}<extra></extra>",
         "legendgroup": "railgun",
         "line": {
          "color": "#ab63fa",
          "dash": "solid"
         },
         "marker": {
          "symbol": "circle"
         },
         "mode": "lines",
         "name": "railgun",
         "orientation": "v",
         "showlegend": true,
         "type": "scatter",
         "x": [
          "09-10-2021",
          "10-10-2021",
          "11-10-2021",
          "12-10-2021",
          "13-10-2021",
          "14-10-2021",
          "15-10-2021",
          "16-10-2021",
          "17-10-2021",
          "18-10-2021",
          "19-10-2021",
          "20-10-2021",
          "21-10-2021",
          "22-10-2021",
          "23-10-2021",
          "24-10-2021",
          "25-10-2021",
          "26-10-2021",
          "27-10-2021",
          "28-10-2021",
          "29-10-2021",
          "30-10-2021",
          "31-10-2021",
          "01-11-2021",
          "02-11-2021",
          "03-11-2021",
          "04-11-2021",
          "05-11-2021",
          "06-11-2021",
          "07-11-2021",
          "08-11-2021",
          "09-11-2021",
          "10-11-2021",
          "11-11-2021",
          "12-11-2021",
          "13-11-2021",
          "14-11-2021",
          "15-11-2021",
          "16-11-2021",
          "17-11-2021",
          "18-11-2021",
          "19-11-2021",
          "20-11-2021",
          "21-11-2021",
          "22-11-2021",
          "23-11-2021",
          "24-11-2021",
          "25-11-2021",
          "26-11-2021",
          "27-11-2021",
          "28-11-2021",
          "29-11-2021",
          "30-11-2021",
          "01-12-2021",
          "02-12-2021",
          "03-12-2021",
          "04-12-2021",
          "05-12-2021",
          "06-12-2021",
          "07-12-2021",
          "08-12-2021"
         ],
         "xaxis": "x",
         "y": [
          0.9459032929240648,
          0.8758071604360068,
          0.8471258884989159,
          0.8210954916579792,
          0.8341231956907629,
          0.8720966896818644,
          0.8460335476309975,
          0.8712531047664558,
          0.8626988275823257,
          0.8053688582598871,
          0.826205605169597,
          0.8765521288177455,
          0.8612000694630682,
          0.8715372879115488,
          0.9160261372848704,
          0.926262758925311,
          0.9377453536019442,
          0.8571439664958852,
          0.8817312707480449,
          1.0205403252046463,
          1.0231122382727815,
          1.0296130984646623,
          1.0606569280451246,
          1.054424470468536,
          1.0490636199711494,
          1.039623697193312,
          1.0789536641928825,
          1.0807571402965874,
          1.2228058355863636,
          1.260542984665275,
          1.3048225258833992,
          1.2295592615363031,
          1.0874543968147754,
          1.2470487155159198,
          1.2256347481031744,
          1.159460564682635,
          1.1547810402383618,
          1.1963739235176758,
          0.9765937117821233,
          0.9778110173723885,
          0.9331255232625626,
          1.1087465361527689,
          1.1523050254489273,
          1.1066027067156714,
          1.0858641751831897,
          1.1862961682802722,
          1.1720683299636987,
          1.4719630022087422,
          1.1306022021694053,
          1.308998313447962,
          1.4661439198261719,
          1.5835456887848354,
          1.7137549987579743,
          1.7863259722701799,
          1.8414050926936416,
          1.8004913245754897,
          1.5333623877423277,
          1.5051746284189362,
          1.5289786546615065,
          1.765959944320563,
          1.8140122470978752
         ],
         "yaxis": "y"
        },
        {
         "hovertemplate": "variable=matic-network<br>dates=%{x}<br>value=%{y}<extra></extra>",
         "legendgroup": "matic-network",
         "line": {
          "color": "#FFA15A",
          "dash": "solid"
         },
         "marker": {
          "symbol": "circle"
         },
         "mode": "lines",
         "name": "matic-network",
         "orientation": "v",
         "showlegend": true,
         "type": "scatter",
         "x": [
          "09-10-2021",
          "10-10-2021",
          "11-10-2021",
          "12-10-2021",
          "13-10-2021",
          "14-10-2021",
          "15-10-2021",
          "16-10-2021",
          "17-10-2021",
          "18-10-2021",
          "19-10-2021",
          "20-10-2021",
          "21-10-2021",
          "22-10-2021",
          "23-10-2021",
          "24-10-2021",
          "25-10-2021",
          "26-10-2021",
          "27-10-2021",
          "28-10-2021",
          "29-10-2021",
          "30-10-2021",
          "31-10-2021",
          "01-11-2021",
          "02-11-2021",
          "03-11-2021",
          "04-11-2021",
          "05-11-2021",
          "06-11-2021",
          "07-11-2021",
          "08-11-2021",
          "09-11-2021",
          "10-11-2021",
          "11-11-2021",
          "12-11-2021",
          "13-11-2021",
          "14-11-2021",
          "15-11-2021",
          "16-11-2021",
          "17-11-2021",
          "18-11-2021",
          "19-11-2021",
          "20-11-2021",
          "21-11-2021",
          "22-11-2021",
          "23-11-2021",
          "24-11-2021",
          "25-11-2021",
          "26-11-2021",
          "27-11-2021",
          "28-11-2021",
          "29-11-2021",
          "30-11-2021",
          "01-12-2021",
          "02-12-2021",
          "03-12-2021",
          "04-12-2021",
          "05-12-2021",
          "06-12-2021",
          "07-12-2021",
          "08-12-2021"
         ],
         "xaxis": "x",
         "y": [
          1.352020490537352,
          1.247791609860409,
          1.240431103633866,
          1.2228157508292092,
          1.2408876001350144,
          1.265750062899244,
          1.5931286333828234,
          1.510319544008385,
          1.456703592820831,
          1.478513009186832,
          1.4786782026695897,
          1.530730023476453,
          1.5093444145324528,
          1.5183332851893754,
          1.646128880129589,
          1.5767365703480523,
          1.6713393541479167,
          1.7433853795367826,
          1.7735644500773913,
          2.1278969736404654,
          2.024912097948278,
          1.8607939879026367,
          1.934257252179863,
          1.9074247857299775,
          1.9371765583911453,
          2.037005142796291,
          1.9253755944929332,
          1.905563829396786,
          1.8887161285171636,
          1.8895086578005136,
          1.8940668176695723,
          1.767301959698415,
          1.7021584575360686,
          1.7677843603717804,
          1.723301843064975,
          1.7591733237852694,
          1.7363485589451995,
          1.7004472892859646,
          1.572090527240301,
          1.6412118528946322,
          1.4854753646247103,
          1.6237278947025597,
          1.6741158015149562,
          1.6176308852554613,
          1.560913101799978,
          1.7568077725752074,
          1.693260439994773,
          1.9134262759318699,
          1.638539889706418,
          1.6060191688314844,
          1.6495358363347243,
          1.8168546570524722,
          1.7885896406253898,
          2.0145983029321948,
          2.126812221996004,
          2.2851271616109363,
          1.9718996406749512,
          2.0190625740328207,
          2.2710027371380646,
          2.3711108530078064,
          2.4885317856926634
         ],
         "yaxis": "y"
        }
       ],
       "layout": {
        "legend": {
         "title": {
          "text": "variable"
         },
         "tracegroupgap": 0
        },
        "margin": {
         "t": 60
        },
        "template": {
         "data": {
          "bar": [
           {
            "error_x": {
             "color": "#2a3f5f"
            },
            "error_y": {
             "color": "#2a3f5f"
            },
            "marker": {
             "line": {
              "color": "#E5ECF6",
              "width": 0.5
             },
             "pattern": {
              "fillmode": "overlay",
              "size": 10,
              "solidity": 0.2
             }
            },
            "type": "bar"
           }
          ],
          "barpolar": [
           {
            "marker": {
             "line": {
              "color": "#E5ECF6",
              "width": 0.5
             },
             "pattern": {
              "fillmode": "overlay",
              "size": 10,
              "solidity": 0.2
             }
            },
            "type": "barpolar"
           }
          ],
          "carpet": [
           {
            "aaxis": {
             "endlinecolor": "#2a3f5f",
             "gridcolor": "white",
             "linecolor": "white",
             "minorgridcolor": "white",
             "startlinecolor": "#2a3f5f"
            },
            "baxis": {
             "endlinecolor": "#2a3f5f",
             "gridcolor": "white",
             "linecolor": "white",
             "minorgridcolor": "white",
             "startlinecolor": "#2a3f5f"
            },
            "type": "carpet"
           }
          ],
          "choropleth": [
           {
            "colorbar": {
             "outlinewidth": 0,
             "ticks": ""
            },
            "type": "choropleth"
           }
          ],
          "contour": [
           {
            "colorbar": {
             "outlinewidth": 0,
             "ticks": ""
            },
            "colorscale": [
             [
              0,
              "#0d0887"
             ],
             [
              0.1111111111111111,
              "#46039f"
             ],
             [
              0.2222222222222222,
              "#7201a8"
             ],
             [
              0.3333333333333333,
              "#9c179e"
             ],
             [
              0.4444444444444444,
              "#bd3786"
             ],
             [
              0.5555555555555556,
              "#d8576b"
             ],
             [
              0.6666666666666666,
              "#ed7953"
             ],
             [
              0.7777777777777778,
              "#fb9f3a"
             ],
             [
              0.8888888888888888,
              "#fdca26"
             ],
             [
              1,
              "#f0f921"
             ]
            ],
            "type": "contour"
           }
          ],
          "contourcarpet": [
           {
            "colorbar": {
             "outlinewidth": 0,
             "ticks": ""
            },
            "type": "contourcarpet"
           }
          ],
          "heatmap": [
           {
            "colorbar": {
             "outlinewidth": 0,
             "ticks": ""
            },
            "colorscale": [
             [
              0,
              "#0d0887"
             ],
             [
              0.1111111111111111,
              "#46039f"
             ],
             [
              0.2222222222222222,
              "#7201a8"
             ],
             [
              0.3333333333333333,
              "#9c179e"
             ],
             [
              0.4444444444444444,
              "#bd3786"
             ],
             [
              0.5555555555555556,
              "#d8576b"
             ],
             [
              0.6666666666666666,
              "#ed7953"
             ],
             [
              0.7777777777777778,
              "#fb9f3a"
             ],
             [
              0.8888888888888888,
              "#fdca26"
             ],
             [
              1,
              "#f0f921"
             ]
            ],
            "type": "heatmap"
           }
          ],
          "heatmapgl": [
           {
            "colorbar": {
             "outlinewidth": 0,
             "ticks": ""
            },
            "colorscale": [
             [
              0,
              "#0d0887"
             ],
             [
              0.1111111111111111,
              "#46039f"
             ],
             [
              0.2222222222222222,
              "#7201a8"
             ],
             [
              0.3333333333333333,
              "#9c179e"
             ],
             [
              0.4444444444444444,
              "#bd3786"
             ],
             [
              0.5555555555555556,
              "#d8576b"
             ],
             [
              0.6666666666666666,
              "#ed7953"
             ],
             [
              0.7777777777777778,
              "#fb9f3a"
             ],
             [
              0.8888888888888888,
              "#fdca26"
             ],
             [
              1,
              "#f0f921"
             ]
            ],
            "type": "heatmapgl"
           }
          ],
          "histogram": [
           {
            "marker": {
             "pattern": {
              "fillmode": "overlay",
              "size": 10,
              "solidity": 0.2
             }
            },
            "type": "histogram"
           }
          ],
          "histogram2d": [
           {
            "colorbar": {
             "outlinewidth": 0,
             "ticks": ""
            },
            "colorscale": [
             [
              0,
              "#0d0887"
             ],
             [
              0.1111111111111111,
              "#46039f"
             ],
             [
              0.2222222222222222,
              "#7201a8"
             ],
             [
              0.3333333333333333,
              "#9c179e"
             ],
             [
              0.4444444444444444,
              "#bd3786"
             ],
             [
              0.5555555555555556,
              "#d8576b"
             ],
             [
              0.6666666666666666,
              "#ed7953"
             ],
             [
              0.7777777777777778,
              "#fb9f3a"
             ],
             [
              0.8888888888888888,
              "#fdca26"
             ],
             [
              1,
              "#f0f921"
             ]
            ],
            "type": "histogram2d"
           }
          ],
          "histogram2dcontour": [
           {
            "colorbar": {
             "outlinewidth": 0,
             "ticks": ""
            },
            "colorscale": [
             [
              0,
              "#0d0887"
             ],
             [
              0.1111111111111111,
              "#46039f"
             ],
             [
              0.2222222222222222,
              "#7201a8"
             ],
             [
              0.3333333333333333,
              "#9c179e"
             ],
             [
              0.4444444444444444,
              "#bd3786"
             ],
             [
              0.5555555555555556,
              "#d8576b"
             ],
             [
              0.6666666666666666,
              "#ed7953"
             ],
             [
              0.7777777777777778,
              "#fb9f3a"
             ],
             [
              0.8888888888888888,
              "#fdca26"
             ],
             [
              1,
              "#f0f921"
             ]
            ],
            "type": "histogram2dcontour"
           }
          ],
          "mesh3d": [
           {
            "colorbar": {
             "outlinewidth": 0,
             "ticks": ""
            },
            "type": "mesh3d"
           }
          ],
          "parcoords": [
           {
            "line": {
             "colorbar": {
              "outlinewidth": 0,
              "ticks": ""
             }
            },
            "type": "parcoords"
           }
          ],
          "pie": [
           {
            "automargin": true,
            "type": "pie"
           }
          ],
          "scatter": [
           {
            "marker": {
             "colorbar": {
              "outlinewidth": 0,
              "ticks": ""
             }
            },
            "type": "scatter"
           }
          ],
          "scatter3d": [
           {
            "line": {
             "colorbar": {
              "outlinewidth": 0,
              "ticks": ""
             }
            },
            "marker": {
             "colorbar": {
              "outlinewidth": 0,
              "ticks": ""
             }
            },
            "type": "scatter3d"
           }
          ],
          "scattercarpet": [
           {
            "marker": {
             "colorbar": {
              "outlinewidth": 0,
              "ticks": ""
             }
            },
            "type": "scattercarpet"
           }
          ],
          "scattergeo": [
           {
            "marker": {
             "colorbar": {
              "outlinewidth": 0,
              "ticks": ""
             }
            },
            "type": "scattergeo"
           }
          ],
          "scattergl": [
           {
            "marker": {
             "colorbar": {
              "outlinewidth": 0,
              "ticks": ""
             }
            },
            "type": "scattergl"
           }
          ],
          "scattermapbox": [
           {
            "marker": {
             "colorbar": {
              "outlinewidth": 0,
              "ticks": ""
             }
            },
            "type": "scattermapbox"
           }
          ],
          "scatterpolar": [
           {
            "marker": {
             "colorbar": {
              "outlinewidth": 0,
              "ticks": ""
             }
            },
            "type": "scatterpolar"
           }
          ],
          "scatterpolargl": [
           {
            "marker": {
             "colorbar": {
              "outlinewidth": 0,
              "ticks": ""
             }
            },
            "type": "scatterpolargl"
           }
          ],
          "scatterternary": [
           {
            "marker": {
             "colorbar": {
              "outlinewidth": 0,
              "ticks": ""
             }
            },
            "type": "scatterternary"
           }
          ],
          "surface": [
           {
            "colorbar": {
             "outlinewidth": 0,
             "ticks": ""
            },
            "colorscale": [
             [
              0,
              "#0d0887"
             ],
             [
              0.1111111111111111,
              "#46039f"
             ],
             [
              0.2222222222222222,
              "#7201a8"
             ],
             [
              0.3333333333333333,
              "#9c179e"
             ],
             [
              0.4444444444444444,
              "#bd3786"
             ],
             [
              0.5555555555555556,
              "#d8576b"
             ],
             [
              0.6666666666666666,
              "#ed7953"
             ],
             [
              0.7777777777777778,
              "#fb9f3a"
             ],
             [
              0.8888888888888888,
              "#fdca26"
             ],
             [
              1,
              "#f0f921"
             ]
            ],
            "type": "surface"
           }
          ],
          "table": [
           {
            "cells": {
             "fill": {
              "color": "#EBF0F8"
             },
             "line": {
              "color": "white"
             }
            },
            "header": {
             "fill": {
              "color": "#C8D4E3"
             },
             "line": {
              "color": "white"
             }
            },
            "type": "table"
           }
          ]
         },
         "layout": {
          "annotationdefaults": {
           "arrowcolor": "#2a3f5f",
           "arrowhead": 0,
           "arrowwidth": 1
          },
          "autotypenumbers": "strict",
          "coloraxis": {
           "colorbar": {
            "outlinewidth": 0,
            "ticks": ""
           }
          },
          "colorscale": {
           "diverging": [
            [
             0,
             "#8e0152"
            ],
            [
             0.1,
             "#c51b7d"
            ],
            [
             0.2,
             "#de77ae"
            ],
            [
             0.3,
             "#f1b6da"
            ],
            [
             0.4,
             "#fde0ef"
            ],
            [
             0.5,
             "#f7f7f7"
            ],
            [
             0.6,
             "#e6f5d0"
            ],
            [
             0.7,
             "#b8e186"
            ],
            [
             0.8,
             "#7fbc41"
            ],
            [
             0.9,
             "#4d9221"
            ],
            [
             1,
             "#276419"
            ]
           ],
           "sequential": [
            [
             0,
             "#0d0887"
            ],
            [
             0.1111111111111111,
             "#46039f"
            ],
            [
             0.2222222222222222,
             "#7201a8"
            ],
            [
             0.3333333333333333,
             "#9c179e"
            ],
            [
             0.4444444444444444,
             "#bd3786"
            ],
            [
             0.5555555555555556,
             "#d8576b"
            ],
            [
             0.6666666666666666,
             "#ed7953"
            ],
            [
             0.7777777777777778,
             "#fb9f3a"
            ],
            [
             0.8888888888888888,
             "#fdca26"
            ],
            [
             1,
             "#f0f921"
            ]
           ],
           "sequentialminus": [
            [
             0,
             "#0d0887"
            ],
            [
             0.1111111111111111,
             "#46039f"
            ],
            [
             0.2222222222222222,
             "#7201a8"
            ],
            [
             0.3333333333333333,
             "#9c179e"
            ],
            [
             0.4444444444444444,
             "#bd3786"
            ],
            [
             0.5555555555555556,
             "#d8576b"
            ],
            [
             0.6666666666666666,
             "#ed7953"
            ],
            [
             0.7777777777777778,
             "#fb9f3a"
            ],
            [
             0.8888888888888888,
             "#fdca26"
            ],
            [
             1,
             "#f0f921"
            ]
           ]
          },
          "colorway": [
           "#636efa",
           "#EF553B",
           "#00cc96",
           "#ab63fa",
           "#FFA15A",
           "#19d3f3",
           "#FF6692",
           "#B6E880",
           "#FF97FF",
           "#FECB52"
          ],
          "font": {
           "color": "#2a3f5f"
          },
          "geo": {
           "bgcolor": "white",
           "lakecolor": "white",
           "landcolor": "#E5ECF6",
           "showlakes": true,
           "showland": true,
           "subunitcolor": "white"
          },
          "hoverlabel": {
           "align": "left"
          },
          "hovermode": "closest",
          "mapbox": {
           "style": "light"
          },
          "paper_bgcolor": "white",
          "plot_bgcolor": "#E5ECF6",
          "polar": {
           "angularaxis": {
            "gridcolor": "white",
            "linecolor": "white",
            "ticks": ""
           },
           "bgcolor": "#E5ECF6",
           "radialaxis": {
            "gridcolor": "white",
            "linecolor": "white",
            "ticks": ""
           }
          },
          "scene": {
           "xaxis": {
            "backgroundcolor": "#E5ECF6",
            "gridcolor": "white",
            "gridwidth": 2,
            "linecolor": "white",
            "showbackground": true,
            "ticks": "",
            "zerolinecolor": "white"
           },
           "yaxis": {
            "backgroundcolor": "#E5ECF6",
            "gridcolor": "white",
            "gridwidth": 2,
            "linecolor": "white",
            "showbackground": true,
            "ticks": "",
            "zerolinecolor": "white"
           },
           "zaxis": {
            "backgroundcolor": "#E5ECF6",
            "gridcolor": "white",
            "gridwidth": 2,
            "linecolor": "white",
            "showbackground": true,
            "ticks": "",
            "zerolinecolor": "white"
           }
          },
          "shapedefaults": {
           "line": {
            "color": "#2a3f5f"
           }
          },
          "ternary": {
           "aaxis": {
            "gridcolor": "white",
            "linecolor": "white",
            "ticks": ""
           },
           "baxis": {
            "gridcolor": "white",
            "linecolor": "white",
            "ticks": ""
           },
           "bgcolor": "#E5ECF6",
           "caxis": {
            "gridcolor": "white",
            "linecolor": "white",
            "ticks": ""
           }
          },
          "title": {
           "x": 0.05
          },
          "xaxis": {
           "automargin": true,
           "gridcolor": "white",
           "linecolor": "white",
           "ticks": "",
           "title": {
            "standoff": 15
           },
           "zerolinecolor": "white",
           "zerolinewidth": 2
          },
          "yaxis": {
           "automargin": true,
           "gridcolor": "white",
           "linecolor": "white",
           "ticks": "",
           "title": {
            "standoff": 15
           },
           "zerolinecolor": "white",
           "zerolinewidth": 2
          }
         }
        },
        "xaxis": {
         "anchor": "y",
         "domain": [
          0,
          1
         ],
         "title": {
          "text": "dates"
         }
        },
        "yaxis": {
         "anchor": "x",
         "domain": [
          0,
          1
         ],
         "title": {
          "text": "value"
         }
        }
       }
      }
     },
     "metadata": {},
     "output_type": "display_data"
    }
   ],
   "source": [
    "dfPrices = dfPrices.set_index('dates')\n",
    "fig = px.line(dfPrices)\n",
    "# fig = px.line(dfPercents, labels = {'value': 'Percent Change', 'variable': 'coin'})\n",
    "py.offline.plot(fig, filename='priceChangesLines.html')\n",
    "\n",
    "fig.show()\n"
   ]
  }
 ],
 "metadata": {
  "interpreter": {
   "hash": "cb4f197880ecacceb993dbec3eced19237e3d5e98809f7607bd653c748a52724"
  },
  "kernelspec": {
   "display_name": "Python 3",
   "language": "python",
   "name": "python3"
  },
  "language_info": {
   "codemirror_mode": {
    "name": "ipython",
    "version": 3
   },
   "file_extension": ".py",
   "mimetype": "text/x-python",
   "name": "python",
   "nbconvert_exporter": "python",
   "pygments_lexer": "ipython3",
   "version": "3.8.8"
  }
 },
 "nbformat": 4,
 "nbformat_minor": 2
}

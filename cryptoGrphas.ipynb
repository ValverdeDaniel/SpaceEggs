{
 "cells": [
  {
   "cell_type": "code",
   "execution_count": 1,
   "metadata": {},
   "outputs": [],
   "source": [
    "import pandas as pd\n",
    "import datetime\n",
    "from datetime import timedelta\n",
    "import requests\n",
    "import plotly as py\n",
    "import plotly.express as px\n",
    "import chart_studio.tools as tls"
   ]
  },
  {
   "cell_type": "code",
   "execution_count": 2,
   "metadata": {},
   "outputs": [
    {
     "data": {
      "text/html": [
       "<div>\n",
       "<style scoped>\n",
       "    .dataframe tbody tr th:only-of-type {\n",
       "        vertical-align: middle;\n",
       "    }\n",
       "\n",
       "    .dataframe tbody tr th {\n",
       "        vertical-align: top;\n",
       "    }\n",
       "\n",
       "    .dataframe thead th {\n",
       "        text-align: right;\n",
       "    }\n",
       "</style>\n",
       "<table border=\"1\" class=\"dataframe\">\n",
       "  <thead>\n",
       "    <tr style=\"text-align: right;\">\n",
       "      <th></th>\n",
       "      <th>id</th>\n",
       "      <th>symbol</th>\n",
       "      <th>price</th>\n",
       "      <th>mkt_cap</th>\n",
       "      <th>vol</th>\n",
       "      <th>reddit_posts_48h</th>\n",
       "      <th>reddit_comments_48h</th>\n",
       "      <th>reddit accounts_48h</th>\n",
       "      <th>forks</th>\n",
       "      <th>stars</th>\n",
       "      <th>contributors</th>\n",
       "      <th>twitter_followers</th>\n",
       "      <th>alexa_rank</th>\n",
       "    </tr>\n",
       "  </thead>\n",
       "  <tbody>\n",
       "    <tr>\n",
       "      <th>0</th>\n",
       "      <td>ethereum</td>\n",
       "      <td>eth</td>\n",
       "      <td>4.514970e+03</td>\n",
       "      <td>5.341573e+11</td>\n",
       "      <td>2.371612e+10</td>\n",
       "      <td>7.091</td>\n",
       "      <td>346.818</td>\n",
       "      <td>1308.08333333333</td>\n",
       "      <td>12476</td>\n",
       "      <td>33739</td>\n",
       "      <td>595</td>\n",
       "      <td>1907100</td>\n",
       "      <td>3578</td>\n",
       "    </tr>\n",
       "    <tr>\n",
       "      <th>1</th>\n",
       "      <td>bitcoin</td>\n",
       "      <td>btc</td>\n",
       "      <td>5.703700e+04</td>\n",
       "      <td>1.075281e+12</td>\n",
       "      <td>3.910990e+10</td>\n",
       "      <td>6.000</td>\n",
       "      <td>907.364</td>\n",
       "      <td>3659.0</td>\n",
       "      <td>30685</td>\n",
       "      <td>59661</td>\n",
       "      <td>760</td>\n",
       "      <td>3871003</td>\n",
       "      <td>6384</td>\n",
       "    </tr>\n",
       "    <tr>\n",
       "      <th>2</th>\n",
       "      <td>binancecoin</td>\n",
       "      <td>bnb</td>\n",
       "      <td>6.223100e+02</td>\n",
       "      <td>1.044446e+11</td>\n",
       "      <td>2.605239e+09</td>\n",
       "      <td>9.727</td>\n",
       "      <td>178.455</td>\n",
       "      <td>818.416666666667</td>\n",
       "      <td>None</td>\n",
       "      <td>None</td>\n",
       "      <td>None</td>\n",
       "      <td>6376270</td>\n",
       "      <td>123</td>\n",
       "    </tr>\n",
       "    <tr>\n",
       "      <th>3</th>\n",
       "      <td>solana</td>\n",
       "      <td>sol</td>\n",
       "      <td>2.360300e+02</td>\n",
       "      <td>7.203360e+10</td>\n",
       "      <td>3.956357e+09</td>\n",
       "      <td>6.667</td>\n",
       "      <td>113.250</td>\n",
       "      <td>460.307692307692</td>\n",
       "      <td>1130</td>\n",
       "      <td>5823</td>\n",
       "      <td>209</td>\n",
       "      <td>1034232</td>\n",
       "      <td>3672</td>\n",
       "    </tr>\n",
       "    <tr>\n",
       "      <th>4</th>\n",
       "      <td>polkadot</td>\n",
       "      <td>dot</td>\n",
       "      <td>3.615000e+01</td>\n",
       "      <td>3.830617e+10</td>\n",
       "      <td>9.722963e+08</td>\n",
       "      <td>2.273</td>\n",
       "      <td>35.182</td>\n",
       "      <td>91.3333333333333</td>\n",
       "      <td>1008</td>\n",
       "      <td>4797</td>\n",
       "      <td>141</td>\n",
       "      <td>None</td>\n",
       "      <td>15201</td>\n",
       "    </tr>\n",
       "    <tr>\n",
       "      <th>5</th>\n",
       "      <td>flow</td>\n",
       "      <td>flow</td>\n",
       "      <td>1.206000e+01</td>\n",
       "      <td>3.791135e+09</td>\n",
       "      <td>8.482743e+07</td>\n",
       "      <td>0.000</td>\n",
       "      <td>0.000</td>\n",
       "      <td>None</td>\n",
       "      <td>None</td>\n",
       "      <td>None</td>\n",
       "      <td>None</td>\n",
       "      <td>None</td>\n",
       "      <td>329714</td>\n",
       "    </tr>\n",
       "    <tr>\n",
       "      <th>6</th>\n",
       "      <td>dogecoin</td>\n",
       "      <td>doge</td>\n",
       "      <td>2.098790e-01</td>\n",
       "      <td>2.773102e+10</td>\n",
       "      <td>1.926677e+09</td>\n",
       "      <td>8.091</td>\n",
       "      <td>732.364</td>\n",
       "      <td>2521.08333333333</td>\n",
       "      <td>2378</td>\n",
       "      <td>13518</td>\n",
       "      <td>126</td>\n",
       "      <td>2584497</td>\n",
       "      <td>32279</td>\n",
       "    </tr>\n",
       "    <tr>\n",
       "      <th>7</th>\n",
       "      <td>audius</td>\n",
       "      <td>audio</td>\n",
       "      <td>2.280000e+00</td>\n",
       "      <td>1.161846e+09</td>\n",
       "      <td>3.644907e+07</td>\n",
       "      <td>1.273</td>\n",
       "      <td>13.273</td>\n",
       "      <td>21.5833333333333</td>\n",
       "      <td>None</td>\n",
       "      <td>None</td>\n",
       "      <td>None</td>\n",
       "      <td>None</td>\n",
       "      <td>20469</td>\n",
       "    </tr>\n",
       "    <tr>\n",
       "      <th>8</th>\n",
       "      <td>rainbowtoken</td>\n",
       "      <td>rainbowtoken</td>\n",
       "      <td>3.294000e-08</td>\n",
       "      <td>2.640280e+07</td>\n",
       "      <td>6.769669e+06</td>\n",
       "      <td>0.000</td>\n",
       "      <td>0.000</td>\n",
       "      <td>None</td>\n",
       "      <td>0</td>\n",
       "      <td>0</td>\n",
       "      <td>0</td>\n",
       "      <td>None</td>\n",
       "      <td>141159</td>\n",
       "    </tr>\n",
       "    <tr>\n",
       "      <th>9</th>\n",
       "      <td>urus-token</td>\n",
       "      <td>urus</td>\n",
       "      <td>2.166900e+02</td>\n",
       "      <td>1.257989e+08</td>\n",
       "      <td>1.297532e+06</td>\n",
       "      <td>0.000</td>\n",
       "      <td>0.000</td>\n",
       "      <td>None</td>\n",
       "      <td>None</td>\n",
       "      <td>None</td>\n",
       "      <td>None</td>\n",
       "      <td>None</td>\n",
       "      <td>47272</td>\n",
       "    </tr>\n",
       "    <tr>\n",
       "      <th>10</th>\n",
       "      <td>hoge-finance</td>\n",
       "      <td>hoge</td>\n",
       "      <td>3.881200e-04</td>\n",
       "      <td>1.611468e+08</td>\n",
       "      <td>2.098071e+06</td>\n",
       "      <td>6.727</td>\n",
       "      <td>167.000</td>\n",
       "      <td>150.583333333333</td>\n",
       "      <td>None</td>\n",
       "      <td>None</td>\n",
       "      <td>None</td>\n",
       "      <td>None</td>\n",
       "      <td>85622</td>\n",
       "    </tr>\n",
       "    <tr>\n",
       "      <th>11</th>\n",
       "      <td>lcx</td>\n",
       "      <td>lcx</td>\n",
       "      <td>2.561180e-01</td>\n",
       "      <td>1.439182e+08</td>\n",
       "      <td>3.119372e+07</td>\n",
       "      <td>0.000</td>\n",
       "      <td>0.000</td>\n",
       "      <td>None</td>\n",
       "      <td>None</td>\n",
       "      <td>None</td>\n",
       "      <td>None</td>\n",
       "      <td>61999</td>\n",
       "      <td>113105</td>\n",
       "    </tr>\n",
       "    <tr>\n",
       "      <th>12</th>\n",
       "      <td>ufo-gaming</td>\n",
       "      <td>ufo</td>\n",
       "      <td>3.710000e-05</td>\n",
       "      <td>9.557035e+08</td>\n",
       "      <td>9.218980e+06</td>\n",
       "      <td>0.000</td>\n",
       "      <td>0.000</td>\n",
       "      <td>None</td>\n",
       "      <td>None</td>\n",
       "      <td>None</td>\n",
       "      <td>None</td>\n",
       "      <td>None</td>\n",
       "      <td>61977</td>\n",
       "    </tr>\n",
       "  </tbody>\n",
       "</table>\n",
       "</div>"
      ],
      "text/plain": [
       "              id        symbol         price       mkt_cap           vol  \\\n",
       "0       ethereum           eth  4.514970e+03  5.341573e+11  2.371612e+10   \n",
       "1        bitcoin           btc  5.703700e+04  1.075281e+12  3.910990e+10   \n",
       "2    binancecoin           bnb  6.223100e+02  1.044446e+11  2.605239e+09   \n",
       "3         solana           sol  2.360300e+02  7.203360e+10  3.956357e+09   \n",
       "4       polkadot           dot  3.615000e+01  3.830617e+10  9.722963e+08   \n",
       "5           flow          flow  1.206000e+01  3.791135e+09  8.482743e+07   \n",
       "6       dogecoin          doge  2.098790e-01  2.773102e+10  1.926677e+09   \n",
       "7         audius         audio  2.280000e+00  1.161846e+09  3.644907e+07   \n",
       "8   rainbowtoken  rainbowtoken  3.294000e-08  2.640280e+07  6.769669e+06   \n",
       "9     urus-token          urus  2.166900e+02  1.257989e+08  1.297532e+06   \n",
       "10  hoge-finance          hoge  3.881200e-04  1.611468e+08  2.098071e+06   \n",
       "11           lcx           lcx  2.561180e-01  1.439182e+08  3.119372e+07   \n",
       "12    ufo-gaming           ufo  3.710000e-05  9.557035e+08  9.218980e+06   \n",
       "\n",
       "    reddit_posts_48h  reddit_comments_48h reddit accounts_48h  forks  stars  \\\n",
       "0              7.091              346.818    1308.08333333333  12476  33739   \n",
       "1              6.000              907.364              3659.0  30685  59661   \n",
       "2              9.727              178.455    818.416666666667   None   None   \n",
       "3              6.667              113.250    460.307692307692   1130   5823   \n",
       "4              2.273               35.182    91.3333333333333   1008   4797   \n",
       "5              0.000                0.000                None   None   None   \n",
       "6              8.091              732.364    2521.08333333333   2378  13518   \n",
       "7              1.273               13.273    21.5833333333333   None   None   \n",
       "8              0.000                0.000                None      0      0   \n",
       "9              0.000                0.000                None   None   None   \n",
       "10             6.727              167.000    150.583333333333   None   None   \n",
       "11             0.000                0.000                None   None   None   \n",
       "12             0.000                0.000                None   None   None   \n",
       "\n",
       "   contributors twitter_followers alexa_rank  \n",
       "0           595           1907100       3578  \n",
       "1           760           3871003       6384  \n",
       "2          None           6376270        123  \n",
       "3           209           1034232       3672  \n",
       "4           141              None      15201  \n",
       "5          None              None     329714  \n",
       "6           126           2584497      32279  \n",
       "7          None              None      20469  \n",
       "8             0              None     141159  \n",
       "9          None              None      47272  \n",
       "10         None              None      85622  \n",
       "11         None             61999     113105  \n",
       "12         None              None      61977  "
      ]
     },
     "metadata": {},
     "output_type": "display_data"
    },
    {
     "name": "stdout",
     "output_type": "stream",
     "text": [
      "['ethereum', 'bitcoin', 'binancecoin', 'solana', 'polkadot', 'flow', 'dogecoin', 'audius', 'rainbowtoken', 'urus-token', 'hoge-finance', 'lcx', 'ufo-gaming']\n"
     ]
    }
   ],
   "source": [
    "#BUILDS DATAFRAME FOR COMMUNITY DATA\n",
    "columns = ['id', 'symbol', 'price', 'mkt_cap', 'vol', 'reddit_posts_48h', 'reddit_comments_48h', 'reddit accounts_48h', 'forks', 'stars', 'contributors', 'twitter_followers', 'alexa_rank']\n",
    "df = pd.DataFrame(columns = columns)\n",
    "# display(df)\n",
    "today = datetime.datetime.now()\n",
    "yesterday = today -timedelta(days = 2)\n",
    "yesterday = yesterday.strftime(\"%d-%m-%Y\")\n",
    "# date = str(yesterday)\n",
    "date = yesterday\n",
    "# print('yesterday', yesterday)\n",
    "# print('date', date)\n",
    "\n",
    "def coinFunc(currentCoin, date): \n",
    "    coin= currentCoin\n",
    "    geckoReq = 'https://api.coingecko.com/api/v3/coins/'+coin+'/history?date='+date\n",
    "    priceReq = 'https://api.coingecko.com/api/v3/simple/price?ids=' + coin + '&vs_currencies=usd&include_market_cap=true&include_24hr_vol=true'\n",
    "    price = requests.get(priceReq).json()\n",
    "    r =requests.get(geckoReq).json()\n",
    "#     display(r)\n",
    "    #     print(r)\n",
    "    coin_id = r['id']\n",
    "    coin_symbol = r['symbol']\n",
    "\n",
    "    #price data\n",
    "    current_price = price[currentCoin]['usd']\n",
    "    mkt_cap = price[currentCoin]['usd_market_cap']\n",
    "    vol = price[currentCoin]['usd_24h_vol']\n",
    "\n",
    "    #reddit data\n",
    "    reddit_average_posts_48h = r['community_data']['reddit_average_posts_48h']\n",
    "    reddit_average_comments_48h = r['community_data']['reddit_average_comments_48h']\n",
    "    reddit_accounts_active_48h = r['community_data']['reddit_accounts_active_48h']\n",
    "    #github data\n",
    "    forks = r['developer_data']['forks']\n",
    "    stars = r['developer_data']['stars']\n",
    "    contributors = r['developer_data']['pull_request_contributors']\n",
    "    twitter_followers = r['community_data']['twitter_followers']\n",
    "    alexa_rank = r['public_interest_stats']['alexa_rank']\n",
    "\n",
    "\n",
    "    dataInsert = [coin_id, coin_symbol, current_price, mkt_cap, vol, reddit_average_posts_48h, reddit_average_comments_48h, reddit_accounts_active_48h, forks, stars, contributors, twitter_followers, alexa_rank]\n",
    "    # print(dataInsert)\n",
    "\n",
    "    df_length = len(df)\n",
    "    df.loc[df_length] = dataInsert\n",
    "    \n",
    "# coinFunc('audius', yesterday)    \n",
    "# display(df)\n",
    "# print(r)\n",
    "# print(r['developer_data'])\n",
    "# print(r['community_data'])\n",
    "# print(coin_price)\n",
    "\n",
    "theCoins = ['ethereum', 'bitcoin', 'binancecoin', 'solana', 'polkadot', 'flow', 'dogecoin', 'audius']\n",
    "trendingReq = 'https://api.coingecko.com/api/v3/search/trending'\n",
    "trends =requests.get(trendingReq).json()\n",
    "# print(r)\n",
    "trending = []\n",
    "#could be for 7 coins but lets just do top 5\n",
    "for i in range(5):\n",
    "    trendingCoin = trends['coins'][i]['item']['id']\n",
    "    trending.append(trendingCoin)\n",
    "\n",
    "theCoins.extend(trending)\n",
    "\n",
    "for crypto in theCoins:\n",
    "    coinFunc(crypto, yesterday)\n",
    "    \n",
    "display(df)\n",
    "myCoinsList = df['id'].tolist()\n",
    "print(myCoinsList)"
   ]
  },
  {
   "cell_type": "code",
   "execution_count": 3,
   "metadata": {},
   "outputs": [
    {
     "data": {
      "text/html": [
       "<div>\n",
       "<style scoped>\n",
       "    .dataframe tbody tr th:only-of-type {\n",
       "        vertical-align: middle;\n",
       "    }\n",
       "\n",
       "    .dataframe tbody tr th {\n",
       "        vertical-align: top;\n",
       "    }\n",
       "\n",
       "    .dataframe thead th {\n",
       "        text-align: right;\n",
       "    }\n",
       "</style>\n",
       "<table border=\"1\" class=\"dataframe\">\n",
       "  <thead>\n",
       "    <tr style=\"text-align: right;\">\n",
       "      <th></th>\n",
       "      <th>id</th>\n",
       "      <th>symbol</th>\n",
       "      <th>price</th>\n",
       "      <th>mkt_cap</th>\n",
       "      <th>vol</th>\n",
       "      <th>reddit_posts_48h</th>\n",
       "      <th>reddit_comments_48h</th>\n",
       "      <th>reddit accounts_48h</th>\n",
       "      <th>forks</th>\n",
       "      <th>stars</th>\n",
       "      <th>contributors</th>\n",
       "      <th>twitter_followers</th>\n",
       "      <th>alexa_rank</th>\n",
       "    </tr>\n",
       "  </thead>\n",
       "  <tbody>\n",
       "    <tr>\n",
       "      <th>0</th>\n",
       "      <td>ethereum</td>\n",
       "      <td>eth</td>\n",
       "      <td>4514.97</td>\n",
       "      <td>5.341573e+11</td>\n",
       "      <td>2.371612e+10</td>\n",
       "      <td>7.091</td>\n",
       "      <td>346.818</td>\n",
       "      <td>1308.08333333333</td>\n",
       "      <td>12476</td>\n",
       "      <td>33739</td>\n",
       "      <td>595</td>\n",
       "      <td>1907100</td>\n",
       "      <td>3578</td>\n",
       "    </tr>\n",
       "    <tr>\n",
       "      <th>1</th>\n",
       "      <td>bitcoin</td>\n",
       "      <td>btc</td>\n",
       "      <td>57037.00</td>\n",
       "      <td>1.075281e+12</td>\n",
       "      <td>3.910990e+10</td>\n",
       "      <td>6.000</td>\n",
       "      <td>907.364</td>\n",
       "      <td>3659.0</td>\n",
       "      <td>30685</td>\n",
       "      <td>59661</td>\n",
       "      <td>760</td>\n",
       "      <td>3871003</td>\n",
       "      <td>6384</td>\n",
       "    </tr>\n",
       "    <tr>\n",
       "      <th>2</th>\n",
       "      <td>binancecoin</td>\n",
       "      <td>bnb</td>\n",
       "      <td>622.31</td>\n",
       "      <td>1.044446e+11</td>\n",
       "      <td>2.605239e+09</td>\n",
       "      <td>9.727</td>\n",
       "      <td>178.455</td>\n",
       "      <td>818.416666666667</td>\n",
       "      <td>None</td>\n",
       "      <td>None</td>\n",
       "      <td>None</td>\n",
       "      <td>6376270</td>\n",
       "      <td>123</td>\n",
       "    </tr>\n",
       "    <tr>\n",
       "      <th>3</th>\n",
       "      <td>solana</td>\n",
       "      <td>sol</td>\n",
       "      <td>236.03</td>\n",
       "      <td>7.203360e+10</td>\n",
       "      <td>3.956357e+09</td>\n",
       "      <td>6.667</td>\n",
       "      <td>113.250</td>\n",
       "      <td>460.307692307692</td>\n",
       "      <td>1130</td>\n",
       "      <td>5823</td>\n",
       "      <td>209</td>\n",
       "      <td>1034232</td>\n",
       "      <td>3672</td>\n",
       "    </tr>\n",
       "    <tr>\n",
       "      <th>4</th>\n",
       "      <td>polkadot</td>\n",
       "      <td>dot</td>\n",
       "      <td>36.15</td>\n",
       "      <td>3.830617e+10</td>\n",
       "      <td>9.722963e+08</td>\n",
       "      <td>2.273</td>\n",
       "      <td>35.182</td>\n",
       "      <td>91.3333333333333</td>\n",
       "      <td>1008</td>\n",
       "      <td>4797</td>\n",
       "      <td>141</td>\n",
       "      <td>None</td>\n",
       "      <td>15201</td>\n",
       "    </tr>\n",
       "  </tbody>\n",
       "</table>\n",
       "</div>"
      ],
      "text/plain": [
       "            id symbol     price       mkt_cap           vol  reddit_posts_48h  \\\n",
       "0     ethereum    eth   4514.97  5.341573e+11  2.371612e+10             7.091   \n",
       "1      bitcoin    btc  57037.00  1.075281e+12  3.910990e+10             6.000   \n",
       "2  binancecoin    bnb    622.31  1.044446e+11  2.605239e+09             9.727   \n",
       "3       solana    sol    236.03  7.203360e+10  3.956357e+09             6.667   \n",
       "4     polkadot    dot     36.15  3.830617e+10  9.722963e+08             2.273   \n",
       "\n",
       "   reddit_comments_48h reddit accounts_48h  forks  stars contributors  \\\n",
       "0              346.818    1308.08333333333  12476  33739          595   \n",
       "1              907.364              3659.0  30685  59661          760   \n",
       "2              178.455    818.416666666667   None   None         None   \n",
       "3              113.250    460.307692307692   1130   5823          209   \n",
       "4               35.182    91.3333333333333   1008   4797          141   \n",
       "\n",
       "  twitter_followers alexa_rank  \n",
       "0           1907100       3578  \n",
       "1           3871003       6384  \n",
       "2           6376270        123  \n",
       "3           1034232       3672  \n",
       "4              None      15201  "
      ]
     },
     "metadata": {},
     "output_type": "display_data"
    },
    {
     "data": {
      "application/vnd.plotly.v1+json": {
       "config": {
        "plotlyServerURL": "https://plot.ly"
       },
       "data": [
        {
         "alignmentgroup": "True",
         "bingroup": "x",
         "histfunc": "sum",
         "hovertemplate": "token=%{x}<br>sum of reddit_comments_48h=%{y}<extra></extra>",
         "legendgroup": "",
         "marker": {
          "color": "#636efa",
          "pattern": {
           "shape": ""
          }
         },
         "name": "",
         "offsetgroup": "",
         "orientation": "v",
         "showlegend": false,
         "type": "histogram",
         "x": [
          "ethereum",
          "bitcoin",
          "binancecoin",
          "solana",
          "polkadot",
          "flow",
          "dogecoin",
          "audius",
          "rainbowtoken",
          "urus-token",
          "hoge-finance",
          "lcx",
          "ufo-gaming"
         ],
         "xaxis": "x",
         "y": [
          346.818,
          907.364,
          178.455,
          113.25,
          35.182,
          0,
          732.364,
          13.273,
          0,
          0,
          167,
          0,
          0
         ],
         "yaxis": "y"
        }
       ],
       "layout": {
        "barmode": "relative",
        "legend": {
         "tracegroupgap": 0
        },
        "margin": {
         "t": 60
        },
        "template": {
         "data": {
          "bar": [
           {
            "error_x": {
             "color": "#2a3f5f"
            },
            "error_y": {
             "color": "#2a3f5f"
            },
            "marker": {
             "line": {
              "color": "#E5ECF6",
              "width": 0.5
             },
             "pattern": {
              "fillmode": "overlay",
              "size": 10,
              "solidity": 0.2
             }
            },
            "type": "bar"
           }
          ],
          "barpolar": [
           {
            "marker": {
             "line": {
              "color": "#E5ECF6",
              "width": 0.5
             },
             "pattern": {
              "fillmode": "overlay",
              "size": 10,
              "solidity": 0.2
             }
            },
            "type": "barpolar"
           }
          ],
          "carpet": [
           {
            "aaxis": {
             "endlinecolor": "#2a3f5f",
             "gridcolor": "white",
             "linecolor": "white",
             "minorgridcolor": "white",
             "startlinecolor": "#2a3f5f"
            },
            "baxis": {
             "endlinecolor": "#2a3f5f",
             "gridcolor": "white",
             "linecolor": "white",
             "minorgridcolor": "white",
             "startlinecolor": "#2a3f5f"
            },
            "type": "carpet"
           }
          ],
          "choropleth": [
           {
            "colorbar": {
             "outlinewidth": 0,
             "ticks": ""
            },
            "type": "choropleth"
           }
          ],
          "contour": [
           {
            "colorbar": {
             "outlinewidth": 0,
             "ticks": ""
            },
            "colorscale": [
             [
              0,
              "#0d0887"
             ],
             [
              0.1111111111111111,
              "#46039f"
             ],
             [
              0.2222222222222222,
              "#7201a8"
             ],
             [
              0.3333333333333333,
              "#9c179e"
             ],
             [
              0.4444444444444444,
              "#bd3786"
             ],
             [
              0.5555555555555556,
              "#d8576b"
             ],
             [
              0.6666666666666666,
              "#ed7953"
             ],
             [
              0.7777777777777778,
              "#fb9f3a"
             ],
             [
              0.8888888888888888,
              "#fdca26"
             ],
             [
              1,
              "#f0f921"
             ]
            ],
            "type": "contour"
           }
          ],
          "contourcarpet": [
           {
            "colorbar": {
             "outlinewidth": 0,
             "ticks": ""
            },
            "type": "contourcarpet"
           }
          ],
          "heatmap": [
           {
            "colorbar": {
             "outlinewidth": 0,
             "ticks": ""
            },
            "colorscale": [
             [
              0,
              "#0d0887"
             ],
             [
              0.1111111111111111,
              "#46039f"
             ],
             [
              0.2222222222222222,
              "#7201a8"
             ],
             [
              0.3333333333333333,
              "#9c179e"
             ],
             [
              0.4444444444444444,
              "#bd3786"
             ],
             [
              0.5555555555555556,
              "#d8576b"
             ],
             [
              0.6666666666666666,
              "#ed7953"
             ],
             [
              0.7777777777777778,
              "#fb9f3a"
             ],
             [
              0.8888888888888888,
              "#fdca26"
             ],
             [
              1,
              "#f0f921"
             ]
            ],
            "type": "heatmap"
           }
          ],
          "heatmapgl": [
           {
            "colorbar": {
             "outlinewidth": 0,
             "ticks": ""
            },
            "colorscale": [
             [
              0,
              "#0d0887"
             ],
             [
              0.1111111111111111,
              "#46039f"
             ],
             [
              0.2222222222222222,
              "#7201a8"
             ],
             [
              0.3333333333333333,
              "#9c179e"
             ],
             [
              0.4444444444444444,
              "#bd3786"
             ],
             [
              0.5555555555555556,
              "#d8576b"
             ],
             [
              0.6666666666666666,
              "#ed7953"
             ],
             [
              0.7777777777777778,
              "#fb9f3a"
             ],
             [
              0.8888888888888888,
              "#fdca26"
             ],
             [
              1,
              "#f0f921"
             ]
            ],
            "type": "heatmapgl"
           }
          ],
          "histogram": [
           {
            "marker": {
             "pattern": {
              "fillmode": "overlay",
              "size": 10,
              "solidity": 0.2
             }
            },
            "type": "histogram"
           }
          ],
          "histogram2d": [
           {
            "colorbar": {
             "outlinewidth": 0,
             "ticks": ""
            },
            "colorscale": [
             [
              0,
              "#0d0887"
             ],
             [
              0.1111111111111111,
              "#46039f"
             ],
             [
              0.2222222222222222,
              "#7201a8"
             ],
             [
              0.3333333333333333,
              "#9c179e"
             ],
             [
              0.4444444444444444,
              "#bd3786"
             ],
             [
              0.5555555555555556,
              "#d8576b"
             ],
             [
              0.6666666666666666,
              "#ed7953"
             ],
             [
              0.7777777777777778,
              "#fb9f3a"
             ],
             [
              0.8888888888888888,
              "#fdca26"
             ],
             [
              1,
              "#f0f921"
             ]
            ],
            "type": "histogram2d"
           }
          ],
          "histogram2dcontour": [
           {
            "colorbar": {
             "outlinewidth": 0,
             "ticks": ""
            },
            "colorscale": [
             [
              0,
              "#0d0887"
             ],
             [
              0.1111111111111111,
              "#46039f"
             ],
             [
              0.2222222222222222,
              "#7201a8"
             ],
             [
              0.3333333333333333,
              "#9c179e"
             ],
             [
              0.4444444444444444,
              "#bd3786"
             ],
             [
              0.5555555555555556,
              "#d8576b"
             ],
             [
              0.6666666666666666,
              "#ed7953"
             ],
             [
              0.7777777777777778,
              "#fb9f3a"
             ],
             [
              0.8888888888888888,
              "#fdca26"
             ],
             [
              1,
              "#f0f921"
             ]
            ],
            "type": "histogram2dcontour"
           }
          ],
          "mesh3d": [
           {
            "colorbar": {
             "outlinewidth": 0,
             "ticks": ""
            },
            "type": "mesh3d"
           }
          ],
          "parcoords": [
           {
            "line": {
             "colorbar": {
              "outlinewidth": 0,
              "ticks": ""
             }
            },
            "type": "parcoords"
           }
          ],
          "pie": [
           {
            "automargin": true,
            "type": "pie"
           }
          ],
          "scatter": [
           {
            "marker": {
             "colorbar": {
              "outlinewidth": 0,
              "ticks": ""
             }
            },
            "type": "scatter"
           }
          ],
          "scatter3d": [
           {
            "line": {
             "colorbar": {
              "outlinewidth": 0,
              "ticks": ""
             }
            },
            "marker": {
             "colorbar": {
              "outlinewidth": 0,
              "ticks": ""
             }
            },
            "type": "scatter3d"
           }
          ],
          "scattercarpet": [
           {
            "marker": {
             "colorbar": {
              "outlinewidth": 0,
              "ticks": ""
             }
            },
            "type": "scattercarpet"
           }
          ],
          "scattergeo": [
           {
            "marker": {
             "colorbar": {
              "outlinewidth": 0,
              "ticks": ""
             }
            },
            "type": "scattergeo"
           }
          ],
          "scattergl": [
           {
            "marker": {
             "colorbar": {
              "outlinewidth": 0,
              "ticks": ""
             }
            },
            "type": "scattergl"
           }
          ],
          "scattermapbox": [
           {
            "marker": {
             "colorbar": {
              "outlinewidth": 0,
              "ticks": ""
             }
            },
            "type": "scattermapbox"
           }
          ],
          "scatterpolar": [
           {
            "marker": {
             "colorbar": {
              "outlinewidth": 0,
              "ticks": ""
             }
            },
            "type": "scatterpolar"
           }
          ],
          "scatterpolargl": [
           {
            "marker": {
             "colorbar": {
              "outlinewidth": 0,
              "ticks": ""
             }
            },
            "type": "scatterpolargl"
           }
          ],
          "scatterternary": [
           {
            "marker": {
             "colorbar": {
              "outlinewidth": 0,
              "ticks": ""
             }
            },
            "type": "scatterternary"
           }
          ],
          "surface": [
           {
            "colorbar": {
             "outlinewidth": 0,
             "ticks": ""
            },
            "colorscale": [
             [
              0,
              "#0d0887"
             ],
             [
              0.1111111111111111,
              "#46039f"
             ],
             [
              0.2222222222222222,
              "#7201a8"
             ],
             [
              0.3333333333333333,
              "#9c179e"
             ],
             [
              0.4444444444444444,
              "#bd3786"
             ],
             [
              0.5555555555555556,
              "#d8576b"
             ],
             [
              0.6666666666666666,
              "#ed7953"
             ],
             [
              0.7777777777777778,
              "#fb9f3a"
             ],
             [
              0.8888888888888888,
              "#fdca26"
             ],
             [
              1,
              "#f0f921"
             ]
            ],
            "type": "surface"
           }
          ],
          "table": [
           {
            "cells": {
             "fill": {
              "color": "#EBF0F8"
             },
             "line": {
              "color": "white"
             }
            },
            "header": {
             "fill": {
              "color": "#C8D4E3"
             },
             "line": {
              "color": "white"
             }
            },
            "type": "table"
           }
          ]
         },
         "layout": {
          "annotationdefaults": {
           "arrowcolor": "#2a3f5f",
           "arrowhead": 0,
           "arrowwidth": 1
          },
          "autotypenumbers": "strict",
          "coloraxis": {
           "colorbar": {
            "outlinewidth": 0,
            "ticks": ""
           }
          },
          "colorscale": {
           "diverging": [
            [
             0,
             "#8e0152"
            ],
            [
             0.1,
             "#c51b7d"
            ],
            [
             0.2,
             "#de77ae"
            ],
            [
             0.3,
             "#f1b6da"
            ],
            [
             0.4,
             "#fde0ef"
            ],
            [
             0.5,
             "#f7f7f7"
            ],
            [
             0.6,
             "#e6f5d0"
            ],
            [
             0.7,
             "#b8e186"
            ],
            [
             0.8,
             "#7fbc41"
            ],
            [
             0.9,
             "#4d9221"
            ],
            [
             1,
             "#276419"
            ]
           ],
           "sequential": [
            [
             0,
             "#0d0887"
            ],
            [
             0.1111111111111111,
             "#46039f"
            ],
            [
             0.2222222222222222,
             "#7201a8"
            ],
            [
             0.3333333333333333,
             "#9c179e"
            ],
            [
             0.4444444444444444,
             "#bd3786"
            ],
            [
             0.5555555555555556,
             "#d8576b"
            ],
            [
             0.6666666666666666,
             "#ed7953"
            ],
            [
             0.7777777777777778,
             "#fb9f3a"
            ],
            [
             0.8888888888888888,
             "#fdca26"
            ],
            [
             1,
             "#f0f921"
            ]
           ],
           "sequentialminus": [
            [
             0,
             "#0d0887"
            ],
            [
             0.1111111111111111,
             "#46039f"
            ],
            [
             0.2222222222222222,
             "#7201a8"
            ],
            [
             0.3333333333333333,
             "#9c179e"
            ],
            [
             0.4444444444444444,
             "#bd3786"
            ],
            [
             0.5555555555555556,
             "#d8576b"
            ],
            [
             0.6666666666666666,
             "#ed7953"
            ],
            [
             0.7777777777777778,
             "#fb9f3a"
            ],
            [
             0.8888888888888888,
             "#fdca26"
            ],
            [
             1,
             "#f0f921"
            ]
           ]
          },
          "colorway": [
           "#636efa",
           "#EF553B",
           "#00cc96",
           "#ab63fa",
           "#FFA15A",
           "#19d3f3",
           "#FF6692",
           "#B6E880",
           "#FF97FF",
           "#FECB52"
          ],
          "font": {
           "color": "#2a3f5f"
          },
          "geo": {
           "bgcolor": "white",
           "lakecolor": "white",
           "landcolor": "#E5ECF6",
           "showlakes": true,
           "showland": true,
           "subunitcolor": "white"
          },
          "hoverlabel": {
           "align": "left"
          },
          "hovermode": "closest",
          "mapbox": {
           "style": "light"
          },
          "paper_bgcolor": "white",
          "plot_bgcolor": "#E5ECF6",
          "polar": {
           "angularaxis": {
            "gridcolor": "white",
            "linecolor": "white",
            "ticks": ""
           },
           "bgcolor": "#E5ECF6",
           "radialaxis": {
            "gridcolor": "white",
            "linecolor": "white",
            "ticks": ""
           }
          },
          "scene": {
           "xaxis": {
            "backgroundcolor": "#E5ECF6",
            "gridcolor": "white",
            "gridwidth": 2,
            "linecolor": "white",
            "showbackground": true,
            "ticks": "",
            "zerolinecolor": "white"
           },
           "yaxis": {
            "backgroundcolor": "#E5ECF6",
            "gridcolor": "white",
            "gridwidth": 2,
            "linecolor": "white",
            "showbackground": true,
            "ticks": "",
            "zerolinecolor": "white"
           },
           "zaxis": {
            "backgroundcolor": "#E5ECF6",
            "gridcolor": "white",
            "gridwidth": 2,
            "linecolor": "white",
            "showbackground": true,
            "ticks": "",
            "zerolinecolor": "white"
           }
          },
          "shapedefaults": {
           "line": {
            "color": "#2a3f5f"
           }
          },
          "ternary": {
           "aaxis": {
            "gridcolor": "white",
            "linecolor": "white",
            "ticks": ""
           },
           "baxis": {
            "gridcolor": "white",
            "linecolor": "white",
            "ticks": ""
           },
           "bgcolor": "#E5ECF6",
           "caxis": {
            "gridcolor": "white",
            "linecolor": "white",
            "ticks": ""
           }
          },
          "title": {
           "x": 0.05
          },
          "xaxis": {
           "automargin": true,
           "gridcolor": "white",
           "linecolor": "white",
           "ticks": "",
           "title": {
            "standoff": 15
           },
           "zerolinecolor": "white",
           "zerolinewidth": 2
          },
          "yaxis": {
           "automargin": true,
           "gridcolor": "white",
           "linecolor": "white",
           "ticks": "",
           "title": {
            "standoff": 15
           },
           "zerolinecolor": "white",
           "zerolinewidth": 2
          }
         }
        },
        "xaxis": {
         "anchor": "y",
         "domain": [
          0,
          1
         ],
         "title": {
          "text": "token"
         }
        },
        "yaxis": {
         "anchor": "x",
         "domain": [
          0,
          1
         ],
         "title": {
          "text": "sum of reddit_comments_48h"
         }
        }
       }
      }
     },
     "metadata": {},
     "output_type": "display_data"
    }
   ],
   "source": [
    "### BUILDING REDDIT COMMENTS HTML GRAPH\n",
    "display(df.head(5))\n",
    "\n",
    "fig = px.histogram(df, x=df['id'], y=df['reddit_comments_48h'],\n",
    "                labels={\n",
    "                     \"sum of reddit_comments_48h\": \"Reddit Comments 48h\",\n",
    "                     \"id\": \"token\"\n",
    "#                      \"species\": \"Species of Iris\"\n",
    "                 },)\n",
    "py.offline.plot(fig, filename='geckoRedditComments.html')\n",
    "\n",
    "\n",
    "# print(tls.get_embed('https://plotly.com/~fooba/1'))\n",
    "fig.show()\n",
    "\n"
   ]
  },
  {
   "cell_type": "code",
   "execution_count": 4,
   "metadata": {},
   "outputs": [
    {
     "name": "stdout",
     "output_type": "stream",
     "text": [
      "         dates\n",
      "0   03-10-2021\n",
      "1   04-10-2021\n",
      "2   05-10-2021\n",
      "3   06-10-2021\n",
      "4   07-10-2021\n",
      "..         ...\n",
      "56  28-11-2021\n",
      "57  29-11-2021\n",
      "58  30-11-2021\n",
      "59  01-12-2021\n",
      "60  02-12-2021\n",
      "\n",
      "[61 rows x 1 columns]\n",
      "03-10-2021\n",
      "just added:  ethereum\n",
      "03-10-2021\n",
      "just added:  bitcoin\n",
      "03-10-2021\n",
      "just added:  binancecoin\n",
      "03-10-2021\n",
      "just added:  solana\n",
      "03-10-2021\n",
      "just added:  polkadot\n",
      "03-10-2021\n",
      "just added:  flow\n",
      "03-10-2021\n",
      "just added:  dogecoin\n",
      "03-10-2021\n",
      "just added:  audius\n",
      "03-10-2021\n",
      "just added:  rainbowtoken\n",
      "03-10-2021\n",
      "just added:  urus-token\n",
      "03-10-2021\n",
      "just added:  hoge-finance\n",
      "03-10-2021\n",
      "just added:  lcx\n",
      "03-10-2021\n",
      "just added:  ufo-gaming\n"
     ]
    },
    {
     "data": {
      "text/html": [
       "<div>\n",
       "<style scoped>\n",
       "    .dataframe tbody tr th:only-of-type {\n",
       "        vertical-align: middle;\n",
       "    }\n",
       "\n",
       "    .dataframe tbody tr th {\n",
       "        vertical-align: top;\n",
       "    }\n",
       "\n",
       "    .dataframe thead th {\n",
       "        text-align: right;\n",
       "    }\n",
       "</style>\n",
       "<table border=\"1\" class=\"dataframe\">\n",
       "  <thead>\n",
       "    <tr style=\"text-align: right;\">\n",
       "      <th></th>\n",
       "      <th>dates</th>\n",
       "      <th>ethereum</th>\n",
       "      <th>bitcoin</th>\n",
       "      <th>binancecoin</th>\n",
       "      <th>solana</th>\n",
       "      <th>polkadot</th>\n",
       "      <th>flow</th>\n",
       "      <th>dogecoin</th>\n",
       "      <th>audius</th>\n",
       "      <th>rainbowtoken</th>\n",
       "      <th>urus-token</th>\n",
       "      <th>hoge-finance</th>\n",
       "      <th>lcx</th>\n",
       "      <th>ufo-gaming</th>\n",
       "    </tr>\n",
       "  </thead>\n",
       "  <tbody>\n",
       "    <tr>\n",
       "      <th>0</th>\n",
       "      <td>03-10-2021</td>\n",
       "      <td>3426.387081</td>\n",
       "      <td>48282.971139</td>\n",
       "      <td>431.449016</td>\n",
       "      <td>172.855870</td>\n",
       "      <td>32.200487</td>\n",
       "      <td>19.104391</td>\n",
       "      <td>0.222176</td>\n",
       "      <td>2.381418</td>\n",
       "      <td>6.653215e-09</td>\n",
       "      <td>91.467224</td>\n",
       "      <td>0.000093</td>\n",
       "      <td>0.165840</td>\n",
       "      <td>0.000006</td>\n",
       "    </tr>\n",
       "    <tr>\n",
       "      <th>1</th>\n",
       "      <td>04-10-2021</td>\n",
       "      <td>3390.310408</td>\n",
       "      <td>49260.232321</td>\n",
       "      <td>427.545862</td>\n",
       "      <td>167.877910</td>\n",
       "      <td>31.185246</td>\n",
       "      <td>20.613104</td>\n",
       "      <td>0.243219</td>\n",
       "      <td>2.249091</td>\n",
       "      <td>6.159209e-09</td>\n",
       "      <td>90.337881</td>\n",
       "      <td>0.000089</td>\n",
       "      <td>0.176603</td>\n",
       "      <td>0.000007</td>\n",
       "    </tr>\n",
       "    <tr>\n",
       "      <th>2</th>\n",
       "      <td>05-10-2021</td>\n",
       "      <td>3520.342257</td>\n",
       "      <td>51668.994224</td>\n",
       "      <td>443.435448</td>\n",
       "      <td>164.369276</td>\n",
       "      <td>31.541054</td>\n",
       "      <td>20.535903</td>\n",
       "      <td>0.251694</td>\n",
       "      <td>2.210754</td>\n",
       "      <td>7.998785e-09</td>\n",
       "      <td>92.118116</td>\n",
       "      <td>0.000118</td>\n",
       "      <td>0.182719</td>\n",
       "      <td>0.000008</td>\n",
       "    </tr>\n",
       "    <tr>\n",
       "      <th>3</th>\n",
       "      <td>06-10-2021</td>\n",
       "      <td>3592.176130</td>\n",
       "      <td>55415.005742</td>\n",
       "      <td>435.262006</td>\n",
       "      <td>154.094624</td>\n",
       "      <td>32.485706</td>\n",
       "      <td>19.171906</td>\n",
       "      <td>0.252551</td>\n",
       "      <td>2.154357</td>\n",
       "      <td>5.988382e-09</td>\n",
       "      <td>96.875135</td>\n",
       "      <td>0.000126</td>\n",
       "      <td>0.188018</td>\n",
       "      <td>0.000007</td>\n",
       "    </tr>\n",
       "    <tr>\n",
       "      <th>4</th>\n",
       "      <td>07-10-2021</td>\n",
       "      <td>3594.918358</td>\n",
       "      <td>53894.595995</td>\n",
       "      <td>439.932647</td>\n",
       "      <td>154.259885</td>\n",
       "      <td>33.831460</td>\n",
       "      <td>19.432543</td>\n",
       "      <td>0.243439</td>\n",
       "      <td>2.113511</td>\n",
       "      <td>4.759678e-09</td>\n",
       "      <td>96.083633</td>\n",
       "      <td>0.000113</td>\n",
       "      <td>0.153320</td>\n",
       "      <td>0.000007</td>\n",
       "    </tr>\n",
       "  </tbody>\n",
       "</table>\n",
       "</div>"
      ],
      "text/plain": [
       "        dates     ethereum       bitcoin  binancecoin      solana   polkadot  \\\n",
       "0  03-10-2021  3426.387081  48282.971139   431.449016  172.855870  32.200487   \n",
       "1  04-10-2021  3390.310408  49260.232321   427.545862  167.877910  31.185246   \n",
       "2  05-10-2021  3520.342257  51668.994224   443.435448  164.369276  31.541054   \n",
       "3  06-10-2021  3592.176130  55415.005742   435.262006  154.094624  32.485706   \n",
       "4  07-10-2021  3594.918358  53894.595995   439.932647  154.259885  33.831460   \n",
       "\n",
       "        flow  dogecoin    audius  rainbowtoken  urus-token  hoge-finance  \\\n",
       "0  19.104391  0.222176  2.381418  6.653215e-09   91.467224      0.000093   \n",
       "1  20.613104  0.243219  2.249091  6.159209e-09   90.337881      0.000089   \n",
       "2  20.535903  0.251694  2.210754  7.998785e-09   92.118116      0.000118   \n",
       "3  19.171906  0.252551  2.154357  5.988382e-09   96.875135      0.000126   \n",
       "4  19.432543  0.243439  2.113511  4.759678e-09   96.083633      0.000113   \n",
       "\n",
       "        lcx  ufo-gaming  \n",
       "0  0.165840    0.000006  \n",
       "1  0.176603    0.000007  \n",
       "2  0.182719    0.000008  \n",
       "3  0.188018    0.000007  \n",
       "4  0.153320    0.000007  "
      ]
     },
     "metadata": {},
     "output_type": "display_data"
    }
   ],
   "source": [
    "#clean version of historic prices request\n",
    "#timestamps are in day-month-year\n",
    "import requests\n",
    "import datetime\n",
    "import pandas as pd\n",
    "from datetime import timedelta\n",
    "\n",
    "# dfPrices = pd.DataFrame()\n",
    "# geckoReq = 'https://api.coingecko.com/api/v3/coins/ethereum/market_chart?vs_currency=usd&days=60&interval=daily'\n",
    "geckoReq = 'https://api.coingecko.com/api/v3/coins/ethereum/market_chart?vs_currency=usd&days=60&interval=daily'\n",
    "\n",
    "r = requests.get(geckoReq).json()\n",
    "ts = r['prices'][0][0]\n",
    "ts = ts/1000\n",
    "HistPricesList = []\n",
    "for i in range(len(r['prices'])):\n",
    "    currentUnix = r['prices'][i][0] \n",
    "    price = r['prices'][i][1]\n",
    "    currentUnix = currentUnix/1000\n",
    "    currentTS = datetime.datetime.fromtimestamp(currentUnix).strftime(\"%d-%m-%Y\")\n",
    "    HistPricesList.append([currentTS])\n",
    "global dfPrices\n",
    "dfPrices = pd.DataFrame(HistPricesList, columns = ['dates'])\n",
    "print(dfPrices)\n",
    "\n",
    "# display(dfCoin)\n",
    "# print('dfprices')\n",
    "# display(dfPrices)\n",
    "\n",
    "# coin='ethereum'\n",
    "def historicalCoinPrices(coin):\n",
    "    global dfPrices\n",
    "    # geckoReq = 'https://api.coingecko.com/api/v3/coins/ethereum/market_chart?vs_currency=usd&days=60&interval=daily'\n",
    "    geckoReq = 'https://api.coingecko.com/api/v3/coins/'+coin+'/market_chart?vs_currency=usd&days=60&interval=daily'\n",
    "\n",
    "    r = requests.get(geckoReq).json()\n",
    "    ts = r['prices'][0][0]\n",
    "    # print(ts)\n",
    "    ts = ts/1000\n",
    "    print(datetime.datetime.fromtimestamp(ts).strftime(\"%d-%m-%Y\"))\n",
    "    # print('prices length',len(r['prices']))\n",
    "    HistPricesList = []\n",
    "    for i in range(len(r['prices'])):\n",
    "        currentUnix = r['prices'][i][0] \n",
    "        price = r['prices'][i][1]\n",
    "        currentUnix = currentUnix/1000\n",
    "        currentTS = datetime.datetime.fromtimestamp(currentUnix).strftime(\"%d-%m-%Y\")\n",
    "    #     print('price: ', price, 'TS: ', currentTS)\n",
    "        HistPricesList.append([currentTS, price])\n",
    "    #     currentUnix = currentTS\n",
    "#     print(HistPricesList)\n",
    "    dfCoin = pd.DataFrame(HistPricesList, columns = ['dates', coin])\n",
    "    # display(dfCoin)\n",
    "    dfPrices = pd.merge(dfPrices, dfCoin[coin], left_on = dfPrices['dates'], right_on=dfCoin['dates']).drop(['key_0'], axis = 1)\n",
    "    # display(dfPrices)\n",
    "\n",
    "for i in myCoinsList:\n",
    "    historicalCoinPrices(i)\n",
    "    print('just added: ', i)\n",
    "\n",
    "\n",
    "display(dfPrices.head(5))"
   ]
  },
  {
   "cell_type": "code",
   "execution_count": 5,
   "metadata": {},
   "outputs": [
    {
     "data": {
      "text/html": [
       "<div>\n",
       "<style scoped>\n",
       "    .dataframe tbody tr th:only-of-type {\n",
       "        vertical-align: middle;\n",
       "    }\n",
       "\n",
       "    .dataframe tbody tr th {\n",
       "        vertical-align: top;\n",
       "    }\n",
       "\n",
       "    .dataframe thead th {\n",
       "        text-align: right;\n",
       "    }\n",
       "</style>\n",
       "<table border=\"1\" class=\"dataframe\">\n",
       "  <thead>\n",
       "    <tr style=\"text-align: right;\">\n",
       "      <th></th>\n",
       "      <th>ethereum</th>\n",
       "      <th>bitcoin</th>\n",
       "      <th>binancecoin</th>\n",
       "      <th>solana</th>\n",
       "      <th>polkadot</th>\n",
       "      <th>flow</th>\n",
       "      <th>dogecoin</th>\n",
       "      <th>audius</th>\n",
       "      <th>rainbowtoken</th>\n",
       "      <th>urus-token</th>\n",
       "      <th>hoge-finance</th>\n",
       "      <th>lcx</th>\n",
       "      <th>ufo-gaming</th>\n",
       "    </tr>\n",
       "    <tr>\n",
       "      <th>dates</th>\n",
       "      <th></th>\n",
       "      <th></th>\n",
       "      <th></th>\n",
       "      <th></th>\n",
       "      <th></th>\n",
       "      <th></th>\n",
       "      <th></th>\n",
       "      <th></th>\n",
       "      <th></th>\n",
       "      <th></th>\n",
       "      <th></th>\n",
       "      <th></th>\n",
       "      <th></th>\n",
       "    </tr>\n",
       "  </thead>\n",
       "  <tbody>\n",
       "    <tr>\n",
       "      <th>03-10-2021</th>\n",
       "      <td>NaN</td>\n",
       "      <td>NaN</td>\n",
       "      <td>NaN</td>\n",
       "      <td>NaN</td>\n",
       "      <td>NaN</td>\n",
       "      <td>NaN</td>\n",
       "      <td>NaN</td>\n",
       "      <td>NaN</td>\n",
       "      <td>NaN</td>\n",
       "      <td>NaN</td>\n",
       "      <td>NaN</td>\n",
       "      <td>NaN</td>\n",
       "      <td>NaN</td>\n",
       "    </tr>\n",
       "    <tr>\n",
       "      <th>04-10-2021</th>\n",
       "      <td>-0.010529</td>\n",
       "      <td>0.020240</td>\n",
       "      <td>-0.009047</td>\n",
       "      <td>-0.028798</td>\n",
       "      <td>-0.031529</td>\n",
       "      <td>0.078972</td>\n",
       "      <td>0.094714</td>\n",
       "      <td>-0.055567</td>\n",
       "      <td>-0.074251</td>\n",
       "      <td>-0.012347</td>\n",
       "      <td>-0.050685</td>\n",
       "      <td>0.064903</td>\n",
       "      <td>0.127672</td>\n",
       "    </tr>\n",
       "    <tr>\n",
       "      <th>05-10-2021</th>\n",
       "      <td>0.038354</td>\n",
       "      <td>0.048899</td>\n",
       "      <td>0.037165</td>\n",
       "      <td>-0.020900</td>\n",
       "      <td>0.011410</td>\n",
       "      <td>-0.003745</td>\n",
       "      <td>0.034844</td>\n",
       "      <td>-0.017045</td>\n",
       "      <td>0.298671</td>\n",
       "      <td>0.019706</td>\n",
       "      <td>0.335919</td>\n",
       "      <td>0.034627</td>\n",
       "      <td>0.127088</td>\n",
       "    </tr>\n",
       "    <tr>\n",
       "      <th>06-10-2021</th>\n",
       "      <td>0.020405</td>\n",
       "      <td>0.072500</td>\n",
       "      <td>-0.018432</td>\n",
       "      <td>-0.062510</td>\n",
       "      <td>0.029950</td>\n",
       "      <td>-0.066420</td>\n",
       "      <td>0.003403</td>\n",
       "      <td>-0.025510</td>\n",
       "      <td>-0.251339</td>\n",
       "      <td>0.051640</td>\n",
       "      <td>0.066035</td>\n",
       "      <td>0.029004</td>\n",
       "      <td>-0.112465</td>\n",
       "    </tr>\n",
       "    <tr>\n",
       "      <th>07-10-2021</th>\n",
       "      <td>0.000763</td>\n",
       "      <td>-0.027437</td>\n",
       "      <td>0.010731</td>\n",
       "      <td>0.001072</td>\n",
       "      <td>0.041426</td>\n",
       "      <td>0.013595</td>\n",
       "      <td>-0.036079</td>\n",
       "      <td>-0.018960</td>\n",
       "      <td>-0.205181</td>\n",
       "      <td>-0.008170</td>\n",
       "      <td>-0.102611</td>\n",
       "      <td>-0.184549</td>\n",
       "      <td>-0.078832</td>\n",
       "    </tr>\n",
       "  </tbody>\n",
       "</table>\n",
       "</div>"
      ],
      "text/plain": [
       "            ethereum   bitcoin  binancecoin    solana  polkadot      flow  \\\n",
       "dates                                                                       \n",
       "03-10-2021       NaN       NaN          NaN       NaN       NaN       NaN   \n",
       "04-10-2021 -0.010529  0.020240    -0.009047 -0.028798 -0.031529  0.078972   \n",
       "05-10-2021  0.038354  0.048899     0.037165 -0.020900  0.011410 -0.003745   \n",
       "06-10-2021  0.020405  0.072500    -0.018432 -0.062510  0.029950 -0.066420   \n",
       "07-10-2021  0.000763 -0.027437     0.010731  0.001072  0.041426  0.013595   \n",
       "\n",
       "            dogecoin    audius  rainbowtoken  urus-token  hoge-finance  \\\n",
       "dates                                                                    \n",
       "03-10-2021       NaN       NaN           NaN         NaN           NaN   \n",
       "04-10-2021  0.094714 -0.055567     -0.074251   -0.012347     -0.050685   \n",
       "05-10-2021  0.034844 -0.017045      0.298671    0.019706      0.335919   \n",
       "06-10-2021  0.003403 -0.025510     -0.251339    0.051640      0.066035   \n",
       "07-10-2021 -0.036079 -0.018960     -0.205181   -0.008170     -0.102611   \n",
       "\n",
       "                 lcx  ufo-gaming  \n",
       "dates                             \n",
       "03-10-2021       NaN         NaN  \n",
       "04-10-2021  0.064903    0.127672  \n",
       "05-10-2021  0.034627    0.127088  \n",
       "06-10-2021  0.029004   -0.112465  \n",
       "07-10-2021 -0.184549   -0.078832  "
      ]
     },
     "metadata": {},
     "output_type": "display_data"
    },
    {
     "data": {
      "application/vnd.plotly.v1+json": {
       "config": {
        "plotlyServerURL": "https://plot.ly"
       },
       "data": [
        {
         "hovertemplate": "coin=ethereum<br>dates=%{x}<br>Percent Change=%{y}<extra></extra>",
         "legendgroup": "ethereum",
         "line": {
          "color": "#636efa",
          "dash": "solid"
         },
         "marker": {
          "symbol": "circle"
         },
         "mode": "lines",
         "name": "ethereum",
         "orientation": "v",
         "showlegend": true,
         "type": "scatter",
         "x": [
          "03-10-2021",
          "04-10-2021",
          "05-10-2021",
          "06-10-2021",
          "07-10-2021",
          "08-10-2021",
          "09-10-2021",
          "10-10-2021",
          "11-10-2021",
          "12-10-2021",
          "13-10-2021",
          "14-10-2021",
          "15-10-2021",
          "16-10-2021",
          "17-10-2021",
          "18-10-2021",
          "19-10-2021",
          "20-10-2021",
          "21-10-2021",
          "22-10-2021",
          "23-10-2021",
          "24-10-2021",
          "25-10-2021",
          "26-10-2021",
          "27-10-2021",
          "28-10-2021",
          "29-10-2021",
          "30-10-2021",
          "31-10-2021",
          "01-11-2021",
          "02-11-2021",
          "03-11-2021",
          "04-11-2021",
          "05-11-2021",
          "06-11-2021",
          "07-11-2021",
          "08-11-2021",
          "09-11-2021",
          "10-11-2021",
          "11-11-2021",
          "12-11-2021",
          "13-11-2021",
          "14-11-2021",
          "15-11-2021",
          "16-11-2021",
          "17-11-2021",
          "18-11-2021",
          "19-11-2021",
          "20-11-2021",
          "21-11-2021",
          "22-11-2021",
          "23-11-2021",
          "24-11-2021",
          "25-11-2021",
          "26-11-2021",
          "27-11-2021",
          "28-11-2021",
          "29-11-2021",
          "30-11-2021",
          "01-12-2021",
          "02-12-2021"
         ],
         "xaxis": "x",
         "y": [
          null,
          -0.010529071071210594,
          0.038353965637532905,
          0.020405366189934826,
          0.0007633892016321031,
          -0.010116719564334908,
          0.00829870255480869,
          -0.04377315285500849,
          0.031133832442670206,
          -0.011231371126135037,
          0.030743797912474946,
          0.052380718155080386,
          0.024014882260152248,
          -0.00801497023339881,
          -0.00007128670856804131,
          -0.026361977873821885,
          0.035167059977317505,
          0.07350089364525658,
          -0.02284060194577575,
          -0.020650569058552115,
          0.04729239365068039,
          -0.02021879923733816,
          0.033033307307561266,
          -0.0183532526161444,
          -0.050204912248124844,
          0.08722069776301744,
          0.031445956079624526,
          -0.022231953852998254,
          -0.007531188687390555,
          0.008973046615302183,
          0.06143324644128678,
          0.002416176997830144,
          -0.012519228039140406,
          -0.01213439540028527,
          0.007186387247482884,
          0.02198428198450597,
          0.040715461328153735,
          -0.015145099382704696,
          -0.02120422397952293,
          0.019690858363690555,
          -0.010103287160752483,
          -0.00397170435653571,
          -0.0029039126361360967,
          -0.014987484183940025,
          -0.07415292049714384,
          0.014010631089711678,
          -0.07180394341542429,
          0.0810638548001581,
          0.027466528513752753,
          -0.026335916000870485,
          -0.050539573265131366,
          0.06202247782263215,
          -0.019741774423552738,
          0.057713948638502766,
          -0.10353115132488955,
          0.008837173162675072,
          0.05044047834956289,
          0.0359983940282933,
          0.04333268344454688,
          -0.010245795391650603,
          -0.019644998548886128
         ],
         "yaxis": "y"
        },
        {
         "hovertemplate": "coin=bitcoin<br>dates=%{x}<br>Percent Change=%{y}<extra></extra>",
         "legendgroup": "bitcoin",
         "line": {
          "color": "#EF553B",
          "dash": "solid"
         },
         "marker": {
          "symbol": "circle"
         },
         "mode": "lines",
         "name": "bitcoin",
         "orientation": "v",
         "showlegend": true,
         "type": "scatter",
         "x": [
          "03-10-2021",
          "04-10-2021",
          "05-10-2021",
          "06-10-2021",
          "07-10-2021",
          "08-10-2021",
          "09-10-2021",
          "10-10-2021",
          "11-10-2021",
          "12-10-2021",
          "13-10-2021",
          "14-10-2021",
          "15-10-2021",
          "16-10-2021",
          "17-10-2021",
          "18-10-2021",
          "19-10-2021",
          "20-10-2021",
          "21-10-2021",
          "22-10-2021",
          "23-10-2021",
          "24-10-2021",
          "25-10-2021",
          "26-10-2021",
          "27-10-2021",
          "28-10-2021",
          "29-10-2021",
          "30-10-2021",
          "31-10-2021",
          "01-11-2021",
          "02-11-2021",
          "03-11-2021",
          "04-11-2021",
          "05-11-2021",
          "06-11-2021",
          "07-11-2021",
          "08-11-2021",
          "09-11-2021",
          "10-11-2021",
          "11-11-2021",
          "12-11-2021",
          "13-11-2021",
          "14-11-2021",
          "15-11-2021",
          "16-11-2021",
          "17-11-2021",
          "18-11-2021",
          "19-11-2021",
          "20-11-2021",
          "21-11-2021",
          "22-11-2021",
          "23-11-2021",
          "24-11-2021",
          "25-11-2021",
          "26-11-2021",
          "27-11-2021",
          "28-11-2021",
          "29-11-2021",
          "30-11-2021",
          "01-12-2021",
          "02-12-2021"
         ],
         "xaxis": "x",
         "y": [
          null,
          0.020240286782506445,
          0.048898711794984395,
          0.07250018263191826,
          -0.027436787692232234,
          0.0021586854317416915,
          0.020635132735442374,
          -0.00750271722909801,
          0.05228556947593477,
          -0.021494205771029118,
          0.02046595711684307,
          -0.0006184613157378394,
          0.07582955192454643,
          -0.010409294001069824,
          0.006836171865272744,
          0.007050530590506421,
          0.04030566826685744,
          0.026657341490993636,
          -0.055805693722625116,
          -0.024173164798613422,
          0.008895231650529967,
          -0.006479781938479978,
          0.0335939359750157,
          -0.04150085506325352,
          -0.03239359274954279,
          0.036263950553575564,
          0.024941635097122328,
          -0.007159893306932563,
          -0.005908873677866078,
          -0.005694267482849735,
          0.03477280896937862,
          -0.0018382883841414621,
          -0.024222650933138135,
          -0.005752412339716018,
          0.006759043213572458,
          0.02419459385310141,
          0.07068182162969716,
          -0.006975176376694314,
          -0.03104190765803294,
          -0.0008516500063071586,
          -0.008823806160427772,
          0.0035430723157328092,
          0.01528978210577936,
          -0.026125956659382443,
          -0.054513746999305224,
          0.00256570790691657,
          -0.05967187089751369,
          0.025829133879631705,
          0.027774150344410886,
          -0.01569718182259261,
          -0.04654942003356488,
          0.024153435687739977,
          -0.00953455989697094,
          0.029715333991548354,
          -0.08608216391045309,
          0.013108674531043807,
          0.04958900530936705,
          0.010676753520305171,
          -0.01447728295138373,
          0.002772986648486908,
          -0.00956323909420087
         ],
         "yaxis": "y"
        },
        {
         "hovertemplate": "coin=binancecoin<br>dates=%{x}<br>Percent Change=%{y}<extra></extra>",
         "legendgroup": "binancecoin",
         "line": {
          "color": "#00cc96",
          "dash": "solid"
         },
         "marker": {
          "symbol": "circle"
         },
         "mode": "lines",
         "name": "binancecoin",
         "orientation": "v",
         "showlegend": true,
         "type": "scatter",
         "x": [
          "03-10-2021",
          "04-10-2021",
          "05-10-2021",
          "06-10-2021",
          "07-10-2021",
          "08-10-2021",
          "09-10-2021",
          "10-10-2021",
          "11-10-2021",
          "12-10-2021",
          "13-10-2021",
          "14-10-2021",
          "15-10-2021",
          "16-10-2021",
          "17-10-2021",
          "18-10-2021",
          "19-10-2021",
          "20-10-2021",
          "21-10-2021",
          "22-10-2021",
          "23-10-2021",
          "24-10-2021",
          "25-10-2021",
          "26-10-2021",
          "27-10-2021",
          "28-10-2021",
          "29-10-2021",
          "30-10-2021",
          "31-10-2021",
          "01-11-2021",
          "02-11-2021",
          "03-11-2021",
          "04-11-2021",
          "05-11-2021",
          "06-11-2021",
          "07-11-2021",
          "08-11-2021",
          "09-11-2021",
          "10-11-2021",
          "11-11-2021",
          "12-11-2021",
          "13-11-2021",
          "14-11-2021",
          "15-11-2021",
          "16-11-2021",
          "17-11-2021",
          "18-11-2021",
          "19-11-2021",
          "20-11-2021",
          "21-11-2021",
          "22-11-2021",
          "23-11-2021",
          "24-11-2021",
          "25-11-2021",
          "26-11-2021",
          "27-11-2021",
          "28-11-2021",
          "29-11-2021",
          "30-11-2021",
          "01-12-2021",
          "02-12-2021"
         ],
         "xaxis": "x",
         "y": [
          null,
          -0.009046617683960423,
          0.03716463575647522,
          -0.01843208899765214,
          0.010730642418284253,
          -0.04913321191447151,
          0.009550540049079848,
          -0.04258140011946965,
          0.02120626094176825,
          0.06651219302657307,
          0.06631922640221388,
          0.004827584548011021,
          0.008946672169542147,
          -0.01732241451858263,
          0.0059635286045853775,
          0.030512057471172804,
          0.007450136103117844,
          0.029773818269849706,
          -0.060481143758885136,
          0.01789601061747792,
          0.007655211237343362,
          -0.014160363026410216,
          0.01920979589184002,
          -0.01787434597507187,
          -0.0576628859508751,
          0.09062303278775241,
          0.07641475201635184,
          -0.004429201783101688,
          -0.004249010499615347,
          0.05066397073616291,
          0.00735402660972162,
          0.025342368238060464,
          -0.014648181086392764,
          0.08254283732609924,
          0.0471951532738315,
          0.022704708772738114,
          0.0062298517580223756,
          -0.026919937466435284,
          -0.04001292487034769,
          0.029878762725476182,
          -0.0009787255332730505,
          0.03678088799860668,
          0.0036664982895260323,
          -0.028900790495080098,
          -0.06977580307514886,
          -0.019169383765316406,
          -0.08457788901824637,
          0.10045180280469612,
          0.03634482935460914,
          -0.02522506403069802,
          -0.05127498267034358,
          0.05981876696791,
          -0.0034926870104273755,
          0.07905538004574408,
          -0.08242760188237486,
          0.021347377305803272,
          0.022376048056987674,
          0.020232170390312332,
          0.0003666586813901862,
          0.00557958204400677,
          -0.01395088775009179
         ],
         "yaxis": "y"
        },
        {
         "hovertemplate": "coin=solana<br>dates=%{x}<br>Percent Change=%{y}<extra></extra>",
         "legendgroup": "solana",
         "line": {
          "color": "#ab63fa",
          "dash": "solid"
         },
         "marker": {
          "symbol": "circle"
         },
         "mode": "lines",
         "name": "solana",
         "orientation": "v",
         "showlegend": true,
         "type": "scatter",
         "x": [
          "03-10-2021",
          "04-10-2021",
          "05-10-2021",
          "06-10-2021",
          "07-10-2021",
          "08-10-2021",
          "09-10-2021",
          "10-10-2021",
          "11-10-2021",
          "12-10-2021",
          "13-10-2021",
          "14-10-2021",
          "15-10-2021",
          "16-10-2021",
          "17-10-2021",
          "18-10-2021",
          "19-10-2021",
          "20-10-2021",
          "21-10-2021",
          "22-10-2021",
          "23-10-2021",
          "24-10-2021",
          "25-10-2021",
          "26-10-2021",
          "27-10-2021",
          "28-10-2021",
          "29-10-2021",
          "30-10-2021",
          "31-10-2021",
          "01-11-2021",
          "02-11-2021",
          "03-11-2021",
          "04-11-2021",
          "05-11-2021",
          "06-11-2021",
          "07-11-2021",
          "08-11-2021",
          "09-11-2021",
          "10-11-2021",
          "11-11-2021",
          "12-11-2021",
          "13-11-2021",
          "14-11-2021",
          "15-11-2021",
          "16-11-2021",
          "17-11-2021",
          "18-11-2021",
          "19-11-2021",
          "20-11-2021",
          "21-11-2021",
          "22-11-2021",
          "23-11-2021",
          "24-11-2021",
          "25-11-2021",
          "26-11-2021",
          "27-11-2021",
          "28-11-2021",
          "29-11-2021",
          "30-11-2021",
          "01-12-2021",
          "02-12-2021"
         ],
         "xaxis": "x",
         "y": [
          null,
          -0.02879833035616386,
          -0.02089991092332344,
          -0.06250956995597079,
          0.0010724673796662643,
          0.030174572054407323,
          -0.009937347058472046,
          -0.06126496204979015,
          -0.019209454765635736,
          0.049300872103524185,
          -0.023741550161256675,
          0.011451484223634845,
          0.08588643154511622,
          -0.02888949027449761,
          0.010044556569996033,
          -0.015564323673242897,
          -0.006256662172017369,
          0.1228415629604136,
          0.07663560757393695,
          0.04641178671006041,
          0.0023911602757475947,
          0.02449907402279372,
          0.03950238053169963,
          -0.05417228182190015,
          -0.08113819814587198,
          0.06289275997072008,
          0.024083053789235143,
          -0.03226815773653047,
          0.046827836730590766,
          0.007029746682922111,
          0.08262232490163668,
          0.09694974332297934,
          0.02898928174358839,
          -0.04486185973654966,
          0.08974797254444189,
          -0.034233838050523824,
          -0.006160189489501144,
          -0.03778626142701591,
          -0.026508836370020106,
          0.007682818265537739,
          -0.023272052618210082,
          0.0520327733898156,
          -0.0075427494057579425,
          -0.003130687781798258,
          -0.07818153830538965,
          -0.004507482586563638,
          -0.10965969684775811,
          0.10640043338061722,
          0.011557236406974702,
          0.06463511538997402,
          -0.06901591686329822,
          0.02633631026841088,
          -0.07451437514531045,
          0.020644743239321306,
          -0.08410574738537002,
          -0.00005842572876901819,
          0.04332978208850391,
          0.019400260634672595,
          0.02131224269067955,
          0.09938945557819956,
          0.02143803743950068
         ],
         "yaxis": "y"
        },
        {
         "hovertemplate": "coin=polkadot<br>dates=%{x}<br>Percent Change=%{y}<extra></extra>",
         "legendgroup": "polkadot",
         "line": {
          "color": "#FFA15A",
          "dash": "solid"
         },
         "marker": {
          "symbol": "circle"
         },
         "mode": "lines",
         "name": "polkadot",
         "orientation": "v",
         "showlegend": true,
         "type": "scatter",
         "x": [
          "03-10-2021",
          "04-10-2021",
          "05-10-2021",
          "06-10-2021",
          "07-10-2021",
          "08-10-2021",
          "09-10-2021",
          "10-10-2021",
          "11-10-2021",
          "12-10-2021",
          "13-10-2021",
          "14-10-2021",
          "15-10-2021",
          "16-10-2021",
          "17-10-2021",
          "18-10-2021",
          "19-10-2021",
          "20-10-2021",
          "21-10-2021",
          "22-10-2021",
          "23-10-2021",
          "24-10-2021",
          "25-10-2021",
          "26-10-2021",
          "27-10-2021",
          "28-10-2021",
          "29-10-2021",
          "30-10-2021",
          "31-10-2021",
          "01-11-2021",
          "02-11-2021",
          "03-11-2021",
          "04-11-2021",
          "05-11-2021",
          "06-11-2021",
          "07-11-2021",
          "08-11-2021",
          "09-11-2021",
          "10-11-2021",
          "11-11-2021",
          "12-11-2021",
          "13-11-2021",
          "14-11-2021",
          "15-11-2021",
          "16-11-2021",
          "17-11-2021",
          "18-11-2021",
          "19-11-2021",
          "20-11-2021",
          "21-11-2021",
          "22-11-2021",
          "23-11-2021",
          "24-11-2021",
          "25-11-2021",
          "26-11-2021",
          "27-11-2021",
          "28-11-2021",
          "29-11-2021",
          "30-11-2021",
          "01-12-2021",
          "02-12-2021"
         ],
         "xaxis": "x",
         "y": [
          null,
          -0.03152874576815656,
          0.011409514675532195,
          0.029949899465123275,
          0.041426032474574326,
          -0.013638637370694373,
          0.09001047883154123,
          -0.05582911118846423,
          -0.006673896233555854,
          0.029803079742317884,
          0.1877950522834444,
          -0.02413785913701727,
          0.07038300138505416,
          -0.037129257182031195,
          0.0038518558702529404,
          -0.02346127943031895,
          0.00677434062033333,
          0.07563960167738082,
          -0.03481962057488375,
          0.017829364211111365,
          0.00817444008214152,
          -0.03632274037192085,
          0.04867218867213219,
          0.015909369781927696,
          -0.10627550027755284,
          0.03915324619772753,
          0.04873211321739479,
          -0.03144735574584445,
          0.0018887284879274269,
          0.1699277497597751,
          0.023668152840498724,
          0.040131324168282356,
          0.015124864867879895,
          -0.039748808866136076,
          0.0016725817218146144,
          0.006118971094295489,
          0.01902213925412899,
          -0.04539219995260735,
          -0.07794751252443222,
          0.017689871348254504,
          -0.035804969744280046,
          0.025151022698995495,
          -0.014463856766184002,
          -0.0355065669835718,
          -0.0835376343977351,
          0.0364942735252447,
          -0.08808384447200279,
          0.06430151094925951,
          0.018237967296197644,
          0.009388641005086518,
          -0.07328483169171685,
          0.03632730579748311,
          -0.06249213608957327,
          0.027625870064346802,
          -0.1215831540152501,
          0.009940366653685917,
          0.01983014134653205,
          0.04331205640358382,
          0.021919938450810195,
          -0.03432241382947476,
          -0.02430486870945414
         ],
         "yaxis": "y"
        },
        {
         "hovertemplate": "coin=flow<br>dates=%{x}<br>Percent Change=%{y}<extra></extra>",
         "legendgroup": "flow",
         "line": {
          "color": "#19d3f3",
          "dash": "solid"
         },
         "marker": {
          "symbol": "circle"
         },
         "mode": "lines",
         "name": "flow",
         "orientation": "v",
         "showlegend": true,
         "type": "scatter",
         "x": [
          "03-10-2021",
          "04-10-2021",
          "05-10-2021",
          "06-10-2021",
          "07-10-2021",
          "08-10-2021",
          "09-10-2021",
          "10-10-2021",
          "11-10-2021",
          "12-10-2021",
          "13-10-2021",
          "14-10-2021",
          "15-10-2021",
          "16-10-2021",
          "17-10-2021",
          "18-10-2021",
          "19-10-2021",
          "20-10-2021",
          "21-10-2021",
          "22-10-2021",
          "23-10-2021",
          "24-10-2021",
          "25-10-2021",
          "26-10-2021",
          "27-10-2021",
          "28-10-2021",
          "29-10-2021",
          "30-10-2021",
          "31-10-2021",
          "01-11-2021",
          "02-11-2021",
          "03-11-2021",
          "04-11-2021",
          "05-11-2021",
          "06-11-2021",
          "07-11-2021",
          "08-11-2021",
          "09-11-2021",
          "10-11-2021",
          "11-11-2021",
          "12-11-2021",
          "13-11-2021",
          "14-11-2021",
          "15-11-2021",
          "16-11-2021",
          "17-11-2021",
          "18-11-2021",
          "19-11-2021",
          "20-11-2021",
          "21-11-2021",
          "22-11-2021",
          "23-11-2021",
          "24-11-2021",
          "25-11-2021",
          "26-11-2021",
          "27-11-2021",
          "28-11-2021",
          "29-11-2021",
          "30-11-2021",
          "01-12-2021",
          "02-12-2021"
         ],
         "xaxis": "x",
         "y": [
          null,
          0.07897207475805779,
          -0.003745267140726538,
          -0.06642011678940163,
          0.013594745163510558,
          -0.03058862565582854,
          0.05805407394684736,
          -0.03929163449228246,
          -0.018156704182662464,
          -0.04767720713765977,
          0.04162605097624428,
          0.0015852283934283395,
          -0.05705566582340249,
          -0.056695192324942134,
          -0.0710741136699935,
          -0.040862794106439004,
          -0.09728564768865444,
          0.057186264882186366,
          0.026771754022966165,
          -0.05575732601200867,
          -0.022324041738828626,
          -0.01485091913553771,
          0.020975408243987248,
          -0.025261725669839308,
          -0.09568062945472355,
          0.07460076835489149,
          0.0718490161072387,
          0.08501131299461329,
          -0.05542123352901307,
          0.006298701098085502,
          0.019568681184564785,
          -0.025402637430075425,
          -0.007610875290851249,
          0.0021815227939012694,
          -0.006269050493837636,
          -0.0005950670953478454,
          0.009386293347403818,
          -0.020292120179128292,
          -0.05728500119172697,
          0.021857779470519034,
          -0.022946966647934275,
          0.02577586649086827,
          -0.012405733209324143,
          0.019787012926830716,
          -0.047722600278766625,
          -0.006078604234690088,
          -0.07017417904272305,
          0.057870656735796056,
          0.04576547370621564,
          0.08360292204798148,
          -0.039669017032559095,
          -0.02047866856864977,
          -0.014027146518017397,
          0.016303926474093622,
          -0.11583541115822926,
          0.010114987521460561,
          0.0378813724833007,
          0.043522877147433636,
          -0.029862372815743665,
          -0.010232883080315114,
          -0.018977306815808448
         ],
         "yaxis": "y"
        },
        {
         "hovertemplate": "coin=dogecoin<br>dates=%{x}<br>Percent Change=%{y}<extra></extra>",
         "legendgroup": "dogecoin",
         "line": {
          "color": "#FF6692",
          "dash": "solid"
         },
         "marker": {
          "symbol": "circle"
         },
         "mode": "lines",
         "name": "dogecoin",
         "orientation": "v",
         "showlegend": true,
         "type": "scatter",
         "x": [
          "03-10-2021",
          "04-10-2021",
          "05-10-2021",
          "06-10-2021",
          "07-10-2021",
          "08-10-2021",
          "09-10-2021",
          "10-10-2021",
          "11-10-2021",
          "12-10-2021",
          "13-10-2021",
          "14-10-2021",
          "15-10-2021",
          "16-10-2021",
          "17-10-2021",
          "18-10-2021",
          "19-10-2021",
          "20-10-2021",
          "21-10-2021",
          "22-10-2021",
          "23-10-2021",
          "24-10-2021",
          "25-10-2021",
          "26-10-2021",
          "27-10-2021",
          "28-10-2021",
          "29-10-2021",
          "30-10-2021",
          "31-10-2021",
          "01-11-2021",
          "02-11-2021",
          "03-11-2021",
          "04-11-2021",
          "05-11-2021",
          "06-11-2021",
          "07-11-2021",
          "08-11-2021",
          "09-11-2021",
          "10-11-2021",
          "11-11-2021",
          "12-11-2021",
          "13-11-2021",
          "14-11-2021",
          "15-11-2021",
          "16-11-2021",
          "17-11-2021",
          "18-11-2021",
          "19-11-2021",
          "20-11-2021",
          "21-11-2021",
          "22-11-2021",
          "23-11-2021",
          "24-11-2021",
          "25-11-2021",
          "26-11-2021",
          "27-11-2021",
          "28-11-2021",
          "29-11-2021",
          "30-11-2021",
          "01-12-2021",
          "02-12-2021"
         ],
         "xaxis": "x",
         "y": [
          null,
          0.09471353063910981,
          0.03484442461761694,
          0.003403276153943091,
          -0.03607859868515195,
          -0.0019352328923213369,
          0.01726823964844071,
          -0.07228022951219526,
          0.011612702803672992,
          -0.024184067073102722,
          0.028324890622668297,
          0.0009394341102715309,
          0.00882724849366645,
          0.014976551567025265,
          -0.0026068393081116747,
          0.034403772200343186,
          0.0017318993529422677,
          0.03232224027448405,
          -0.043183167137072376,
          0.011907686293391118,
          0.020588640969875227,
          0.10654664773765554,
          -0.04773783472774806,
          -0.031055345504592213,
          -0.06859820217609847,
          0.2525957228644582,
          -0.03593341208945966,
          -0.07103529269322306,
          0.04274802564767066,
          -0.027470327302432485,
          0.00660833261406113,
          -0.0153049532036994,
          -0.022540949347896855,
          -0.006835787458183473,
          0.0026951591732977676,
          0.015534379625022465,
          0.05881956733876592,
          -0.028730856660315607,
          -0.06721385953037273,
          0.022155863055168146,
          -0.007843079978504863,
          0.011898332979928483,
          0.007743011598400518,
          -0.02446975569946208,
          -0.07447902440648846,
          0.00038426927495649466,
          -0.0719743045236495,
          0.056745587315814916,
          0.001713715666159521,
          -0.025535492500830204,
          -0.03693505200163116,
          0.028757314332387818,
          -0.03652780216969953,
          0.015243066402257144,
          -0.08657226633283333,
          0.009682278729236327,
          0.015419132701803395,
          0.0371353797145928,
          -0.0011994912323954887,
          -0.02556501685807777,
          -0.0024331333167066926
         ],
         "yaxis": "y"
        },
        {
         "hovertemplate": "coin=audius<br>dates=%{x}<br>Percent Change=%{y}<extra></extra>",
         "legendgroup": "audius",
         "line": {
          "color": "#B6E880",
          "dash": "solid"
         },
         "marker": {
          "symbol": "circle"
         },
         "mode": "lines",
         "name": "audius",
         "orientation": "v",
         "showlegend": true,
         "type": "scatter",
         "x": [
          "03-10-2021",
          "04-10-2021",
          "05-10-2021",
          "06-10-2021",
          "07-10-2021",
          "08-10-2021",
          "09-10-2021",
          "10-10-2021",
          "11-10-2021",
          "12-10-2021",
          "13-10-2021",
          "14-10-2021",
          "15-10-2021",
          "16-10-2021",
          "17-10-2021",
          "18-10-2021",
          "19-10-2021",
          "20-10-2021",
          "21-10-2021",
          "22-10-2021",
          "23-10-2021",
          "24-10-2021",
          "25-10-2021",
          "26-10-2021",
          "27-10-2021",
          "28-10-2021",
          "29-10-2021",
          "30-10-2021",
          "31-10-2021",
          "01-11-2021",
          "02-11-2021",
          "03-11-2021",
          "04-11-2021",
          "05-11-2021",
          "06-11-2021",
          "07-11-2021",
          "08-11-2021",
          "09-11-2021",
          "10-11-2021",
          "11-11-2021",
          "12-11-2021",
          "13-11-2021",
          "14-11-2021",
          "15-11-2021",
          "16-11-2021",
          "17-11-2021",
          "18-11-2021",
          "19-11-2021",
          "20-11-2021",
          "21-11-2021",
          "22-11-2021",
          "23-11-2021",
          "24-11-2021",
          "25-11-2021",
          "26-11-2021",
          "27-11-2021",
          "28-11-2021",
          "29-11-2021",
          "30-11-2021",
          "01-12-2021",
          "02-12-2021"
         ],
         "xaxis": "x",
         "y": [
          null,
          -0.055566523154019776,
          -0.017045495673267297,
          -0.025510064182122538,
          -0.018959792580199752,
          -0.007181026015202763,
          0.008749039752503851,
          -0.06815729435161089,
          0.02388399613611436,
          -0.03094823063786445,
          0.02660129283061874,
          0.011106876567503088,
          0.012727285512431408,
          -0.005659714032912433,
          -0.03642186997948593,
          -0.014283672741159603,
          0.007337458559434129,
          0.039571777733498514,
          -0.03072898933813284,
          0.04394643738045567,
          0.04268228208916769,
          0.032846040073676086,
          0.0832308298440616,
          -0.07121585328275248,
          -0.13301759725105966,
          0.02308901905218108,
          0.035282820346724586,
          0.12882412946978028,
          -0.03958438804424036,
          0.0396020708893452,
          0.1101500895378964,
          0.029345552613735837,
          -0.000641074457434998,
          -0.01584528387150419,
          -0.020800342352335743,
          0.021149565892372824,
          0.032228722436869806,
          -0.021408883708921467,
          -0.10668590150905077,
          0.008922027094646845,
          -0.03539993073176495,
          0.049935496248216804,
          0.06858145971940344,
          -0.06027800157801855,
          -0.09716945050693893,
          0.04987166443030633,
          -0.06425581727299745,
          0.031372485580118514,
          0.03078436206432289,
          -0.00808207432593444,
          -0.07468447628825281,
          0.34282698583580884,
          -0.06873994175696274,
          -0.0623407346621947,
          -0.1053880961216136,
          0.10586275063512884,
          0.005855298133141895,
          -0.007826846168158208,
          -0.042060012849718276,
          0.02327377482356252,
          -0.034195337852072294
         ],
         "yaxis": "y"
        },
        {
         "hovertemplate": "coin=rainbowtoken<br>dates=%{x}<br>Percent Change=%{y}<extra></extra>",
         "legendgroup": "rainbowtoken",
         "line": {
          "color": "#FF97FF",
          "dash": "solid"
         },
         "marker": {
          "symbol": "circle"
         },
         "mode": "lines",
         "name": "rainbowtoken",
         "orientation": "v",
         "showlegend": true,
         "type": "scatter",
         "x": [
          "03-10-2021",
          "04-10-2021",
          "05-10-2021",
          "06-10-2021",
          "07-10-2021",
          "08-10-2021",
          "09-10-2021",
          "10-10-2021",
          "11-10-2021",
          "12-10-2021",
          "13-10-2021",
          "14-10-2021",
          "15-10-2021",
          "16-10-2021",
          "17-10-2021",
          "18-10-2021",
          "19-10-2021",
          "20-10-2021",
          "21-10-2021",
          "22-10-2021",
          "23-10-2021",
          "24-10-2021",
          "25-10-2021",
          "26-10-2021",
          "27-10-2021",
          "28-10-2021",
          "29-10-2021",
          "30-10-2021",
          "31-10-2021",
          "01-11-2021",
          "02-11-2021",
          "03-11-2021",
          "04-11-2021",
          "05-11-2021",
          "06-11-2021",
          "07-11-2021",
          "08-11-2021",
          "09-11-2021",
          "10-11-2021",
          "11-11-2021",
          "12-11-2021",
          "13-11-2021",
          "14-11-2021",
          "15-11-2021",
          "16-11-2021",
          "17-11-2021",
          "18-11-2021",
          "19-11-2021",
          "20-11-2021",
          "21-11-2021",
          "22-11-2021",
          "23-11-2021",
          "24-11-2021",
          "25-11-2021",
          "26-11-2021",
          "27-11-2021",
          "28-11-2021",
          "29-11-2021",
          "30-11-2021",
          "01-12-2021",
          "02-12-2021"
         ],
         "xaxis": "x",
         "y": [
          null,
          -0.07425076042567558,
          0.29867078976213035,
          -0.25133854967013036,
          -0.2051813097954136,
          -0.06340117299908143,
          0.0016173168534683313,
          -0.1413053360018628,
          -0.02862226967516257,
          0.15297557831337127,
          0.8188285861395346,
          0.09681166007584885,
          -0.12086325978326395,
          -0.14784295841255413,
          0.08359043113458053,
          0.27673224852076705,
          0.05297161570094233,
          0.5225100509554186,
          -0.09337047663927733,
          0.06748249704170384,
          -0.09344695826237814,
          -0.08155341607042921,
          0.14400605868670624,
          0.11549020957658196,
          0.01098129508584278,
          0.07289096015255847,
          0.04980025456372883,
          0.498264836251064,
          0.3343884710311895,
          0.253768029212067,
          -0.07515022597595422,
          -0.13534444065685436,
          -0.15246565239563992,
          0.2384110766140981,
          0.009340987641852427,
          -0.14665605659136816,
          -0.17593052430902845,
          -0.03799183060963318,
          -0.008878267009691077,
          -0.020680978333527333,
          0.18511775027383215,
          0.045413413345980036,
          -0.0452297205539991,
          -0.06208673982288382,
          -0.13809363678060171,
          0.10355272127067217,
          -0.12745840137342646,
          0.07898719509416896,
          -0.006698121695981052,
          -0.06973430148503168,
          -0.03193085380163385,
          -0.0075215897492793005,
          -0.029946037044001894,
          0.08992289590745073,
          -0.13907174156458546,
          0.048347840713562684,
          0.11513656074757161,
          0.15451307537844827,
          -0.034382428277552446,
          0.030817208018116604,
          0.33595674664685027
         ],
         "yaxis": "y"
        },
        {
         "hovertemplate": "coin=urus-token<br>dates=%{x}<br>Percent Change=%{y}<extra></extra>",
         "legendgroup": "urus-token",
         "line": {
          "color": "#FECB52",
          "dash": "solid"
         },
         "marker": {
          "symbol": "circle"
         },
         "mode": "lines",
         "name": "urus-token",
         "orientation": "v",
         "showlegend": true,
         "type": "scatter",
         "x": [
          "03-10-2021",
          "04-10-2021",
          "05-10-2021",
          "06-10-2021",
          "07-10-2021",
          "08-10-2021",
          "09-10-2021",
          "10-10-2021",
          "11-10-2021",
          "12-10-2021",
          "13-10-2021",
          "14-10-2021",
          "15-10-2021",
          "16-10-2021",
          "17-10-2021",
          "18-10-2021",
          "19-10-2021",
          "20-10-2021",
          "21-10-2021",
          "22-10-2021",
          "23-10-2021",
          "24-10-2021",
          "25-10-2021",
          "26-10-2021",
          "27-10-2021",
          "28-10-2021",
          "29-10-2021",
          "30-10-2021",
          "31-10-2021",
          "01-11-2021",
          "02-11-2021",
          "03-11-2021",
          "04-11-2021",
          "05-11-2021",
          "06-11-2021",
          "07-11-2021",
          "08-11-2021",
          "09-11-2021",
          "10-11-2021",
          "11-11-2021",
          "12-11-2021",
          "13-11-2021",
          "14-11-2021",
          "15-11-2021",
          "16-11-2021",
          "17-11-2021",
          "18-11-2021",
          "19-11-2021",
          "20-11-2021",
          "21-11-2021",
          "22-11-2021",
          "23-11-2021",
          "24-11-2021",
          "25-11-2021",
          "26-11-2021",
          "27-11-2021",
          "28-11-2021",
          "29-11-2021",
          "30-11-2021",
          "01-12-2021",
          "02-12-2021"
         ],
         "xaxis": "x",
         "y": [
          null,
          -0.012346966694648964,
          0.019706409470695352,
          0.05164041949487075,
          -0.008170331170252787,
          -0.035833900178142475,
          0.007977374360872869,
          -0.13573344924169228,
          0.04999910976654354,
          0.0016704953529331767,
          0.07562916087037475,
          0.09018744625011355,
          0.017190388170603477,
          0.04233231246194369,
          -0.02302625937597913,
          -0.001825802706303059,
          -0.0345743016124741,
          0.2925953091960305,
          -0.0520200704247894,
          0.08641502084175712,
          0.01755264857566563,
          -0.026239920567251218,
          0.13849765681099702,
          0.18138122862111272,
          -0.04758200089860731,
          0.06975016066715534,
          0.0057878821878933895,
          -0.12736589003371468,
          -0.008245589057780167,
          0.040855271199400356,
          0.09526343601232323,
          0.07094473123342127,
          0.03755208537415555,
          0.041074489987222185,
          0.0012439684464988776,
          0.02973639019272989,
          0.09341129357267675,
          0.16762880736532737,
          0.01301642676068937,
          0.022985283339698626,
          -0.032519661090128604,
          -0.026223730261428768,
          -0.13499788061990925,
          0.0237772378645984,
          -0.06848733398194562,
          0.01948773837197404,
          -0.12233173462640301,
          0.14733778880715676,
          -0.013424945074077876,
          -0.0360180940434951,
          -0.06629970465210655,
          0.09729033371013118,
          -0.06606490529162912,
          0.013449189848721899,
          -0.14474019199620336,
          0.011876955852766269,
          0.052792188571358034,
          0.010000560606957087,
          0.05833634943874544,
          -0.007813582974935063,
          0.08375790086800161
         ],
         "yaxis": "y"
        },
        {
         "hovertemplate": "coin=hoge-finance<br>dates=%{x}<br>Percent Change=%{y}<extra></extra>",
         "legendgroup": "hoge-finance",
         "line": {
          "color": "#636efa",
          "dash": "solid"
         },
         "marker": {
          "symbol": "circle"
         },
         "mode": "lines",
         "name": "hoge-finance",
         "orientation": "v",
         "showlegend": true,
         "type": "scatter",
         "x": [
          "03-10-2021",
          "04-10-2021",
          "05-10-2021",
          "06-10-2021",
          "07-10-2021",
          "08-10-2021",
          "09-10-2021",
          "10-10-2021",
          "11-10-2021",
          "12-10-2021",
          "13-10-2021",
          "14-10-2021",
          "15-10-2021",
          "16-10-2021",
          "17-10-2021",
          "18-10-2021",
          "19-10-2021",
          "20-10-2021",
          "21-10-2021",
          "22-10-2021",
          "23-10-2021",
          "24-10-2021",
          "25-10-2021",
          "26-10-2021",
          "27-10-2021",
          "28-10-2021",
          "29-10-2021",
          "30-10-2021",
          "31-10-2021",
          "01-11-2021",
          "02-11-2021",
          "03-11-2021",
          "04-11-2021",
          "05-11-2021",
          "06-11-2021",
          "07-11-2021",
          "08-11-2021",
          "09-11-2021",
          "10-11-2021",
          "11-11-2021",
          "12-11-2021",
          "13-11-2021",
          "14-11-2021",
          "15-11-2021",
          "16-11-2021",
          "17-11-2021",
          "18-11-2021",
          "19-11-2021",
          "20-11-2021",
          "21-11-2021",
          "22-11-2021",
          "23-11-2021",
          "24-11-2021",
          "25-11-2021",
          "26-11-2021",
          "27-11-2021",
          "28-11-2021",
          "29-11-2021",
          "30-11-2021",
          "01-12-2021",
          "02-12-2021"
         ],
         "xaxis": "x",
         "y": [
          null,
          -0.05068531984492919,
          0.33591917762432977,
          0.06603514348166617,
          -0.10261128710273615,
          -0.0486028206786856,
          0.08443697219463253,
          -0.1425024631407581,
          0.08887942569033691,
          -0.07773468087434621,
          0.19863927706645867,
          0.2660303228038936,
          0.09694421926251584,
          0.049151795689574396,
          0.09881329322606414,
          0.0845505705658196,
          -0.02780820359343128,
          -0.0541018497615835,
          -0.029539456131221553,
          -0.058515686154025026,
          0.15393123281379006,
          -0.015666015886736995,
          0.5675278904087309,
          0.12309804457268014,
          0.16404289255529325,
          0.5582989825091842,
          0.0584246786415521,
          -0.1511193851742153,
          0.335400917937853,
          -0.10648691218030626,
          -0.06998370300970347,
          -0.08702729199253922,
          -0.10771275321413909,
          -0.042117798670247564,
          0.09096326179402192,
          0.007799313260511642,
          -0.021476924819825438,
          -0.102674848238406,
          -0.19481387644152903,
          0.12818351664061,
          -0.02339435927555311,
          -0.09766801248260293,
          -0.006325677130306628,
          0.08755435943306478,
          -0.10246389337867445,
          0.05118893577690464,
          -0.0950639229235214,
          0.07591834763190075,
          -0.05444749141430738,
          0.0005285043005192058,
          -0.10835074642941056,
          0.13361353162339906,
          -0.03539602464219249,
          -0.0018836599440350543,
          -0.15643728707139604,
          -0.0775903914991789,
          -0.006139250334351143,
          0.3725541202923788,
          0.040964626452296926,
          -0.03588654679379166,
          0.03902519746422595
         ],
         "yaxis": "y"
        },
        {
         "hovertemplate": "coin=lcx<br>dates=%{x}<br>Percent Change=%{y}<extra></extra>",
         "legendgroup": "lcx",
         "line": {
          "color": "#EF553B",
          "dash": "solid"
         },
         "marker": {
          "symbol": "circle"
         },
         "mode": "lines",
         "name": "lcx",
         "orientation": "v",
         "showlegend": true,
         "type": "scatter",
         "x": [
          "03-10-2021",
          "04-10-2021",
          "05-10-2021",
          "06-10-2021",
          "07-10-2021",
          "08-10-2021",
          "09-10-2021",
          "10-10-2021",
          "11-10-2021",
          "12-10-2021",
          "13-10-2021",
          "14-10-2021",
          "15-10-2021",
          "16-10-2021",
          "17-10-2021",
          "18-10-2021",
          "19-10-2021",
          "20-10-2021",
          "21-10-2021",
          "22-10-2021",
          "23-10-2021",
          "24-10-2021",
          "25-10-2021",
          "26-10-2021",
          "27-10-2021",
          "28-10-2021",
          "29-10-2021",
          "30-10-2021",
          "31-10-2021",
          "01-11-2021",
          "02-11-2021",
          "03-11-2021",
          "04-11-2021",
          "05-11-2021",
          "06-11-2021",
          "07-11-2021",
          "08-11-2021",
          "09-11-2021",
          "10-11-2021",
          "11-11-2021",
          "12-11-2021",
          "13-11-2021",
          "14-11-2021",
          "15-11-2021",
          "16-11-2021",
          "17-11-2021",
          "18-11-2021",
          "19-11-2021",
          "20-11-2021",
          "21-11-2021",
          "22-11-2021",
          "23-11-2021",
          "24-11-2021",
          "25-11-2021",
          "26-11-2021",
          "27-11-2021",
          "28-11-2021",
          "29-11-2021",
          "30-11-2021",
          "01-12-2021",
          "02-12-2021"
         ],
         "xaxis": "x",
         "y": [
          null,
          0.06490268212952421,
          0.03462720394960761,
          0.029003977703452755,
          -0.18454925557603563,
          -0.084396181913315,
          0.21153657852112429,
          -0.22259860635742879,
          -0.046989973120911466,
          0.03341292989293909,
          0.09344388058847364,
          -0.0084288739291698,
          -0.01700888381124399,
          -0.05973204107343255,
          0.0064415448042740575,
          0.027579501320443622,
          0.3340288492656136,
          -0.015823733065841505,
          0.2582129087763385,
          0.18722942090401906,
          0.008709052626207026,
          -0.11151620204062496,
          0.20418392670109342,
          0.03396584781247536,
          0.04986145156925614,
          -0.08667660556727785,
          -0.006884561042388104,
          -0.025521548167436015,
          -0.057364784002293834,
          0.13035261042086121,
          0.5497968918022265,
          -0.10206938867990245,
          0.1248429018211279,
          -0.1984244349166917,
          0.25701908688498976,
          -0.08591509039004386,
          -0.06646170509204763,
          0.006645870719510949,
          -0.10268237433346505,
          0.07912585018966167,
          0.01379890353014046,
          -0.0324060699902432,
          -0.03555046394808459,
          -0.05303492158928813,
          -0.15264276714057767,
          -0.0793848179492802,
          -0.11273782714225378,
          0.14978768370820106,
          -0.06453158358776201,
          -0.027868345441595332,
          -0.052448511750938454,
          0.04951162180512325,
          -0.10765677907980342,
          0.10280150939923027,
          -0.030747619061703868,
          -0.012168714071456699,
          0.01983205173116409,
          -0.015383350872205437,
          -0.01638721165857171,
          0.25584337160245196,
          -0.11284723325582324
         ],
         "yaxis": "y"
        },
        {
         "hovertemplate": "coin=ufo-gaming<br>dates=%{x}<br>Percent Change=%{y}<extra></extra>",
         "legendgroup": "ufo-gaming",
         "line": {
          "color": "#00cc96",
          "dash": "solid"
         },
         "marker": {
          "symbol": "circle"
         },
         "mode": "lines",
         "name": "ufo-gaming",
         "orientation": "v",
         "showlegend": true,
         "type": "scatter",
         "x": [
          "03-10-2021",
          "04-10-2021",
          "05-10-2021",
          "06-10-2021",
          "07-10-2021",
          "08-10-2021",
          "09-10-2021",
          "10-10-2021",
          "11-10-2021",
          "12-10-2021",
          "13-10-2021",
          "14-10-2021",
          "15-10-2021",
          "16-10-2021",
          "17-10-2021",
          "18-10-2021",
          "19-10-2021",
          "20-10-2021",
          "21-10-2021",
          "22-10-2021",
          "23-10-2021",
          "24-10-2021",
          "25-10-2021",
          "26-10-2021",
          "27-10-2021",
          "28-10-2021",
          "29-10-2021",
          "30-10-2021",
          "31-10-2021",
          "01-11-2021",
          "02-11-2021",
          "03-11-2021",
          "04-11-2021",
          "05-11-2021",
          "06-11-2021",
          "07-11-2021",
          "08-11-2021",
          "09-11-2021",
          "10-11-2021",
          "11-11-2021",
          "12-11-2021",
          "13-11-2021",
          "14-11-2021",
          "15-11-2021",
          "16-11-2021",
          "17-11-2021",
          "18-11-2021",
          "19-11-2021",
          "20-11-2021",
          "21-11-2021",
          "22-11-2021",
          "23-11-2021",
          "24-11-2021",
          "25-11-2021",
          "26-11-2021",
          "27-11-2021",
          "28-11-2021",
          "29-11-2021",
          "30-11-2021",
          "01-12-2021",
          "02-12-2021"
         ],
         "xaxis": "x",
         "y": [
          null,
          0.12767188090750925,
          0.12708777324173792,
          -0.11246534796262053,
          -0.07883161222875212,
          -0.06839407378440998,
          0.07162887053712641,
          -0.05227993658944596,
          0.10874137228393077,
          0.06352857044841786,
          -0.017519159094948278,
          -0.024018145271329394,
          -0.01617159349849462,
          -0.03430187072464341,
          -0.05877157681760692,
          -0.003615656927437483,
          0.05941902065309357,
          0.19160598146696994,
          0.00685123629220552,
          0.33305391134314366,
          0.11456949854686349,
          -0.06768172916835491,
          0.19405129468035764,
          -0.13463936196820303,
          -0.07901665290180693,
          0.5515235018462263,
          0.16865548028802246,
          0.4917136505593096,
          0.017534067399418207,
          -0.055830757594830804,
          -0.163036213583865,
          -0.06541605128510775,
          -0.10740592935675708,
          0.1529549750565824,
          0.042853547072394305,
          0.2006194470370566,
          -0.001479878373986665,
          -0.14958947276028667,
          -0.13496003178775517,
          0.057967135086497645,
          -0.07068689654514582,
          0.03155044949574237,
          0.2812462365718218,
          -0.018598358461788256,
          -0.08081396024872722,
          -0.05101591961312879,
          -0.015972228741713446,
          0.2772275019452748,
          0.28638756048786673,
          0.08153999517204635,
          0.017513197936046554,
          0.08183499521099802,
          0.10541470897555083,
          0.08669211817489009,
          -0.13027731087057415,
          0.0023623194577764295,
          -0.04325727394263834,
          0.0279054643100638,
          -0.10848488625823716,
          -0.056031055718573475,
          -0.03363592911353974
         ],
         "yaxis": "y"
        }
       ],
       "layout": {
        "legend": {
         "title": {
          "text": "coin"
         },
         "tracegroupgap": 0
        },
        "margin": {
         "t": 60
        },
        "template": {
         "data": {
          "bar": [
           {
            "error_x": {
             "color": "#2a3f5f"
            },
            "error_y": {
             "color": "#2a3f5f"
            },
            "marker": {
             "line": {
              "color": "#E5ECF6",
              "width": 0.5
             },
             "pattern": {
              "fillmode": "overlay",
              "size": 10,
              "solidity": 0.2
             }
            },
            "type": "bar"
           }
          ],
          "barpolar": [
           {
            "marker": {
             "line": {
              "color": "#E5ECF6",
              "width": 0.5
             },
             "pattern": {
              "fillmode": "overlay",
              "size": 10,
              "solidity": 0.2
             }
            },
            "type": "barpolar"
           }
          ],
          "carpet": [
           {
            "aaxis": {
             "endlinecolor": "#2a3f5f",
             "gridcolor": "white",
             "linecolor": "white",
             "minorgridcolor": "white",
             "startlinecolor": "#2a3f5f"
            },
            "baxis": {
             "endlinecolor": "#2a3f5f",
             "gridcolor": "white",
             "linecolor": "white",
             "minorgridcolor": "white",
             "startlinecolor": "#2a3f5f"
            },
            "type": "carpet"
           }
          ],
          "choropleth": [
           {
            "colorbar": {
             "outlinewidth": 0,
             "ticks": ""
            },
            "type": "choropleth"
           }
          ],
          "contour": [
           {
            "colorbar": {
             "outlinewidth": 0,
             "ticks": ""
            },
            "colorscale": [
             [
              0,
              "#0d0887"
             ],
             [
              0.1111111111111111,
              "#46039f"
             ],
             [
              0.2222222222222222,
              "#7201a8"
             ],
             [
              0.3333333333333333,
              "#9c179e"
             ],
             [
              0.4444444444444444,
              "#bd3786"
             ],
             [
              0.5555555555555556,
              "#d8576b"
             ],
             [
              0.6666666666666666,
              "#ed7953"
             ],
             [
              0.7777777777777778,
              "#fb9f3a"
             ],
             [
              0.8888888888888888,
              "#fdca26"
             ],
             [
              1,
              "#f0f921"
             ]
            ],
            "type": "contour"
           }
          ],
          "contourcarpet": [
           {
            "colorbar": {
             "outlinewidth": 0,
             "ticks": ""
            },
            "type": "contourcarpet"
           }
          ],
          "heatmap": [
           {
            "colorbar": {
             "outlinewidth": 0,
             "ticks": ""
            },
            "colorscale": [
             [
              0,
              "#0d0887"
             ],
             [
              0.1111111111111111,
              "#46039f"
             ],
             [
              0.2222222222222222,
              "#7201a8"
             ],
             [
              0.3333333333333333,
              "#9c179e"
             ],
             [
              0.4444444444444444,
              "#bd3786"
             ],
             [
              0.5555555555555556,
              "#d8576b"
             ],
             [
              0.6666666666666666,
              "#ed7953"
             ],
             [
              0.7777777777777778,
              "#fb9f3a"
             ],
             [
              0.8888888888888888,
              "#fdca26"
             ],
             [
              1,
              "#f0f921"
             ]
            ],
            "type": "heatmap"
           }
          ],
          "heatmapgl": [
           {
            "colorbar": {
             "outlinewidth": 0,
             "ticks": ""
            },
            "colorscale": [
             [
              0,
              "#0d0887"
             ],
             [
              0.1111111111111111,
              "#46039f"
             ],
             [
              0.2222222222222222,
              "#7201a8"
             ],
             [
              0.3333333333333333,
              "#9c179e"
             ],
             [
              0.4444444444444444,
              "#bd3786"
             ],
             [
              0.5555555555555556,
              "#d8576b"
             ],
             [
              0.6666666666666666,
              "#ed7953"
             ],
             [
              0.7777777777777778,
              "#fb9f3a"
             ],
             [
              0.8888888888888888,
              "#fdca26"
             ],
             [
              1,
              "#f0f921"
             ]
            ],
            "type": "heatmapgl"
           }
          ],
          "histogram": [
           {
            "marker": {
             "pattern": {
              "fillmode": "overlay",
              "size": 10,
              "solidity": 0.2
             }
            },
            "type": "histogram"
           }
          ],
          "histogram2d": [
           {
            "colorbar": {
             "outlinewidth": 0,
             "ticks": ""
            },
            "colorscale": [
             [
              0,
              "#0d0887"
             ],
             [
              0.1111111111111111,
              "#46039f"
             ],
             [
              0.2222222222222222,
              "#7201a8"
             ],
             [
              0.3333333333333333,
              "#9c179e"
             ],
             [
              0.4444444444444444,
              "#bd3786"
             ],
             [
              0.5555555555555556,
              "#d8576b"
             ],
             [
              0.6666666666666666,
              "#ed7953"
             ],
             [
              0.7777777777777778,
              "#fb9f3a"
             ],
             [
              0.8888888888888888,
              "#fdca26"
             ],
             [
              1,
              "#f0f921"
             ]
            ],
            "type": "histogram2d"
           }
          ],
          "histogram2dcontour": [
           {
            "colorbar": {
             "outlinewidth": 0,
             "ticks": ""
            },
            "colorscale": [
             [
              0,
              "#0d0887"
             ],
             [
              0.1111111111111111,
              "#46039f"
             ],
             [
              0.2222222222222222,
              "#7201a8"
             ],
             [
              0.3333333333333333,
              "#9c179e"
             ],
             [
              0.4444444444444444,
              "#bd3786"
             ],
             [
              0.5555555555555556,
              "#d8576b"
             ],
             [
              0.6666666666666666,
              "#ed7953"
             ],
             [
              0.7777777777777778,
              "#fb9f3a"
             ],
             [
              0.8888888888888888,
              "#fdca26"
             ],
             [
              1,
              "#f0f921"
             ]
            ],
            "type": "histogram2dcontour"
           }
          ],
          "mesh3d": [
           {
            "colorbar": {
             "outlinewidth": 0,
             "ticks": ""
            },
            "type": "mesh3d"
           }
          ],
          "parcoords": [
           {
            "line": {
             "colorbar": {
              "outlinewidth": 0,
              "ticks": ""
             }
            },
            "type": "parcoords"
           }
          ],
          "pie": [
           {
            "automargin": true,
            "type": "pie"
           }
          ],
          "scatter": [
           {
            "marker": {
             "colorbar": {
              "outlinewidth": 0,
              "ticks": ""
             }
            },
            "type": "scatter"
           }
          ],
          "scatter3d": [
           {
            "line": {
             "colorbar": {
              "outlinewidth": 0,
              "ticks": ""
             }
            },
            "marker": {
             "colorbar": {
              "outlinewidth": 0,
              "ticks": ""
             }
            },
            "type": "scatter3d"
           }
          ],
          "scattercarpet": [
           {
            "marker": {
             "colorbar": {
              "outlinewidth": 0,
              "ticks": ""
             }
            },
            "type": "scattercarpet"
           }
          ],
          "scattergeo": [
           {
            "marker": {
             "colorbar": {
              "outlinewidth": 0,
              "ticks": ""
             }
            },
            "type": "scattergeo"
           }
          ],
          "scattergl": [
           {
            "marker": {
             "colorbar": {
              "outlinewidth": 0,
              "ticks": ""
             }
            },
            "type": "scattergl"
           }
          ],
          "scattermapbox": [
           {
            "marker": {
             "colorbar": {
              "outlinewidth": 0,
              "ticks": ""
             }
            },
            "type": "scattermapbox"
           }
          ],
          "scatterpolar": [
           {
            "marker": {
             "colorbar": {
              "outlinewidth": 0,
              "ticks": ""
             }
            },
            "type": "scatterpolar"
           }
          ],
          "scatterpolargl": [
           {
            "marker": {
             "colorbar": {
              "outlinewidth": 0,
              "ticks": ""
             }
            },
            "type": "scatterpolargl"
           }
          ],
          "scatterternary": [
           {
            "marker": {
             "colorbar": {
              "outlinewidth": 0,
              "ticks": ""
             }
            },
            "type": "scatterternary"
           }
          ],
          "surface": [
           {
            "colorbar": {
             "outlinewidth": 0,
             "ticks": ""
            },
            "colorscale": [
             [
              0,
              "#0d0887"
             ],
             [
              0.1111111111111111,
              "#46039f"
             ],
             [
              0.2222222222222222,
              "#7201a8"
             ],
             [
              0.3333333333333333,
              "#9c179e"
             ],
             [
              0.4444444444444444,
              "#bd3786"
             ],
             [
              0.5555555555555556,
              "#d8576b"
             ],
             [
              0.6666666666666666,
              "#ed7953"
             ],
             [
              0.7777777777777778,
              "#fb9f3a"
             ],
             [
              0.8888888888888888,
              "#fdca26"
             ],
             [
              1,
              "#f0f921"
             ]
            ],
            "type": "surface"
           }
          ],
          "table": [
           {
            "cells": {
             "fill": {
              "color": "#EBF0F8"
             },
             "line": {
              "color": "white"
             }
            },
            "header": {
             "fill": {
              "color": "#C8D4E3"
             },
             "line": {
              "color": "white"
             }
            },
            "type": "table"
           }
          ]
         },
         "layout": {
          "annotationdefaults": {
           "arrowcolor": "#2a3f5f",
           "arrowhead": 0,
           "arrowwidth": 1
          },
          "autotypenumbers": "strict",
          "coloraxis": {
           "colorbar": {
            "outlinewidth": 0,
            "ticks": ""
           }
          },
          "colorscale": {
           "diverging": [
            [
             0,
             "#8e0152"
            ],
            [
             0.1,
             "#c51b7d"
            ],
            [
             0.2,
             "#de77ae"
            ],
            [
             0.3,
             "#f1b6da"
            ],
            [
             0.4,
             "#fde0ef"
            ],
            [
             0.5,
             "#f7f7f7"
            ],
            [
             0.6,
             "#e6f5d0"
            ],
            [
             0.7,
             "#b8e186"
            ],
            [
             0.8,
             "#7fbc41"
            ],
            [
             0.9,
             "#4d9221"
            ],
            [
             1,
             "#276419"
            ]
           ],
           "sequential": [
            [
             0,
             "#0d0887"
            ],
            [
             0.1111111111111111,
             "#46039f"
            ],
            [
             0.2222222222222222,
             "#7201a8"
            ],
            [
             0.3333333333333333,
             "#9c179e"
            ],
            [
             0.4444444444444444,
             "#bd3786"
            ],
            [
             0.5555555555555556,
             "#d8576b"
            ],
            [
             0.6666666666666666,
             "#ed7953"
            ],
            [
             0.7777777777777778,
             "#fb9f3a"
            ],
            [
             0.8888888888888888,
             "#fdca26"
            ],
            [
             1,
             "#f0f921"
            ]
           ],
           "sequentialminus": [
            [
             0,
             "#0d0887"
            ],
            [
             0.1111111111111111,
             "#46039f"
            ],
            [
             0.2222222222222222,
             "#7201a8"
            ],
            [
             0.3333333333333333,
             "#9c179e"
            ],
            [
             0.4444444444444444,
             "#bd3786"
            ],
            [
             0.5555555555555556,
             "#d8576b"
            ],
            [
             0.6666666666666666,
             "#ed7953"
            ],
            [
             0.7777777777777778,
             "#fb9f3a"
            ],
            [
             0.8888888888888888,
             "#fdca26"
            ],
            [
             1,
             "#f0f921"
            ]
           ]
          },
          "colorway": [
           "#636efa",
           "#EF553B",
           "#00cc96",
           "#ab63fa",
           "#FFA15A",
           "#19d3f3",
           "#FF6692",
           "#B6E880",
           "#FF97FF",
           "#FECB52"
          ],
          "font": {
           "color": "#2a3f5f"
          },
          "geo": {
           "bgcolor": "white",
           "lakecolor": "white",
           "landcolor": "#E5ECF6",
           "showlakes": true,
           "showland": true,
           "subunitcolor": "white"
          },
          "hoverlabel": {
           "align": "left"
          },
          "hovermode": "closest",
          "mapbox": {
           "style": "light"
          },
          "paper_bgcolor": "white",
          "plot_bgcolor": "#E5ECF6",
          "polar": {
           "angularaxis": {
            "gridcolor": "white",
            "linecolor": "white",
            "ticks": ""
           },
           "bgcolor": "#E5ECF6",
           "radialaxis": {
            "gridcolor": "white",
            "linecolor": "white",
            "ticks": ""
           }
          },
          "scene": {
           "xaxis": {
            "backgroundcolor": "#E5ECF6",
            "gridcolor": "white",
            "gridwidth": 2,
            "linecolor": "white",
            "showbackground": true,
            "ticks": "",
            "zerolinecolor": "white"
           },
           "yaxis": {
            "backgroundcolor": "#E5ECF6",
            "gridcolor": "white",
            "gridwidth": 2,
            "linecolor": "white",
            "showbackground": true,
            "ticks": "",
            "zerolinecolor": "white"
           },
           "zaxis": {
            "backgroundcolor": "#E5ECF6",
            "gridcolor": "white",
            "gridwidth": 2,
            "linecolor": "white",
            "showbackground": true,
            "ticks": "",
            "zerolinecolor": "white"
           }
          },
          "shapedefaults": {
           "line": {
            "color": "#2a3f5f"
           }
          },
          "ternary": {
           "aaxis": {
            "gridcolor": "white",
            "linecolor": "white",
            "ticks": ""
           },
           "baxis": {
            "gridcolor": "white",
            "linecolor": "white",
            "ticks": ""
           },
           "bgcolor": "#E5ECF6",
           "caxis": {
            "gridcolor": "white",
            "linecolor": "white",
            "ticks": ""
           }
          },
          "title": {
           "x": 0.05
          },
          "xaxis": {
           "automargin": true,
           "gridcolor": "white",
           "linecolor": "white",
           "ticks": "",
           "title": {
            "standoff": 15
           },
           "zerolinecolor": "white",
           "zerolinewidth": 2
          },
          "yaxis": {
           "automargin": true,
           "gridcolor": "white",
           "linecolor": "white",
           "ticks": "",
           "title": {
            "standoff": 15
           },
           "zerolinecolor": "white",
           "zerolinewidth": 2
          }
         }
        },
        "xaxis": {
         "anchor": "y",
         "domain": [
          0,
          1
         ],
         "title": {
          "text": "dates"
         }
        },
        "yaxis": {
         "anchor": "x",
         "domain": [
          0,
          1
         ],
         "title": {
          "text": "Percent Change"
         }
        }
       }
      }
     },
     "metadata": {},
     "output_type": "display_data"
    }
   ],
   "source": [
    "#build price percent Changes Graph\n",
    "dfPercents = dfPrices\n",
    "dfPercents = dfPercents.set_index('dates')\n",
    "dfPercents = dfPercents.pct_change()\n",
    "display(dfPercents.head(5))\n",
    "#the default y axis label was value so thats why it is being changed below\n",
    "fig = px.line(dfPercents, labels = {'value': 'Percent Change', 'variable': 'coin'})\n",
    "py.offline.plot(fig, filename='pricePercentChangesLines.html')\n",
    "\n",
    "fig.show()\n"
   ]
  }
 ],
 "metadata": {
  "interpreter": {
   "hash": "cb4f197880ecacceb993dbec3eced19237e3d5e98809f7607bd653c748a52724"
  },
  "kernelspec": {
   "display_name": "Python 3.8.8 64-bit ('base': conda)",
   "language": "python",
   "name": "python3"
  },
  "language_info": {
   "codemirror_mode": {
    "name": "ipython",
    "version": 3
   },
   "file_extension": ".py",
   "mimetype": "text/x-python",
   "name": "python",
   "nbconvert_exporter": "python",
   "pygments_lexer": "ipython3",
   "version": "3.8.8"
  },
  "orig_nbformat": 4
 },
 "nbformat": 4,
 "nbformat_minor": 2
}

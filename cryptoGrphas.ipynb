{
 "cells": [
  {
   "cell_type": "code",
   "execution_count": 2,
   "metadata": {},
   "outputs": [],
   "source": [
    "import pandas as pd\n",
    "import datetime\n",
    "from datetime import timedelta\n",
    "import requests\n",
    "import plotly as py\n",
    "import plotly.express as px\n",
    "import chart_studio.tools as tls"
   ]
  },
  {
   "cell_type": "code",
   "execution_count": 3,
   "metadata": {},
   "outputs": [
    {
     "data": {
      "text/html": [
       "<div>\n",
       "<style scoped>\n",
       "    .dataframe tbody tr th:only-of-type {\n",
       "        vertical-align: middle;\n",
       "    }\n",
       "\n",
       "    .dataframe tbody tr th {\n",
       "        vertical-align: top;\n",
       "    }\n",
       "\n",
       "    .dataframe thead th {\n",
       "        text-align: right;\n",
       "    }\n",
       "</style>\n",
       "<table border=\"1\" class=\"dataframe\">\n",
       "  <thead>\n",
       "    <tr style=\"text-align: right;\">\n",
       "      <th></th>\n",
       "      <th>id</th>\n",
       "      <th>symbol</th>\n",
       "      <th>price</th>\n",
       "      <th>mkt_cap</th>\n",
       "      <th>vol</th>\n",
       "      <th>reddit_posts_48h</th>\n",
       "      <th>reddit_comments_48h</th>\n",
       "      <th>reddit accounts_48h</th>\n",
       "      <th>forks</th>\n",
       "      <th>stars</th>\n",
       "      <th>contributors</th>\n",
       "      <th>twitter_followers</th>\n",
       "      <th>alexa_rank</th>\n",
       "    </tr>\n",
       "  </thead>\n",
       "  <tbody>\n",
       "    <tr>\n",
       "      <th>0</th>\n",
       "      <td>ethereum</td>\n",
       "      <td>eth</td>\n",
       "      <td>4129.150000</td>\n",
       "      <td>4.891626e+11</td>\n",
       "      <td>2.565133e+10</td>\n",
       "      <td>8.000</td>\n",
       "      <td>519.182</td>\n",
       "      <td>1278.25</td>\n",
       "      <td>12496</td>\n",
       "      <td>33825</td>\n",
       "      <td>597</td>\n",
       "      <td>1920252</td>\n",
       "      <td>3541</td>\n",
       "    </tr>\n",
       "    <tr>\n",
       "      <th>1</th>\n",
       "      <td>bitcoin</td>\n",
       "      <td>btc</td>\n",
       "      <td>48633.000000</td>\n",
       "      <td>9.220995e+11</td>\n",
       "      <td>3.347927e+10</td>\n",
       "      <td>7.091</td>\n",
       "      <td>1191.182</td>\n",
       "      <td>3936.25</td>\n",
       "      <td>30725</td>\n",
       "      <td>59776</td>\n",
       "      <td>760</td>\n",
       "      <td>3896601</td>\n",
       "      <td>6000</td>\n",
       "    </tr>\n",
       "    <tr>\n",
       "      <th>2</th>\n",
       "      <td>binancecoin</td>\n",
       "      <td>bnb</td>\n",
       "      <td>550.830000</td>\n",
       "      <td>9.302309e+10</td>\n",
       "      <td>2.102688e+09</td>\n",
       "      <td>9.167</td>\n",
       "      <td>243.333</td>\n",
       "      <td>737.153846153846</td>\n",
       "      <td>2034</td>\n",
       "      <td>3550</td>\n",
       "      <td>26</td>\n",
       "      <td>6446615</td>\n",
       "      <td>109</td>\n",
       "    </tr>\n",
       "    <tr>\n",
       "      <th>3</th>\n",
       "      <td>solana</td>\n",
       "      <td>sol</td>\n",
       "      <td>187.750000</td>\n",
       "      <td>5.791693e+10</td>\n",
       "      <td>3.180264e+09</td>\n",
       "      <td>8.727</td>\n",
       "      <td>134.091</td>\n",
       "      <td>457.333333333333</td>\n",
       "      <td>1153</td>\n",
       "      <td>5867</td>\n",
       "      <td>212</td>\n",
       "      <td>1053249</td>\n",
       "      <td>3321</td>\n",
       "    </tr>\n",
       "    <tr>\n",
       "      <th>4</th>\n",
       "      <td>polkadot</td>\n",
       "      <td>dot</td>\n",
       "      <td>27.430000</td>\n",
       "      <td>2.926171e+10</td>\n",
       "      <td>1.259529e+09</td>\n",
       "      <td>2.100</td>\n",
       "      <td>23.700</td>\n",
       "      <td>88.3636363636364</td>\n",
       "      <td>1012</td>\n",
       "      <td>4827</td>\n",
       "      <td>143</td>\n",
       "      <td>967622</td>\n",
       "      <td>13319</td>\n",
       "    </tr>\n",
       "    <tr>\n",
       "      <th>5</th>\n",
       "      <td>flow</td>\n",
       "      <td>flow</td>\n",
       "      <td>9.400000</td>\n",
       "      <td>2.954552e+09</td>\n",
       "      <td>6.412195e+07</td>\n",
       "      <td>0.000</td>\n",
       "      <td>0.000</td>\n",
       "      <td>None</td>\n",
       "      <td>None</td>\n",
       "      <td>None</td>\n",
       "      <td>None</td>\n",
       "      <td>121836</td>\n",
       "      <td>221603</td>\n",
       "    </tr>\n",
       "    <tr>\n",
       "      <th>6</th>\n",
       "      <td>dogecoin</td>\n",
       "      <td>doge</td>\n",
       "      <td>0.167663</td>\n",
       "      <td>2.236066e+10</td>\n",
       "      <td>1.369121e+09</td>\n",
       "      <td>8.333</td>\n",
       "      <td>1037.583</td>\n",
       "      <td>2003.53846153846</td>\n",
       "      <td>2383</td>\n",
       "      <td>13531</td>\n",
       "      <td>126</td>\n",
       "      <td>2600868</td>\n",
       "      <td>33845</td>\n",
       "    </tr>\n",
       "    <tr>\n",
       "      <th>7</th>\n",
       "      <td>audius</td>\n",
       "      <td>audio</td>\n",
       "      <td>1.700000</td>\n",
       "      <td>8.696229e+08</td>\n",
       "      <td>2.628305e+07</td>\n",
       "      <td>1.750</td>\n",
       "      <td>10.583</td>\n",
       "      <td>28.2307692307692</td>\n",
       "      <td>None</td>\n",
       "      <td>None</td>\n",
       "      <td>None</td>\n",
       "      <td>111588</td>\n",
       "      <td>21764</td>\n",
       "    </tr>\n",
       "    <tr>\n",
       "      <th>8</th>\n",
       "      <td>fantom</td>\n",
       "      <td>ftm</td>\n",
       "      <td>1.500000</td>\n",
       "      <td>3.840111e+09</td>\n",
       "      <td>4.414136e+08</td>\n",
       "      <td>4.000</td>\n",
       "      <td>45.600</td>\n",
       "      <td>122.818181818182</td>\n",
       "      <td>52</td>\n",
       "      <td>163</td>\n",
       "      <td>23</td>\n",
       "      <td>258132</td>\n",
       "      <td>16767</td>\n",
       "    </tr>\n",
       "    <tr>\n",
       "      <th>9</th>\n",
       "      <td>brokoli</td>\n",
       "      <td>brkl</td>\n",
       "      <td>1.350000</td>\n",
       "      <td>2.331334e+07</td>\n",
       "      <td>9.453284e+05</td>\n",
       "      <td>0.000</td>\n",
       "      <td>0.000</td>\n",
       "      <td>None</td>\n",
       "      <td>None</td>\n",
       "      <td>None</td>\n",
       "      <td>None</td>\n",
       "      <td>None</td>\n",
       "      <td>182185</td>\n",
       "    </tr>\n",
       "    <tr>\n",
       "      <th>10</th>\n",
       "      <td>unix</td>\n",
       "      <td>unix</td>\n",
       "      <td>0.821829</td>\n",
       "      <td>3.037155e+07</td>\n",
       "      <td>3.004106e+06</td>\n",
       "      <td>0.000</td>\n",
       "      <td>0.000</td>\n",
       "      <td>None</td>\n",
       "      <td>None</td>\n",
       "      <td>None</td>\n",
       "      <td>None</td>\n",
       "      <td>43995</td>\n",
       "      <td>324837</td>\n",
       "    </tr>\n",
       "    <tr>\n",
       "      <th>11</th>\n",
       "      <td>wonderland</td>\n",
       "      <td>time</td>\n",
       "      <td>6091.180000</td>\n",
       "      <td>1.396146e+09</td>\n",
       "      <td>8.160127e+07</td>\n",
       "      <td>0.000</td>\n",
       "      <td>0.000</td>\n",
       "      <td>None</td>\n",
       "      <td>None</td>\n",
       "      <td>None</td>\n",
       "      <td>None</td>\n",
       "      <td>None</td>\n",
       "      <td>5393</td>\n",
       "    </tr>\n",
       "    <tr>\n",
       "      <th>12</th>\n",
       "      <td>terra-luna</td>\n",
       "      <td>luna</td>\n",
       "      <td>67.280000</td>\n",
       "      <td>2.601252e+10</td>\n",
       "      <td>5.002695e+09</td>\n",
       "      <td>5.250</td>\n",
       "      <td>70.167</td>\n",
       "      <td>158.461538461538</td>\n",
       "      <td>None</td>\n",
       "      <td>None</td>\n",
       "      <td>None</td>\n",
       "      <td>230668</td>\n",
       "      <td>5944</td>\n",
       "    </tr>\n",
       "  </tbody>\n",
       "</table>\n",
       "</div>"
      ],
      "text/plain": [
       "             id symbol         price       mkt_cap           vol  \\\n",
       "0      ethereum    eth   4129.150000  4.891626e+11  2.565133e+10   \n",
       "1       bitcoin    btc  48633.000000  9.220995e+11  3.347927e+10   \n",
       "2   binancecoin    bnb    550.830000  9.302309e+10  2.102688e+09   \n",
       "3        solana    sol    187.750000  5.791693e+10  3.180264e+09   \n",
       "4      polkadot    dot     27.430000  2.926171e+10  1.259529e+09   \n",
       "5          flow   flow      9.400000  2.954552e+09  6.412195e+07   \n",
       "6      dogecoin   doge      0.167663  2.236066e+10  1.369121e+09   \n",
       "7        audius  audio      1.700000  8.696229e+08  2.628305e+07   \n",
       "8        fantom    ftm      1.500000  3.840111e+09  4.414136e+08   \n",
       "9       brokoli   brkl      1.350000  2.331334e+07  9.453284e+05   \n",
       "10         unix   unix      0.821829  3.037155e+07  3.004106e+06   \n",
       "11   wonderland   time   6091.180000  1.396146e+09  8.160127e+07   \n",
       "12   terra-luna   luna     67.280000  2.601252e+10  5.002695e+09   \n",
       "\n",
       "    reddit_posts_48h  reddit_comments_48h reddit accounts_48h  forks  stars  \\\n",
       "0              8.000              519.182             1278.25  12496  33825   \n",
       "1              7.091             1191.182             3936.25  30725  59776   \n",
       "2              9.167              243.333    737.153846153846   2034   3550   \n",
       "3              8.727              134.091    457.333333333333   1153   5867   \n",
       "4              2.100               23.700    88.3636363636364   1012   4827   \n",
       "5              0.000                0.000                None   None   None   \n",
       "6              8.333             1037.583    2003.53846153846   2383  13531   \n",
       "7              1.750               10.583    28.2307692307692   None   None   \n",
       "8              4.000               45.600    122.818181818182     52    163   \n",
       "9              0.000                0.000                None   None   None   \n",
       "10             0.000                0.000                None   None   None   \n",
       "11             0.000                0.000                None   None   None   \n",
       "12             5.250               70.167    158.461538461538   None   None   \n",
       "\n",
       "   contributors twitter_followers alexa_rank  \n",
       "0           597           1920252       3541  \n",
       "1           760           3896601       6000  \n",
       "2            26           6446615        109  \n",
       "3           212           1053249       3321  \n",
       "4           143            967622      13319  \n",
       "5          None            121836     221603  \n",
       "6           126           2600868      33845  \n",
       "7          None            111588      21764  \n",
       "8            23            258132      16767  \n",
       "9          None              None     182185  \n",
       "10         None             43995     324837  \n",
       "11         None              None       5393  \n",
       "12         None            230668       5944  "
      ]
     },
     "metadata": {},
     "output_type": "display_data"
    },
    {
     "name": "stdout",
     "output_type": "stream",
     "text": [
      "['ethereum', 'bitcoin', 'binancecoin', 'solana', 'polkadot', 'flow', 'dogecoin', 'audius', 'fantom', 'brokoli', 'unix', 'wonderland', 'terra-luna']\n"
     ]
    }
   ],
   "source": [
    "#BUILDS DATAFRAME FOR COMMUNITY DATA\n",
    "columns = ['id', 'symbol', 'price', 'mkt_cap', 'vol', 'reddit_posts_48h', 'reddit_comments_48h', 'reddit accounts_48h', 'forks', 'stars', 'contributors', 'twitter_followers', 'alexa_rank']\n",
    "df = pd.DataFrame(columns = columns)\n",
    "# display(df)\n",
    "today = datetime.datetime.now()\n",
    "yesterday = today -timedelta(days = 2)\n",
    "yesterday = yesterday.strftime(\"%d-%m-%Y\")\n",
    "# date = str(yesterday)\n",
    "date = yesterday\n",
    "# print('yesterday', yesterday)\n",
    "# print('date', date)\n",
    "\n",
    "def coinFunc(currentCoin, date): \n",
    "    coin= currentCoin\n",
    "    geckoReq = 'https://api.coingecko.com/api/v3/coins/'+coin+'/history?date='+date\n",
    "    priceReq = 'https://api.coingecko.com/api/v3/simple/price?ids=' + coin + '&vs_currencies=usd&include_market_cap=true&include_24hr_vol=true'\n",
    "    price = requests.get(priceReq).json()\n",
    "    r =requests.get(geckoReq).json()\n",
    "#     display(r)\n",
    "    #     print(r)\n",
    "    coin_id = r['id']\n",
    "    coin_symbol = r['symbol']\n",
    "\n",
    "    #price data\n",
    "    current_price = price[currentCoin]['usd']\n",
    "    mkt_cap = price[currentCoin]['usd_market_cap']\n",
    "    vol = price[currentCoin]['usd_24h_vol']\n",
    "\n",
    "    #reddit data\n",
    "    reddit_average_posts_48h = r['community_data']['reddit_average_posts_48h']\n",
    "    reddit_average_comments_48h = r['community_data']['reddit_average_comments_48h']\n",
    "    reddit_accounts_active_48h = r['community_data']['reddit_accounts_active_48h']\n",
    "    #github data\n",
    "    forks = r['developer_data']['forks']\n",
    "    stars = r['developer_data']['stars']\n",
    "    contributors = r['developer_data']['pull_request_contributors']\n",
    "    twitter_followers = r['community_data']['twitter_followers']\n",
    "    alexa_rank = r['public_interest_stats']['alexa_rank']\n",
    "\n",
    "\n",
    "    dataInsert = [coin_id, coin_symbol, current_price, mkt_cap, vol, reddit_average_posts_48h, reddit_average_comments_48h, reddit_accounts_active_48h, forks, stars, contributors, twitter_followers, alexa_rank]\n",
    "    # print(dataInsert)\n",
    "\n",
    "    df_length = len(df)\n",
    "    df.loc[df_length] = dataInsert\n",
    "    \n",
    "# coinFunc('audius', yesterday)    \n",
    "# display(df)\n",
    "# print(r)\n",
    "# print(r['developer_data'])\n",
    "# print(r['community_data'])\n",
    "# print(coin_price)\n",
    "\n",
    "theCoins = ['ethereum', 'bitcoin', 'binancecoin', 'solana', 'polkadot', 'flow', 'dogecoin', 'audius']\n",
    "trendingReq = 'https://api.coingecko.com/api/v3/search/trending'\n",
    "trends =requests.get(trendingReq).json()\n",
    "# print(r)\n",
    "trending = []\n",
    "#could be for 7 coins but lets just do top 5\n",
    "for i in range(5):\n",
    "    trendingCoin = trends['coins'][i]['item']['id']\n",
    "    trending.append(trendingCoin)\n",
    "\n",
    "theCoins.extend(trending)\n",
    "\n",
    "for crypto in theCoins:\n",
    "    coinFunc(crypto, yesterday)\n",
    "    \n",
    "display(df)\n",
    "myCoinsList = df['id'].tolist()\n",
    "print(myCoinsList)"
   ]
  },
  {
   "cell_type": "code",
   "execution_count": 4,
   "metadata": {},
   "outputs": [
    {
     "data": {
      "text/html": [
       "<div>\n",
       "<style scoped>\n",
       "    .dataframe tbody tr th:only-of-type {\n",
       "        vertical-align: middle;\n",
       "    }\n",
       "\n",
       "    .dataframe tbody tr th {\n",
       "        vertical-align: top;\n",
       "    }\n",
       "\n",
       "    .dataframe thead th {\n",
       "        text-align: right;\n",
       "    }\n",
       "</style>\n",
       "<table border=\"1\" class=\"dataframe\">\n",
       "  <thead>\n",
       "    <tr style=\"text-align: right;\">\n",
       "      <th></th>\n",
       "      <th>id</th>\n",
       "      <th>symbol</th>\n",
       "      <th>price</th>\n",
       "      <th>mkt_cap</th>\n",
       "      <th>vol</th>\n",
       "      <th>reddit_posts_48h</th>\n",
       "      <th>reddit_comments_48h</th>\n",
       "      <th>reddit accounts_48h</th>\n",
       "      <th>forks</th>\n",
       "      <th>stars</th>\n",
       "      <th>contributors</th>\n",
       "      <th>twitter_followers</th>\n",
       "      <th>alexa_rank</th>\n",
       "    </tr>\n",
       "  </thead>\n",
       "  <tbody>\n",
       "    <tr>\n",
       "      <th>0</th>\n",
       "      <td>ethereum</td>\n",
       "      <td>eth</td>\n",
       "      <td>4129.15</td>\n",
       "      <td>4.891626e+11</td>\n",
       "      <td>2.565133e+10</td>\n",
       "      <td>8.000</td>\n",
       "      <td>519.182</td>\n",
       "      <td>1278.25</td>\n",
       "      <td>12496</td>\n",
       "      <td>33825</td>\n",
       "      <td>597</td>\n",
       "      <td>1920252</td>\n",
       "      <td>3541</td>\n",
       "    </tr>\n",
       "    <tr>\n",
       "      <th>1</th>\n",
       "      <td>bitcoin</td>\n",
       "      <td>btc</td>\n",
       "      <td>48633.00</td>\n",
       "      <td>9.220995e+11</td>\n",
       "      <td>3.347927e+10</td>\n",
       "      <td>7.091</td>\n",
       "      <td>1191.182</td>\n",
       "      <td>3936.25</td>\n",
       "      <td>30725</td>\n",
       "      <td>59776</td>\n",
       "      <td>760</td>\n",
       "      <td>3896601</td>\n",
       "      <td>6000</td>\n",
       "    </tr>\n",
       "    <tr>\n",
       "      <th>2</th>\n",
       "      <td>binancecoin</td>\n",
       "      <td>bnb</td>\n",
       "      <td>550.83</td>\n",
       "      <td>9.302309e+10</td>\n",
       "      <td>2.102688e+09</td>\n",
       "      <td>9.167</td>\n",
       "      <td>243.333</td>\n",
       "      <td>737.153846153846</td>\n",
       "      <td>2034</td>\n",
       "      <td>3550</td>\n",
       "      <td>26</td>\n",
       "      <td>6446615</td>\n",
       "      <td>109</td>\n",
       "    </tr>\n",
       "    <tr>\n",
       "      <th>3</th>\n",
       "      <td>solana</td>\n",
       "      <td>sol</td>\n",
       "      <td>187.75</td>\n",
       "      <td>5.791693e+10</td>\n",
       "      <td>3.180264e+09</td>\n",
       "      <td>8.727</td>\n",
       "      <td>134.091</td>\n",
       "      <td>457.333333333333</td>\n",
       "      <td>1153</td>\n",
       "      <td>5867</td>\n",
       "      <td>212</td>\n",
       "      <td>1053249</td>\n",
       "      <td>3321</td>\n",
       "    </tr>\n",
       "    <tr>\n",
       "      <th>4</th>\n",
       "      <td>polkadot</td>\n",
       "      <td>dot</td>\n",
       "      <td>27.43</td>\n",
       "      <td>2.926171e+10</td>\n",
       "      <td>1.259529e+09</td>\n",
       "      <td>2.100</td>\n",
       "      <td>23.700</td>\n",
       "      <td>88.3636363636364</td>\n",
       "      <td>1012</td>\n",
       "      <td>4827</td>\n",
       "      <td>143</td>\n",
       "      <td>967622</td>\n",
       "      <td>13319</td>\n",
       "    </tr>\n",
       "  </tbody>\n",
       "</table>\n",
       "</div>"
      ],
      "text/plain": [
       "            id symbol     price       mkt_cap           vol  reddit_posts_48h  \\\n",
       "0     ethereum    eth   4129.15  4.891626e+11  2.565133e+10             8.000   \n",
       "1      bitcoin    btc  48633.00  9.220995e+11  3.347927e+10             7.091   \n",
       "2  binancecoin    bnb    550.83  9.302309e+10  2.102688e+09             9.167   \n",
       "3       solana    sol    187.75  5.791693e+10  3.180264e+09             8.727   \n",
       "4     polkadot    dot     27.43  2.926171e+10  1.259529e+09             2.100   \n",
       "\n",
       "   reddit_comments_48h reddit accounts_48h  forks  stars contributors  \\\n",
       "0              519.182             1278.25  12496  33825          597   \n",
       "1             1191.182             3936.25  30725  59776          760   \n",
       "2              243.333    737.153846153846   2034   3550           26   \n",
       "3              134.091    457.333333333333   1153   5867          212   \n",
       "4               23.700    88.3636363636364   1012   4827          143   \n",
       "\n",
       "  twitter_followers alexa_rank  \n",
       "0           1920252       3541  \n",
       "1           3896601       6000  \n",
       "2           6446615        109  \n",
       "3           1053249       3321  \n",
       "4            967622      13319  "
      ]
     },
     "metadata": {},
     "output_type": "display_data"
    },
    {
     "data": {
      "application/vnd.plotly.v1+json": {
       "config": {
        "plotlyServerURL": "https://plot.ly"
       },
       "data": [
        {
         "alignmentgroup": "True",
         "bingroup": "x",
         "histfunc": "sum",
         "hovertemplate": "token=%{x}<br>sum of reddit_comments_48h=%{y}<extra></extra>",
         "legendgroup": "",
         "marker": {
          "color": "#636efa",
          "pattern": {
           "shape": ""
          }
         },
         "name": "",
         "offsetgroup": "",
         "orientation": "v",
         "showlegend": false,
         "type": "histogram",
         "x": [
          "ethereum",
          "bitcoin",
          "binancecoin",
          "solana",
          "polkadot",
          "flow",
          "dogecoin",
          "audius",
          "fantom",
          "brokoli",
          "unix",
          "wonderland",
          "terra-luna"
         ],
         "xaxis": "x",
         "y": [
          519.182,
          1191.182,
          243.333,
          134.091,
          23.7,
          0,
          1037.583,
          10.583,
          45.6,
          0,
          0,
          0,
          70.167
         ],
         "yaxis": "y"
        }
       ],
       "layout": {
        "barmode": "relative",
        "legend": {
         "tracegroupgap": 0
        },
        "margin": {
         "t": 60
        },
        "template": {
         "data": {
          "bar": [
           {
            "error_x": {
             "color": "#2a3f5f"
            },
            "error_y": {
             "color": "#2a3f5f"
            },
            "marker": {
             "line": {
              "color": "#E5ECF6",
              "width": 0.5
             },
             "pattern": {
              "fillmode": "overlay",
              "size": 10,
              "solidity": 0.2
             }
            },
            "type": "bar"
           }
          ],
          "barpolar": [
           {
            "marker": {
             "line": {
              "color": "#E5ECF6",
              "width": 0.5
             },
             "pattern": {
              "fillmode": "overlay",
              "size": 10,
              "solidity": 0.2
             }
            },
            "type": "barpolar"
           }
          ],
          "carpet": [
           {
            "aaxis": {
             "endlinecolor": "#2a3f5f",
             "gridcolor": "white",
             "linecolor": "white",
             "minorgridcolor": "white",
             "startlinecolor": "#2a3f5f"
            },
            "baxis": {
             "endlinecolor": "#2a3f5f",
             "gridcolor": "white",
             "linecolor": "white",
             "minorgridcolor": "white",
             "startlinecolor": "#2a3f5f"
            },
            "type": "carpet"
           }
          ],
          "choropleth": [
           {
            "colorbar": {
             "outlinewidth": 0,
             "ticks": ""
            },
            "type": "choropleth"
           }
          ],
          "contour": [
           {
            "colorbar": {
             "outlinewidth": 0,
             "ticks": ""
            },
            "colorscale": [
             [
              0,
              "#0d0887"
             ],
             [
              0.1111111111111111,
              "#46039f"
             ],
             [
              0.2222222222222222,
              "#7201a8"
             ],
             [
              0.3333333333333333,
              "#9c179e"
             ],
             [
              0.4444444444444444,
              "#bd3786"
             ],
             [
              0.5555555555555556,
              "#d8576b"
             ],
             [
              0.6666666666666666,
              "#ed7953"
             ],
             [
              0.7777777777777778,
              "#fb9f3a"
             ],
             [
              0.8888888888888888,
              "#fdca26"
             ],
             [
              1,
              "#f0f921"
             ]
            ],
            "type": "contour"
           }
          ],
          "contourcarpet": [
           {
            "colorbar": {
             "outlinewidth": 0,
             "ticks": ""
            },
            "type": "contourcarpet"
           }
          ],
          "heatmap": [
           {
            "colorbar": {
             "outlinewidth": 0,
             "ticks": ""
            },
            "colorscale": [
             [
              0,
              "#0d0887"
             ],
             [
              0.1111111111111111,
              "#46039f"
             ],
             [
              0.2222222222222222,
              "#7201a8"
             ],
             [
              0.3333333333333333,
              "#9c179e"
             ],
             [
              0.4444444444444444,
              "#bd3786"
             ],
             [
              0.5555555555555556,
              "#d8576b"
             ],
             [
              0.6666666666666666,
              "#ed7953"
             ],
             [
              0.7777777777777778,
              "#fb9f3a"
             ],
             [
              0.8888888888888888,
              "#fdca26"
             ],
             [
              1,
              "#f0f921"
             ]
            ],
            "type": "heatmap"
           }
          ],
          "heatmapgl": [
           {
            "colorbar": {
             "outlinewidth": 0,
             "ticks": ""
            },
            "colorscale": [
             [
              0,
              "#0d0887"
             ],
             [
              0.1111111111111111,
              "#46039f"
             ],
             [
              0.2222222222222222,
              "#7201a8"
             ],
             [
              0.3333333333333333,
              "#9c179e"
             ],
             [
              0.4444444444444444,
              "#bd3786"
             ],
             [
              0.5555555555555556,
              "#d8576b"
             ],
             [
              0.6666666666666666,
              "#ed7953"
             ],
             [
              0.7777777777777778,
              "#fb9f3a"
             ],
             [
              0.8888888888888888,
              "#fdca26"
             ],
             [
              1,
              "#f0f921"
             ]
            ],
            "type": "heatmapgl"
           }
          ],
          "histogram": [
           {
            "marker": {
             "pattern": {
              "fillmode": "overlay",
              "size": 10,
              "solidity": 0.2
             }
            },
            "type": "histogram"
           }
          ],
          "histogram2d": [
           {
            "colorbar": {
             "outlinewidth": 0,
             "ticks": ""
            },
            "colorscale": [
             [
              0,
              "#0d0887"
             ],
             [
              0.1111111111111111,
              "#46039f"
             ],
             [
              0.2222222222222222,
              "#7201a8"
             ],
             [
              0.3333333333333333,
              "#9c179e"
             ],
             [
              0.4444444444444444,
              "#bd3786"
             ],
             [
              0.5555555555555556,
              "#d8576b"
             ],
             [
              0.6666666666666666,
              "#ed7953"
             ],
             [
              0.7777777777777778,
              "#fb9f3a"
             ],
             [
              0.8888888888888888,
              "#fdca26"
             ],
             [
              1,
              "#f0f921"
             ]
            ],
            "type": "histogram2d"
           }
          ],
          "histogram2dcontour": [
           {
            "colorbar": {
             "outlinewidth": 0,
             "ticks": ""
            },
            "colorscale": [
             [
              0,
              "#0d0887"
             ],
             [
              0.1111111111111111,
              "#46039f"
             ],
             [
              0.2222222222222222,
              "#7201a8"
             ],
             [
              0.3333333333333333,
              "#9c179e"
             ],
             [
              0.4444444444444444,
              "#bd3786"
             ],
             [
              0.5555555555555556,
              "#d8576b"
             ],
             [
              0.6666666666666666,
              "#ed7953"
             ],
             [
              0.7777777777777778,
              "#fb9f3a"
             ],
             [
              0.8888888888888888,
              "#fdca26"
             ],
             [
              1,
              "#f0f921"
             ]
            ],
            "type": "histogram2dcontour"
           }
          ],
          "mesh3d": [
           {
            "colorbar": {
             "outlinewidth": 0,
             "ticks": ""
            },
            "type": "mesh3d"
           }
          ],
          "parcoords": [
           {
            "line": {
             "colorbar": {
              "outlinewidth": 0,
              "ticks": ""
             }
            },
            "type": "parcoords"
           }
          ],
          "pie": [
           {
            "automargin": true,
            "type": "pie"
           }
          ],
          "scatter": [
           {
            "marker": {
             "colorbar": {
              "outlinewidth": 0,
              "ticks": ""
             }
            },
            "type": "scatter"
           }
          ],
          "scatter3d": [
           {
            "line": {
             "colorbar": {
              "outlinewidth": 0,
              "ticks": ""
             }
            },
            "marker": {
             "colorbar": {
              "outlinewidth": 0,
              "ticks": ""
             }
            },
            "type": "scatter3d"
           }
          ],
          "scattercarpet": [
           {
            "marker": {
             "colorbar": {
              "outlinewidth": 0,
              "ticks": ""
             }
            },
            "type": "scattercarpet"
           }
          ],
          "scattergeo": [
           {
            "marker": {
             "colorbar": {
              "outlinewidth": 0,
              "ticks": ""
             }
            },
            "type": "scattergeo"
           }
          ],
          "scattergl": [
           {
            "marker": {
             "colorbar": {
              "outlinewidth": 0,
              "ticks": ""
             }
            },
            "type": "scattergl"
           }
          ],
          "scattermapbox": [
           {
            "marker": {
             "colorbar": {
              "outlinewidth": 0,
              "ticks": ""
             }
            },
            "type": "scattermapbox"
           }
          ],
          "scatterpolar": [
           {
            "marker": {
             "colorbar": {
              "outlinewidth": 0,
              "ticks": ""
             }
            },
            "type": "scatterpolar"
           }
          ],
          "scatterpolargl": [
           {
            "marker": {
             "colorbar": {
              "outlinewidth": 0,
              "ticks": ""
             }
            },
            "type": "scatterpolargl"
           }
          ],
          "scatterternary": [
           {
            "marker": {
             "colorbar": {
              "outlinewidth": 0,
              "ticks": ""
             }
            },
            "type": "scatterternary"
           }
          ],
          "surface": [
           {
            "colorbar": {
             "outlinewidth": 0,
             "ticks": ""
            },
            "colorscale": [
             [
              0,
              "#0d0887"
             ],
             [
              0.1111111111111111,
              "#46039f"
             ],
             [
              0.2222222222222222,
              "#7201a8"
             ],
             [
              0.3333333333333333,
              "#9c179e"
             ],
             [
              0.4444444444444444,
              "#bd3786"
             ],
             [
              0.5555555555555556,
              "#d8576b"
             ],
             [
              0.6666666666666666,
              "#ed7953"
             ],
             [
              0.7777777777777778,
              "#fb9f3a"
             ],
             [
              0.8888888888888888,
              "#fdca26"
             ],
             [
              1,
              "#f0f921"
             ]
            ],
            "type": "surface"
           }
          ],
          "table": [
           {
            "cells": {
             "fill": {
              "color": "#EBF0F8"
             },
             "line": {
              "color": "white"
             }
            },
            "header": {
             "fill": {
              "color": "#C8D4E3"
             },
             "line": {
              "color": "white"
             }
            },
            "type": "table"
           }
          ]
         },
         "layout": {
          "annotationdefaults": {
           "arrowcolor": "#2a3f5f",
           "arrowhead": 0,
           "arrowwidth": 1
          },
          "autotypenumbers": "strict",
          "coloraxis": {
           "colorbar": {
            "outlinewidth": 0,
            "ticks": ""
           }
          },
          "colorscale": {
           "diverging": [
            [
             0,
             "#8e0152"
            ],
            [
             0.1,
             "#c51b7d"
            ],
            [
             0.2,
             "#de77ae"
            ],
            [
             0.3,
             "#f1b6da"
            ],
            [
             0.4,
             "#fde0ef"
            ],
            [
             0.5,
             "#f7f7f7"
            ],
            [
             0.6,
             "#e6f5d0"
            ],
            [
             0.7,
             "#b8e186"
            ],
            [
             0.8,
             "#7fbc41"
            ],
            [
             0.9,
             "#4d9221"
            ],
            [
             1,
             "#276419"
            ]
           ],
           "sequential": [
            [
             0,
             "#0d0887"
            ],
            [
             0.1111111111111111,
             "#46039f"
            ],
            [
             0.2222222222222222,
             "#7201a8"
            ],
            [
             0.3333333333333333,
             "#9c179e"
            ],
            [
             0.4444444444444444,
             "#bd3786"
            ],
            [
             0.5555555555555556,
             "#d8576b"
            ],
            [
             0.6666666666666666,
             "#ed7953"
            ],
            [
             0.7777777777777778,
             "#fb9f3a"
            ],
            [
             0.8888888888888888,
             "#fdca26"
            ],
            [
             1,
             "#f0f921"
            ]
           ],
           "sequentialminus": [
            [
             0,
             "#0d0887"
            ],
            [
             0.1111111111111111,
             "#46039f"
            ],
            [
             0.2222222222222222,
             "#7201a8"
            ],
            [
             0.3333333333333333,
             "#9c179e"
            ],
            [
             0.4444444444444444,
             "#bd3786"
            ],
            [
             0.5555555555555556,
             "#d8576b"
            ],
            [
             0.6666666666666666,
             "#ed7953"
            ],
            [
             0.7777777777777778,
             "#fb9f3a"
            ],
            [
             0.8888888888888888,
             "#fdca26"
            ],
            [
             1,
             "#f0f921"
            ]
           ]
          },
          "colorway": [
           "#636efa",
           "#EF553B",
           "#00cc96",
           "#ab63fa",
           "#FFA15A",
           "#19d3f3",
           "#FF6692",
           "#B6E880",
           "#FF97FF",
           "#FECB52"
          ],
          "font": {
           "color": "#2a3f5f"
          },
          "geo": {
           "bgcolor": "white",
           "lakecolor": "white",
           "landcolor": "#E5ECF6",
           "showlakes": true,
           "showland": true,
           "subunitcolor": "white"
          },
          "hoverlabel": {
           "align": "left"
          },
          "hovermode": "closest",
          "mapbox": {
           "style": "light"
          },
          "paper_bgcolor": "white",
          "plot_bgcolor": "#E5ECF6",
          "polar": {
           "angularaxis": {
            "gridcolor": "white",
            "linecolor": "white",
            "ticks": ""
           },
           "bgcolor": "#E5ECF6",
           "radialaxis": {
            "gridcolor": "white",
            "linecolor": "white",
            "ticks": ""
           }
          },
          "scene": {
           "xaxis": {
            "backgroundcolor": "#E5ECF6",
            "gridcolor": "white",
            "gridwidth": 2,
            "linecolor": "white",
            "showbackground": true,
            "ticks": "",
            "zerolinecolor": "white"
           },
           "yaxis": {
            "backgroundcolor": "#E5ECF6",
            "gridcolor": "white",
            "gridwidth": 2,
            "linecolor": "white",
            "showbackground": true,
            "ticks": "",
            "zerolinecolor": "white"
           },
           "zaxis": {
            "backgroundcolor": "#E5ECF6",
            "gridcolor": "white",
            "gridwidth": 2,
            "linecolor": "white",
            "showbackground": true,
            "ticks": "",
            "zerolinecolor": "white"
           }
          },
          "shapedefaults": {
           "line": {
            "color": "#2a3f5f"
           }
          },
          "ternary": {
           "aaxis": {
            "gridcolor": "white",
            "linecolor": "white",
            "ticks": ""
           },
           "baxis": {
            "gridcolor": "white",
            "linecolor": "white",
            "ticks": ""
           },
           "bgcolor": "#E5ECF6",
           "caxis": {
            "gridcolor": "white",
            "linecolor": "white",
            "ticks": ""
           }
          },
          "title": {
           "x": 0.05
          },
          "xaxis": {
           "automargin": true,
           "gridcolor": "white",
           "linecolor": "white",
           "ticks": "",
           "title": {
            "standoff": 15
           },
           "zerolinecolor": "white",
           "zerolinewidth": 2
          },
          "yaxis": {
           "automargin": true,
           "gridcolor": "white",
           "linecolor": "white",
           "ticks": "",
           "title": {
            "standoff": 15
           },
           "zerolinecolor": "white",
           "zerolinewidth": 2
          }
         }
        },
        "xaxis": {
         "anchor": "y",
         "domain": [
          0,
          1
         ],
         "title": {
          "text": "token"
         }
        },
        "yaxis": {
         "anchor": "x",
         "domain": [
          0,
          1
         ],
         "title": {
          "text": "sum of reddit_comments_48h"
         }
        }
       }
      }
     },
     "metadata": {},
     "output_type": "display_data"
    }
   ],
   "source": [
    "### BUILDING REDDIT COMMENTS HTML GRAPH\n",
    "display(df.head(5))\n",
    "\n",
    "fig = px.histogram(df, x=df['id'], y=df['reddit_comments_48h'],\n",
    "                labels={\n",
    "                     \"sum of reddit_comments_48h\": \"Reddit Comments 48h\",\n",
    "                     \"id\": \"token\"\n",
    "#                      \"species\": \"Species of Iris\"\n",
    "                 },)\n",
    "py.offline.plot(fig, filename='geckoRedditComments.html')\n",
    "\n",
    "\n",
    "# print(tls.get_embed('https://plotly.com/~fooba/1'))\n",
    "fig.show()\n",
    "\n"
   ]
  },
  {
   "cell_type": "code",
   "execution_count": 9,
   "metadata": {},
   "outputs": [
    {
     "data": {
      "text/html": [
       "<div>\n",
       "<style scoped>\n",
       "    .dataframe tbody tr th:only-of-type {\n",
       "        vertical-align: middle;\n",
       "    }\n",
       "\n",
       "    .dataframe tbody tr th {\n",
       "        vertical-align: top;\n",
       "    }\n",
       "\n",
       "    .dataframe thead th {\n",
       "        text-align: right;\n",
       "    }\n",
       "</style>\n",
       "<table border=\"1\" class=\"dataframe\">\n",
       "  <thead>\n",
       "    <tr style=\"text-align: right;\">\n",
       "      <th></th>\n",
       "      <th>id</th>\n",
       "      <th>symbol</th>\n",
       "      <th>price</th>\n",
       "      <th>mkt_cap</th>\n",
       "      <th>vol</th>\n",
       "      <th>reddit_posts_48h</th>\n",
       "      <th>reddit_comments_48h</th>\n",
       "      <th>reddit accounts_48h</th>\n",
       "      <th>forks</th>\n",
       "      <th>stars</th>\n",
       "      <th>contributors</th>\n",
       "      <th>twitter_followers</th>\n",
       "      <th>alexa_rank</th>\n",
       "    </tr>\n",
       "  </thead>\n",
       "  <tbody>\n",
       "    <tr>\n",
       "      <th>0</th>\n",
       "      <td>ethereum</td>\n",
       "      <td>eth</td>\n",
       "      <td>4129.15</td>\n",
       "      <td>4.891626e+11</td>\n",
       "      <td>2.565133e+10</td>\n",
       "      <td>8.000</td>\n",
       "      <td>519.182</td>\n",
       "      <td>1278.25</td>\n",
       "      <td>12496</td>\n",
       "      <td>33825</td>\n",
       "      <td>597</td>\n",
       "      <td>1920252</td>\n",
       "      <td>3541</td>\n",
       "    </tr>\n",
       "    <tr>\n",
       "      <th>1</th>\n",
       "      <td>bitcoin</td>\n",
       "      <td>btc</td>\n",
       "      <td>48633.00</td>\n",
       "      <td>9.220995e+11</td>\n",
       "      <td>3.347927e+10</td>\n",
       "      <td>7.091</td>\n",
       "      <td>1191.182</td>\n",
       "      <td>3936.25</td>\n",
       "      <td>30725</td>\n",
       "      <td>59776</td>\n",
       "      <td>760</td>\n",
       "      <td>3896601</td>\n",
       "      <td>6000</td>\n",
       "    </tr>\n",
       "    <tr>\n",
       "      <th>2</th>\n",
       "      <td>binancecoin</td>\n",
       "      <td>bnb</td>\n",
       "      <td>550.83</td>\n",
       "      <td>9.302309e+10</td>\n",
       "      <td>2.102688e+09</td>\n",
       "      <td>9.167</td>\n",
       "      <td>243.333</td>\n",
       "      <td>737.153846153846</td>\n",
       "      <td>2034</td>\n",
       "      <td>3550</td>\n",
       "      <td>26</td>\n",
       "      <td>6446615</td>\n",
       "      <td>109</td>\n",
       "    </tr>\n",
       "    <tr>\n",
       "      <th>3</th>\n",
       "      <td>solana</td>\n",
       "      <td>sol</td>\n",
       "      <td>187.75</td>\n",
       "      <td>5.791693e+10</td>\n",
       "      <td>3.180264e+09</td>\n",
       "      <td>8.727</td>\n",
       "      <td>134.091</td>\n",
       "      <td>457.333333333333</td>\n",
       "      <td>1153</td>\n",
       "      <td>5867</td>\n",
       "      <td>212</td>\n",
       "      <td>1053249</td>\n",
       "      <td>3321</td>\n",
       "    </tr>\n",
       "    <tr>\n",
       "      <th>4</th>\n",
       "      <td>polkadot</td>\n",
       "      <td>dot</td>\n",
       "      <td>27.43</td>\n",
       "      <td>2.926171e+10</td>\n",
       "      <td>1.259529e+09</td>\n",
       "      <td>2.100</td>\n",
       "      <td>23.700</td>\n",
       "      <td>88.3636363636364</td>\n",
       "      <td>1012</td>\n",
       "      <td>4827</td>\n",
       "      <td>143</td>\n",
       "      <td>967622</td>\n",
       "      <td>13319</td>\n",
       "    </tr>\n",
       "  </tbody>\n",
       "</table>\n",
       "</div>"
      ],
      "text/plain": [
       "            id symbol     price       mkt_cap           vol  reddit_posts_48h  \\\n",
       "0     ethereum    eth   4129.15  4.891626e+11  2.565133e+10             8.000   \n",
       "1      bitcoin    btc  48633.00  9.220995e+11  3.347927e+10             7.091   \n",
       "2  binancecoin    bnb    550.83  9.302309e+10  2.102688e+09             9.167   \n",
       "3       solana    sol    187.75  5.791693e+10  3.180264e+09             8.727   \n",
       "4     polkadot    dot     27.43  2.926171e+10  1.259529e+09             2.100   \n",
       "\n",
       "   reddit_comments_48h reddit accounts_48h  forks  stars contributors  \\\n",
       "0              519.182             1278.25  12496  33825          597   \n",
       "1             1191.182             3936.25  30725  59776          760   \n",
       "2              243.333    737.153846153846   2034   3550           26   \n",
       "3              134.091    457.333333333333   1153   5867          212   \n",
       "4               23.700    88.3636363636364   1012   4827          143   \n",
       "\n",
       "  twitter_followers alexa_rank  \n",
       "0           1920252       3541  \n",
       "1           3896601       6000  \n",
       "2           6446615        109  \n",
       "3           1053249       3321  \n",
       "4            967622      13319  "
      ]
     },
     "metadata": {},
     "output_type": "display_data"
    },
    {
     "data": {
      "application/vnd.plotly.v1+json": {
       "config": {
        "plotlyServerURL": "https://plot.ly"
       },
       "data": [
        {
         "hovertemplate": "token=%{x}<br>twitter_followers=%{y}<extra></extra>",
         "legendgroup": "",
         "marker": {
          "color": "#636efa",
          "symbol": "circle"
         },
         "mode": "markers",
         "name": "",
         "orientation": "v",
         "showlegend": false,
         "type": "scatter",
         "x": [
          "ethereum",
          "bitcoin",
          "binancecoin",
          "solana",
          "polkadot",
          "flow",
          "dogecoin",
          "audius",
          "fantom",
          "brokoli",
          "unix",
          "wonderland",
          "terra-luna"
         ],
         "xaxis": "x",
         "y": [
          1920252,
          3896601,
          6446615,
          1053249,
          967622,
          121836,
          2600868,
          111588,
          258132,
          null,
          43995,
          null,
          230668
         ],
         "yaxis": "y"
        }
       ],
       "layout": {
        "legend": {
         "tracegroupgap": 0
        },
        "margin": {
         "t": 60
        },
        "template": {
         "data": {
          "bar": [
           {
            "error_x": {
             "color": "#2a3f5f"
            },
            "error_y": {
             "color": "#2a3f5f"
            },
            "marker": {
             "line": {
              "color": "#E5ECF6",
              "width": 0.5
             },
             "pattern": {
              "fillmode": "overlay",
              "size": 10,
              "solidity": 0.2
             }
            },
            "type": "bar"
           }
          ],
          "barpolar": [
           {
            "marker": {
             "line": {
              "color": "#E5ECF6",
              "width": 0.5
             },
             "pattern": {
              "fillmode": "overlay",
              "size": 10,
              "solidity": 0.2
             }
            },
            "type": "barpolar"
           }
          ],
          "carpet": [
           {
            "aaxis": {
             "endlinecolor": "#2a3f5f",
             "gridcolor": "white",
             "linecolor": "white",
             "minorgridcolor": "white",
             "startlinecolor": "#2a3f5f"
            },
            "baxis": {
             "endlinecolor": "#2a3f5f",
             "gridcolor": "white",
             "linecolor": "white",
             "minorgridcolor": "white",
             "startlinecolor": "#2a3f5f"
            },
            "type": "carpet"
           }
          ],
          "choropleth": [
           {
            "colorbar": {
             "outlinewidth": 0,
             "ticks": ""
            },
            "type": "choropleth"
           }
          ],
          "contour": [
           {
            "colorbar": {
             "outlinewidth": 0,
             "ticks": ""
            },
            "colorscale": [
             [
              0,
              "#0d0887"
             ],
             [
              0.1111111111111111,
              "#46039f"
             ],
             [
              0.2222222222222222,
              "#7201a8"
             ],
             [
              0.3333333333333333,
              "#9c179e"
             ],
             [
              0.4444444444444444,
              "#bd3786"
             ],
             [
              0.5555555555555556,
              "#d8576b"
             ],
             [
              0.6666666666666666,
              "#ed7953"
             ],
             [
              0.7777777777777778,
              "#fb9f3a"
             ],
             [
              0.8888888888888888,
              "#fdca26"
             ],
             [
              1,
              "#f0f921"
             ]
            ],
            "type": "contour"
           }
          ],
          "contourcarpet": [
           {
            "colorbar": {
             "outlinewidth": 0,
             "ticks": ""
            },
            "type": "contourcarpet"
           }
          ],
          "heatmap": [
           {
            "colorbar": {
             "outlinewidth": 0,
             "ticks": ""
            },
            "colorscale": [
             [
              0,
              "#0d0887"
             ],
             [
              0.1111111111111111,
              "#46039f"
             ],
             [
              0.2222222222222222,
              "#7201a8"
             ],
             [
              0.3333333333333333,
              "#9c179e"
             ],
             [
              0.4444444444444444,
              "#bd3786"
             ],
             [
              0.5555555555555556,
              "#d8576b"
             ],
             [
              0.6666666666666666,
              "#ed7953"
             ],
             [
              0.7777777777777778,
              "#fb9f3a"
             ],
             [
              0.8888888888888888,
              "#fdca26"
             ],
             [
              1,
              "#f0f921"
             ]
            ],
            "type": "heatmap"
           }
          ],
          "heatmapgl": [
           {
            "colorbar": {
             "outlinewidth": 0,
             "ticks": ""
            },
            "colorscale": [
             [
              0,
              "#0d0887"
             ],
             [
              0.1111111111111111,
              "#46039f"
             ],
             [
              0.2222222222222222,
              "#7201a8"
             ],
             [
              0.3333333333333333,
              "#9c179e"
             ],
             [
              0.4444444444444444,
              "#bd3786"
             ],
             [
              0.5555555555555556,
              "#d8576b"
             ],
             [
              0.6666666666666666,
              "#ed7953"
             ],
             [
              0.7777777777777778,
              "#fb9f3a"
             ],
             [
              0.8888888888888888,
              "#fdca26"
             ],
             [
              1,
              "#f0f921"
             ]
            ],
            "type": "heatmapgl"
           }
          ],
          "histogram": [
           {
            "marker": {
             "pattern": {
              "fillmode": "overlay",
              "size": 10,
              "solidity": 0.2
             }
            },
            "type": "histogram"
           }
          ],
          "histogram2d": [
           {
            "colorbar": {
             "outlinewidth": 0,
             "ticks": ""
            },
            "colorscale": [
             [
              0,
              "#0d0887"
             ],
             [
              0.1111111111111111,
              "#46039f"
             ],
             [
              0.2222222222222222,
              "#7201a8"
             ],
             [
              0.3333333333333333,
              "#9c179e"
             ],
             [
              0.4444444444444444,
              "#bd3786"
             ],
             [
              0.5555555555555556,
              "#d8576b"
             ],
             [
              0.6666666666666666,
              "#ed7953"
             ],
             [
              0.7777777777777778,
              "#fb9f3a"
             ],
             [
              0.8888888888888888,
              "#fdca26"
             ],
             [
              1,
              "#f0f921"
             ]
            ],
            "type": "histogram2d"
           }
          ],
          "histogram2dcontour": [
           {
            "colorbar": {
             "outlinewidth": 0,
             "ticks": ""
            },
            "colorscale": [
             [
              0,
              "#0d0887"
             ],
             [
              0.1111111111111111,
              "#46039f"
             ],
             [
              0.2222222222222222,
              "#7201a8"
             ],
             [
              0.3333333333333333,
              "#9c179e"
             ],
             [
              0.4444444444444444,
              "#bd3786"
             ],
             [
              0.5555555555555556,
              "#d8576b"
             ],
             [
              0.6666666666666666,
              "#ed7953"
             ],
             [
              0.7777777777777778,
              "#fb9f3a"
             ],
             [
              0.8888888888888888,
              "#fdca26"
             ],
             [
              1,
              "#f0f921"
             ]
            ],
            "type": "histogram2dcontour"
           }
          ],
          "mesh3d": [
           {
            "colorbar": {
             "outlinewidth": 0,
             "ticks": ""
            },
            "type": "mesh3d"
           }
          ],
          "parcoords": [
           {
            "line": {
             "colorbar": {
              "outlinewidth": 0,
              "ticks": ""
             }
            },
            "type": "parcoords"
           }
          ],
          "pie": [
           {
            "automargin": true,
            "type": "pie"
           }
          ],
          "scatter": [
           {
            "marker": {
             "colorbar": {
              "outlinewidth": 0,
              "ticks": ""
             }
            },
            "type": "scatter"
           }
          ],
          "scatter3d": [
           {
            "line": {
             "colorbar": {
              "outlinewidth": 0,
              "ticks": ""
             }
            },
            "marker": {
             "colorbar": {
              "outlinewidth": 0,
              "ticks": ""
             }
            },
            "type": "scatter3d"
           }
          ],
          "scattercarpet": [
           {
            "marker": {
             "colorbar": {
              "outlinewidth": 0,
              "ticks": ""
             }
            },
            "type": "scattercarpet"
           }
          ],
          "scattergeo": [
           {
            "marker": {
             "colorbar": {
              "outlinewidth": 0,
              "ticks": ""
             }
            },
            "type": "scattergeo"
           }
          ],
          "scattergl": [
           {
            "marker": {
             "colorbar": {
              "outlinewidth": 0,
              "ticks": ""
             }
            },
            "type": "scattergl"
           }
          ],
          "scattermapbox": [
           {
            "marker": {
             "colorbar": {
              "outlinewidth": 0,
              "ticks": ""
             }
            },
            "type": "scattermapbox"
           }
          ],
          "scatterpolar": [
           {
            "marker": {
             "colorbar": {
              "outlinewidth": 0,
              "ticks": ""
             }
            },
            "type": "scatterpolar"
           }
          ],
          "scatterpolargl": [
           {
            "marker": {
             "colorbar": {
              "outlinewidth": 0,
              "ticks": ""
             }
            },
            "type": "scatterpolargl"
           }
          ],
          "scatterternary": [
           {
            "marker": {
             "colorbar": {
              "outlinewidth": 0,
              "ticks": ""
             }
            },
            "type": "scatterternary"
           }
          ],
          "surface": [
           {
            "colorbar": {
             "outlinewidth": 0,
             "ticks": ""
            },
            "colorscale": [
             [
              0,
              "#0d0887"
             ],
             [
              0.1111111111111111,
              "#46039f"
             ],
             [
              0.2222222222222222,
              "#7201a8"
             ],
             [
              0.3333333333333333,
              "#9c179e"
             ],
             [
              0.4444444444444444,
              "#bd3786"
             ],
             [
              0.5555555555555556,
              "#d8576b"
             ],
             [
              0.6666666666666666,
              "#ed7953"
             ],
             [
              0.7777777777777778,
              "#fb9f3a"
             ],
             [
              0.8888888888888888,
              "#fdca26"
             ],
             [
              1,
              "#f0f921"
             ]
            ],
            "type": "surface"
           }
          ],
          "table": [
           {
            "cells": {
             "fill": {
              "color": "#EBF0F8"
             },
             "line": {
              "color": "white"
             }
            },
            "header": {
             "fill": {
              "color": "#C8D4E3"
             },
             "line": {
              "color": "white"
             }
            },
            "type": "table"
           }
          ]
         },
         "layout": {
          "annotationdefaults": {
           "arrowcolor": "#2a3f5f",
           "arrowhead": 0,
           "arrowwidth": 1
          },
          "autotypenumbers": "strict",
          "coloraxis": {
           "colorbar": {
            "outlinewidth": 0,
            "ticks": ""
           }
          },
          "colorscale": {
           "diverging": [
            [
             0,
             "#8e0152"
            ],
            [
             0.1,
             "#c51b7d"
            ],
            [
             0.2,
             "#de77ae"
            ],
            [
             0.3,
             "#f1b6da"
            ],
            [
             0.4,
             "#fde0ef"
            ],
            [
             0.5,
             "#f7f7f7"
            ],
            [
             0.6,
             "#e6f5d0"
            ],
            [
             0.7,
             "#b8e186"
            ],
            [
             0.8,
             "#7fbc41"
            ],
            [
             0.9,
             "#4d9221"
            ],
            [
             1,
             "#276419"
            ]
           ],
           "sequential": [
            [
             0,
             "#0d0887"
            ],
            [
             0.1111111111111111,
             "#46039f"
            ],
            [
             0.2222222222222222,
             "#7201a8"
            ],
            [
             0.3333333333333333,
             "#9c179e"
            ],
            [
             0.4444444444444444,
             "#bd3786"
            ],
            [
             0.5555555555555556,
             "#d8576b"
            ],
            [
             0.6666666666666666,
             "#ed7953"
            ],
            [
             0.7777777777777778,
             "#fb9f3a"
            ],
            [
             0.8888888888888888,
             "#fdca26"
            ],
            [
             1,
             "#f0f921"
            ]
           ],
           "sequentialminus": [
            [
             0,
             "#0d0887"
            ],
            [
             0.1111111111111111,
             "#46039f"
            ],
            [
             0.2222222222222222,
             "#7201a8"
            ],
            [
             0.3333333333333333,
             "#9c179e"
            ],
            [
             0.4444444444444444,
             "#bd3786"
            ],
            [
             0.5555555555555556,
             "#d8576b"
            ],
            [
             0.6666666666666666,
             "#ed7953"
            ],
            [
             0.7777777777777778,
             "#fb9f3a"
            ],
            [
             0.8888888888888888,
             "#fdca26"
            ],
            [
             1,
             "#f0f921"
            ]
           ]
          },
          "colorway": [
           "#636efa",
           "#EF553B",
           "#00cc96",
           "#ab63fa",
           "#FFA15A",
           "#19d3f3",
           "#FF6692",
           "#B6E880",
           "#FF97FF",
           "#FECB52"
          ],
          "font": {
           "color": "#2a3f5f"
          },
          "geo": {
           "bgcolor": "white",
           "lakecolor": "white",
           "landcolor": "#E5ECF6",
           "showlakes": true,
           "showland": true,
           "subunitcolor": "white"
          },
          "hoverlabel": {
           "align": "left"
          },
          "hovermode": "closest",
          "mapbox": {
           "style": "light"
          },
          "paper_bgcolor": "white",
          "plot_bgcolor": "#E5ECF6",
          "polar": {
           "angularaxis": {
            "gridcolor": "white",
            "linecolor": "white",
            "ticks": ""
           },
           "bgcolor": "#E5ECF6",
           "radialaxis": {
            "gridcolor": "white",
            "linecolor": "white",
            "ticks": ""
           }
          },
          "scene": {
           "xaxis": {
            "backgroundcolor": "#E5ECF6",
            "gridcolor": "white",
            "gridwidth": 2,
            "linecolor": "white",
            "showbackground": true,
            "ticks": "",
            "zerolinecolor": "white"
           },
           "yaxis": {
            "backgroundcolor": "#E5ECF6",
            "gridcolor": "white",
            "gridwidth": 2,
            "linecolor": "white",
            "showbackground": true,
            "ticks": "",
            "zerolinecolor": "white"
           },
           "zaxis": {
            "backgroundcolor": "#E5ECF6",
            "gridcolor": "white",
            "gridwidth": 2,
            "linecolor": "white",
            "showbackground": true,
            "ticks": "",
            "zerolinecolor": "white"
           }
          },
          "shapedefaults": {
           "line": {
            "color": "#2a3f5f"
           }
          },
          "ternary": {
           "aaxis": {
            "gridcolor": "white",
            "linecolor": "white",
            "ticks": ""
           },
           "baxis": {
            "gridcolor": "white",
            "linecolor": "white",
            "ticks": ""
           },
           "bgcolor": "#E5ECF6",
           "caxis": {
            "gridcolor": "white",
            "linecolor": "white",
            "ticks": ""
           }
          },
          "title": {
           "x": 0.05
          },
          "xaxis": {
           "automargin": true,
           "gridcolor": "white",
           "linecolor": "white",
           "ticks": "",
           "title": {
            "standoff": 15
           },
           "zerolinecolor": "white",
           "zerolinewidth": 2
          },
          "yaxis": {
           "automargin": true,
           "gridcolor": "white",
           "linecolor": "white",
           "ticks": "",
           "title": {
            "standoff": 15
           },
           "zerolinecolor": "white",
           "zerolinewidth": 2
          }
         }
        },
        "xaxis": {
         "anchor": "y",
         "domain": [
          0,
          1
         ],
         "title": {
          "text": "token"
         }
        },
        "yaxis": {
         "anchor": "x",
         "domain": [
          0,
          1
         ],
         "title": {
          "text": "twitter_followers"
         }
        }
       }
      }
     },
     "metadata": {},
     "output_type": "display_data"
    }
   ],
   "source": [
    "### BUILDING REDDIT COMMENTS HTML GRAPH\n",
    "display(df.head(5))\n",
    "\n",
    "fig = px.scatter(df, x=df['id'], y=df['twitter_followers'],\n",
    "                labels={\n",
    "                     \"sum of twitter_followers\": \"twitter_followers\",\n",
    "                     \"id\": \"token\"\n",
    "#                      \"species\": \"Species of Iris\"\n",
    "                 },)\n",
    "py.offline.plot(fig, filename='twitter_followers.html')\n",
    "\n",
    "\n",
    "# print(tls.get_embed('https://plotly.com/~fooba/1'))\n",
    "fig.show()\n"
   ]
  },
  {
   "cell_type": "code",
   "execution_count": 6,
   "metadata": {},
   "outputs": [
    {
     "name": "stdout",
     "output_type": "stream",
     "text": [
      "         dates\n",
      "0   06-10-2021\n",
      "1   07-10-2021\n",
      "2   08-10-2021\n",
      "3   09-10-2021\n",
      "4   10-10-2021\n",
      "..         ...\n",
      "56  01-12-2021\n",
      "57  02-12-2021\n",
      "58  03-12-2021\n",
      "59  04-12-2021\n",
      "60  05-12-2021\n",
      "\n",
      "[61 rows x 1 columns]\n",
      "06-10-2021\n",
      "just added:  ethereum\n",
      "06-10-2021\n",
      "just added:  bitcoin\n",
      "06-10-2021\n",
      "just added:  binancecoin\n",
      "06-10-2021\n",
      "just added:  solana\n",
      "06-10-2021\n",
      "just added:  polkadot\n",
      "06-10-2021\n",
      "just added:  flow\n",
      "06-10-2021\n",
      "just added:  dogecoin\n",
      "06-10-2021\n",
      "just added:  audius\n",
      "06-10-2021\n",
      "just added:  fantom\n",
      "06-10-2021\n",
      "just added:  brokoli\n",
      "27-11-2021\n",
      "just added:  unix\n",
      "06-10-2021\n",
      "just added:  wonderland\n",
      "06-10-2021\n",
      "just added:  terra-luna\n"
     ]
    },
    {
     "data": {
      "text/html": [
       "<div>\n",
       "<style scoped>\n",
       "    .dataframe tbody tr th:only-of-type {\n",
       "        vertical-align: middle;\n",
       "    }\n",
       "\n",
       "    .dataframe tbody tr th {\n",
       "        vertical-align: top;\n",
       "    }\n",
       "\n",
       "    .dataframe thead th {\n",
       "        text-align: right;\n",
       "    }\n",
       "</style>\n",
       "<table border=\"1\" class=\"dataframe\">\n",
       "  <thead>\n",
       "    <tr style=\"text-align: right;\">\n",
       "      <th></th>\n",
       "      <th>dates</th>\n",
       "      <th>ethereum</th>\n",
       "      <th>bitcoin</th>\n",
       "      <th>binancecoin</th>\n",
       "      <th>solana</th>\n",
       "      <th>polkadot</th>\n",
       "      <th>flow</th>\n",
       "      <th>dogecoin</th>\n",
       "      <th>audius</th>\n",
       "      <th>fantom</th>\n",
       "      <th>brokoli</th>\n",
       "      <th>unix</th>\n",
       "      <th>wonderland</th>\n",
       "      <th>terra-luna</th>\n",
       "    </tr>\n",
       "  </thead>\n",
       "  <tbody>\n",
       "    <tr>\n",
       "      <th>0</th>\n",
       "      <td>27-11-2021</td>\n",
       "      <td>4084.088486</td>\n",
       "      <td>54533.403882</td>\n",
       "      <td>598.065883</td>\n",
       "      <td>192.136200</td>\n",
       "      <td>34.951339</td>\n",
       "      <td>11.821434</td>\n",
       "      <td>0.204382</td>\n",
       "      <td>2.411792</td>\n",
       "      <td>2.067045</td>\n",
       "      <td>1.270884</td>\n",
       "      <td>1.028047</td>\n",
       "      <td>7445.431029</td>\n",
       "      <td>43.446797</td>\n",
       "    </tr>\n",
       "    <tr>\n",
       "      <th>1</th>\n",
       "      <td>28-11-2021</td>\n",
       "      <td>4290.091863</td>\n",
       "      <td>57237.661137</td>\n",
       "      <td>611.448234</td>\n",
       "      <td>200.461419</td>\n",
       "      <td>35.644429</td>\n",
       "      <td>12.269246</td>\n",
       "      <td>0.207534</td>\n",
       "      <td>2.425914</td>\n",
       "      <td>2.108851</td>\n",
       "      <td>1.271546</td>\n",
       "      <td>1.028047</td>\n",
       "      <td>7250.842405</td>\n",
       "      <td>49.970573</td>\n",
       "    </tr>\n",
       "    <tr>\n",
       "      <th>2</th>\n",
       "      <td>29-11-2021</td>\n",
       "      <td>4444.528280</td>\n",
       "      <td>57848.773537</td>\n",
       "      <td>623.819158</td>\n",
       "      <td>204.350423</td>\n",
       "      <td>37.188262</td>\n",
       "      <td>12.803239</td>\n",
       "      <td>0.215241</td>\n",
       "      <td>2.406927</td>\n",
       "      <td>2.156258</td>\n",
       "      <td>1.644771</td>\n",
       "      <td>1.192060</td>\n",
       "      <td>7642.250665</td>\n",
       "      <td>51.580068</td>\n",
       "    </tr>\n",
       "    <tr>\n",
       "      <th>3</th>\n",
       "      <td>30-11-2021</td>\n",
       "      <td>4637.121617</td>\n",
       "      <td>57011.280474</td>\n",
       "      <td>624.047887</td>\n",
       "      <td>208.705589</td>\n",
       "      <td>38.003426</td>\n",
       "      <td>12.420904</td>\n",
       "      <td>0.214983</td>\n",
       "      <td>2.305691</td>\n",
       "      <td>2.144709</td>\n",
       "      <td>1.762750</td>\n",
       "      <td>1.359894</td>\n",
       "      <td>8002.677220</td>\n",
       "      <td>59.126139</td>\n",
       "    </tr>\n",
       "    <tr>\n",
       "      <th>4</th>\n",
       "      <td>01-12-2021</td>\n",
       "      <td>4589.610618</td>\n",
       "      <td>57169.371994</td>\n",
       "      <td>627.529814</td>\n",
       "      <td>229.448724</td>\n",
       "      <td>36.699057</td>\n",
       "      <td>12.293802</td>\n",
       "      <td>0.209487</td>\n",
       "      <td>2.359353</td>\n",
       "      <td>2.141166</td>\n",
       "      <td>1.564412</td>\n",
       "      <td>1.292847</td>\n",
       "      <td>7753.919012</td>\n",
       "      <td>64.317810</td>\n",
       "    </tr>\n",
       "  </tbody>\n",
       "</table>\n",
       "</div>"
      ],
      "text/plain": [
       "        dates     ethereum       bitcoin  binancecoin      solana   polkadot  \\\n",
       "0  27-11-2021  4084.088486  54533.403882   598.065883  192.136200  34.951339   \n",
       "1  28-11-2021  4290.091863  57237.661137   611.448234  200.461419  35.644429   \n",
       "2  29-11-2021  4444.528280  57848.773537   623.819158  204.350423  37.188262   \n",
       "3  30-11-2021  4637.121617  57011.280474   624.047887  208.705589  38.003426   \n",
       "4  01-12-2021  4589.610618  57169.371994   627.529814  229.448724  36.699057   \n",
       "\n",
       "        flow  dogecoin    audius    fantom   brokoli      unix   wonderland  \\\n",
       "0  11.821434  0.204382  2.411792  2.067045  1.270884  1.028047  7445.431029   \n",
       "1  12.269246  0.207534  2.425914  2.108851  1.271546  1.028047  7250.842405   \n",
       "2  12.803239  0.215241  2.406927  2.156258  1.644771  1.192060  7642.250665   \n",
       "3  12.420904  0.214983  2.305691  2.144709  1.762750  1.359894  8002.677220   \n",
       "4  12.293802  0.209487  2.359353  2.141166  1.564412  1.292847  7753.919012   \n",
       "\n",
       "   terra-luna  \n",
       "0   43.446797  \n",
       "1   49.970573  \n",
       "2   51.580068  \n",
       "3   59.126139  \n",
       "4   64.317810  "
      ]
     },
     "metadata": {},
     "output_type": "display_data"
    }
   ],
   "source": [
    "#clean version of historic prices request\n",
    "#timestamps are in day-month-year\n",
    "import requests\n",
    "import datetime\n",
    "import pandas as pd\n",
    "from datetime import timedelta\n",
    "\n",
    "# dfPrices = pd.DataFrame()\n",
    "# geckoReq = 'https://api.coingecko.com/api/v3/coins/ethereum/market_chart?vs_currency=usd&days=60&interval=daily'\n",
    "geckoReq = 'https://api.coingecko.com/api/v3/coins/ethereum/market_chart?vs_currency=usd&days=60&interval=daily'\n",
    "\n",
    "r = requests.get(geckoReq).json()\n",
    "ts = r['prices'][0][0]\n",
    "ts = ts/1000\n",
    "HistPricesList = []\n",
    "for i in range(len(r['prices'])):\n",
    "    currentUnix = r['prices'][i][0] \n",
    "    price = r['prices'][i][1]\n",
    "    currentUnix = currentUnix/1000\n",
    "    currentTS = datetime.datetime.fromtimestamp(currentUnix).strftime(\"%d-%m-%Y\")\n",
    "    HistPricesList.append([currentTS])\n",
    "global dfPrices\n",
    "dfPrices = pd.DataFrame(HistPricesList, columns = ['dates'])\n",
    "print(dfPrices)\n",
    "\n",
    "# display(dfCoin)\n",
    "# print('dfprices')\n",
    "# display(dfPrices)\n",
    "\n",
    "# coin='ethereum'\n",
    "def historicalCoinPrices(coin):\n",
    "    global dfPrices\n",
    "    # geckoReq = 'https://api.coingecko.com/api/v3/coins/ethereum/market_chart?vs_currency=usd&days=60&interval=daily'\n",
    "    geckoReq = 'https://api.coingecko.com/api/v3/coins/'+coin+'/market_chart?vs_currency=usd&days=60&interval=daily'\n",
    "\n",
    "    r = requests.get(geckoReq).json()\n",
    "    ts = r['prices'][0][0]\n",
    "    # print(ts)\n",
    "    ts = ts/1000\n",
    "    print(datetime.datetime.fromtimestamp(ts).strftime(\"%d-%m-%Y\"))\n",
    "    # print('prices length',len(r['prices']))\n",
    "    HistPricesList = []\n",
    "    for i in range(len(r['prices'])):\n",
    "        currentUnix = r['prices'][i][0] \n",
    "        price = r['prices'][i][1]\n",
    "        currentUnix = currentUnix/1000\n",
    "        currentTS = datetime.datetime.fromtimestamp(currentUnix).strftime(\"%d-%m-%Y\")\n",
    "    #     print('price: ', price, 'TS: ', currentTS)\n",
    "        HistPricesList.append([currentTS, price])\n",
    "    #     currentUnix = currentTS\n",
    "#     print(HistPricesList)\n",
    "    dfCoin = pd.DataFrame(HistPricesList, columns = ['dates', coin])\n",
    "    # display(dfCoin)\n",
    "    dfPrices = pd.merge(dfPrices, dfCoin[coin], left_on = dfPrices['dates'], right_on=dfCoin['dates']).drop(['key_0'], axis = 1)\n",
    "    # display(dfPrices)\n",
    "\n",
    "for i in myCoinsList:\n",
    "    historicalCoinPrices(i)\n",
    "    print('just added: ', i)\n",
    "\n",
    "\n",
    "display(dfPrices.head(5))"
   ]
  },
  {
   "cell_type": "code",
   "execution_count": 7,
   "metadata": {},
   "outputs": [
    {
     "data": {
      "text/html": [
       "<div>\n",
       "<style scoped>\n",
       "    .dataframe tbody tr th:only-of-type {\n",
       "        vertical-align: middle;\n",
       "    }\n",
       "\n",
       "    .dataframe tbody tr th {\n",
       "        vertical-align: top;\n",
       "    }\n",
       "\n",
       "    .dataframe thead th {\n",
       "        text-align: right;\n",
       "    }\n",
       "</style>\n",
       "<table border=\"1\" class=\"dataframe\">\n",
       "  <thead>\n",
       "    <tr style=\"text-align: right;\">\n",
       "      <th></th>\n",
       "      <th>ethereum</th>\n",
       "      <th>bitcoin</th>\n",
       "      <th>binancecoin</th>\n",
       "      <th>solana</th>\n",
       "      <th>polkadot</th>\n",
       "      <th>flow</th>\n",
       "      <th>dogecoin</th>\n",
       "      <th>audius</th>\n",
       "      <th>fantom</th>\n",
       "      <th>brokoli</th>\n",
       "      <th>unix</th>\n",
       "      <th>wonderland</th>\n",
       "      <th>terra-luna</th>\n",
       "    </tr>\n",
       "    <tr>\n",
       "      <th>dates</th>\n",
       "      <th></th>\n",
       "      <th></th>\n",
       "      <th></th>\n",
       "      <th></th>\n",
       "      <th></th>\n",
       "      <th></th>\n",
       "      <th></th>\n",
       "      <th></th>\n",
       "      <th></th>\n",
       "      <th></th>\n",
       "      <th></th>\n",
       "      <th></th>\n",
       "      <th></th>\n",
       "    </tr>\n",
       "  </thead>\n",
       "  <tbody>\n",
       "    <tr>\n",
       "      <th>27-11-2021</th>\n",
       "      <td>NaN</td>\n",
       "      <td>NaN</td>\n",
       "      <td>NaN</td>\n",
       "      <td>NaN</td>\n",
       "      <td>NaN</td>\n",
       "      <td>NaN</td>\n",
       "      <td>NaN</td>\n",
       "      <td>NaN</td>\n",
       "      <td>NaN</td>\n",
       "      <td>NaN</td>\n",
       "      <td>NaN</td>\n",
       "      <td>NaN</td>\n",
       "      <td>NaN</td>\n",
       "    </tr>\n",
       "    <tr>\n",
       "      <th>28-11-2021</th>\n",
       "      <td>0.050440</td>\n",
       "      <td>0.049589</td>\n",
       "      <td>0.022376</td>\n",
       "      <td>0.043330</td>\n",
       "      <td>0.019830</td>\n",
       "      <td>0.037881</td>\n",
       "      <td>0.015419</td>\n",
       "      <td>0.005855</td>\n",
       "      <td>0.020225</td>\n",
       "      <td>0.000521</td>\n",
       "      <td>0.000000</td>\n",
       "      <td>-0.026135</td>\n",
       "      <td>0.150156</td>\n",
       "    </tr>\n",
       "    <tr>\n",
       "      <th>29-11-2021</th>\n",
       "      <td>0.035998</td>\n",
       "      <td>0.010677</td>\n",
       "      <td>0.020232</td>\n",
       "      <td>0.019400</td>\n",
       "      <td>0.043312</td>\n",
       "      <td>0.043523</td>\n",
       "      <td>0.037135</td>\n",
       "      <td>-0.007827</td>\n",
       "      <td>0.022480</td>\n",
       "      <td>0.293520</td>\n",
       "      <td>0.159539</td>\n",
       "      <td>0.053981</td>\n",
       "      <td>0.032209</td>\n",
       "    </tr>\n",
       "    <tr>\n",
       "      <th>30-11-2021</th>\n",
       "      <td>0.043333</td>\n",
       "      <td>-0.014477</td>\n",
       "      <td>0.000367</td>\n",
       "      <td>0.021312</td>\n",
       "      <td>0.021920</td>\n",
       "      <td>-0.029862</td>\n",
       "      <td>-0.001199</td>\n",
       "      <td>-0.042060</td>\n",
       "      <td>-0.005356</td>\n",
       "      <td>0.071730</td>\n",
       "      <td>0.140793</td>\n",
       "      <td>0.047162</td>\n",
       "      <td>0.146298</td>\n",
       "    </tr>\n",
       "    <tr>\n",
       "      <th>01-12-2021</th>\n",
       "      <td>-0.010246</td>\n",
       "      <td>0.002773</td>\n",
       "      <td>0.005580</td>\n",
       "      <td>0.099389</td>\n",
       "      <td>-0.034322</td>\n",
       "      <td>-0.010233</td>\n",
       "      <td>-0.025565</td>\n",
       "      <td>0.023274</td>\n",
       "      <td>-0.001652</td>\n",
       "      <td>-0.112516</td>\n",
       "      <td>-0.049303</td>\n",
       "      <td>-0.031084</td>\n",
       "      <td>0.087807</td>\n",
       "    </tr>\n",
       "  </tbody>\n",
       "</table>\n",
       "</div>"
      ],
      "text/plain": [
       "            ethereum   bitcoin  binancecoin    solana  polkadot      flow  \\\n",
       "dates                                                                       \n",
       "27-11-2021       NaN       NaN          NaN       NaN       NaN       NaN   \n",
       "28-11-2021  0.050440  0.049589     0.022376  0.043330  0.019830  0.037881   \n",
       "29-11-2021  0.035998  0.010677     0.020232  0.019400  0.043312  0.043523   \n",
       "30-11-2021  0.043333 -0.014477     0.000367  0.021312  0.021920 -0.029862   \n",
       "01-12-2021 -0.010246  0.002773     0.005580  0.099389 -0.034322 -0.010233   \n",
       "\n",
       "            dogecoin    audius    fantom   brokoli      unix  wonderland  \\\n",
       "dates                                                                      \n",
       "27-11-2021       NaN       NaN       NaN       NaN       NaN         NaN   \n",
       "28-11-2021  0.015419  0.005855  0.020225  0.000521  0.000000   -0.026135   \n",
       "29-11-2021  0.037135 -0.007827  0.022480  0.293520  0.159539    0.053981   \n",
       "30-11-2021 -0.001199 -0.042060 -0.005356  0.071730  0.140793    0.047162   \n",
       "01-12-2021 -0.025565  0.023274 -0.001652 -0.112516 -0.049303   -0.031084   \n",
       "\n",
       "            terra-luna  \n",
       "dates                   \n",
       "27-11-2021         NaN  \n",
       "28-11-2021    0.150156  \n",
       "29-11-2021    0.032209  \n",
       "30-11-2021    0.146298  \n",
       "01-12-2021    0.087807  "
      ]
     },
     "metadata": {},
     "output_type": "display_data"
    },
    {
     "data": {
      "application/vnd.plotly.v1+json": {
       "config": {
        "plotlyServerURL": "https://plot.ly"
       },
       "data": [
        {
         "hovertemplate": "coin=ethereum<br>dates=%{x}<br>Percent Change=%{y}<extra></extra>",
         "legendgroup": "ethereum",
         "line": {
          "color": "#636efa",
          "dash": "solid"
         },
         "marker": {
          "symbol": "circle"
         },
         "mode": "lines",
         "name": "ethereum",
         "orientation": "v",
         "showlegend": true,
         "type": "scatter",
         "x": [
          "27-11-2021",
          "28-11-2021",
          "29-11-2021",
          "30-11-2021",
          "01-12-2021",
          "02-12-2021",
          "03-12-2021",
          "04-12-2021",
          "05-12-2021"
         ],
         "xaxis": "x",
         "y": [
          null,
          0.05044047834956289,
          0.0359983940282933,
          0.04333268344454688,
          -0.010245795391650603,
          -0.015288789258551594,
          -0.061796472060979823,
          -0.032663595580194826,
          0.013739416660866421
         ],
         "yaxis": "y"
        },
        {
         "hovertemplate": "coin=bitcoin<br>dates=%{x}<br>Percent Change=%{y}<extra></extra>",
         "legendgroup": "bitcoin",
         "line": {
          "color": "#EF553B",
          "dash": "solid"
         },
         "marker": {
          "symbol": "circle"
         },
         "mode": "lines",
         "name": "bitcoin",
         "orientation": "v",
         "showlegend": true,
         "type": "scatter",
         "x": [
          "27-11-2021",
          "28-11-2021",
          "29-11-2021",
          "30-11-2021",
          "01-12-2021",
          "02-12-2021",
          "03-12-2021",
          "04-12-2021",
          "05-12-2021"
         ],
         "xaxis": "x",
         "y": [
          null,
          0.04958900530936705,
          0.010676753520305171,
          -0.01447728295138373,
          0.002772986648486908,
          -0.011563953157635254,
          -0.048175266653738724,
          -0.08596994171332117,
          -0.0075396644739806895
         ],
         "yaxis": "y"
        },
        {
         "hovertemplate": "coin=binancecoin<br>dates=%{x}<br>Percent Change=%{y}<extra></extra>",
         "legendgroup": "binancecoin",
         "line": {
          "color": "#00cc96",
          "dash": "solid"
         },
         "marker": {
          "symbol": "circle"
         },
         "mode": "lines",
         "name": "binancecoin",
         "orientation": "v",
         "showlegend": true,
         "type": "scatter",
         "x": [
          "27-11-2021",
          "28-11-2021",
          "29-11-2021",
          "30-11-2021",
          "01-12-2021",
          "02-12-2021",
          "03-12-2021",
          "04-12-2021",
          "05-12-2021"
         ],
         "xaxis": "x",
         "y": [
          null,
          0.022376048056987674,
          0.020232170390312332,
          0.0003666586813901862,
          0.00557958204400677,
          -0.011191064180610777,
          -0.038843586680954445,
          -0.04888436434237675,
          -0.02133637448623038
         ],
         "yaxis": "y"
        },
        {
         "hovertemplate": "coin=solana<br>dates=%{x}<br>Percent Change=%{y}<extra></extra>",
         "legendgroup": "solana",
         "line": {
          "color": "#ab63fa",
          "dash": "solid"
         },
         "marker": {
          "symbol": "circle"
         },
         "mode": "lines",
         "name": "solana",
         "orientation": "v",
         "showlegend": true,
         "type": "scatter",
         "x": [
          "27-11-2021",
          "28-11-2021",
          "29-11-2021",
          "30-11-2021",
          "01-12-2021",
          "02-12-2021",
          "03-12-2021",
          "04-12-2021",
          "05-12-2021"
         ],
         "xaxis": "x",
         "y": [
          null,
          0.04332978208850391,
          0.019400260634672595,
          0.02131224269067955,
          0.09938945557819956,
          0.013613080146855028,
          -0.08787954914848506,
          -0.05276184352605717,
          -0.045886732180943746
         ],
         "yaxis": "y"
        },
        {
         "hovertemplate": "coin=polkadot<br>dates=%{x}<br>Percent Change=%{y}<extra></extra>",
         "legendgroup": "polkadot",
         "line": {
          "color": "#FFA15A",
          "dash": "solid"
         },
         "marker": {
          "symbol": "circle"
         },
         "mode": "lines",
         "name": "polkadot",
         "orientation": "v",
         "showlegend": true,
         "type": "scatter",
         "x": [
          "27-11-2021",
          "28-11-2021",
          "29-11-2021",
          "30-11-2021",
          "01-12-2021",
          "02-12-2021",
          "03-12-2021",
          "04-12-2021",
          "05-12-2021"
         ],
         "xaxis": "x",
         "y": [
          null,
          0.01983014134653205,
          0.04331205640358382,
          0.021919938450810195,
          -0.03432241382947476,
          -0.026658542112006467,
          -0.05385265147962137,
          -0.1337174292712402,
          -0.06320132972986547
         ],
         "yaxis": "y"
        },
        {
         "hovertemplate": "coin=flow<br>dates=%{x}<br>Percent Change=%{y}<extra></extra>",
         "legendgroup": "flow",
         "line": {
          "color": "#19d3f3",
          "dash": "solid"
         },
         "marker": {
          "symbol": "circle"
         },
         "mode": "lines",
         "name": "flow",
         "orientation": "v",
         "showlegend": true,
         "type": "scatter",
         "x": [
          "27-11-2021",
          "28-11-2021",
          "29-11-2021",
          "30-11-2021",
          "01-12-2021",
          "02-12-2021",
          "03-12-2021",
          "04-12-2021",
          "05-12-2021"
         ],
         "xaxis": "x",
         "y": [
          null,
          0.0378813724833007,
          0.043522877147433636,
          -0.029862372815743665,
          -0.010232883080315114,
          -0.01994212165516729,
          -0.03868032812302269,
          -0.14454986829720695,
          -0.050960348567169134
         ],
         "yaxis": "y"
        },
        {
         "hovertemplate": "coin=dogecoin<br>dates=%{x}<br>Percent Change=%{y}<extra></extra>",
         "legendgroup": "dogecoin",
         "line": {
          "color": "#FF6692",
          "dash": "solid"
         },
         "marker": {
          "symbol": "circle"
         },
         "mode": "lines",
         "name": "dogecoin",
         "orientation": "v",
         "showlegend": true,
         "type": "scatter",
         "x": [
          "27-11-2021",
          "28-11-2021",
          "29-11-2021",
          "30-11-2021",
          "01-12-2021",
          "02-12-2021",
          "03-12-2021",
          "04-12-2021",
          "05-12-2021"
         ],
         "xaxis": "x",
         "y": [
          null,
          0.015419132701803395,
          0.0371353797145928,
          -0.0011994912323954887,
          -0.02556501685807777,
          0.0011717887652427095,
          -0.04038718289627663,
          -0.11067667435741357,
          -0.04803650807941262
         ],
         "yaxis": "y"
        },
        {
         "hovertemplate": "coin=audius<br>dates=%{x}<br>Percent Change=%{y}<extra></extra>",
         "legendgroup": "audius",
         "line": {
          "color": "#B6E880",
          "dash": "solid"
         },
         "marker": {
          "symbol": "circle"
         },
         "mode": "lines",
         "name": "audius",
         "orientation": "v",
         "showlegend": true,
         "type": "scatter",
         "x": [
          "27-11-2021",
          "28-11-2021",
          "29-11-2021",
          "30-11-2021",
          "01-12-2021",
          "02-12-2021",
          "03-12-2021",
          "04-12-2021",
          "05-12-2021"
         ],
         "xaxis": "x",
         "y": [
          null,
          0.005855298133141895,
          -0.007826846168158208,
          -0.042060012849718276,
          0.02327377482356252,
          -0.048959862074546945,
          -0.028387973497666197,
          -0.13628660536020265,
          -0.09805930073621516
         ],
         "yaxis": "y"
        },
        {
         "hovertemplate": "coin=fantom<br>dates=%{x}<br>Percent Change=%{y}<extra></extra>",
         "legendgroup": "fantom",
         "line": {
          "color": "#FF97FF",
          "dash": "solid"
         },
         "marker": {
          "symbol": "circle"
         },
         "mode": "lines",
         "name": "fantom",
         "orientation": "v",
         "showlegend": true,
         "type": "scatter",
         "x": [
          "27-11-2021",
          "28-11-2021",
          "29-11-2021",
          "30-11-2021",
          "01-12-2021",
          "02-12-2021",
          "03-12-2021",
          "04-12-2021",
          "05-12-2021"
         ],
         "xaxis": "x",
         "y": [
          null,
          0.020224736598057014,
          0.022479947794497468,
          -0.005356059972857707,
          -0.0016517918581563373,
          -0.03859806648993047,
          -0.03455655032148652,
          -0.1327777928507332,
          -0.10821312847293085
         ],
         "yaxis": "y"
        },
        {
         "hovertemplate": "coin=brokoli<br>dates=%{x}<br>Percent Change=%{y}<extra></extra>",
         "legendgroup": "brokoli",
         "line": {
          "color": "#FECB52",
          "dash": "solid"
         },
         "marker": {
          "symbol": "circle"
         },
         "mode": "lines",
         "name": "brokoli",
         "orientation": "v",
         "showlegend": true,
         "type": "scatter",
         "x": [
          "27-11-2021",
          "28-11-2021",
          "29-11-2021",
          "30-11-2021",
          "01-12-2021",
          "02-12-2021",
          "03-12-2021",
          "04-12-2021",
          "05-12-2021"
         ],
         "xaxis": "x",
         "y": [
          null,
          0.0005208577803859082,
          0.29352030090978,
          0.07173026875407795,
          -0.11251647776797102,
          -0.08452624879976978,
          -0.02889512818233153,
          -0.14430483719036946,
          0.13237955936091295
         ],
         "yaxis": "y"
        },
        {
         "hovertemplate": "coin=unix<br>dates=%{x}<br>Percent Change=%{y}<extra></extra>",
         "legendgroup": "unix",
         "line": {
          "color": "#636efa",
          "dash": "solid"
         },
         "marker": {
          "symbol": "circle"
         },
         "mode": "lines",
         "name": "unix",
         "orientation": "v",
         "showlegend": true,
         "type": "scatter",
         "x": [
          "27-11-2021",
          "28-11-2021",
          "29-11-2021",
          "30-11-2021",
          "01-12-2021",
          "02-12-2021",
          "03-12-2021",
          "04-12-2021",
          "05-12-2021"
         ],
         "xaxis": "x",
         "y": [
          null,
          0,
          0.15953867498768992,
          0.14079316467626368,
          -0.049303074291179416,
          -0.08653484160099123,
          -0.02141511497875026,
          -0.11196609380427636,
          -0.19921750627180157
         ],
         "yaxis": "y"
        },
        {
         "hovertemplate": "coin=wonderland<br>dates=%{x}<br>Percent Change=%{y}<extra></extra>",
         "legendgroup": "wonderland",
         "line": {
          "color": "#EF553B",
          "dash": "solid"
         },
         "marker": {
          "symbol": "circle"
         },
         "mode": "lines",
         "name": "wonderland",
         "orientation": "v",
         "showlegend": true,
         "type": "scatter",
         "x": [
          "27-11-2021",
          "28-11-2021",
          "29-11-2021",
          "30-11-2021",
          "01-12-2021",
          "02-12-2021",
          "03-12-2021",
          "04-12-2021",
          "05-12-2021"
         ],
         "xaxis": "x",
         "y": [
          null,
          -0.026135306719106355,
          0.0539810739312383,
          0.04716235714985473,
          -0.031084373519235764,
          -0.08292308869429743,
          -0.019275223444782608,
          -0.0693780926939227,
          -0.0614569324454145
         ],
         "yaxis": "y"
        },
        {
         "hovertemplate": "coin=terra-luna<br>dates=%{x}<br>Percent Change=%{y}<extra></extra>",
         "legendgroup": "terra-luna",
         "line": {
          "color": "#00cc96",
          "dash": "solid"
         },
         "marker": {
          "symbol": "circle"
         },
         "mode": "lines",
         "name": "terra-luna",
         "orientation": "v",
         "showlegend": true,
         "type": "scatter",
         "x": [
          "27-11-2021",
          "28-11-2021",
          "29-11-2021",
          "30-11-2021",
          "01-12-2021",
          "02-12-2021",
          "03-12-2021",
          "04-12-2021",
          "05-12-2021"
         ],
         "xaxis": "x",
         "y": [
          null,
          0.15015550722654636,
          0.03220887391079752,
          0.14629819512139153,
          0.08780668367121236,
          0.023166853552638145,
          -0.02530782210649629,
          0.18408717730976853,
          -0.11420763027409553
         ],
         "yaxis": "y"
        }
       ],
       "layout": {
        "legend": {
         "title": {
          "text": "coin"
         },
         "tracegroupgap": 0
        },
        "margin": {
         "t": 60
        },
        "template": {
         "data": {
          "bar": [
           {
            "error_x": {
             "color": "#2a3f5f"
            },
            "error_y": {
             "color": "#2a3f5f"
            },
            "marker": {
             "line": {
              "color": "#E5ECF6",
              "width": 0.5
             },
             "pattern": {
              "fillmode": "overlay",
              "size": 10,
              "solidity": 0.2
             }
            },
            "type": "bar"
           }
          ],
          "barpolar": [
           {
            "marker": {
             "line": {
              "color": "#E5ECF6",
              "width": 0.5
             },
             "pattern": {
              "fillmode": "overlay",
              "size": 10,
              "solidity": 0.2
             }
            },
            "type": "barpolar"
           }
          ],
          "carpet": [
           {
            "aaxis": {
             "endlinecolor": "#2a3f5f",
             "gridcolor": "white",
             "linecolor": "white",
             "minorgridcolor": "white",
             "startlinecolor": "#2a3f5f"
            },
            "baxis": {
             "endlinecolor": "#2a3f5f",
             "gridcolor": "white",
             "linecolor": "white",
             "minorgridcolor": "white",
             "startlinecolor": "#2a3f5f"
            },
            "type": "carpet"
           }
          ],
          "choropleth": [
           {
            "colorbar": {
             "outlinewidth": 0,
             "ticks": ""
            },
            "type": "choropleth"
           }
          ],
          "contour": [
           {
            "colorbar": {
             "outlinewidth": 0,
             "ticks": ""
            },
            "colorscale": [
             [
              0,
              "#0d0887"
             ],
             [
              0.1111111111111111,
              "#46039f"
             ],
             [
              0.2222222222222222,
              "#7201a8"
             ],
             [
              0.3333333333333333,
              "#9c179e"
             ],
             [
              0.4444444444444444,
              "#bd3786"
             ],
             [
              0.5555555555555556,
              "#d8576b"
             ],
             [
              0.6666666666666666,
              "#ed7953"
             ],
             [
              0.7777777777777778,
              "#fb9f3a"
             ],
             [
              0.8888888888888888,
              "#fdca26"
             ],
             [
              1,
              "#f0f921"
             ]
            ],
            "type": "contour"
           }
          ],
          "contourcarpet": [
           {
            "colorbar": {
             "outlinewidth": 0,
             "ticks": ""
            },
            "type": "contourcarpet"
           }
          ],
          "heatmap": [
           {
            "colorbar": {
             "outlinewidth": 0,
             "ticks": ""
            },
            "colorscale": [
             [
              0,
              "#0d0887"
             ],
             [
              0.1111111111111111,
              "#46039f"
             ],
             [
              0.2222222222222222,
              "#7201a8"
             ],
             [
              0.3333333333333333,
              "#9c179e"
             ],
             [
              0.4444444444444444,
              "#bd3786"
             ],
             [
              0.5555555555555556,
              "#d8576b"
             ],
             [
              0.6666666666666666,
              "#ed7953"
             ],
             [
              0.7777777777777778,
              "#fb9f3a"
             ],
             [
              0.8888888888888888,
              "#fdca26"
             ],
             [
              1,
              "#f0f921"
             ]
            ],
            "type": "heatmap"
           }
          ],
          "heatmapgl": [
           {
            "colorbar": {
             "outlinewidth": 0,
             "ticks": ""
            },
            "colorscale": [
             [
              0,
              "#0d0887"
             ],
             [
              0.1111111111111111,
              "#46039f"
             ],
             [
              0.2222222222222222,
              "#7201a8"
             ],
             [
              0.3333333333333333,
              "#9c179e"
             ],
             [
              0.4444444444444444,
              "#bd3786"
             ],
             [
              0.5555555555555556,
              "#d8576b"
             ],
             [
              0.6666666666666666,
              "#ed7953"
             ],
             [
              0.7777777777777778,
              "#fb9f3a"
             ],
             [
              0.8888888888888888,
              "#fdca26"
             ],
             [
              1,
              "#f0f921"
             ]
            ],
            "type": "heatmapgl"
           }
          ],
          "histogram": [
           {
            "marker": {
             "pattern": {
              "fillmode": "overlay",
              "size": 10,
              "solidity": 0.2
             }
            },
            "type": "histogram"
           }
          ],
          "histogram2d": [
           {
            "colorbar": {
             "outlinewidth": 0,
             "ticks": ""
            },
            "colorscale": [
             [
              0,
              "#0d0887"
             ],
             [
              0.1111111111111111,
              "#46039f"
             ],
             [
              0.2222222222222222,
              "#7201a8"
             ],
             [
              0.3333333333333333,
              "#9c179e"
             ],
             [
              0.4444444444444444,
              "#bd3786"
             ],
             [
              0.5555555555555556,
              "#d8576b"
             ],
             [
              0.6666666666666666,
              "#ed7953"
             ],
             [
              0.7777777777777778,
              "#fb9f3a"
             ],
             [
              0.8888888888888888,
              "#fdca26"
             ],
             [
              1,
              "#f0f921"
             ]
            ],
            "type": "histogram2d"
           }
          ],
          "histogram2dcontour": [
           {
            "colorbar": {
             "outlinewidth": 0,
             "ticks": ""
            },
            "colorscale": [
             [
              0,
              "#0d0887"
             ],
             [
              0.1111111111111111,
              "#46039f"
             ],
             [
              0.2222222222222222,
              "#7201a8"
             ],
             [
              0.3333333333333333,
              "#9c179e"
             ],
             [
              0.4444444444444444,
              "#bd3786"
             ],
             [
              0.5555555555555556,
              "#d8576b"
             ],
             [
              0.6666666666666666,
              "#ed7953"
             ],
             [
              0.7777777777777778,
              "#fb9f3a"
             ],
             [
              0.8888888888888888,
              "#fdca26"
             ],
             [
              1,
              "#f0f921"
             ]
            ],
            "type": "histogram2dcontour"
           }
          ],
          "mesh3d": [
           {
            "colorbar": {
             "outlinewidth": 0,
             "ticks": ""
            },
            "type": "mesh3d"
           }
          ],
          "parcoords": [
           {
            "line": {
             "colorbar": {
              "outlinewidth": 0,
              "ticks": ""
             }
            },
            "type": "parcoords"
           }
          ],
          "pie": [
           {
            "automargin": true,
            "type": "pie"
           }
          ],
          "scatter": [
           {
            "marker": {
             "colorbar": {
              "outlinewidth": 0,
              "ticks": ""
             }
            },
            "type": "scatter"
           }
          ],
          "scatter3d": [
           {
            "line": {
             "colorbar": {
              "outlinewidth": 0,
              "ticks": ""
             }
            },
            "marker": {
             "colorbar": {
              "outlinewidth": 0,
              "ticks": ""
             }
            },
            "type": "scatter3d"
           }
          ],
          "scattercarpet": [
           {
            "marker": {
             "colorbar": {
              "outlinewidth": 0,
              "ticks": ""
             }
            },
            "type": "scattercarpet"
           }
          ],
          "scattergeo": [
           {
            "marker": {
             "colorbar": {
              "outlinewidth": 0,
              "ticks": ""
             }
            },
            "type": "scattergeo"
           }
          ],
          "scattergl": [
           {
            "marker": {
             "colorbar": {
              "outlinewidth": 0,
              "ticks": ""
             }
            },
            "type": "scattergl"
           }
          ],
          "scattermapbox": [
           {
            "marker": {
             "colorbar": {
              "outlinewidth": 0,
              "ticks": ""
             }
            },
            "type": "scattermapbox"
           }
          ],
          "scatterpolar": [
           {
            "marker": {
             "colorbar": {
              "outlinewidth": 0,
              "ticks": ""
             }
            },
            "type": "scatterpolar"
           }
          ],
          "scatterpolargl": [
           {
            "marker": {
             "colorbar": {
              "outlinewidth": 0,
              "ticks": ""
             }
            },
            "type": "scatterpolargl"
           }
          ],
          "scatterternary": [
           {
            "marker": {
             "colorbar": {
              "outlinewidth": 0,
              "ticks": ""
             }
            },
            "type": "scatterternary"
           }
          ],
          "surface": [
           {
            "colorbar": {
             "outlinewidth": 0,
             "ticks": ""
            },
            "colorscale": [
             [
              0,
              "#0d0887"
             ],
             [
              0.1111111111111111,
              "#46039f"
             ],
             [
              0.2222222222222222,
              "#7201a8"
             ],
             [
              0.3333333333333333,
              "#9c179e"
             ],
             [
              0.4444444444444444,
              "#bd3786"
             ],
             [
              0.5555555555555556,
              "#d8576b"
             ],
             [
              0.6666666666666666,
              "#ed7953"
             ],
             [
              0.7777777777777778,
              "#fb9f3a"
             ],
             [
              0.8888888888888888,
              "#fdca26"
             ],
             [
              1,
              "#f0f921"
             ]
            ],
            "type": "surface"
           }
          ],
          "table": [
           {
            "cells": {
             "fill": {
              "color": "#EBF0F8"
             },
             "line": {
              "color": "white"
             }
            },
            "header": {
             "fill": {
              "color": "#C8D4E3"
             },
             "line": {
              "color": "white"
             }
            },
            "type": "table"
           }
          ]
         },
         "layout": {
          "annotationdefaults": {
           "arrowcolor": "#2a3f5f",
           "arrowhead": 0,
           "arrowwidth": 1
          },
          "autotypenumbers": "strict",
          "coloraxis": {
           "colorbar": {
            "outlinewidth": 0,
            "ticks": ""
           }
          },
          "colorscale": {
           "diverging": [
            [
             0,
             "#8e0152"
            ],
            [
             0.1,
             "#c51b7d"
            ],
            [
             0.2,
             "#de77ae"
            ],
            [
             0.3,
             "#f1b6da"
            ],
            [
             0.4,
             "#fde0ef"
            ],
            [
             0.5,
             "#f7f7f7"
            ],
            [
             0.6,
             "#e6f5d0"
            ],
            [
             0.7,
             "#b8e186"
            ],
            [
             0.8,
             "#7fbc41"
            ],
            [
             0.9,
             "#4d9221"
            ],
            [
             1,
             "#276419"
            ]
           ],
           "sequential": [
            [
             0,
             "#0d0887"
            ],
            [
             0.1111111111111111,
             "#46039f"
            ],
            [
             0.2222222222222222,
             "#7201a8"
            ],
            [
             0.3333333333333333,
             "#9c179e"
            ],
            [
             0.4444444444444444,
             "#bd3786"
            ],
            [
             0.5555555555555556,
             "#d8576b"
            ],
            [
             0.6666666666666666,
             "#ed7953"
            ],
            [
             0.7777777777777778,
             "#fb9f3a"
            ],
            [
             0.8888888888888888,
             "#fdca26"
            ],
            [
             1,
             "#f0f921"
            ]
           ],
           "sequentialminus": [
            [
             0,
             "#0d0887"
            ],
            [
             0.1111111111111111,
             "#46039f"
            ],
            [
             0.2222222222222222,
             "#7201a8"
            ],
            [
             0.3333333333333333,
             "#9c179e"
            ],
            [
             0.4444444444444444,
             "#bd3786"
            ],
            [
             0.5555555555555556,
             "#d8576b"
            ],
            [
             0.6666666666666666,
             "#ed7953"
            ],
            [
             0.7777777777777778,
             "#fb9f3a"
            ],
            [
             0.8888888888888888,
             "#fdca26"
            ],
            [
             1,
             "#f0f921"
            ]
           ]
          },
          "colorway": [
           "#636efa",
           "#EF553B",
           "#00cc96",
           "#ab63fa",
           "#FFA15A",
           "#19d3f3",
           "#FF6692",
           "#B6E880",
           "#FF97FF",
           "#FECB52"
          ],
          "font": {
           "color": "#2a3f5f"
          },
          "geo": {
           "bgcolor": "white",
           "lakecolor": "white",
           "landcolor": "#E5ECF6",
           "showlakes": true,
           "showland": true,
           "subunitcolor": "white"
          },
          "hoverlabel": {
           "align": "left"
          },
          "hovermode": "closest",
          "mapbox": {
           "style": "light"
          },
          "paper_bgcolor": "white",
          "plot_bgcolor": "#E5ECF6",
          "polar": {
           "angularaxis": {
            "gridcolor": "white",
            "linecolor": "white",
            "ticks": ""
           },
           "bgcolor": "#E5ECF6",
           "radialaxis": {
            "gridcolor": "white",
            "linecolor": "white",
            "ticks": ""
           }
          },
          "scene": {
           "xaxis": {
            "backgroundcolor": "#E5ECF6",
            "gridcolor": "white",
            "gridwidth": 2,
            "linecolor": "white",
            "showbackground": true,
            "ticks": "",
            "zerolinecolor": "white"
           },
           "yaxis": {
            "backgroundcolor": "#E5ECF6",
            "gridcolor": "white",
            "gridwidth": 2,
            "linecolor": "white",
            "showbackground": true,
            "ticks": "",
            "zerolinecolor": "white"
           },
           "zaxis": {
            "backgroundcolor": "#E5ECF6",
            "gridcolor": "white",
            "gridwidth": 2,
            "linecolor": "white",
            "showbackground": true,
            "ticks": "",
            "zerolinecolor": "white"
           }
          },
          "shapedefaults": {
           "line": {
            "color": "#2a3f5f"
           }
          },
          "ternary": {
           "aaxis": {
            "gridcolor": "white",
            "linecolor": "white",
            "ticks": ""
           },
           "baxis": {
            "gridcolor": "white",
            "linecolor": "white",
            "ticks": ""
           },
           "bgcolor": "#E5ECF6",
           "caxis": {
            "gridcolor": "white",
            "linecolor": "white",
            "ticks": ""
           }
          },
          "title": {
           "x": 0.05
          },
          "xaxis": {
           "automargin": true,
           "gridcolor": "white",
           "linecolor": "white",
           "ticks": "",
           "title": {
            "standoff": 15
           },
           "zerolinecolor": "white",
           "zerolinewidth": 2
          },
          "yaxis": {
           "automargin": true,
           "gridcolor": "white",
           "linecolor": "white",
           "ticks": "",
           "title": {
            "standoff": 15
           },
           "zerolinecolor": "white",
           "zerolinewidth": 2
          }
         }
        },
        "xaxis": {
         "anchor": "y",
         "domain": [
          0,
          1
         ],
         "title": {
          "text": "dates"
         }
        },
        "yaxis": {
         "anchor": "x",
         "domain": [
          0,
          1
         ],
         "title": {
          "text": "Percent Change"
         }
        }
       }
      }
     },
     "metadata": {},
     "output_type": "display_data"
    }
   ],
   "source": [
    "#build price percent Changes Graph\n",
    "dfPercents = dfPrices\n",
    "dfPercents = dfPercents.set_index('dates')\n",
    "dfPercents = dfPercents.pct_change()\n",
    "display(dfPercents.head(5))\n",
    "#the default y axis label was value so thats why it is being changed below\n",
    "fig = px.line(dfPercents, labels = {'value': 'Percent Change', 'variable': 'coin'})\n",
    "py.offline.plot(fig, filename='pricePercentChangesLines.html')\n",
    "\n",
    "fig.show()\n"
   ]
  },
  {
   "cell_type": "code",
   "execution_count": 8,
   "metadata": {},
   "outputs": [
    {
     "data": {
      "application/vnd.plotly.v1+json": {
       "config": {
        "plotlyServerURL": "https://plot.ly"
       },
       "data": [
        {
         "hovertemplate": "variable=ethereum<br>dates=%{x}<br>value=%{y}<extra></extra>",
         "legendgroup": "ethereum",
         "line": {
          "color": "#636efa",
          "dash": "solid"
         },
         "marker": {
          "symbol": "circle"
         },
         "mode": "lines",
         "name": "ethereum",
         "orientation": "v",
         "showlegend": true,
         "type": "scatter",
         "x": [
          "27-11-2021",
          "28-11-2021",
          "29-11-2021",
          "30-11-2021",
          "01-12-2021",
          "02-12-2021",
          "03-12-2021",
          "04-12-2021",
          "05-12-2021"
         ],
         "xaxis": "x",
         "y": [
          4084.0884856959556,
          4290.091862536401,
          4444.528279821561,
          4637.121616831405,
          4589.610617539151,
          4519.441028028784,
          4240.155516808957,
          4101.656791810778,
          4158.0111634733385
         ],
         "yaxis": "y"
        },
        {
         "hovertemplate": "variable=bitcoin<br>dates=%{x}<br>value=%{y}<extra></extra>",
         "legendgroup": "bitcoin",
         "line": {
          "color": "#EF553B",
          "dash": "solid"
         },
         "marker": {
          "symbol": "circle"
         },
         "mode": "lines",
         "name": "bitcoin",
         "orientation": "v",
         "showlegend": true,
         "type": "scatter",
         "x": [
          "27-11-2021",
          "28-11-2021",
          "29-11-2021",
          "30-11-2021",
          "01-12-2021",
          "02-12-2021",
          "03-12-2021",
          "04-12-2021",
          "05-12-2021"
         ],
         "xaxis": "x",
         "y": [
          54533.40388242691,
          57237.66113709043,
          57848.77353712989,
          57011.28047424234,
          57169.37199381056,
          56508.26805402271,
          53785.96717237922,
          49161.99070957517,
          48791.32579475202
         ],
         "yaxis": "y"
        },
        {
         "hovertemplate": "variable=binancecoin<br>dates=%{x}<br>value=%{y}<extra></extra>",
         "legendgroup": "binancecoin",
         "line": {
          "color": "#00cc96",
          "dash": "solid"
         },
         "marker": {
          "symbol": "circle"
         },
         "mode": "lines",
         "name": "binancecoin",
         "orientation": "v",
         "showlegend": true,
         "type": "scatter",
         "x": [
          "27-11-2021",
          "28-11-2021",
          "29-11-2021",
          "30-11-2021",
          "01-12-2021",
          "02-12-2021",
          "03-12-2021",
          "04-12-2021",
          "05-12-2021"
         ],
         "xaxis": "x",
         "y": [
          598.0658826532297,
          611.4482335847231,
          623.8191584314648,
          624.0478871415212,
          627.5298135272164,
          620.5070871087867,
          596.4043662845299,
          567.2495179476927,
          555.146469805627
         ],
         "yaxis": "y"
        },
        {
         "hovertemplate": "variable=solana<br>dates=%{x}<br>value=%{y}<extra></extra>",
         "legendgroup": "solana",
         "line": {
          "color": "#ab63fa",
          "dash": "solid"
         },
         "marker": {
          "symbol": "circle"
         },
         "mode": "lines",
         "name": "solana",
         "orientation": "v",
         "showlegend": true,
         "type": "scatter",
         "x": [
          "27-11-2021",
          "28-11-2021",
          "29-11-2021",
          "30-11-2021",
          "01-12-2021",
          "02-12-2021",
          "03-12-2021",
          "04-12-2021",
          "05-12-2021"
         ],
         "xaxis": "x",
         "y": [
          192.13619982447634,
          200.46141949418416,
          204.35042327956776,
          208.705589094445,
          229.4487239706693,
          232.57222783967566,
          212.13388531266622,
          200.94131044922477,
          191.72077035255333
         ],
         "yaxis": "y"
        },
        {
         "hovertemplate": "variable=polkadot<br>dates=%{x}<br>value=%{y}<extra></extra>",
         "legendgroup": "polkadot",
         "line": {
          "color": "#FFA15A",
          "dash": "solid"
         },
         "marker": {
          "symbol": "circle"
         },
         "mode": "lines",
         "name": "polkadot",
         "orientation": "v",
         "showlegend": true,
         "type": "scatter",
         "x": [
          "27-11-2021",
          "28-11-2021",
          "29-11-2021",
          "30-11-2021",
          "01-12-2021",
          "02-12-2021",
          "03-12-2021",
          "04-12-2021",
          "05-12-2021"
         ],
         "xaxis": "x",
         "y": [
          34.95133852170145,
          35.64442850483728,
          37.1882620027123,
          38.003426416904354,
          36.69905708848537,
          35.72071372962105,
          33.797058582536444,
          29.277802791950165,
          27.427406723930147
         ],
         "yaxis": "y"
        },
        {
         "hovertemplate": "variable=flow<br>dates=%{x}<br>value=%{y}<extra></extra>",
         "legendgroup": "flow",
         "line": {
          "color": "#19d3f3",
          "dash": "solid"
         },
         "marker": {
          "symbol": "circle"
         },
         "mode": "lines",
         "name": "flow",
         "orientation": "v",
         "showlegend": true,
         "type": "scatter",
         "x": [
          "27-11-2021",
          "28-11-2021",
          "29-11-2021",
          "30-11-2021",
          "01-12-2021",
          "02-12-2021",
          "03-12-2021",
          "04-12-2021",
          "05-12-2021"
         ],
         "xaxis": "x",
         "y": [
          11.821433955291148,
          12.26924609823827,
          12.803238988863525,
          12.420903892929017,
          12.293802235640843,
          12.048637735853125,
          11.582592474794893,
          9.90833025802307,
          9.403398294355586
         ],
         "yaxis": "y"
        },
        {
         "hovertemplate": "variable=dogecoin<br>dates=%{x}<br>value=%{y}<extra></extra>",
         "legendgroup": "dogecoin",
         "line": {
          "color": "#FF6692",
          "dash": "solid"
         },
         "marker": {
          "symbol": "circle"
         },
         "mode": "lines",
         "name": "dogecoin",
         "orientation": "v",
         "showlegend": true,
         "type": "scatter",
         "x": [
          "27-11-2021",
          "28-11-2021",
          "29-11-2021",
          "30-11-2021",
          "01-12-2021",
          "02-12-2021",
          "03-12-2021",
          "04-12-2021",
          "05-12-2021"
         ],
         "xaxis": "x",
         "y": [
          0.20438248218290248,
          0.20753388279760462,
          0.21524073233893745,
          0.21498255296764252,
          0.20948652037683213,
          0.20973199432787948,
          0.20126150991375855,
          0.17898655532035213,
          0.1703886662095998
         ],
         "yaxis": "y"
        },
        {
         "hovertemplate": "variable=audius<br>dates=%{x}<br>value=%{y}<extra></extra>",
         "legendgroup": "audius",
         "line": {
          "color": "#B6E880",
          "dash": "solid"
         },
         "marker": {
          "symbol": "circle"
         },
         "mode": "lines",
         "name": "audius",
         "orientation": "v",
         "showlegend": true,
         "type": "scatter",
         "x": [
          "27-11-2021",
          "28-11-2021",
          "29-11-2021",
          "30-11-2021",
          "01-12-2021",
          "02-12-2021",
          "03-12-2021",
          "04-12-2021",
          "05-12-2021"
         ],
         "xaxis": "x",
         "y": [
          2.411792043814679,
          2.4259138052663536,
          2.4069265510953226,
          2.3056911894279253,
          2.359353326983343,
          2.2438397135091153,
          2.1801416511890075,
          1.8830175463440706,
          1.6983701624755474
         ],
         "yaxis": "y"
        },
        {
         "hovertemplate": "variable=fantom<br>dates=%{x}<br>value=%{y}<extra></extra>",
         "legendgroup": "fantom",
         "line": {
          "color": "#FF97FF",
          "dash": "solid"
         },
         "marker": {
          "symbol": "circle"
         },
         "mode": "lines",
         "name": "fantom",
         "orientation": "v",
         "showlegend": true,
         "type": "scatter",
         "x": [
          "27-11-2021",
          "28-11-2021",
          "29-11-2021",
          "30-11-2021",
          "01-12-2021",
          "02-12-2021",
          "03-12-2021",
          "04-12-2021",
          "05-12-2021"
         ],
         "xaxis": "x",
         "y": [
          2.0670454780181173,
          2.1088509283472385,
          2.156257787122862,
          2.1447087410980905,
          2.141166128661428,
          2.058521256061367,
          1.9873858626884329,
          1.7235051542979125,
          1.536999269612114
         ],
         "yaxis": "y"
        },
        {
         "hovertemplate": "variable=brokoli<br>dates=%{x}<br>value=%{y}<extra></extra>",
         "legendgroup": "brokoli",
         "line": {
          "color": "#FECB52",
          "dash": "solid"
         },
         "marker": {
          "symbol": "circle"
         },
         "mode": "lines",
         "name": "brokoli",
         "orientation": "v",
         "showlegend": true,
         "type": "scatter",
         "x": [
          "27-11-2021",
          "28-11-2021",
          "29-11-2021",
          "30-11-2021",
          "01-12-2021",
          "02-12-2021",
          "03-12-2021",
          "04-12-2021",
          "05-12-2021"
         ],
         "xaxis": "x",
         "y": [
          1.270884112057271,
          1.2715460619350047,
          1.6447706446548132,
          1.762750485034721,
          1.5644120092748317,
          1.4321781305535195,
          1.3907951598912436,
          1.1900966907779837,
          1.3476411663000538
         ],
         "yaxis": "y"
        },
        {
         "hovertemplate": "variable=unix<br>dates=%{x}<br>value=%{y}<extra></extra>",
         "legendgroup": "unix",
         "line": {
          "color": "#636efa",
          "dash": "solid"
         },
         "marker": {
          "symbol": "circle"
         },
         "mode": "lines",
         "name": "unix",
         "orientation": "v",
         "showlegend": true,
         "type": "scatter",
         "x": [
          "27-11-2021",
          "28-11-2021",
          "29-11-2021",
          "30-11-2021",
          "01-12-2021",
          "02-12-2021",
          "03-12-2021",
          "04-12-2021",
          "05-12-2021"
         ],
         "xaxis": "x",
         "y": [
          1.0280466463441658,
          1.0280466463441658,
          1.1920598461274523,
          1.3598937243472362,
          1.2928467830276358,
          1.1809704914439882,
          1.155679872583204,
          1.0262829115618388,
          0.8218293891911255
         ],
         "yaxis": "y"
        },
        {
         "hovertemplate": "variable=wonderland<br>dates=%{x}<br>value=%{y}<extra></extra>",
         "legendgroup": "wonderland",
         "line": {
          "color": "#EF553B",
          "dash": "solid"
         },
         "marker": {
          "symbol": "circle"
         },
         "mode": "lines",
         "name": "wonderland",
         "orientation": "v",
         "showlegend": true,
         "type": "scatter",
         "x": [
          "27-11-2021",
          "28-11-2021",
          "29-11-2021",
          "30-11-2021",
          "01-12-2021",
          "02-12-2021",
          "03-12-2021",
          "04-12-2021",
          "05-12-2021"
         ],
         "xaxis": "x",
         "y": [
          7445.431028594998,
          7250.842405006716,
          7642.250664935142,
          8002.677220223528,
          7753.91901235622,
          7110.940098366206,
          6973.8751390677335,
          6490.040983233649,
          6091.182972959087
         ],
         "yaxis": "y"
        },
        {
         "hovertemplate": "variable=terra-luna<br>dates=%{x}<br>value=%{y}<extra></extra>",
         "legendgroup": "terra-luna",
         "line": {
          "color": "#00cc96",
          "dash": "solid"
         },
         "marker": {
          "symbol": "circle"
         },
         "mode": "lines",
         "name": "terra-luna",
         "orientation": "v",
         "showlegend": true,
         "type": "scatter",
         "x": [
          "27-11-2021",
          "28-11-2021",
          "29-11-2021",
          "30-11-2021",
          "01-12-2021",
          "02-12-2021",
          "03-12-2021",
          "04-12-2021",
          "05-12-2021"
         ],
         "xaxis": "x",
         "y": [
          43.44679680448278,
          49.97057261602858,
          51.5800684886686,
          59.12613941279858,
          64.31780963291818,
          65.80785090951046,
          64.14239752548174,
          75.95019043182876,
          67.27609916374331
         ],
         "yaxis": "y"
        }
       ],
       "layout": {
        "legend": {
         "title": {
          "text": "variable"
         },
         "tracegroupgap": 0
        },
        "margin": {
         "t": 60
        },
        "template": {
         "data": {
          "bar": [
           {
            "error_x": {
             "color": "#2a3f5f"
            },
            "error_y": {
             "color": "#2a3f5f"
            },
            "marker": {
             "line": {
              "color": "#E5ECF6",
              "width": 0.5
             },
             "pattern": {
              "fillmode": "overlay",
              "size": 10,
              "solidity": 0.2
             }
            },
            "type": "bar"
           }
          ],
          "barpolar": [
           {
            "marker": {
             "line": {
              "color": "#E5ECF6",
              "width": 0.5
             },
             "pattern": {
              "fillmode": "overlay",
              "size": 10,
              "solidity": 0.2
             }
            },
            "type": "barpolar"
           }
          ],
          "carpet": [
           {
            "aaxis": {
             "endlinecolor": "#2a3f5f",
             "gridcolor": "white",
             "linecolor": "white",
             "minorgridcolor": "white",
             "startlinecolor": "#2a3f5f"
            },
            "baxis": {
             "endlinecolor": "#2a3f5f",
             "gridcolor": "white",
             "linecolor": "white",
             "minorgridcolor": "white",
             "startlinecolor": "#2a3f5f"
            },
            "type": "carpet"
           }
          ],
          "choropleth": [
           {
            "colorbar": {
             "outlinewidth": 0,
             "ticks": ""
            },
            "type": "choropleth"
           }
          ],
          "contour": [
           {
            "colorbar": {
             "outlinewidth": 0,
             "ticks": ""
            },
            "colorscale": [
             [
              0,
              "#0d0887"
             ],
             [
              0.1111111111111111,
              "#46039f"
             ],
             [
              0.2222222222222222,
              "#7201a8"
             ],
             [
              0.3333333333333333,
              "#9c179e"
             ],
             [
              0.4444444444444444,
              "#bd3786"
             ],
             [
              0.5555555555555556,
              "#d8576b"
             ],
             [
              0.6666666666666666,
              "#ed7953"
             ],
             [
              0.7777777777777778,
              "#fb9f3a"
             ],
             [
              0.8888888888888888,
              "#fdca26"
             ],
             [
              1,
              "#f0f921"
             ]
            ],
            "type": "contour"
           }
          ],
          "contourcarpet": [
           {
            "colorbar": {
             "outlinewidth": 0,
             "ticks": ""
            },
            "type": "contourcarpet"
           }
          ],
          "heatmap": [
           {
            "colorbar": {
             "outlinewidth": 0,
             "ticks": ""
            },
            "colorscale": [
             [
              0,
              "#0d0887"
             ],
             [
              0.1111111111111111,
              "#46039f"
             ],
             [
              0.2222222222222222,
              "#7201a8"
             ],
             [
              0.3333333333333333,
              "#9c179e"
             ],
             [
              0.4444444444444444,
              "#bd3786"
             ],
             [
              0.5555555555555556,
              "#d8576b"
             ],
             [
              0.6666666666666666,
              "#ed7953"
             ],
             [
              0.7777777777777778,
              "#fb9f3a"
             ],
             [
              0.8888888888888888,
              "#fdca26"
             ],
             [
              1,
              "#f0f921"
             ]
            ],
            "type": "heatmap"
           }
          ],
          "heatmapgl": [
           {
            "colorbar": {
             "outlinewidth": 0,
             "ticks": ""
            },
            "colorscale": [
             [
              0,
              "#0d0887"
             ],
             [
              0.1111111111111111,
              "#46039f"
             ],
             [
              0.2222222222222222,
              "#7201a8"
             ],
             [
              0.3333333333333333,
              "#9c179e"
             ],
             [
              0.4444444444444444,
              "#bd3786"
             ],
             [
              0.5555555555555556,
              "#d8576b"
             ],
             [
              0.6666666666666666,
              "#ed7953"
             ],
             [
              0.7777777777777778,
              "#fb9f3a"
             ],
             [
              0.8888888888888888,
              "#fdca26"
             ],
             [
              1,
              "#f0f921"
             ]
            ],
            "type": "heatmapgl"
           }
          ],
          "histogram": [
           {
            "marker": {
             "pattern": {
              "fillmode": "overlay",
              "size": 10,
              "solidity": 0.2
             }
            },
            "type": "histogram"
           }
          ],
          "histogram2d": [
           {
            "colorbar": {
             "outlinewidth": 0,
             "ticks": ""
            },
            "colorscale": [
             [
              0,
              "#0d0887"
             ],
             [
              0.1111111111111111,
              "#46039f"
             ],
             [
              0.2222222222222222,
              "#7201a8"
             ],
             [
              0.3333333333333333,
              "#9c179e"
             ],
             [
              0.4444444444444444,
              "#bd3786"
             ],
             [
              0.5555555555555556,
              "#d8576b"
             ],
             [
              0.6666666666666666,
              "#ed7953"
             ],
             [
              0.7777777777777778,
              "#fb9f3a"
             ],
             [
              0.8888888888888888,
              "#fdca26"
             ],
             [
              1,
              "#f0f921"
             ]
            ],
            "type": "histogram2d"
           }
          ],
          "histogram2dcontour": [
           {
            "colorbar": {
             "outlinewidth": 0,
             "ticks": ""
            },
            "colorscale": [
             [
              0,
              "#0d0887"
             ],
             [
              0.1111111111111111,
              "#46039f"
             ],
             [
              0.2222222222222222,
              "#7201a8"
             ],
             [
              0.3333333333333333,
              "#9c179e"
             ],
             [
              0.4444444444444444,
              "#bd3786"
             ],
             [
              0.5555555555555556,
              "#d8576b"
             ],
             [
              0.6666666666666666,
              "#ed7953"
             ],
             [
              0.7777777777777778,
              "#fb9f3a"
             ],
             [
              0.8888888888888888,
              "#fdca26"
             ],
             [
              1,
              "#f0f921"
             ]
            ],
            "type": "histogram2dcontour"
           }
          ],
          "mesh3d": [
           {
            "colorbar": {
             "outlinewidth": 0,
             "ticks": ""
            },
            "type": "mesh3d"
           }
          ],
          "parcoords": [
           {
            "line": {
             "colorbar": {
              "outlinewidth": 0,
              "ticks": ""
             }
            },
            "type": "parcoords"
           }
          ],
          "pie": [
           {
            "automargin": true,
            "type": "pie"
           }
          ],
          "scatter": [
           {
            "marker": {
             "colorbar": {
              "outlinewidth": 0,
              "ticks": ""
             }
            },
            "type": "scatter"
           }
          ],
          "scatter3d": [
           {
            "line": {
             "colorbar": {
              "outlinewidth": 0,
              "ticks": ""
             }
            },
            "marker": {
             "colorbar": {
              "outlinewidth": 0,
              "ticks": ""
             }
            },
            "type": "scatter3d"
           }
          ],
          "scattercarpet": [
           {
            "marker": {
             "colorbar": {
              "outlinewidth": 0,
              "ticks": ""
             }
            },
            "type": "scattercarpet"
           }
          ],
          "scattergeo": [
           {
            "marker": {
             "colorbar": {
              "outlinewidth": 0,
              "ticks": ""
             }
            },
            "type": "scattergeo"
           }
          ],
          "scattergl": [
           {
            "marker": {
             "colorbar": {
              "outlinewidth": 0,
              "ticks": ""
             }
            },
            "type": "scattergl"
           }
          ],
          "scattermapbox": [
           {
            "marker": {
             "colorbar": {
              "outlinewidth": 0,
              "ticks": ""
             }
            },
            "type": "scattermapbox"
           }
          ],
          "scatterpolar": [
           {
            "marker": {
             "colorbar": {
              "outlinewidth": 0,
              "ticks": ""
             }
            },
            "type": "scatterpolar"
           }
          ],
          "scatterpolargl": [
           {
            "marker": {
             "colorbar": {
              "outlinewidth": 0,
              "ticks": ""
             }
            },
            "type": "scatterpolargl"
           }
          ],
          "scatterternary": [
           {
            "marker": {
             "colorbar": {
              "outlinewidth": 0,
              "ticks": ""
             }
            },
            "type": "scatterternary"
           }
          ],
          "surface": [
           {
            "colorbar": {
             "outlinewidth": 0,
             "ticks": ""
            },
            "colorscale": [
             [
              0,
              "#0d0887"
             ],
             [
              0.1111111111111111,
              "#46039f"
             ],
             [
              0.2222222222222222,
              "#7201a8"
             ],
             [
              0.3333333333333333,
              "#9c179e"
             ],
             [
              0.4444444444444444,
              "#bd3786"
             ],
             [
              0.5555555555555556,
              "#d8576b"
             ],
             [
              0.6666666666666666,
              "#ed7953"
             ],
             [
              0.7777777777777778,
              "#fb9f3a"
             ],
             [
              0.8888888888888888,
              "#fdca26"
             ],
             [
              1,
              "#f0f921"
             ]
            ],
            "type": "surface"
           }
          ],
          "table": [
           {
            "cells": {
             "fill": {
              "color": "#EBF0F8"
             },
             "line": {
              "color": "white"
             }
            },
            "header": {
             "fill": {
              "color": "#C8D4E3"
             },
             "line": {
              "color": "white"
             }
            },
            "type": "table"
           }
          ]
         },
         "layout": {
          "annotationdefaults": {
           "arrowcolor": "#2a3f5f",
           "arrowhead": 0,
           "arrowwidth": 1
          },
          "autotypenumbers": "strict",
          "coloraxis": {
           "colorbar": {
            "outlinewidth": 0,
            "ticks": ""
           }
          },
          "colorscale": {
           "diverging": [
            [
             0,
             "#8e0152"
            ],
            [
             0.1,
             "#c51b7d"
            ],
            [
             0.2,
             "#de77ae"
            ],
            [
             0.3,
             "#f1b6da"
            ],
            [
             0.4,
             "#fde0ef"
            ],
            [
             0.5,
             "#f7f7f7"
            ],
            [
             0.6,
             "#e6f5d0"
            ],
            [
             0.7,
             "#b8e186"
            ],
            [
             0.8,
             "#7fbc41"
            ],
            [
             0.9,
             "#4d9221"
            ],
            [
             1,
             "#276419"
            ]
           ],
           "sequential": [
            [
             0,
             "#0d0887"
            ],
            [
             0.1111111111111111,
             "#46039f"
            ],
            [
             0.2222222222222222,
             "#7201a8"
            ],
            [
             0.3333333333333333,
             "#9c179e"
            ],
            [
             0.4444444444444444,
             "#bd3786"
            ],
            [
             0.5555555555555556,
             "#d8576b"
            ],
            [
             0.6666666666666666,
             "#ed7953"
            ],
            [
             0.7777777777777778,
             "#fb9f3a"
            ],
            [
             0.8888888888888888,
             "#fdca26"
            ],
            [
             1,
             "#f0f921"
            ]
           ],
           "sequentialminus": [
            [
             0,
             "#0d0887"
            ],
            [
             0.1111111111111111,
             "#46039f"
            ],
            [
             0.2222222222222222,
             "#7201a8"
            ],
            [
             0.3333333333333333,
             "#9c179e"
            ],
            [
             0.4444444444444444,
             "#bd3786"
            ],
            [
             0.5555555555555556,
             "#d8576b"
            ],
            [
             0.6666666666666666,
             "#ed7953"
            ],
            [
             0.7777777777777778,
             "#fb9f3a"
            ],
            [
             0.8888888888888888,
             "#fdca26"
            ],
            [
             1,
             "#f0f921"
            ]
           ]
          },
          "colorway": [
           "#636efa",
           "#EF553B",
           "#00cc96",
           "#ab63fa",
           "#FFA15A",
           "#19d3f3",
           "#FF6692",
           "#B6E880",
           "#FF97FF",
           "#FECB52"
          ],
          "font": {
           "color": "#2a3f5f"
          },
          "geo": {
           "bgcolor": "white",
           "lakecolor": "white",
           "landcolor": "#E5ECF6",
           "showlakes": true,
           "showland": true,
           "subunitcolor": "white"
          },
          "hoverlabel": {
           "align": "left"
          },
          "hovermode": "closest",
          "mapbox": {
           "style": "light"
          },
          "paper_bgcolor": "white",
          "plot_bgcolor": "#E5ECF6",
          "polar": {
           "angularaxis": {
            "gridcolor": "white",
            "linecolor": "white",
            "ticks": ""
           },
           "bgcolor": "#E5ECF6",
           "radialaxis": {
            "gridcolor": "white",
            "linecolor": "white",
            "ticks": ""
           }
          },
          "scene": {
           "xaxis": {
            "backgroundcolor": "#E5ECF6",
            "gridcolor": "white",
            "gridwidth": 2,
            "linecolor": "white",
            "showbackground": true,
            "ticks": "",
            "zerolinecolor": "white"
           },
           "yaxis": {
            "backgroundcolor": "#E5ECF6",
            "gridcolor": "white",
            "gridwidth": 2,
            "linecolor": "white",
            "showbackground": true,
            "ticks": "",
            "zerolinecolor": "white"
           },
           "zaxis": {
            "backgroundcolor": "#E5ECF6",
            "gridcolor": "white",
            "gridwidth": 2,
            "linecolor": "white",
            "showbackground": true,
            "ticks": "",
            "zerolinecolor": "white"
           }
          },
          "shapedefaults": {
           "line": {
            "color": "#2a3f5f"
           }
          },
          "ternary": {
           "aaxis": {
            "gridcolor": "white",
            "linecolor": "white",
            "ticks": ""
           },
           "baxis": {
            "gridcolor": "white",
            "linecolor": "white",
            "ticks": ""
           },
           "bgcolor": "#E5ECF6",
           "caxis": {
            "gridcolor": "white",
            "linecolor": "white",
            "ticks": ""
           }
          },
          "title": {
           "x": 0.05
          },
          "xaxis": {
           "automargin": true,
           "gridcolor": "white",
           "linecolor": "white",
           "ticks": "",
           "title": {
            "standoff": 15
           },
           "zerolinecolor": "white",
           "zerolinewidth": 2
          },
          "yaxis": {
           "automargin": true,
           "gridcolor": "white",
           "linecolor": "white",
           "ticks": "",
           "title": {
            "standoff": 15
           },
           "zerolinecolor": "white",
           "zerolinewidth": 2
          }
         }
        },
        "xaxis": {
         "anchor": "y",
         "domain": [
          0,
          1
         ],
         "title": {
          "text": "dates"
         }
        },
        "yaxis": {
         "anchor": "x",
         "domain": [
          0,
          1
         ],
         "title": {
          "text": "value"
         }
        }
       }
      }
     },
     "metadata": {},
     "output_type": "display_data"
    }
   ],
   "source": [
    "dfPrices = dfPrices.set_index('dates')\n",
    "fig = px.line(dfPrices)\n",
    "# fig = px.line(dfPercents, labels = {'value': 'Percent Change', 'variable': 'coin'})\n",
    "py.offline.plot(fig, filename='priceChangesLines.html')\n",
    "\n",
    "fig.show()\n"
   ]
  }
 ],
 "metadata": {
  "interpreter": {
   "hash": "cb4f197880ecacceb993dbec3eced19237e3d5e98809f7607bd653c748a52724"
  },
  "kernelspec": {
   "display_name": "Python 3.8.8 64-bit ('base': conda)",
   "language": "python",
   "name": "python3"
  },
  "language_info": {
   "codemirror_mode": {
    "name": "ipython",
    "version": 3
   },
   "file_extension": ".py",
   "mimetype": "text/x-python",
   "name": "python",
   "nbconvert_exporter": "python",
   "pygments_lexer": "ipython3",
   "version": "3.8.8"
  },
  "orig_nbformat": 4
 },
 "nbformat": 4,
 "nbformat_minor": 2
}
